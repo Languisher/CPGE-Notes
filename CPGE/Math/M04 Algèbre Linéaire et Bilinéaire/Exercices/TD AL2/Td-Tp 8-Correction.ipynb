{
 "cells": [
  {
   "cell_type": "markdown",
   "id": "820f4cba",
   "metadata": {},
   "source": [
    "# Td-Tp n°8"
   ]
  },
  {
   "cell_type": "markdown",
   "id": "dc262e8d",
   "metadata": {},
   "source": [
    "## Exercice"
   ]
  },
  {
   "cell_type": "markdown",
   "id": "2e6667a3",
   "metadata": {},
   "source": [
    "On considère\n",
    "$$E=\\left\\{f\\in\\mathscr{C}\\left(\\mathbb{R}_+,\\mathbb{R}\\right),\\; \\int_{0}^{+\\infty} f(t)^2\\,\\exp\\left(-3\\,t\\right)\\;\\mathrm{d}t<+\\infty\\right\\}$$\n",
    "On pose pour $(f,g)\\in E^2$\n",
    "$$\\langle f,g\\rangle = \\int_{0}^{+\\infty} f(t)\\,g(t)\\,\\exp\\left(-3\\,t\\right)\\;\\mathrm{d}t$$\n",
    "1. Montrer rapidement que $E$ est un espace vectoriel ? Que peut-on dire de sa dimension ?\n",
    "1. Montrer que $\\langle\\,,\\,\\rangle$ est un produit scalaire sur $E$.\n",
    "1. On considère les trois fonctions\n",
    "$$f_1=\\exp,\\quad f_2=\\sin\\quad\\text{et}\\quad f_3=\\cos$$\n",
    "Montrer que ces trois fonctions sont dans $E$, qu'elles sont indépendantes et calculer le volume du parallélipipède construite à partir de ces trois fonctions."
   ]
  },
  {
   "cell_type": "markdown",
   "id": "1e6aa887",
   "metadata": {},
   "source": [
    "<div class=\"alert alert-info\"> \n",
    "    \n",
    "On rappelle que pour montrer qu'une intégrale sur $[0,+\\infty[$ de la fonction $f\\in\\mathscr{C}\\left(\\mathbb{R}_+,\\mathbb{R}\\right)$ existe, il faut et il suffit que\n",
    "    $$F\\;:\\; x\\longmapsto \\int_0^x f(t)\\;\\mathrm{d}t \\text{ ait une limite quand }x\\to+\\infty$$\n",
    "Mais, lorsque la fonction est *positive*, la fonction $F$ est croissante, en ce cas, il faut et il suffit qu'elle soit *majorée*."
   ]
  },
  {
   "cell_type": "markdown",
   "id": "cfabc164",
   "metadata": {},
   "source": [
    "**Question 1**\n",
    "\n",
    "On montre que c'est un sous-espace vectoriel de $\\mathscr{C}\\left(\\mathbb{R}_+,\\mathbb{R}\\right)$ car\n",
    "1. $x\\longmapsto 0$ est dans $E$. C'est clair.\n",
    "1. $E$ est stable par l'addition\n",
    "$$\\forall(f,g)\\in E^2,\\; f+g\\in E$$\n",
    "Car (inégalité de convexité) pour $(f,g)\\in E^2$, on a \n",
    "$$\\left(\\frac{f+g}{2}\\right)^2\\le\\frac12\\,\\left(f^2+g^2\\right)$$\n",
    "et, pour $x\\in\\mathbb{R}_+$ on a\n",
    "$$\\int_0^x \\left(f+g\\right)^2(t)\\,e^{-3\\,t}\\;\\mathrm{d}t\\le \\int_0^x 2\\,\\left(f(t)^2+g(t)^2\\right)\\,e^{-3\\,t}\\;\\mathrm{d}t\\le \\int_0^x f(t)^2\\,e^{-3\\,t}\\;\\mathrm{d}t+\\int_0^x g(t)^2\\,e^{-3\\,t}\\;\\mathrm{d}t \\le \\int_0^{+\\infty} f(t)^2\\,e^{-3\\,t}\\;\\mathrm{d}t+\\int_0^{+\\infty} g(t)^2\\,e^{-3\\,t}\\;\\mathrm{d}t<+\\infty$$\n",
    "1. $E$ est stable par la mutliplication externe.\n",
    "$$\\forall(\\lambda,f)\\in\\mathbb{R}\\times E,\\; \\lambda.f\\in E$$\n",
    "Tout simplement parce que, pour $x\\in\\mathbb{R}_+$, $(\\lambda,f)\\in\\mathbb{R}\\times E$\n",
    "$$\\int_0^x \\left(\\lambda.f\\right)(t)\\,e^{-3\\,t}\\;\\mathrm{d}t=\\lambda^2\\,\\int_0^x\\ f(t)^2\\,e^{-3\\,t}\\;\\mathrm{d}t\\le \\lambda^2\\,\\int_0^{+\\infty} f(t)^2\\,e^{-3\\,t}\\;\\mathrm{d}t<+\\infty$$\n",
    "\n",
    "Enfin, cet espace est de dimension infinie, car il contient toutes les fonctions polynomiales\n",
    "$$\\Pi=\\mathrm{Vect}\\left(\\left\\{x\\longmapsto x^k,\\;k\\in\\mathbb{N}\\right\\}\\right)$$\n",
    "en effet, si $P\\in\\Pi$, alors il existe $M\\in\\mathbb{R}_+$\n",
    "$$\\forall x\\in\\mathbb{R}_+,\\;P(x)^2\\,e^{-3\\,x} = M\\,e^{-2\\,x}$$\n",
    "donc, pour $x\\in\\mathbb{R}_+$\n",
    "$$\\int_0^x P(t)^2\\,e^{-3\\,t}\\;\\mathrm{d}t\\le M\\,\\int_0^x e^{-2\\,t}\\;\\mathrm{d}t\\le M\\,\\int_0^{+\\infty} e^{-2\\,t}\\;\\mathrm{d}t=\\frac{M}{2}<+\\infty$$"
   ]
  },
  {
   "cell_type": "markdown",
   "id": "8d35d9e9",
   "metadata": {},
   "source": [
    "**Question 2**\n",
    "\n",
    "Un produit scalaire doit vérifier\n",
    "1. *Valeurs dans $\\mathbb{R}$*. Il faut donc montrer que pour $(f,g)\\in E^2$\n",
    "$$\\int_0^{+\\infty} \\left|f(t)\\,g(t)\\right|\\,e^{-3\\,t}\\;\\mathrm{d}t<+\\infty$$\n",
    "C'est une conséquence de l'inégalité\n",
    "$$\\left|f\\,g\\right|\\le \\frac12\\,\\left(f^2+g^2\\right)$$\n",
    "1. *Linéarité à droite*. D'après la linéarité de l'intégrale.\n",
    "1. *Symétrie*. C'est clair.\n",
    "1. *Positivité*. D'après la croissance de l'intégrale.\n",
    "1. *Caractère défini*. C'est un résultat du cours, une fonction *continue et positive* d'intégrale nulle est nulle."
   ]
  },
  {
   "cell_type": "markdown",
   "id": "848e0ac0",
   "metadata": {},
   "source": [
    "**Question 3**\n",
    "\n",
    "1. *Dans $E$*, car pour tout $t\\in\\mathbb{R}_+$\n",
    "$$\\left(e^t\\right)^2\\,e^{-3\\,t}=e^{-t},\\quad \\sin^2(t)\\,e^{-3\\,t}\\le e^{-3\\,t}\\quad\\text{et}\\quad \\cos^2(t)\\,e^{-3\\,t}\\le e^{-3\\,t}$$\n",
    "1. *Indépendance* On peut bien sûr montrer à la main qu'elles sont libres, mais d'après la question sur le volume, il est mieux de calculer sa matrice de Gram $G$ et de montrer que $\\det(G)\\ne0$.\n",
    "1. *Volume* Par définition du cours\n",
    "$$V=\\sqrt{\\det(G)}$$"
   ]
  },
  {
   "cell_type": "code",
   "execution_count": 1,
   "id": "985805a1",
   "metadata": {
    "ExecuteTime": {
     "end_time": "2023-04-07T00:57:53.392070Z",
     "start_time": "2023-04-07T00:57:53.166663Z"
    }
   },
   "outputs": [],
   "source": [
    "import sympy as sp\n",
    "sp.init_printing()"
   ]
  },
  {
   "cell_type": "code",
   "execution_count": 2,
   "id": "2321e5d2",
   "metadata": {
    "ExecuteTime": {
     "end_time": "2023-04-07T00:57:53.397057Z",
     "start_time": "2023-04-07T00:57:53.393409Z"
    }
   },
   "outputs": [],
   "source": [
    "t = sp.symbols('t', nonnegative=True)\n",
    "f1 = sp.symbols('f_1', cls=sp.Function)\n",
    "f2 = sp.symbols('f_2', cls=sp.Function)\n",
    "f3 = sp.symbols('f_3', cls=sp.Function)"
   ]
  },
  {
   "cell_type": "code",
   "execution_count": 3,
   "id": "d5b0a347",
   "metadata": {
    "ExecuteTime": {
     "end_time": "2023-04-07T00:57:53.401662Z",
     "start_time": "2023-04-07T00:57:53.398931Z"
    }
   },
   "outputs": [],
   "source": [
    "# L'intégration définie pose problème...\n",
    "def phi(f, g):\n",
    "    I = sp.integrate(f(t)*g(t)*sp.exp(-3*t), t)\n",
    "    return sp.limit(I, t, sp.oo)-sp.limit(I, t, 0)"
   ]
  },
  {
   "cell_type": "code",
   "execution_count": 4,
   "id": "1ee3f5e0",
   "metadata": {
    "ExecuteTime": {
     "end_time": "2023-04-07T00:57:54.004716Z",
     "start_time": "2023-04-07T00:57:53.402851Z"
    }
   },
   "outputs": [
    {
     "ename": "ValueError",
     "evalue": "Invalid limits given: (t, 0, oo)",
     "output_type": "error",
     "traceback": [
      "\u001b[0;31m---------------------------------------------------------------------------\u001b[0m",
      "\u001b[0;31mValueError\u001b[0m                                Traceback (most recent call last)",
      "Input \u001b[0;32mIn [4]\u001b[0m, in \u001b[0;36m<module>\u001b[0;34m\u001b[0m\n\u001b[1;32m      1\u001b[0m \u001b[38;5;66;03m# Cela dépend des versions de sympy\u001b[39;00m\n\u001b[0;32m----> 2\u001b[0m \u001b[43msp\u001b[49m\u001b[38;5;241;43m.\u001b[39;49m\u001b[43mintegrate\u001b[49m\u001b[43m(\u001b[49m\u001b[43msp\u001b[49m\u001b[38;5;241;43m.\u001b[39;49m\u001b[43mexp\u001b[49m\u001b[43m(\u001b[49m\u001b[43mt\u001b[49m\u001b[43m)\u001b[49m\u001b[38;5;241;43m*\u001b[39;49m\u001b[43msp\u001b[49m\u001b[38;5;241;43m.\u001b[39;49m\u001b[43mexp\u001b[49m\u001b[43m(\u001b[49m\u001b[43mt\u001b[49m\u001b[43m)\u001b[49m\u001b[38;5;241;43m*\u001b[39;49m\u001b[43msp\u001b[49m\u001b[38;5;241;43m.\u001b[39;49m\u001b[43mexp\u001b[49m\u001b[43m(\u001b[49m\u001b[38;5;241;43m-\u001b[39;49m\u001b[38;5;241;43m3\u001b[39;49m\u001b[38;5;241;43m*\u001b[39;49m\u001b[43mt\u001b[49m\u001b[43m)\u001b[49m\u001b[43m,\u001b[49m\u001b[43m \u001b[49m\u001b[43mt\u001b[49m\u001b[43m,\u001b[49m\u001b[43m \u001b[49m\u001b[38;5;241;43m0\u001b[39;49m\u001b[43m,\u001b[49m\u001b[43m \u001b[49m\u001b[43msp\u001b[49m\u001b[38;5;241;43m.\u001b[39;49m\u001b[43moo\u001b[49m\u001b[43m)\u001b[49m\n",
      "File \u001b[0;32m/usr/local/lib/python3.8/dist-packages/sympy/integrals/integrals.py:1564\u001b[0m, in \u001b[0;36mintegrate\u001b[0;34m(meijerg, conds, risch, heurisch, manual, *args, **kwargs)\u001b[0m\n\u001b[1;32m   1400\u001b[0m \u001b[38;5;124;03m\"\"\"integrate(f, var, ...)\u001b[39;00m\n\u001b[1;32m   1401\u001b[0m \n\u001b[1;32m   1402\u001b[0m \u001b[38;5;124;03m.. deprecated:: 1.6\u001b[39;00m\n\u001b[0;32m   (...)\u001b[0m\n\u001b[1;32m   1554\u001b[0m \n\u001b[1;32m   1555\u001b[0m \u001b[38;5;124;03m\"\"\"\u001b[39;00m\n\u001b[1;32m   1556\u001b[0m doit_flags \u001b[38;5;241m=\u001b[39m {\n\u001b[1;32m   1557\u001b[0m     \u001b[38;5;124m'\u001b[39m\u001b[38;5;124mdeep\u001b[39m\u001b[38;5;124m'\u001b[39m: \u001b[38;5;28;01mFalse\u001b[39;00m,\n\u001b[1;32m   1558\u001b[0m     \u001b[38;5;124m'\u001b[39m\u001b[38;5;124mmeijerg\u001b[39m\u001b[38;5;124m'\u001b[39m: meijerg,\n\u001b[0;32m   (...)\u001b[0m\n\u001b[1;32m   1562\u001b[0m     \u001b[38;5;124m'\u001b[39m\u001b[38;5;124mmanual\u001b[39m\u001b[38;5;124m'\u001b[39m: manual\n\u001b[1;32m   1563\u001b[0m     }\n\u001b[0;32m-> 1564\u001b[0m integral \u001b[38;5;241m=\u001b[39m \u001b[43mIntegral\u001b[49m\u001b[43m(\u001b[49m\u001b[38;5;241;43m*\u001b[39;49m\u001b[43margs\u001b[49m\u001b[43m,\u001b[49m\u001b[43m \u001b[49m\u001b[38;5;241;43m*\u001b[39;49m\u001b[38;5;241;43m*\u001b[39;49m\u001b[43mkwargs\u001b[49m\u001b[43m)\u001b[49m\n\u001b[1;32m   1566\u001b[0m \u001b[38;5;28;01mif\u001b[39;00m \u001b[38;5;28misinstance\u001b[39m(integral, Integral):\n\u001b[1;32m   1567\u001b[0m     \u001b[38;5;28;01mreturn\u001b[39;00m integral\u001b[38;5;241m.\u001b[39mdoit(\u001b[38;5;241m*\u001b[39m\u001b[38;5;241m*\u001b[39mdoit_flags)\n",
      "File \u001b[0;32m/usr/local/lib/python3.8/dist-packages/sympy/integrals/integrals.py:96\u001b[0m, in \u001b[0;36mIntegral.__new__\u001b[0;34m(cls, function, *symbols, **assumptions)\u001b[0m\n\u001b[1;32m     86\u001b[0m \u001b[38;5;28;01mif\u001b[39;00m \u001b[38;5;28misinstance\u001b[39m(function, Poly):\n\u001b[1;32m     87\u001b[0m     sympy_deprecation_warning(\n\u001b[1;32m     88\u001b[0m         \u001b[38;5;124;03m\"\"\"\u001b[39;00m\n\u001b[1;32m     89\u001b[0m \u001b[38;5;124;03m        integrate(Poly) and Integral(Poly) are deprecated. Instead,\u001b[39;00m\n\u001b[0;32m   (...)\u001b[0m\n\u001b[1;32m     93\u001b[0m         deprecated_since_version\u001b[38;5;241m=\u001b[39m\u001b[38;5;124m\"\u001b[39m\u001b[38;5;124m1.6\u001b[39m\u001b[38;5;124m\"\u001b[39m,\n\u001b[1;32m     94\u001b[0m         active_deprecations_target\u001b[38;5;241m=\u001b[39m\u001b[38;5;124m\"\u001b[39m\u001b[38;5;124mdeprecated-integrate-poly\u001b[39m\u001b[38;5;124m\"\u001b[39m)\n\u001b[0;32m---> 96\u001b[0m obj \u001b[38;5;241m=\u001b[39m \u001b[43mAddWithLimits\u001b[49m\u001b[38;5;241;43m.\u001b[39;49m\u001b[38;5;21;43m__new__\u001b[39;49m\u001b[43m(\u001b[49m\u001b[38;5;28;43mcls\u001b[39;49m\u001b[43m,\u001b[49m\u001b[43m \u001b[49m\u001b[43mfunction\u001b[49m\u001b[43m,\u001b[49m\u001b[43m \u001b[49m\u001b[38;5;241;43m*\u001b[39;49m\u001b[43msymbols\u001b[49m\u001b[43m,\u001b[49m\u001b[43m \u001b[49m\u001b[38;5;241;43m*\u001b[39;49m\u001b[38;5;241;43m*\u001b[39;49m\u001b[43massumptions\u001b[49m\u001b[43m)\u001b[49m\n\u001b[1;32m     97\u001b[0m \u001b[38;5;28;01mreturn\u001b[39;00m obj\n",
      "File \u001b[0;32m/usr/local/lib/python3.8/dist-packages/sympy/concrete/expr_with_limits.py:547\u001b[0m, in \u001b[0;36mAddWithLimits.__new__\u001b[0;34m(cls, function, *symbols, **assumptions)\u001b[0m\n\u001b[1;32m    545\u001b[0m \u001b[38;5;28;01mdef\u001b[39;00m \u001b[38;5;21m__new__\u001b[39m(\u001b[38;5;28mcls\u001b[39m, function, \u001b[38;5;241m*\u001b[39msymbols, \u001b[38;5;241m*\u001b[39m\u001b[38;5;241m*\u001b[39massumptions):\n\u001b[1;32m    546\u001b[0m     \u001b[38;5;28;01mfrom\u001b[39;00m \u001b[38;5;21;01msympy\u001b[39;00m\u001b[38;5;21;01m.\u001b[39;00m\u001b[38;5;21;01mconcrete\u001b[39;00m\u001b[38;5;21;01m.\u001b[39;00m\u001b[38;5;21;01msummations\u001b[39;00m \u001b[38;5;28;01mimport\u001b[39;00m Sum\n\u001b[0;32m--> 547\u001b[0m     pre \u001b[38;5;241m=\u001b[39m \u001b[43m_common_new\u001b[49m\u001b[43m(\u001b[49m\u001b[38;5;28;43mcls\u001b[39;49m\u001b[43m,\u001b[49m\u001b[43m \u001b[49m\u001b[43mfunction\u001b[49m\u001b[43m,\u001b[49m\u001b[43m \u001b[49m\u001b[38;5;241;43m*\u001b[39;49m\u001b[43msymbols\u001b[49m\u001b[43m,\u001b[49m\n\u001b[1;32m    548\u001b[0m \u001b[43m        \u001b[49m\u001b[43mdiscrete\u001b[49m\u001b[38;5;241;43m=\u001b[39;49m\u001b[38;5;28;43missubclass\u001b[39;49m\u001b[43m(\u001b[49m\u001b[38;5;28;43mcls\u001b[39;49m\u001b[43m,\u001b[49m\u001b[43m \u001b[49m\u001b[43mSum\u001b[49m\u001b[43m)\u001b[49m\u001b[43m,\u001b[49m\u001b[43m \u001b[49m\u001b[38;5;241;43m*\u001b[39;49m\u001b[38;5;241;43m*\u001b[39;49m\u001b[43massumptions\u001b[49m\u001b[43m)\u001b[49m\n\u001b[1;32m    549\u001b[0m     \u001b[38;5;28;01mif\u001b[39;00m \u001b[38;5;28misinstance\u001b[39m(pre, \u001b[38;5;28mtuple\u001b[39m):\n\u001b[1;32m    550\u001b[0m         function, limits, orientation \u001b[38;5;241m=\u001b[39m pre\n",
      "File \u001b[0;32m/usr/local/lib/python3.8/dist-packages/sympy/concrete/expr_with_limits.py:57\u001b[0m, in \u001b[0;36m_common_new\u001b[0;34m(cls, function, discrete, *symbols, **assumptions)\u001b[0m\n\u001b[1;32m     54\u001b[0m     \u001b[38;5;28;01mreturn\u001b[39;00m S\u001b[38;5;241m.\u001b[39mNaN\n\u001b[1;32m     56\u001b[0m \u001b[38;5;28;01mif\u001b[39;00m symbols:\n\u001b[0;32m---> 57\u001b[0m     limits, orientation \u001b[38;5;241m=\u001b[39m \u001b[43m_process_limits\u001b[49m\u001b[43m(\u001b[49m\u001b[38;5;241;43m*\u001b[39;49m\u001b[43msymbols\u001b[49m\u001b[43m,\u001b[49m\u001b[43m \u001b[49m\u001b[43mdiscrete\u001b[49m\u001b[38;5;241;43m=\u001b[39;49m\u001b[43mdiscrete\u001b[49m\u001b[43m)\u001b[49m\n\u001b[1;32m     58\u001b[0m     \u001b[38;5;28;01mfor\u001b[39;00m i, li \u001b[38;5;129;01min\u001b[39;00m \u001b[38;5;28menumerate\u001b[39m(limits):\n\u001b[1;32m     59\u001b[0m         \u001b[38;5;28;01mif\u001b[39;00m \u001b[38;5;28mlen\u001b[39m(li) \u001b[38;5;241m==\u001b[39m \u001b[38;5;241m4\u001b[39m:\n",
      "File \u001b[0;32m/usr/local/lib/python3.8/dist-packages/sympy/concrete/expr_with_limits.py:194\u001b[0m, in \u001b[0;36m_process_limits\u001b[0;34m(discrete, *symbols)\u001b[0m\n\u001b[1;32m    191\u001b[0m                     limits\u001b[38;5;241m.\u001b[39mappend(Tuple(newsymbol, V[\u001b[38;5;241m1\u001b[39m]))\n\u001b[1;32m    192\u001b[0m                     \u001b[38;5;28;01mcontinue\u001b[39;00m\n\u001b[0;32m--> 194\u001b[0m     \u001b[38;5;28;01mraise\u001b[39;00m \u001b[38;5;167;01mValueError\u001b[39;00m(\u001b[38;5;124m'\u001b[39m\u001b[38;5;124mInvalid limits given: \u001b[39m\u001b[38;5;132;01m%s\u001b[39;00m\u001b[38;5;124m'\u001b[39m \u001b[38;5;241m%\u001b[39m \u001b[38;5;28mstr\u001b[39m(symbols))\n\u001b[1;32m    196\u001b[0m \u001b[38;5;28;01mreturn\u001b[39;00m limits, orientation\n",
      "\u001b[0;31mValueError\u001b[0m: Invalid limits given: (t, 0, oo)"
     ]
    }
   ],
   "source": [
    "# Cela dépend des versions de sympy\n",
    "sp.integrate(sp.exp(t)*sp.exp(t)*sp.exp(-3*t), t, 0, sp.oo)"
   ]
  },
  {
   "cell_type": "code",
   "execution_count": 5,
   "id": "60f618d7",
   "metadata": {
    "ExecuteTime": {
     "end_time": "2023-04-07T00:58:14.822285Z",
     "start_time": "2023-04-07T00:58:14.819519Z"
    }
   },
   "outputs": [],
   "source": [
    "f1 = sp.exp\n",
    "f2 = sp.cos\n",
    "f3 = sp.sin"
   ]
  },
  {
   "cell_type": "code",
   "execution_count": 6,
   "id": "a55fbd78",
   "metadata": {
    "ExecuteTime": {
     "end_time": "2023-04-07T00:58:16.181012Z",
     "start_time": "2023-04-07T00:58:14.824414Z"
    }
   },
   "outputs": [],
   "source": [
    "G = sp.zeros(3, 3)\n",
    "G[0, 0] = phi(f1, f1)\n",
    "G[0, 1] = phi(f1, f2)\n",
    "G[0, 2] = phi(f1, f3)\n",
    "G[1, 0] = G[0, 1]\n",
    "G[1, 1] = phi(f2, f2)\n",
    "G[1, 2] = phi(f2, f3)\n",
    "G[2, 0] = G[0, 2]\n",
    "G[2, 1] = G[1, 2]\n",
    "G[2, 2] = phi(f3, f3)"
   ]
  },
  {
   "cell_type": "code",
   "execution_count": 7,
   "id": "7f25401e",
   "metadata": {
    "ExecuteTime": {
     "end_time": "2023-04-07T00:58:16.463369Z",
     "start_time": "2023-04-07T00:58:16.182660Z"
    }
   },
   "outputs": [
    {
     "data": {
      "image/png": "[encoded data removed]",
      "text/latex": [
       "$\\displaystyle \\frac{4}{2925}$"
      ],
      "text/plain": [
       "4/2925"
      ]
     },
     "execution_count": 7,
     "metadata": {},
     "output_type": "execute_result"
    }
   ],
   "source": [
    "sp.det(G)"
   ]
  },
  {
   "cell_type": "code",
   "execution_count": 8,
   "id": "1c5081fa",
   "metadata": {
    "ExecuteTime": {
     "end_time": "2023-04-07T00:58:16.763842Z",
     "start_time": "2023-04-07T00:58:16.465358Z"
    }
   },
   "outputs": [
    {
     "data": {
      "image/png": "[encoded data removed]",
      "text/latex": [
       "$\\displaystyle \\frac{2 \\sqrt{13}}{195}$"
      ],
      "text/plain": [
       "2⋅√13\n",
       "─────\n",
       " 195 "
      ]
     },
     "execution_count": 8,
     "metadata": {},
     "output_type": "execute_result"
    }
   ],
   "source": [
    "V = sp.sqrt(_)\n",
    "V"
   ]
  },
  {
   "cell_type": "markdown",
   "id": "2d61b1bb",
   "metadata": {},
   "source": [
    "## Exercice"
   ]
  },
  {
   "cell_type": "markdown",
   "id": "1a94f0bf",
   "metadata": {},
   "source": [
    "Soit $E$ un espace euclidien, $\\mathcal{E}$ un espace affine de direction $E$ et $\\phi$ une application affine de $\\mathcal{E}$ dans $\\mathcal{E}$ dont l'application linéaire sous-jacente sera notée $\\overrightarrow{\\phi}$.\n",
    "\n",
    "On pose\n",
    "$$E_1=\\left\\{\\overrightarrow{x}\\in E,\\; \\overrightarrow{\\phi}\\left(\\overrightarrow{x}\\right)=\\overrightarrow{x}\\right\\}$$\n",
    "1. Montrer que si $E_1=\\{0_{_E}\\}$, alors $\\phi$ possède un unique point fixe.\n",
    "1. On suppose que $E_1\\ne\\{0_{_E}\\}$, montrer que $\\phi$ est alors la composée d'une application affine ayant un point fixe et d'une translation (éventuellement nulle).\n",
    "1. On suppose que \n",
    "$$\\overrightarrow{\\phi}^\\star\\circ\\overrightarrow{\\phi}=\\overrightarrow{\\phi}\\circ\\overrightarrow{\\phi}^\\star$$\n",
    "Montrer qu'on peut alors choisir la translation parallèlement à $E_1$."
   ]
  },
  {
   "cell_type": "markdown",
   "id": "d3b5e6b8",
   "metadata": {},
   "source": [
    "**Question 1**\n",
    "\n",
    "Soit $A$ un point quelconque, on a alors\n",
    "$$\\forall M\\in\\mathcal{E},\\; \\phi(M)=\\phi(A)+\\overrightarrow{\\phi}\\left(\\overrightarrow{AM}\\right)$$\n",
    "et donc, un point fixe devra satisfaire l'équation\n",
    "$$\\Omega=\\phi(A)+\\overrightarrow{\\phi}\\left(\\overrightarrow{A\\Omega}\\right)$$\n",
    "ou encore\n",
    "$$\\overrightarrow{A\\Omega}-\\overrightarrow{\\phi}\\left(\\overrightarrow{A\\Omega}\\right)=\\overrightarrow{A\\phi(A)}$$\n",
    "Or, d'après l'hypothèse sur $E_1$, $\\mathrm{id}-\\overrightarrow{\\phi}$ est injective et, c'est une endomorphisme en dimension finie, elle est donc bijective. Il existe un (unique) vecteur $\\overrightarrow{u}$ tel que\n",
    "$$\\left(\\mathrm{id}-\\overrightarrow{\\phi}\\right)\\left(\\overrightarrow{u}\\right)=\\overrightarrow{A\\phi(A)}$$\n",
    "Le point $\\Omega=A+\\overrightarrow{u}$ est fixe. "
   ]
  },
  {
   "cell_type": "markdown",
   "id": "ceea8037",
   "metadata": {},
   "source": [
    "**Question 2**\n",
    "\n",
    "On a simplement\n",
    "$$\\phi(M)=\\underbrace{\\left(A+\\overrightarrow{\\phi}\\left(\\overrightarrow{AM}\\right)\\right)}_{=\\text{affine de point fixe $A$}}+\\underbrace{\\overrightarrow{A\\phi(A)}}_{=\\text{translation}}$$"
   ]
  },
  {
   "cell_type": "markdown",
   "id": "69aef8ee",
   "metadata": {},
   "source": [
    "**Question 3**\n",
    "\n",
    "On a d'abord dans tous les cas\n",
    "$$\\mathrm{Ker}\\left(\\overrightarrow{\\phi}^\\star\\circ\\overrightarrow{\\phi}\\right)=\\mathrm{Ker}\\left(\\overrightarrow{\\phi}\\right)\\quad\\text{et}\\quad \\mathrm{Ker}\\left(\\overrightarrow{\\phi}\\circ\\overrightarrow{\\phi}^\\star\\right)=\\mathrm{Ker}\\left(\\overrightarrow{\\phi}^\\star\\right)$$\n",
    "Donc, dans l'hypothèse donnée\n",
    "$$\\mathrm{Ker}\\left(\\overrightarrow{\\phi}\\right)=\\mathrm{Ker}\\left(\\overrightarrow{\\phi}^\\star\\right)=\\mathrm{Im}\\left(\\overrightarrow{\\phi}\\right)^{\\bot.}$$\n",
    "Et donc\n",
    "$$\\left(\\mathrm{id}-\\overrightarrow{\\phi}\\right)\\left(E_1^{\\bot.}\\right)=E_1^{\\bot.}$$\n",
    "On décompose alors $\\overrightarrow{A\\phi(A)}$ dans la somme directe $E=E_1\\oplus E_1^{\\bot.}$ \n",
    "$$\\overrightarrow{A\\phi(A)}=\\underbrace{\\overrightarrow{u}_1}_{\\in E_1}+\\underbrace{\\overrightarrow{u}_2}_{\\in E_1^{\\bot.}}$$\n",
    "Puis on montre (voir la démonstration dans le td-tp précédent) que\n",
    "$$M\\longmapsto A+\\overrightarrow{\\phi}\\left(\\overrightarrow{AM}\\right)+\\overrightarrow{u}_2$$\n",
    "a un point fixe $\\Omega$ et s'écrit donc\n",
    "$$M\\longmapsto \\Omega+\\overrightarrow{\\phi}\\left(\\overrightarrow{\\Omega M}\\right)$$"
   ]
  },
  {
   "cell_type": "markdown",
   "id": "d4f4ddfe",
   "metadata": {},
   "source": [
    "## Exercice"
   ]
  },
  {
   "cell_type": "markdown",
   "id": "e0eb5f9d",
   "metadata": {},
   "source": [
    "Soit $E$ un espace préhilbertien réel, $\\mathcal{X}=\\left(x_1,\\ldots,x_n\\right)$ une famille de $n$ vecteurs *indépendants* et $y\\in E$, on pose\n",
    "$$\\mathcal{Y}=\\left(x_1,\\ldots,x_n,y\\right)$$\n",
    "1. Montrer que\n",
    "$$d\\left(y,\\mathrm{Vect}\\left(\\mathcal{X}\\right)\\right)^2=\\frac{\\det\\left(G_\\mathcal{Y}\\right)}{\\det\\left(G_\\mathcal{X}\\right)}$$\n",
    "où $G_\\mathcal{X}$ désigne la matrice de Gram de $\\mathcal{X}$.\n",
    "1. Calculer, avec les notations du premier exercice\n",
    "$$d\\left(f,\\mathrm{Vect}\\left(\\left\\{f_1,f_2,f_3\\right\\}\\right)\\right)$$\n",
    "où $f$ : $x\\longmapsto 1$.    "
   ]
  },
  {
   "cell_type": "markdown",
   "id": "9e74d862",
   "metadata": {},
   "source": [
    "**Question 1**\n",
    "\n",
    "On a \n",
    "$$G_\\mathcal{Y}=\\left[\\begin{array}{c|c} G_\\mathcal{X}& C\\\\ \\hline L& \\langle y, y\\rangle\\end{array}\\right]$$\n",
    "Où\n",
    "$$L=\\,^tC=\\left[\\langle y,x_1\\rangle,\\ldots,\\langle y,x_n\\rangle\\right]$$\n",
    "On sait que la projection orthogonale de $y$ sur $\\mathrm{Vect}(\\mathcal{X})$, notée $p(y)$ est de la forme\n",
    "$$p(y)=\\sum_{k=1}^n \\alpha_k.x_k \\text{ pour des }(\\alpha_1,\\ldots,\\alpha_n)\\in\\mathbb{R}^n$$\n",
    "En effectuant les opérations élémentaires suivantes (notons $\\ell_1,\\ldots,\\ell_{n+1}$ les lignes de $G_\\mathcal{Y}$)\n",
    "$$\\ell_{n+1}\\longleftarrow \\sum_{k=1}^n \\alpha_k\\,\\ell_k$$\n",
    "on obtient\n",
    "$$\\det\\left(G_\\mathcal{Y}\\right)=\\left|\\begin{array}{c|c} G_\\mathcal{X}& C \\\\ \\hline L'&\\langle y-p(y),y\\rangle\\end{array}\\right|$$\n",
    "où \n",
    "$$L'=\\left[\\langle y-p(y),x_1\\rangle,\\ldots,\\langle y-p(y),x_n\\rangle\\right]=\\left[0,\\ldots,0\\right]$$\n",
    "car $y-p(y)$ est, par construction, orthogonal à $\\mathrm{Vect}(\\mathcal{X})$.\n",
    "En développant ce déterminant blocs triangulaire, on obtient\n",
    "$$\\det\\left(G_\\mathcal{Y}\\right)=\\det\\left(G_\\mathcal{X}\\right)\\, \\langle y-p(y),y\\rangle$$\n",
    "Pour conclure, il suffit de remarquer que\n",
    "$$\\langle y-p(y),y\\rangle=\\langle y-p(y),y-p(y)\\rangle =\\left\\|y-p(y)\\right\\|^2\\overset{\\text{Def}}{=}d\\left(y,\\mathrm{Vect}(\\mathcal{X})\\right)^2$$\n",
    "et que\n",
    "$$\\det(G_\\mathcal{X})\\ne 0 \\text{ car les vecteurs $(x_1,\\ldots,x_n)$ sont indépendants}$$"
   ]
  },
  {
   "cell_type": "markdown",
   "id": "9fb98459",
   "metadata": {},
   "source": [
    "**Question 2**\n",
    "\n",
    "Il suffit d'appliquer la formule"
   ]
  },
  {
   "cell_type": "code",
   "execution_count": 9,
   "id": "b425bd2d",
   "metadata": {
    "ExecuteTime": {
     "end_time": "2023-04-07T00:58:17.233086Z",
     "start_time": "2023-04-07T00:58:16.766341Z"
    }
   },
   "outputs": [],
   "source": [
    "def Un(t): return 1\n",
    "\n",
    "\n",
    "GX = G\n",
    "GY = sp.zeros(4, 4)\n",
    "for i in range(3):\n",
    "    for j in range(3):\n",
    "        GY[i, j] = GX[i, j]\n",
    "GY[0, 3] = phi(f1, Un)\n",
    "GY[1, 3] = phi(f2, Un)\n",
    "GY[2, 3] = phi(f3, Un)\n",
    "GY[3, 3] = phi(Un, Un)\n",
    "GY[3, 0] = GY[0, 3]\n",
    "GY[3, 1] = GY[1, 3]\n",
    "GY[3, 2] = GY[2, 3]"
   ]
  },
  {
   "cell_type": "code",
   "execution_count": 10,
   "id": "0d9eabc4",
   "metadata": {
    "ExecuteTime": {
     "end_time": "2023-04-07T00:58:17.563870Z",
     "start_time": "2023-04-07T00:58:17.234332Z"
    }
   },
   "outputs": [
    {
     "data": {
      "image/png": "[encoded data removed]",
      "text/latex": [
       "$\\displaystyle \\frac{\\sqrt{3}}{60}$"
      ],
      "text/plain": [
       "√3\n",
       "──\n",
       "60"
      ]
     },
     "execution_count": 10,
     "metadata": {},
     "output_type": "execute_result"
    }
   ],
   "source": [
    "sp.sqrt(GY.det()/GX.det())"
   ]
  }
 ],
 "metadata": {
  "kernelspec": {
   "display_name": "Python 3 (ipykernel)",
   "language": "python",
   "name": "python3"
  },
  "language_info": {
   "codemirror_mode": {
    "name": "ipython",
    "version": 3
   },
   "file_extension": ".py",
   "mimetype": "text/x-python",
   "name": "python",
   "nbconvert_exporter": "python",
   "pygments_lexer": "ipython3",
   "version": "3.8.2"
  },
  "toc": {
   "base_numbering": 1,
   "nav_menu": {},
   "number_sections": true,
   "sideBar": true,
   "skip_h1_title": false,
   "title_cell": "Table of Contents",
   "title_sidebar": "Contents",
   "toc_cell": false,
   "toc_position": {},
   "toc_section_display": true,
   "toc_window_display": false
  }
 },
 "nbformat": 4,
 "nbformat_minor": 5
}

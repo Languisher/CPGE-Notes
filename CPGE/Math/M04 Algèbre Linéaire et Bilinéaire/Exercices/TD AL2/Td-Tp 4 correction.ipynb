{
 "cells": [
  {
   "cell_type": "markdown",
   "id": "3cc462ce",
   "metadata": {},
   "source": [
    "# Td-Tp n°4"
   ]
  },
  {
   "cell_type": "markdown",
   "id": "78a6ef01",
   "metadata": {},
   "source": [
    "## Exercice"
   ]
  },
  {
   "cell_type": "markdown",
   "id": "ab347c50",
   "metadata": {},
   "source": [
    "Soit $E$ un espace euclidien de dimension. Soit $p$ un projecteur de $E$, montrer que\n",
    "$$\\left[p^\\star=p\\right]\\iff\\left[\\forall x\\in E,\\; \\left\\|p(x)\\right\\|\\le \\|x\\|\\right]$$"
   ]
  },
  {
   "cell_type": "markdown",
   "id": "cd295719",
   "metadata": {},
   "source": [
    "**Réponse**\n",
    "1. $(\\Rightarrow)$ Si $p^\\star=p$, on alors\n",
    "$$\\mathrm{Ker}(p)=\\mathrm{Ker}\\left(p^\\star\\right)=\\mathrm{Im}(p)^{\\bot.}$$\n",
    "donc, comme on a toujours\n",
    "$$E=\\mathrm{Im}(p)\\oplus \\mathrm{Im}(p)^{\\bot.}$$\n",
    "pour $x\\in E$, on peut l'écrire sous la forme $x=x_1+x_2$, où $x_1\\in\\mathrm{Im}(p)$ et $x_2\\in\\mathrm{Im}(p)^{\\bot.}$. On obtient alors\n",
    "$$\\|x\\|^2=\\|x_1\\|^2+\\|x_2\\|^2 \\qquad\\text{théorème de Pythagore}$$\n",
    "et\n",
    "$$\\left\\|p(x)\\right\\|^2=\\left\\|p(x_1)+p(x_2)\\right\\|^2=\\|x_1\\|^2$$\n",
    "car $x_2\\in\\mathrm{Im}(p)^{\\bot.}=\\mathrm{Ker}(p)$.\n",
    "1. $(\\Leftarrow)$ (*Par contraposition*). Si $p^\\star\\ne p$, il existe $(x,y)\\in E^2$ tels que\n",
    "$$\\langle p(x),y\\rangle\\ne \\langle x,p(y)\\rangle$$\n",
    "(Ils sont en particulier non nuls). Par ailleurs, comme $E=\\mathrm{Ker}(p)\\oplus\\mathrm{Im}(p)$ (car $p$ est un projecteur), il existe $(x_1,y_1)\\in\\mathrm{Ker}(p)^2$ et $(x_2,y_2)\\in\\mathrm{Im}(p)^2$ tels que\n",
    "$$x=x_1+x_2,\\; y=y_1+y_2\\quad\\text{et donc}\\quad p(x)=x_2,\\; p(y)=y_2$$\n",
    "On a donc la relation \n",
    "$$\\langle x_2,y_1+y_2\\rangle\\ne\\langle x_1+x_2,y_2\\rangle\\quad\\text{et donc}\\quad \\langle x_2,y_1\\rangle\\ne \\langle x_1,y_2\\rangle$$\n",
    "L'un des deux produits scalaires est non nul, par exemple $\\langle x_1,y_2\\rangle$.\n",
    "Pour $\\lambda\\in\\mathbb{R}$, on a\n",
    "$$\\|x_1+\\lambda.y_2\\|^2=\\|x_1\\|^2+2\\,\\lambda\\,\\langle x_1,y_2\\rangle+\\lambda^2\\,\\|y_2\\|^2$$\n",
    "et \n",
    "$$\\|p(x_1+\\lambda.y_2)\\|^2=\\lambda^2\\,\\|p(y_2)\\|^2=\\lambda^2\\,\\|y_2\\|^2$$\n",
    "donc\n",
    "$$\\|x_1+\\lambda.y_2\\|^2-\\|p(x_1+\\lambda.y_2)\\|^2=\\|x_1\\|^2+2\\,\\lambda\\,\\langle x_1,y_2\\rangle$$\n",
    "il est alors simple de trouver une valuer de $\\lambda$ qui rend cette expression négative."
   ]
  },
  {
   "cell_type": "markdown",
   "id": "f18fca7c",
   "metadata": {},
   "source": [
    "<div class=\"alert alert-danger\">\n",
    "\n",
    "On peut raccourcir la deuxième partie de la démonstration en remarquant que \n",
    "$$\\left[p^\\star=p\\right]\\iff\\left[\\mathrm{Ker}(p)=\\mathrm{Im}(p)^{\\bot.}\\right]$$\n",
    "    et choisir toute de suite $x_1\\in\\mathrm{Ker}(p)$ et $y_2\\in\\mathrm{Im}(p)$ tels que $\\langle x_1,y_2\\rangle\\ne 0$. *Faire un dessin dans le plan engendré par $x_1$ et $y_2$ pour comprendre...*"
   ]
  },
  {
   "cell_type": "markdown",
   "id": "0930f8fa",
   "metadata": {},
   "source": [
    "## Exercice"
   ]
  },
  {
   "cell_type": "markdown",
   "id": "6e1f8302",
   "metadata": {},
   "source": [
    "Soit $E$ un espace euclidien, $(u,v)\\in\\mathscr{S}(E)^2$ tels que $u\\circ v=v\\circ u$.\n",
    "1. Soit $\\lambda\\in\\mathbb{R}$, montrer que\n",
    "$$v\\left(\\mathrm{Ker}\\left(u-\\lambda.\\mathrm{id}_{_E}\\right)\\right)\\subset \\mathrm{Ker}\\left(u-\\lambda.\\mathrm{id}_{_E}\\right)$$\n",
    "1. Montrer qu'il existe une base orthonormée $(e_1,\\ldots,e_n)$ de $E$ et des réels $(\\alpha_1,\\ldots,\\alpha_n,\\beta_1,\\ldots,\\beta_n)\\in\\mathbb{R}^{2\\,n}$, tels que\n",
    "$$\\forall k\\in\\{1,\\ldots,n\\},\\; u(e_k)=\\alpha_k.e_k\\quad\\text{et}\\quad v(e_k)=\\beta_k.e_k$$\n",
    "1. On considère les matrices suivantes\n",
    "$$U=\\left[\\begin{matrix}\\frac{97}{81} & \\frac{4}{81} & \\frac{32}{81}\\\\\\frac{4}{81} & \\frac{82}{81} & \\frac{8}{81}\\\\\\frac{32}{81} & \\frac{8}{81} & \\frac{145}{81}\\end{matrix}\\right]\\qquad\\text{et}\\qquad V= \\left[\\begin{matrix}\\frac{5}{27} & - \\frac{28}{27} & \\frac{28}{27}\\\\- \\frac{28}{27} & \\frac{38}{27} & \\frac{16}{27}\\\\\\frac{28}{27} & \\frac{16}{27} & \\frac{38}{27}\\end{matrix}\\right]$$\n",
    "Trouver, en utilisant la démonstration du 2. les vecteurs $(e_1,e_2,e_3)$."
   ]
  },
  {
   "cell_type": "markdown",
   "id": "60637748",
   "metadata": {},
   "source": [
    "**Question 1**\n",
    "Soit $\\lambda\\in\\mathbb{R}$, si $x\\in\\mathrm{Ker}\\left(u-\\lambda.\\mathrm{id}_{_E}\\right)$, alors $u(x)=\\lambda.x$ (et réciproquement) donc\n",
    "$$u\\left(v(x)\\right)=u\\circ v(x)=v\\circ u(x)=v(\\lambda.x)=\\lambda.v(x)$$"
   ]
  },
  {
   "cell_type": "markdown",
   "id": "695f0ad5",
   "metadata": {},
   "source": [
    "**Question 2**\n",
    "D'après le théorème spectral, comme $u$ est auto-adjoint, il existe une base orthonormée $(b_1,\\ldots,b_n)$ et des réels $(\\alpha_1,\\ldots,\\alpha_n)$ tels que\n",
    "$$\\forall k\\in\\{1,\\ldots,n\\},\\; u(b_k)=\\alpha_k.b_k$$\n",
    "Alors, par exemple, $F=\\mathrm{Ker}(u-\\alpha_1.\\mathrm{id}_{_E})$ vérifie la propriété donnée au 1., en ce cas\n",
    "d'après le théorème spectral appliqué à $v\\left|_{_F}^{^F}\\right.$, il existe un vecteur $e_1\\in F$ et un réel $\\beta_1$ tel que\n",
    "$$v(e_1)=\\beta_1.e_1\\quad\\text{et}\\quad u(e_1)=\\alpha_1.e_1\\quad(\\text{car } e_1\\in\\mathrm{Ker}(u-\\alpha_1.\\mathrm{id}_{_E}))$$\n",
    "On procède ensuite par récurrence sur la dimension de l'espace en posant\n",
    "$$E=\\mathbb{R}.e_1\\oplus \\left(\\mathbb{R}.e_1\\right)^{\\bot.}$$\n",
    "où\n",
    "$$u\\left(\\left(\\mathbb{R}.e_1\\right)^{\\bot.}\\right)\\subset \\left(\\mathbb{R}.e_1\\right)^{\\bot.}\\quad\\text{et}\\quad v\\left(\\left(\\mathbb{R}.e_1\\right)^{\\bot.}\\right)\\subset \\left(\\mathbb{R}.e_1\\right)^{\\bot.}$$\n",
    "puisque $u^\\star=u$ et $v^\\star=v$."
   ]
  },
  {
   "cell_type": "markdown",
   "id": "b1350b53",
   "metadata": {},
   "source": [
    "**Question 3**"
   ]
  },
  {
   "cell_type": "code",
   "execution_count": 1,
   "id": "d4f3190f",
   "metadata": {
    "ExecuteTime": {
     "end_time": "2023-03-08T08:14:31.970389Z",
     "start_time": "2023-03-08T08:14:31.749053Z"
    }
   },
   "outputs": [],
   "source": [
    "import sympy as sp\n",
    "sp.init_printing()"
   ]
  },
  {
   "cell_type": "code",
   "execution_count": 2,
   "id": "f0c7ac67",
   "metadata": {
    "ExecuteTime": {
     "end_time": "2023-03-08T08:14:31.974133Z",
     "start_time": "2023-03-08T08:14:31.971379Z"
    }
   },
   "outputs": [],
   "source": [
    "U = sp.Matrix([\n",
    " [97,  4,  32],\n",
    " [ 4, 82,   8],\n",
    " [32,  8, 145]])/sp.S(81)"
   ]
  },
  {
   "cell_type": "code",
   "execution_count": 3,
   "id": "a97d1c88",
   "metadata": {
    "ExecuteTime": {
     "end_time": "2023-03-08T08:14:31.977999Z",
     "start_time": "2023-03-08T08:14:31.975608Z"
    }
   },
   "outputs": [],
   "source": [
    "V = sp.Matrix([\n",
    " [  5, -28, 28],\n",
    " [-28,  38, 16],\n",
    " [ 28,  16, 38]])/sp.S(27)"
   ]
  },
  {
   "cell_type": "code",
   "execution_count": 4,
   "id": "50156645",
   "metadata": {
    "ExecuteTime": {
     "end_time": "2023-03-08T08:14:32.291807Z",
     "start_time": "2023-03-08T08:14:31.978912Z"
    }
   },
   "outputs": [
    {
     "data": {
      "image/png": "[encoded data removed]",
      "text/latex": [
       "$\\displaystyle \\left( \\left[\\begin{matrix}\\frac{97}{81} & \\frac{4}{81} & \\frac{32}{81}\\\\\\frac{4}{81} & \\frac{82}{81} & \\frac{8}{81}\\\\\\frac{32}{81} & \\frac{8}{81} & \\frac{145}{81}\\end{matrix}\\right], \\  \\left[\\begin{matrix}\\frac{5}{27} & - \\frac{28}{27} & \\frac{28}{27}\\\\- \\frac{28}{27} & \\frac{38}{27} & \\frac{16}{27}\\\\\\frac{28}{27} & \\frac{16}{27} & \\frac{38}{27}\\end{matrix}\\right], \\  \\left[\\begin{matrix}0 & 0 & 0\\\\0 & 0 & 0\\\\0 & 0 & 0\\end{matrix}\\right]\\right)$"
      ],
      "text/plain": [
       "⎛⎡ 97          32 ⎤  ⎡      -28   28⎤           ⎞\n",
       "⎜⎢ ──   4/81   ── ⎥  ⎢5/27  ────  ──⎥           ⎟\n",
       "⎜⎢ 81          81 ⎥  ⎢       27   27⎥           ⎟\n",
       "⎜⎢                ⎥  ⎢              ⎥  ⎡0  0  0⎤⎟\n",
       "⎜⎢       82       ⎥  ⎢-28    38   16⎥  ⎢       ⎥⎟\n",
       "⎜⎢4/81   ──   8/81⎥, ⎢────   ──   ──⎥, ⎢0  0  0⎥⎟\n",
       "⎜⎢       81       ⎥  ⎢ 27    27   27⎥  ⎢       ⎥⎟\n",
       "⎜⎢                ⎥  ⎢              ⎥  ⎣0  0  0⎦⎟\n",
       "⎜⎢ 32         145 ⎥  ⎢ 28    16   38⎥           ⎟\n",
       "⎜⎢ ──   8/81  ─── ⎥  ⎢ ──    ──   ──⎥           ⎟\n",
       "⎝⎣ 81          81 ⎦  ⎣ 27    27   27⎦           ⎠"
      ]
     },
     "execution_count": 4,
     "metadata": {},
     "output_type": "execute_result"
    }
   ],
   "source": [
    "U, V, U*V-V*U"
   ]
  },
  {
   "cell_type": "markdown",
   "id": "a95d0f0d",
   "metadata": {
    "ExecuteTime": {
     "end_time": "2023-03-08T07:29:19.067478Z",
     "start_time": "2023-03-08T07:29:18.775421Z"
    }
   },
   "source": [
    "Pour $x\\in\\mathbb{R}$, il nous faut chercher des valeurs réelles telles que $u-x.\\mathrm{id}_{_E}$ soit non inversible. Utilisons pour cela le déterminant."
   ]
  },
  {
   "cell_type": "code",
   "execution_count": 5,
   "id": "6435370e",
   "metadata": {
    "ExecuteTime": {
     "end_time": "2023-03-08T08:14:32.753787Z",
     "start_time": "2023-03-08T08:14:32.293380Z"
    }
   },
   "outputs": [
    {
     "data": {
      "image/png": "[encoded data removed]",
      "text/latex": [
       "$\\displaystyle - \\left(x - 2\\right) \\left(x - 1\\right)^{2}$"
      ],
      "text/plain": [
       "                2\n",
       "-(x - 2)⋅(x - 1) "
      ]
     },
     "execution_count": 5,
     "metadata": {},
     "output_type": "execute_result"
    }
   ],
   "source": [
    "x = sp.symbols('x', real=True)\n",
    "\n",
    "(U-x*sp.eye(3)).det().factor()"
   ]
  },
  {
   "cell_type": "code",
   "execution_count": 6,
   "id": "0fb25418",
   "metadata": {
    "ExecuteTime": {
     "end_time": "2023-03-08T08:14:33.064841Z",
     "start_time": "2023-03-08T08:14:32.755153Z"
    }
   },
   "outputs": [
    {
     "data": {
      "image/png": "[encoded data removed]",
      "text/latex": [
       "$\\displaystyle \\left( \\left[ \\left[\\begin{matrix}- \\frac{1}{4}\\\\1\\\\0\\end{matrix}\\right], \\  \\left[\\begin{matrix}-2\\\\0\\\\1\\end{matrix}\\right]\\right], \\  \\left[ \\left[\\begin{matrix}\\frac{1}{2}\\\\\\frac{1}{8}\\\\1\\end{matrix}\\right]\\right]\\right)$"
      ],
      "text/plain": [
       "⎛⎡⎡-1/4⎤  ⎡-2⎤⎤  ⎡⎡1/2⎤⎤⎞\n",
       "⎜⎢⎢    ⎥  ⎢  ⎥⎥  ⎢⎢   ⎥⎥⎟\n",
       "⎜⎢⎢ 1  ⎥, ⎢0 ⎥⎥, ⎢⎢1/8⎥⎥⎟\n",
       "⎜⎢⎢    ⎥  ⎢  ⎥⎥  ⎢⎢   ⎥⎥⎟\n",
       "⎝⎣⎣ 0  ⎦  ⎣1 ⎦⎦  ⎣⎣ 1 ⎦⎦⎠"
      ]
     },
     "execution_count": 6,
     "metadata": {},
     "output_type": "execute_result"
    }
   ],
   "source": [
    "(U-sp.eye(3)).nullspace(), (U-2*sp.eye(3)).nullspace()"
   ]
  },
  {
   "cell_type": "markdown",
   "id": "81043ac0",
   "metadata": {},
   "source": [
    "C'est plus intelligent de prendre le vecteur associé à 2."
   ]
  },
  {
   "cell_type": "code",
   "execution_count": 7,
   "id": "6865b9ba",
   "metadata": {
    "ExecuteTime": {
     "end_time": "2023-03-08T08:14:33.377974Z",
     "start_time": "2023-03-08T08:14:33.066625Z"
    }
   },
   "outputs": [
    {
     "data": {
      "image/png": "[encoded data removed]",
      "text/latex": [
       "$\\displaystyle \\left( \\left[\\begin{matrix}\\frac{1}{2}\\\\\\frac{1}{8}\\\\1\\end{matrix}\\right], \\  \\left[\\begin{matrix}1\\\\\\frac{1}{4}\\\\2\\end{matrix}\\right]\\right)$"
      ],
      "text/plain": [
       "⎛⎡1/2⎤  ⎡ 1 ⎤⎞\n",
       "⎜⎢   ⎥  ⎢   ⎥⎟\n",
       "⎜⎢1/8⎥, ⎢1/4⎥⎟\n",
       "⎜⎢   ⎥  ⎢   ⎥⎟\n",
       "⎝⎣ 1 ⎦  ⎣ 2 ⎦⎠"
      ]
     },
     "execution_count": 7,
     "metadata": {},
     "output_type": "execute_result"
    }
   ],
   "source": [
    "E1 = _[1][0]\n",
    "E1, V*E1"
   ]
  },
  {
   "cell_type": "code",
   "execution_count": 8,
   "id": "0028f63c",
   "metadata": {
    "ExecuteTime": {
     "end_time": "2023-03-08T08:14:33.689232Z",
     "start_time": "2023-03-08T08:14:33.379803Z"
    }
   },
   "outputs": [
    {
     "data": {
      "image/png": "[encoded data removed]",
      "text/latex": [
       "$\\displaystyle \\left[\\begin{matrix}\\frac{4}{9}\\\\\\frac{1}{9}\\\\\\frac{8}{9}\\end{matrix}\\right]$"
      ],
      "text/plain": [
       "⎡4/9⎤\n",
       "⎢   ⎥\n",
       "⎢1/9⎥\n",
       "⎢   ⎥\n",
       "⎣8/9⎦"
      ]
     },
     "execution_count": 8,
     "metadata": {},
     "output_type": "execute_result"
    }
   ],
   "source": [
    "# Il faut le normaliser\n",
    "E1 = E1/sp.sqrt(E1.dot(E1))\n",
    "E1"
   ]
  },
  {
   "cell_type": "markdown",
   "id": "3a5f8793",
   "metadata": {},
   "source": [
    "On trouve $\\alpha_1=2$ et $\\beta_1=2$. Puis, on suit la démonstration par récurrence. L'orthogonal de $\\mathbb{R}.e_1$ a pour équation $4\\,x+y+8\\,z=0$. On peut gagner un peu de temps en inversant les rôles entre $u$ et $v$."
   ]
  },
  {
   "cell_type": "code",
   "execution_count": 9,
   "id": "d6ed8895",
   "metadata": {
    "ExecuteTime": {
     "end_time": "2023-03-08T08:14:34.007656Z",
     "start_time": "2023-03-08T08:14:33.691175Z"
    }
   },
   "outputs": [
    {
     "data": {
      "image/png": "[encoded data removed]",
      "text/latex": [
       "$\\displaystyle - \\left(x - 2\\right)^{2} \\left(x + 1\\right)$"
      ],
      "text/plain": [
       "        2        \n",
       "-(x - 2) ⋅(x + 1)"
      ]
     },
     "execution_count": 9,
     "metadata": {},
     "output_type": "execute_result"
    }
   ],
   "source": [
    "(V-x*sp.eye(3)).det().factor()"
   ]
  },
  {
   "cell_type": "code",
   "execution_count": 10,
   "id": "8e3291be",
   "metadata": {
    "ExecuteTime": {
     "end_time": "2023-03-08T08:14:34.321978Z",
     "start_time": "2023-03-08T08:14:34.009124Z"
    }
   },
   "outputs": [
    {
     "data": {
      "image/png": "[encoded data removed]",
      "text/latex": [
       "$\\displaystyle \\left( \\left[ \\left[\\begin{matrix}- \\frac{7}{4}\\\\-1\\\\1\\end{matrix}\\right]\\right], \\  \\left[ \\left[\\begin{matrix}- \\frac{4}{7}\\\\1\\\\0\\end{matrix}\\right], \\  \\left[\\begin{matrix}\\frac{4}{7}\\\\0\\\\1\\end{matrix}\\right]\\right]\\right)$"
      ],
      "text/plain": [
       "⎛⎡⎡-7/4⎤⎤  ⎡⎡-4/7⎤  ⎡4/7⎤⎤⎞\n",
       "⎜⎢⎢    ⎥⎥  ⎢⎢    ⎥  ⎢   ⎥⎥⎟\n",
       "⎜⎢⎢ -1 ⎥⎥, ⎢⎢ 1  ⎥, ⎢ 0 ⎥⎥⎟\n",
       "⎜⎢⎢    ⎥⎥  ⎢⎢    ⎥  ⎢   ⎥⎥⎟\n",
       "⎝⎣⎣ 1  ⎦⎦  ⎣⎣ 0  ⎦  ⎣ 1 ⎦⎦⎠"
      ]
     },
     "execution_count": 10,
     "metadata": {},
     "output_type": "execute_result"
    }
   ],
   "source": [
    "(V+sp.eye(3)).nullspace(), (V-2*sp.eye(3)).nullspace()"
   ]
  },
  {
   "cell_type": "code",
   "execution_count": 11,
   "id": "32a90010",
   "metadata": {
    "ExecuteTime": {
     "end_time": "2023-03-08T08:14:34.634975Z",
     "start_time": "2023-03-08T08:14:34.323069Z"
    }
   },
   "outputs": [
    {
     "data": {
      "image/png": "[encoded data removed]",
      "text/latex": [
       "$\\displaystyle \\left( \\left[\\begin{matrix}- \\frac{7}{9}\\\\- \\frac{4}{9}\\\\\\frac{4}{9}\\end{matrix}\\right], \\  0\\right)$"
      ],
      "text/plain": [
       "⎛⎡-7/9⎤   ⎞\n",
       "⎜⎢    ⎥   ⎟\n",
       "⎜⎢-4/9⎥, 0⎟\n",
       "⎜⎢    ⎥   ⎟\n",
       "⎝⎣4/9 ⎦   ⎠"
      ]
     },
     "execution_count": 11,
     "metadata": {},
     "output_type": "execute_result"
    }
   ],
   "source": [
    "E2 = _[0][0]\n",
    "E2 = E2/sp.sqrt(E2.dot(E2))\n",
    "E2, E1.dot(E2)"
   ]
  },
  {
   "cell_type": "code",
   "execution_count": 12,
   "id": "957e2233",
   "metadata": {
    "ExecuteTime": {
     "end_time": "2023-03-08T08:14:34.945369Z",
     "start_time": "2023-03-08T08:14:34.636071Z"
    }
   },
   "outputs": [
    {
     "data": {
      "image/png": "[encoded data removed]",
      "text/latex": [
       "$\\displaystyle \\left[\\begin{matrix}- \\frac{7}{9}\\\\- \\frac{4}{9}\\\\\\frac{4}{9}\\end{matrix}\\right]$"
      ],
      "text/plain": [
       "⎡-7/9⎤\n",
       "⎢    ⎥\n",
       "⎢-4/9⎥\n",
       "⎢    ⎥\n",
       "⎣4/9 ⎦"
      ]
     },
     "execution_count": 12,
     "metadata": {},
     "output_type": "execute_result"
    }
   ],
   "source": [
    "U*E2"
   ]
  },
  {
   "cell_type": "markdown",
   "id": "6ebc6ced",
   "metadata": {},
   "source": [
    "On a trouvé $\\alpha_2=1$ et $\\beta_2=-1$. On obtient le dernier vector en faisant le produit vectoriel des deux premiers."
   ]
  },
  {
   "cell_type": "code",
   "execution_count": 13,
   "id": "519002b1",
   "metadata": {
    "ExecuteTime": {
     "end_time": "2023-03-08T08:14:35.258933Z",
     "start_time": "2023-03-08T08:14:34.946997Z"
    }
   },
   "outputs": [
    {
     "data": {
      "image/png": "[encoded data removed]",
      "text/latex": [
       "$\\displaystyle \\left[\\begin{matrix}\\frac{4}{9}\\\\- \\frac{8}{9}\\\\- \\frac{1}{9}\\end{matrix}\\right]$"
      ],
      "text/plain": [
       "⎡4/9 ⎤\n",
       "⎢    ⎥\n",
       "⎢-8/9⎥\n",
       "⎢    ⎥\n",
       "⎣-1/9⎦"
      ]
     },
     "execution_count": 13,
     "metadata": {},
     "output_type": "execute_result"
    }
   ],
   "source": [
    "E3 = E1.cross(E2)\n",
    "E3 "
   ]
  },
  {
   "cell_type": "code",
   "execution_count": 14,
   "id": "98a1289d",
   "metadata": {
    "ExecuteTime": {
     "end_time": "2023-03-08T08:14:35.573290Z",
     "start_time": "2023-03-08T08:14:35.260347Z"
    }
   },
   "outputs": [
    {
     "data": {
      "image/png": "[encoded data removed]",
      "text/latex": [
       "$\\displaystyle \\left( \\left[\\begin{matrix}\\frac{4}{9}\\\\- \\frac{8}{9}\\\\- \\frac{1}{9}\\end{matrix}\\right], \\  \\left[\\begin{matrix}\\frac{8}{9}\\\\- \\frac{16}{9}\\\\- \\frac{2}{9}\\end{matrix}\\right]\\right)$"
      ],
      "text/plain": [
       "⎛⎡4/9 ⎤  ⎡ 8/9 ⎤⎞\n",
       "⎜⎢    ⎥  ⎢     ⎥⎟\n",
       "⎜⎢-8/9⎥, ⎢-16/9⎥⎟\n",
       "⎜⎢    ⎥  ⎢     ⎥⎟\n",
       "⎝⎣-1/9⎦  ⎣-2/9 ⎦⎠"
      ]
     },
     "execution_count": 14,
     "metadata": {},
     "output_type": "execute_result"
    }
   ],
   "source": [
    "U*E3, V*E3"
   ]
  },
  {
   "cell_type": "markdown",
   "id": "773137c8",
   "metadata": {},
   "source": [
    "On trouve $\\alpha_3=1$ et $\\beta_3=2$."
   ]
  },
  {
   "cell_type": "markdown",
   "id": "05bc55ba",
   "metadata": {},
   "source": [
    "## Exercice"
   ]
  },
  {
   "cell_type": "markdown",
   "id": "27b5c250",
   "metadata": {},
   "source": [
    "Faire l'exercice 2.2.8, page 49 du polycopié, version écran."
   ]
  }
 ],
 "metadata": {
  "kernelspec": {
   "display_name": "Python 3 (ipykernel)",
   "language": "python",
   "name": "python3"
  },
  "language_info": {
   "codemirror_mode": {
    "name": "ipython",
    "version": 3
   },
   "file_extension": ".py",
   "mimetype": "text/x-python",
   "name": "python",
   "nbconvert_exporter": "python",
   "pygments_lexer": "ipython3",
   "version": "3.8.2"
  },
  "toc": {
   "base_numbering": 1,
   "nav_menu": {},
   "number_sections": true,
   "sideBar": true,
   "skip_h1_title": false,
   "title_cell": "Table of Contents",
   "title_sidebar": "Contents",
   "toc_cell": false,
   "toc_position": {},
   "toc_section_display": true,
   "toc_window_display": false
  }
 },
 "nbformat": 4,
 "nbformat_minor": 5
}

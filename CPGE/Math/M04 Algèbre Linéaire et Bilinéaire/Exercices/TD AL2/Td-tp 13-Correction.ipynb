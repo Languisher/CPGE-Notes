{
 "cells": [
  {
   "cell_type": "markdown",
   "id": "9b118d02",
   "metadata": {},
   "source": [
    "# Applications de la réduction"
   ]
  },
  {
   "cell_type": "markdown",
   "id": "1f2a2cfe",
   "metadata": {},
   "source": [
    "## Système linéaire"
   ]
  },
  {
   "cell_type": "markdown",
   "id": "0b12e544",
   "metadata": {},
   "source": [
    "Résoudre le système linéaire défini par\n",
    "$$X_0\\in\\mathrm{M}_{4,1}(\\mathbb{R})\\quad\\text{et}\\quad \\forall n\\in\\mathbb{N},\\; X_{n+1}=\\left[\\begin{matrix}1 & -2 & 3 & 4\\\\-2 & 1 & -9 & -15\\\\-3 & 3 & -22 & -37\\\\2 & -1 & 14 & 24\\end{matrix}\\right]\\cdot X_n$$"
   ]
  },
  {
   "cell_type": "code",
   "execution_count": 1,
   "id": "dee395bf",
   "metadata": {
    "ExecuteTime": {
     "end_time": "2023-05-08T14:31:52.027606Z",
     "start_time": "2023-05-08T14:31:51.786554Z"
    }
   },
   "outputs": [],
   "source": [
    "import sympy as sp\n",
    "sp.init_printing()"
   ]
  },
  {
   "cell_type": "code",
   "execution_count": 2,
   "id": "769e70c7",
   "metadata": {
    "ExecuteTime": {
     "end_time": "2023-05-08T14:31:52.030912Z",
     "start_time": "2023-05-08T14:31:52.028644Z"
    }
   },
   "outputs": [],
   "source": [
    "A = sp.Matrix([[1, -2, 3, 4], [-2, 1, -9, -15],\n",
    "              [-3, 3, -22, -37], [2, -1, 14, 24]])"
   ]
  },
  {
   "cell_type": "markdown",
   "id": "0a59637a",
   "metadata": {},
   "source": [
    "**Question 1**\n",
    "\n",
    "Cela revient à calculer $A^n$. Diagonalisons ou trigonalisons."
   ]
  },
  {
   "cell_type": "code",
   "execution_count": 3,
   "id": "d1221994",
   "metadata": {
    "ExecuteTime": {
     "end_time": "2023-05-08T14:31:52.336322Z",
     "start_time": "2023-05-08T14:31:52.032437Z"
    }
   },
   "outputs": [
    {
     "data": {
      "image/png": "[encoded data removed]",
      "text/latex": [
       "$\\displaystyle \\left[ \\left( 0, \\  2, \\  \\left[ \\left[\\begin{matrix}\\frac{1}{3}\\\\- \\frac{8}{15}\\\\- \\frac{9}{5}\\\\1\\end{matrix}\\right]\\right]\\right), \\  \\left( 2, \\  2, \\  \\left[ \\left[\\begin{matrix}\\frac{1}{3}\\\\- \\frac{2}{3}\\\\- \\frac{5}{3}\\\\1\\end{matrix}\\right]\\right]\\right)\\right]$"
      ],
      "text/plain": [
       "⎡⎛      ⎡⎡ 1/3 ⎤⎤⎞  ⎛      ⎡⎡1/3 ⎤⎤⎞⎤\n",
       "⎢⎜      ⎢⎢     ⎥⎥⎟  ⎜      ⎢⎢    ⎥⎥⎟⎥\n",
       "⎢⎜      ⎢⎢-8/15⎥⎥⎟  ⎜      ⎢⎢-2/3⎥⎥⎟⎥\n",
       "⎢⎜0, 2, ⎢⎢     ⎥⎥⎟, ⎜2, 2, ⎢⎢    ⎥⎥⎟⎥\n",
       "⎢⎜      ⎢⎢-9/5 ⎥⎥⎟  ⎜      ⎢⎢-5/3⎥⎥⎟⎥\n",
       "⎢⎜      ⎢⎢     ⎥⎥⎟  ⎜      ⎢⎢    ⎥⎥⎟⎥\n",
       "⎣⎝      ⎣⎣  1  ⎦⎦⎠  ⎝      ⎣⎣ 1  ⎦⎦⎠⎦"
      ]
     },
     "execution_count": 3,
     "metadata": {},
     "output_type": "execute_result"
    }
   ],
   "source": [
    "A.eigenvects()"
   ]
  },
  {
   "cell_type": "markdown",
   "id": "0539a149",
   "metadata": {},
   "source": [
    "Aïe ! La matrice n'est pas diagonalisable (2 est de multiplicité 2 et son espace propre est de dimension 1). *Trigonalisons !*"
   ]
  },
  {
   "cell_type": "code",
   "execution_count": 4,
   "id": "615a156d",
   "metadata": {
    "ExecuteTime": {
     "end_time": "2023-05-08T14:31:52.643249Z",
     "start_time": "2023-05-08T14:31:52.337727Z"
    }
   },
   "outputs": [
    {
     "data": {
      "image/png": "[encoded data removed]",
      "text/latex": [
       "$\\displaystyle \\left( \\left[\\begin{matrix}\\frac{1}{3} & \\frac{1}{3} & 0 & 0\\\\- \\frac{8}{15} & - \\frac{2}{3} & 0 & 0\\\\- \\frac{9}{5} & - \\frac{5}{3} & 1 & 0\\\\1 & 1 & 0 & 1\\end{matrix}\\right], \\  - \\frac{2}{45}\\right)$"
      ],
      "text/plain": [
       "⎛⎡ 1/3   1/3   0  0⎤       ⎞\n",
       "⎜⎢                 ⎥       ⎟\n",
       "⎜⎢-8/15  -2/3  0  0⎥       ⎟\n",
       "⎜⎢                 ⎥, -2/45⎟\n",
       "⎜⎢-9/5   -5/3  1  0⎥       ⎟\n",
       "⎜⎢                 ⎥       ⎟\n",
       "⎝⎣  1     1    0  1⎦       ⎠"
      ]
     },
     "execution_count": 4,
     "metadata": {},
     "output_type": "execute_result"
    }
   ],
   "source": [
    "P = sp.eye(4)\n",
    "P[:, 0] = _[0][2][0]\n",
    "P[:, 1] = _[1][2][0]\n",
    "P, P.det()"
   ]
  },
  {
   "cell_type": "code",
   "execution_count": 5,
   "id": "029f443d",
   "metadata": {
    "ExecuteTime": {
     "end_time": "2023-05-08T14:31:52.936778Z",
     "start_time": "2023-05-08T14:31:52.644369Z"
    }
   },
   "outputs": [
    {
     "data": {
      "image/png": "[encoded data removed]",
      "text/latex": [
       "$\\displaystyle \\left[\\begin{matrix}0 & 0 & - \\frac{45}{2} & - \\frac{105}{2}\\\\0 & 2 & \\frac{63}{2} & \\frac{129}{2}\\\\0 & 0 & -10 & -24\\\\0 & 0 & 5 & 12\\end{matrix}\\right]$"
      ],
      "text/plain": [
       "⎡0  0  -45/2  -105/2⎤\n",
       "⎢                   ⎥\n",
       "⎢0  2  63/2   129/2 ⎥\n",
       "⎢                   ⎥\n",
       "⎢0  0   -10    -24  ⎥\n",
       "⎢                   ⎥\n",
       "⎣0  0    5      12  ⎦"
      ]
     },
     "execution_count": 5,
     "metadata": {},
     "output_type": "execute_result"
    }
   ],
   "source": [
    "P.inv()@A@P"
   ]
  },
  {
   "cell_type": "code",
   "execution_count": 6,
   "id": "1bc23692",
   "metadata": {
    "ExecuteTime": {
     "end_time": "2023-05-08T14:31:53.231485Z",
     "start_time": "2023-05-08T14:31:52.938129Z"
    }
   },
   "outputs": [
    {
     "data": {
      "image/png": "[encoded data removed]",
      "text/latex": [
       "$\\displaystyle \\left[ \\left( 0, \\  1, \\  \\left[ \\left[\\begin{matrix}- \\frac{12}{5}\\\\1\\end{matrix}\\right]\\right]\\right), \\  \\left( 2, \\  1, \\  \\left[ \\left[\\begin{matrix}-2\\\\1\\end{matrix}\\right]\\right]\\right)\\right]$"
      ],
      "text/plain": [
       "⎡⎛      ⎡⎡-12/5⎤⎤⎞  ⎛      ⎡⎡-2⎤⎤⎞⎤\n",
       "⎢⎜0, 1, ⎢⎢     ⎥⎥⎟, ⎜2, 1, ⎢⎢  ⎥⎥⎟⎥\n",
       "⎣⎝      ⎣⎣  1  ⎦⎦⎠  ⎝      ⎣⎣1 ⎦⎦⎠⎦"
      ]
     },
     "execution_count": 6,
     "metadata": {},
     "output_type": "execute_result"
    }
   ],
   "source": [
    "_[2:, 2:].eigenvects()"
   ]
  },
  {
   "cell_type": "code",
   "execution_count": 7,
   "id": "8607471c",
   "metadata": {
    "ExecuteTime": {
     "end_time": "2023-05-08T14:31:53.237445Z",
     "start_time": "2023-05-08T14:31:53.232861Z"
    }
   },
   "outputs": [],
   "source": [
    "C1 = P[:, 2]\n",
    "C2 = P[:, 3]\n",
    "P[:, 2] = -sp.S(12)/5*C1+C2\n",
    "P[:, 3] = -2*C1+C2"
   ]
  },
  {
   "cell_type": "code",
   "execution_count": 8,
   "id": "bfcb13cb",
   "metadata": {
    "ExecuteTime": {
     "end_time": "2023-05-08T14:31:53.552224Z",
     "start_time": "2023-05-08T14:31:53.240243Z"
    }
   },
   "outputs": [
    {
     "data": {
      "image/png": "[encoded data removed]",
      "text/latex": [
       "$\\displaystyle \\left[\\begin{matrix}0 & 0 & \\frac{3}{2} & - \\frac{15}{2}\\\\0 & 2 & - \\frac{111}{10} & \\frac{3}{2}\\\\0 & 0 & 0 & 0\\\\0 & 0 & 0 & 2\\end{matrix}\\right]$"
      ],
      "text/plain": [
       "⎡0  0   3/2   -15/2⎤\n",
       "⎢                  ⎥\n",
       "⎢      -111        ⎥\n",
       "⎢0  2  ─────   3/2 ⎥\n",
       "⎢        10        ⎥\n",
       "⎢                  ⎥\n",
       "⎢0  0    0      0  ⎥\n",
       "⎢                  ⎥\n",
       "⎣0  0    0      2  ⎦"
      ]
     },
     "execution_count": 8,
     "metadata": {},
     "output_type": "execute_result"
    }
   ],
   "source": [
    "T = P.inv()@A@P\n",
    "T"
   ]
  },
  {
   "cell_type": "markdown",
   "id": "0db810ee",
   "metadata": {},
   "source": [
    "Le reste se fait à la main. Posons\n",
    "$$X_0=\\begin{bmatrix}a_0\\\\ b_0\\\\ c_0\\\\ d_0\\end{bmatrix}\\quad\\text{et}\\quad\\forall n\\in\\mathbb{N},\\;X_n=\\begin{bmatrix} a_n\\\\ b_n\\\\ c_n\\\\ d_n\\end{bmatrix},\\text{ puis } Y_n=P^{-1}.\\cdot X_n=\\begin{bmatrix} x_n\\\\ y_n\\\\ z_n\\\\ t_n\\end{bmatrix}$$"
   ]
  },
  {
   "cell_type": "code",
   "execution_count": 9,
   "id": "53eb2cd8",
   "metadata": {
    "ExecuteTime": {
     "end_time": "2023-05-08T14:31:53.558394Z",
     "start_time": "2023-05-08T14:31:53.553540Z"
    }
   },
   "outputs": [],
   "source": [
    "a0, b0, c0, d0 = sp.symbols(\n",
    "    'a_0 b_0 c_0 d_0', real=True)\n",
    "x, y, z, t = sp.symbols('x y z t', cls=sp.Function)\n",
    "n = sp.symbols('n', integer=True, nonnegative=True)"
   ]
  },
  {
   "cell_type": "code",
   "execution_count": 10,
   "id": "28aa69f9",
   "metadata": {
    "ExecuteTime": {
     "end_time": "2023-05-08T14:31:53.597364Z",
     "start_time": "2023-05-08T14:31:53.560022Z"
    }
   },
   "outputs": [],
   "source": [
    "# À cause de la ligne nulle, on ne peut pas déduire z_1 à partir de z_0, il faut donc commencer à 1\n",
    "X0 = sp.Matrix([a0, b0, c0, d0])\n",
    "X1 = A@X0\n",
    "Y1 = P.inv()@X1"
   ]
  },
  {
   "cell_type": "code",
   "execution_count": 11,
   "id": "407a9ab6",
   "metadata": {
    "ExecuteTime": {
     "end_time": "2023-05-08T14:31:53.600668Z",
     "start_time": "2023-05-08T14:31:53.598569Z"
    }
   },
   "outputs": [],
   "source": [
    "def Y(n):\n",
    "    return sp.Matrix([x(n), y(n), z(n), t(n)])"
   ]
  },
  {
   "cell_type": "code",
   "execution_count": 12,
   "id": "9168585b",
   "metadata": {
    "ExecuteTime": {
     "end_time": "2023-05-08T14:31:54.016493Z",
     "start_time": "2023-05-08T14:31:53.601646Z"
    }
   },
   "outputs": [
    {
     "data": {
      "image/png": "[encoded data removed]",
      "text/latex": [
       "$\\displaystyle \\left[\\begin{matrix}\\frac{15 t{\\left(n \\right)}}{2} + x{\\left(n + 1 \\right)} - \\frac{3 z{\\left(n \\right)}}{2}\\\\- \\frac{3 t{\\left(n \\right)}}{2} - 2 y{\\left(n \\right)} + y{\\left(n + 1 \\right)} + \\frac{111 z{\\left(n \\right)}}{10}\\\\z{\\left(n + 1 \\right)}\\\\- 2 t{\\left(n \\right)} + t{\\left(n + 1 \\right)}\\end{matrix}\\right]$"
      ],
      "text/plain": [
       "⎡      15⋅t(n)              3⋅z(n)      ⎤\n",
       "⎢      ─────── + x(n + 1) - ──────      ⎥\n",
       "⎢         2                   2         ⎥\n",
       "⎢                                       ⎥\n",
       "⎢  3⋅t(n)                       111⋅z(n)⎥\n",
       "⎢- ────── - 2⋅y(n) + y(n + 1) + ────────⎥\n",
       "⎢    2                             10   ⎥\n",
       "⎢                                       ⎥\n",
       "⎢               z(n + 1)                ⎥\n",
       "⎢                                       ⎥\n",
       "⎣          -2⋅t(n) + t(n + 1)           ⎦"
      ]
     },
     "execution_count": 12,
     "metadata": {},
     "output_type": "execute_result"
    }
   ],
   "source": [
    "Y(n+1)-T@Y(n)"
   ]
  },
  {
   "cell_type": "code",
   "execution_count": 13,
   "id": "1210e7a6",
   "metadata": {
    "ExecuteTime": {
     "end_time": "2023-05-08T14:31:54.348337Z",
     "start_time": "2023-05-08T14:31:54.017846Z"
    }
   },
   "outputs": [
    {
     "data": {
      "image/png": "[encoded data removed]",
      "text/latex": [
       "$\\displaystyle 2^{n} \\left(- \\frac{a_{0}}{2} + \\frac{5 b_{0}}{2} + \\frac{5 c_{0}}{2} + 6 d_{0}\\right)$"
      ],
      "text/plain": [
       " n ⎛  a₀   5⋅b₀   5⋅c₀       ⎞\n",
       "2 ⋅⎜- ── + ──── + ──── + 6⋅d₀⎟\n",
       "   ⎝  2     2      2         ⎠"
      ]
     },
     "execution_count": 13,
     "metadata": {},
     "output_type": "execute_result"
    }
   ],
   "source": [
    "res = _\n",
    "sp.rsolve(res[3, 0], t(n), {t(1): Y1[3, 0]})"
   ]
  },
  {
   "cell_type": "code",
   "execution_count": 14,
   "id": "5dffe96e",
   "metadata": {
    "ExecuteTime": {
     "end_time": "2023-05-08T14:31:54.640336Z",
     "start_time": "2023-05-08T14:31:54.349557Z"
    }
   },
   "outputs": [
    {
     "data": {
      "image/png": "[encoded data removed]",
      "text/latex": [
       "$\\displaystyle 0$"
      ],
      "text/plain": [
       "0"
      ]
     },
     "execution_count": 14,
     "metadata": {},
     "output_type": "execute_result"
    }
   ],
   "source": [
    "tn = _\n",
    "sp.rsolve(res[2, 0], z(n), {z(1): Y1[2, 0]})"
   ]
  },
  {
   "cell_type": "code",
   "execution_count": 15,
   "id": "f7780d34",
   "metadata": {
    "ExecuteTime": {
     "end_time": "2023-05-08T14:31:55.186608Z",
     "start_time": "2023-05-08T14:31:54.641706Z"
    }
   },
   "outputs": [
    {
     "ename": "AttributeError",
     "evalue": "'NoneType' object has no attribute 'subs'",
     "output_type": "error",
     "traceback": [
      "\u001b[0;31m---------------------------------------------------------------------------\u001b[0m",
      "\u001b[0;31mAttributeError\u001b[0m                            Traceback (most recent call last)",
      "Input \u001b[0;32mIn [15]\u001b[0m, in \u001b[0;36m<module>\u001b[0;34m\u001b[0m\n\u001b[1;32m      1\u001b[0m zn \u001b[38;5;241m=\u001b[39m _\n\u001b[0;32m----> 2\u001b[0m \u001b[43msp\u001b[49m\u001b[38;5;241;43m.\u001b[39;49m\u001b[43mrsolve\u001b[49m\u001b[43m(\u001b[49m\u001b[43mres\u001b[49m\u001b[43m[\u001b[49m\u001b[38;5;241;43m1\u001b[39;49m\u001b[43m,\u001b[49m\u001b[43m \u001b[49m\u001b[38;5;241;43m0\u001b[39;49m\u001b[43m]\u001b[49m\u001b[38;5;241;43m.\u001b[39;49m\u001b[43msubs\u001b[49m\u001b[43m(\u001b[49m\u001b[43m{\u001b[49m\u001b[43mz\u001b[49m\u001b[43m(\u001b[49m\u001b[43mn\u001b[49m\u001b[43m)\u001b[49m\u001b[43m:\u001b[49m\u001b[43m \u001b[49m\u001b[43mzn\u001b[49m\u001b[43m,\u001b[49m\u001b[43m \u001b[49m\u001b[43mt\u001b[49m\u001b[43m(\u001b[49m\u001b[43mn\u001b[49m\u001b[43m)\u001b[49m\u001b[43m:\u001b[49m\u001b[43m \u001b[49m\u001b[43mtn\u001b[49m\u001b[43m}\u001b[49m\u001b[43m)\u001b[49m\u001b[43m,\u001b[49m\u001b[43m \u001b[49m\u001b[43my\u001b[49m\u001b[43m(\u001b[49m\u001b[43mn\u001b[49m\u001b[43m)\u001b[49m\u001b[43m,\u001b[49m\u001b[43m \u001b[49m\u001b[43m{\u001b[49m\u001b[43my\u001b[49m\u001b[43m(\u001b[49m\u001b[38;5;241;43m1\u001b[39;49m\u001b[43m)\u001b[49m\u001b[43m:\u001b[49m\u001b[43m \u001b[49m\u001b[43mY1\u001b[49m\u001b[43m[\u001b[49m\u001b[38;5;241;43m1\u001b[39;49m\u001b[43m,\u001b[49m\u001b[43m \u001b[49m\u001b[38;5;241;43m0\u001b[39;49m\u001b[43m]\u001b[49m\u001b[43m}\u001b[49m\u001b[43m)\u001b[49m\n",
      "File \u001b[0;32m/usr/local/lib/python3.8/dist-packages/sympy/solvers/recurr.py:799\u001b[0m, in \u001b[0;36mrsolve\u001b[0;34m(f, y, init)\u001b[0m\n\u001b[1;32m    796\u001b[0m K_max \u001b[38;5;241m=\u001b[39m \u001b[38;5;28mmax\u001b[39m(H_part\u001b[38;5;241m.\u001b[39mkeys())\n\u001b[1;32m    797\u001b[0m coeffs \u001b[38;5;241m=\u001b[39m [H_part[i] \u001b[38;5;28;01mfor\u001b[39;00m i \u001b[38;5;129;01min\u001b[39;00m \u001b[38;5;28mrange\u001b[39m(K_max \u001b[38;5;241m+\u001b[39m \u001b[38;5;241m1\u001b[39m)]\n\u001b[0;32m--> 799\u001b[0m result \u001b[38;5;241m=\u001b[39m \u001b[43mrsolve_hyper\u001b[49m\u001b[43m(\u001b[49m\u001b[43mcoeffs\u001b[49m\u001b[43m,\u001b[49m\u001b[43m \u001b[49m\u001b[38;5;241;43m-\u001b[39;49m\u001b[43mi_part\u001b[49m\u001b[43m,\u001b[49m\u001b[43m \u001b[49m\u001b[43mn\u001b[49m\u001b[43m,\u001b[49m\u001b[43m \u001b[49m\u001b[43msymbols\u001b[49m\u001b[38;5;241;43m=\u001b[39;49m\u001b[38;5;28;43;01mTrue\u001b[39;49;00m\u001b[43m)\u001b[49m\n\u001b[1;32m    801\u001b[0m \u001b[38;5;28;01mif\u001b[39;00m result \u001b[38;5;129;01mis\u001b[39;00m \u001b[38;5;28;01mNone\u001b[39;00m:\n\u001b[1;32m    802\u001b[0m     \u001b[38;5;28;01mreturn\u001b[39;00m \u001b[38;5;28;01mNone\u001b[39;00m\n",
      "File \u001b[0;32m/usr/local/lib/python3.8/dist-packages/sympy/solvers/recurr.py:547\u001b[0m, in \u001b[0;36mrsolve_hyper\u001b[0;34m(coeffs, f, n, **hints)\u001b[0m\n\u001b[1;32m    544\u001b[0m s \u001b[38;5;241m=\u001b[39m hypersimp(g, n)\n\u001b[1;32m    546\u001b[0m \u001b[38;5;28;01mfor\u001b[39;00m j \u001b[38;5;129;01min\u001b[39;00m \u001b[38;5;28mrange\u001b[39m(\u001b[38;5;241m1\u001b[39m, r \u001b[38;5;241m+\u001b[39m \u001b[38;5;241m1\u001b[39m):\n\u001b[0;32m--> 547\u001b[0m     coeff \u001b[38;5;241m*\u001b[39m\u001b[38;5;241m=\u001b[39m \u001b[43ms\u001b[49m\u001b[38;5;241;43m.\u001b[39;49m\u001b[43msubs\u001b[49m(n, n \u001b[38;5;241m+\u001b[39m j \u001b[38;5;241m-\u001b[39m \u001b[38;5;241m1\u001b[39m)\n\u001b[1;32m    549\u001b[0m     p, q \u001b[38;5;241m=\u001b[39m coeff\u001b[38;5;241m.\u001b[39mas_numer_denom()\n\u001b[1;32m    551\u001b[0m     polys[j] \u001b[38;5;241m*\u001b[39m\u001b[38;5;241m=\u001b[39m p\n",
      "\u001b[0;31mAttributeError\u001b[0m: 'NoneType' object has no attribute 'subs'"
     ]
    }
   ],
   "source": [
    "zn = _\n",
    "sp.rsolve(res[1, 0].subs({z(n): zn, t(n): tn}), y(n), {y(1): Y1[1, 0]})"
   ]
  },
  {
   "cell_type": "markdown",
   "id": "60473877",
   "metadata": {},
   "source": [
    "Fasions le calcul à la main, en cherchant une solution sous la forme\n",
    "$$y_n=\\alpha\\,n\\,2^n$$"
   ]
  },
  {
   "cell_type": "code",
   "execution_count": 16,
   "id": "6fc30bc7",
   "metadata": {
    "ExecuteTime": {
     "end_time": "2023-05-08T14:32:06.086128Z",
     "start_time": "2023-05-08T14:32:06.083595Z"
    }
   },
   "outputs": [],
   "source": [
    "alpha, beta = sp.symbols('\\\\alpha \\\\beta', real=True)"
   ]
  },
  {
   "cell_type": "code",
   "execution_count": 17,
   "id": "8fddc4f2",
   "metadata": {
    "ExecuteTime": {
     "end_time": "2023-05-08T14:32:06.428438Z",
     "start_time": "2023-05-08T14:32:06.087704Z"
    }
   },
   "outputs": [
    {
     "data": {
      "image/png": "[encoded data removed]",
      "text/latex": [
       "$\\displaystyle 2^{n - 2} \\cdot \\left(8 \\alpha + 3 a_{0} - 15 b_{0} - 15 c_{0} - 36 d_{0}\\right)$"
      ],
      "text/plain": [
       " n - 2                                          \n",
       "2     ⋅(8⋅\\alpha + 3⋅a₀ - 15⋅b₀ - 15⋅c₀ - 36⋅d₀)"
      ]
     },
     "execution_count": 17,
     "metadata": {},
     "output_type": "execute_result"
    }
   ],
   "source": [
    "res[1, 0].subs({z(n): zn, t(n): tn}).subs(\n",
    "    {y(n+1): alpha*(n+1)*2**(n+1), y(n): alpha*n*2**n}).simplify()"
   ]
  },
  {
   "cell_type": "code",
   "execution_count": 18,
   "id": "7436b62d",
   "metadata": {
    "ExecuteTime": {
     "end_time": "2023-05-08T14:32:06.753441Z",
     "start_time": "2023-05-08T14:32:06.430027Z"
    }
   },
   "outputs": [
    {
     "data": {
      "image/png": "[encoded data removed]",
      "text/latex": [
       "$\\displaystyle \\left[ - \\frac{3 a_{0}}{8} + \\frac{15 b_{0}}{8} + \\frac{15 c_{0}}{8} + \\frac{9 d_{0}}{2}\\right]$"
      ],
      "text/plain": [
       "⎡  3⋅a₀   15⋅b₀   15⋅c₀   9⋅d₀⎤\n",
       "⎢- ──── + ───── + ───── + ────⎥\n",
       "⎣   8       8       8      2  ⎦"
      ]
     },
     "execution_count": 18,
     "metadata": {},
     "output_type": "execute_result"
    }
   ],
   "source": [
    "sp.solve(_, alpha)"
   ]
  },
  {
   "cell_type": "code",
   "execution_count": 19,
   "id": "7c4d9816",
   "metadata": {
    "ExecuteTime": {
     "end_time": "2023-05-08T14:32:07.047220Z",
     "start_time": "2023-05-08T14:32:06.754810Z"
    }
   },
   "outputs": [
    {
     "data": {
      "image/png": "[encoded data removed]",
      "text/latex": [
       "$\\displaystyle 2 \\beta - \\frac{15 a_{0}}{4} - \\frac{51 b_{0}}{4} - \\frac{111 c_{0}}{4} - \\frac{111 d_{0}}{2}$"
      ],
      "text/plain": [
       "          15⋅a₀   51⋅b₀   111⋅c₀   111⋅d₀\n",
       "2⋅\\beta - ───── - ───── - ────── - ──────\n",
       "            4       4       4        2   "
      ]
     },
     "execution_count": 19,
     "metadata": {},
     "output_type": "execute_result"
    }
   ],
   "source": [
    "# Pour tenir compte de la condition initiale, ne pas oublier la solution de l'équation homogène\n",
    "yn = (_[0]*n+beta)*2**n\n",
    "yn.subs({n: 1})-Y1[1, 0]"
   ]
  },
  {
   "cell_type": "code",
   "execution_count": 20,
   "id": "289a7567",
   "metadata": {
    "ExecuteTime": {
     "end_time": "2023-05-08T14:32:07.363657Z",
     "start_time": "2023-05-08T14:32:07.048935Z"
    }
   },
   "outputs": [
    {
     "data": {
      "image/png": "[encoded data removed]",
      "text/latex": [
       "$\\displaystyle \\left[ \\frac{15 a_{0}}{8} + \\frac{51 b_{0}}{8} + \\frac{111 c_{0}}{8} + \\frac{111 d_{0}}{4}\\right]$"
      ],
      "text/plain": [
       "⎡15⋅a₀   51⋅b₀   111⋅c₀   111⋅d₀⎤\n",
       "⎢───── + ───── + ────── + ──────⎥\n",
       "⎣  8       8       8        4   ⎦"
      ]
     },
     "execution_count": 20,
     "metadata": {},
     "output_type": "execute_result"
    }
   ],
   "source": [
    "sp.solve(_, beta)"
   ]
  },
  {
   "cell_type": "code",
   "execution_count": 21,
   "id": "8eae84f3",
   "metadata": {
    "ExecuteTime": {
     "end_time": "2023-05-08T14:32:07.431662Z",
     "start_time": "2023-05-08T14:32:07.364797Z"
    }
   },
   "outputs": [],
   "source": [
    "yn = yn.subs({beta: _[0]}).simplify()"
   ]
  },
  {
   "cell_type": "code",
   "execution_count": 22,
   "id": "a56c9312",
   "metadata": {
    "ExecuteTime": {
     "end_time": "2023-05-08T14:32:07.548740Z",
     "start_time": "2023-05-08T14:32:07.432804Z"
    }
   },
   "outputs": [
    {
     "ename": "AttributeError",
     "evalue": "'NoneType' object has no attribute 'subs'",
     "output_type": "error",
     "traceback": [
      "\u001b[0;31m---------------------------------------------------------------------------\u001b[0m",
      "\u001b[0;31mAttributeError\u001b[0m                            Traceback (most recent call last)",
      "Input \u001b[0;32mIn [22]\u001b[0m, in \u001b[0;36m<module>\u001b[0;34m\u001b[0m\n\u001b[0;32m----> 1\u001b[0m \u001b[43msp\u001b[49m\u001b[38;5;241;43m.\u001b[39;49m\u001b[43mrsolve\u001b[49m\u001b[43m(\u001b[49m\u001b[43mres\u001b[49m\u001b[43m[\u001b[49m\u001b[38;5;241;43m0\u001b[39;49m\u001b[43m,\u001b[49m\u001b[43m \u001b[49m\u001b[38;5;241;43m0\u001b[39;49m\u001b[43m]\u001b[49m\u001b[38;5;241;43m.\u001b[39;49m\u001b[43msubs\u001b[49m\u001b[43m(\u001b[49m\u001b[43m{\u001b[49m\u001b[43mz\u001b[49m\u001b[43m(\u001b[49m\u001b[43mn\u001b[49m\u001b[43m)\u001b[49m\u001b[43m:\u001b[49m\u001b[43m \u001b[49m\u001b[43mzn\u001b[49m\u001b[43m,\u001b[49m\u001b[43m \u001b[49m\u001b[43mt\u001b[49m\u001b[43m(\u001b[49m\u001b[43mn\u001b[49m\u001b[43m)\u001b[49m\u001b[43m:\u001b[49m\u001b[43m \u001b[49m\u001b[43mtn\u001b[49m\u001b[43m}\u001b[49m\u001b[43m)\u001b[49m\u001b[43m,\u001b[49m\u001b[43m \u001b[49m\u001b[43mx\u001b[49m\u001b[43m(\u001b[49m\u001b[43mn\u001b[49m\u001b[43m)\u001b[49m\u001b[43m,\u001b[49m\u001b[43m \u001b[49m\u001b[43m{\u001b[49m\u001b[43mx\u001b[49m\u001b[43m(\u001b[49m\u001b[38;5;241;43m1\u001b[39;49m\u001b[43m)\u001b[49m\u001b[43m:\u001b[49m\u001b[43m \u001b[49m\u001b[43mY1\u001b[49m\u001b[43m[\u001b[49m\u001b[38;5;241;43m0\u001b[39;49m\u001b[43m,\u001b[49m\u001b[43m \u001b[49m\u001b[38;5;241;43m0\u001b[39;49m\u001b[43m]\u001b[49m\u001b[43m}\u001b[49m\u001b[43m)\u001b[49m\n",
      "File \u001b[0;32m/usr/local/lib/python3.8/dist-packages/sympy/solvers/recurr.py:799\u001b[0m, in \u001b[0;36mrsolve\u001b[0;34m(f, y, init)\u001b[0m\n\u001b[1;32m    796\u001b[0m K_max \u001b[38;5;241m=\u001b[39m \u001b[38;5;28mmax\u001b[39m(H_part\u001b[38;5;241m.\u001b[39mkeys())\n\u001b[1;32m    797\u001b[0m coeffs \u001b[38;5;241m=\u001b[39m [H_part[i] \u001b[38;5;28;01mfor\u001b[39;00m i \u001b[38;5;129;01min\u001b[39;00m \u001b[38;5;28mrange\u001b[39m(K_max \u001b[38;5;241m+\u001b[39m \u001b[38;5;241m1\u001b[39m)]\n\u001b[0;32m--> 799\u001b[0m result \u001b[38;5;241m=\u001b[39m \u001b[43mrsolve_hyper\u001b[49m\u001b[43m(\u001b[49m\u001b[43mcoeffs\u001b[49m\u001b[43m,\u001b[49m\u001b[43m \u001b[49m\u001b[38;5;241;43m-\u001b[39;49m\u001b[43mi_part\u001b[49m\u001b[43m,\u001b[49m\u001b[43m \u001b[49m\u001b[43mn\u001b[49m\u001b[43m,\u001b[49m\u001b[43m \u001b[49m\u001b[43msymbols\u001b[49m\u001b[38;5;241;43m=\u001b[39;49m\u001b[38;5;28;43;01mTrue\u001b[39;49;00m\u001b[43m)\u001b[49m\n\u001b[1;32m    801\u001b[0m \u001b[38;5;28;01mif\u001b[39;00m result \u001b[38;5;129;01mis\u001b[39;00m \u001b[38;5;28;01mNone\u001b[39;00m:\n\u001b[1;32m    802\u001b[0m     \u001b[38;5;28;01mreturn\u001b[39;00m \u001b[38;5;28;01mNone\u001b[39;00m\n",
      "File \u001b[0;32m/usr/local/lib/python3.8/dist-packages/sympy/solvers/recurr.py:547\u001b[0m, in \u001b[0;36mrsolve_hyper\u001b[0;34m(coeffs, f, n, **hints)\u001b[0m\n\u001b[1;32m    544\u001b[0m s \u001b[38;5;241m=\u001b[39m hypersimp(g, n)\n\u001b[1;32m    546\u001b[0m \u001b[38;5;28;01mfor\u001b[39;00m j \u001b[38;5;129;01min\u001b[39;00m \u001b[38;5;28mrange\u001b[39m(\u001b[38;5;241m1\u001b[39m, r \u001b[38;5;241m+\u001b[39m \u001b[38;5;241m1\u001b[39m):\n\u001b[0;32m--> 547\u001b[0m     coeff \u001b[38;5;241m*\u001b[39m\u001b[38;5;241m=\u001b[39m \u001b[43ms\u001b[49m\u001b[38;5;241;43m.\u001b[39;49m\u001b[43msubs\u001b[49m(n, n \u001b[38;5;241m+\u001b[39m j \u001b[38;5;241m-\u001b[39m \u001b[38;5;241m1\u001b[39m)\n\u001b[1;32m    549\u001b[0m     p, q \u001b[38;5;241m=\u001b[39m coeff\u001b[38;5;241m.\u001b[39mas_numer_denom()\n\u001b[1;32m    551\u001b[0m     polys[j] \u001b[38;5;241m*\u001b[39m\u001b[38;5;241m=\u001b[39m p\n",
      "\u001b[0;31mAttributeError\u001b[0m: 'NoneType' object has no attribute 'subs'"
     ]
    }
   ],
   "source": [
    "sp.rsolve(res[0, 0].subs({z(n): zn, t(n): tn}), x(n), {x(1): Y1[0, 0]})"
   ]
  },
  {
   "cell_type": "code",
   "execution_count": 23,
   "id": "6a85dc59",
   "metadata": {
    "ExecuteTime": {
     "end_time": "2023-05-08T14:32:17.810137Z",
     "start_time": "2023-05-08T14:32:17.512384Z"
    }
   },
   "outputs": [
    {
     "data": {
      "image/png": "[encoded data removed]",
      "text/latex": [
       "$\\displaystyle \\frac{15 \\cdot 2^{n - 1} \\left(- \\frac{a_{0}}{2} + \\frac{5 b_{0}}{2} + \\frac{5 c_{0}}{2} + 6 d_{0}\\right)}{2} + x{\\left(n \\right)}$"
      ],
      "text/plain": [
       "    n - 1 ⎛  a₀   5⋅b₀   5⋅c₀       ⎞       \n",
       "15⋅2     ⋅⎜- ── + ──── + ──── + 6⋅d₀⎟       \n",
       "          ⎝  2     2      2         ⎠       \n",
       "───────────────────────────────────── + x(n)\n",
       "                  2                         "
      ]
     },
     "execution_count": 23,
     "metadata": {},
     "output_type": "execute_result"
    }
   ],
   "source": [
    "res[0, 0].subs({t(n): tn, z(n): zn}).subs({n: n-1})"
   ]
  },
  {
   "cell_type": "code",
   "execution_count": 24,
   "id": "2e595af1",
   "metadata": {
    "ExecuteTime": {
     "end_time": "2023-05-08T14:32:18.174145Z",
     "start_time": "2023-05-08T14:32:17.811688Z"
    }
   },
   "outputs": [
    {
     "data": {
      "image/png": "[encoded data removed]",
      "text/latex": [
       "$\\displaystyle \\left[ 15 \\cdot 2^{n - 3} \\left(a_{0} - 5 b_{0} - 5 c_{0} - 12 d_{0}\\right)\\right]$"
      ],
      "text/plain": [
       "⎡    n - 3                           ⎤\n",
       "⎣15⋅2     ⋅(a₀ - 5⋅b₀ - 5⋅c₀ - 12⋅d₀)⎦"
      ]
     },
     "execution_count": 24,
     "metadata": {},
     "output_type": "execute_result"
    }
   ],
   "source": [
    "sp.solve(_, x(n))"
   ]
  },
  {
   "cell_type": "code",
   "execution_count": 25,
   "id": "c43d5b36",
   "metadata": {
    "ExecuteTime": {
     "end_time": "2023-05-08T14:32:18.177967Z",
     "start_time": "2023-05-08T14:32:18.175593Z"
    }
   },
   "outputs": [],
   "source": [
    "xn = _[0]"
   ]
  },
  {
   "cell_type": "code",
   "execution_count": 26,
   "id": "329b8356",
   "metadata": {
    "ExecuteTime": {
     "end_time": "2023-05-08T14:32:18.282233Z",
     "start_time": "2023-05-08T14:32:18.179373Z"
    }
   },
   "outputs": [],
   "source": [
    "Xn = P@sp.Matrix([xn, yn, zn, tn]).applyfunc(sp.expand).applyfunc(sp.simplify)"
   ]
  },
  {
   "cell_type": "code",
   "execution_count": 27,
   "id": "d8150a9e",
   "metadata": {
    "ExecuteTime": {
     "end_time": "2023-05-08T14:32:18.596006Z",
     "start_time": "2023-05-08T14:32:18.283430Z"
    }
   },
   "outputs": [
    {
     "data": {
      "image/png": "[encoded data removed]",
      "text/latex": [
       "$\\displaystyle \\left( \\left[\\begin{matrix}4 a_{0} + b_{0} + 11 c_{0} + 19 d_{0}\\\\- 7 a_{0} - 7 b_{0} - 27 c_{0} - 50 d_{0}\\\\- 17 a_{0} - 20 b_{0} - 70 c_{0} - 131 d_{0}\\\\10 a_{0} + 13 b_{0} + 43 c_{0} + 81 d_{0}\\end{matrix}\\right], \\  \\left[\\begin{matrix}4 a_{0} + b_{0} + 11 c_{0} + 19 d_{0}\\\\- 7 a_{0} - 7 b_{0} - 27 c_{0} - 50 d_{0}\\\\- 17 a_{0} - 20 b_{0} - 70 c_{0} - 131 d_{0}\\\\10 a_{0} + 13 b_{0} + 43 c_{0} + 81 d_{0}\\end{matrix}\\right]\\right)$"
      ],
      "text/plain": [
       "⎛⎡   4⋅a₀ + b₀ + 11⋅c₀ + 19⋅d₀   ⎤  ⎡   4⋅a₀ + b₀ + 11⋅c₀ + 19⋅d₀   ⎤⎞\n",
       "⎜⎢                               ⎥  ⎢                               ⎥⎟\n",
       "⎜⎢ -7⋅a₀ - 7⋅b₀ - 27⋅c₀ - 50⋅d₀  ⎥  ⎢ -7⋅a₀ - 7⋅b₀ - 27⋅c₀ - 50⋅d₀  ⎥⎟\n",
       "⎜⎢                               ⎥, ⎢                               ⎥⎟\n",
       "⎜⎢-17⋅a₀ - 20⋅b₀ - 70⋅c₀ - 131⋅d₀⎥  ⎢-17⋅a₀ - 20⋅b₀ - 70⋅c₀ - 131⋅d₀⎥⎟\n",
       "⎜⎢                               ⎥  ⎢                               ⎥⎟\n",
       "⎝⎣ 10⋅a₀ + 13⋅b₀ + 43⋅c₀ + 81⋅d₀ ⎦  ⎣ 10⋅a₀ + 13⋅b₀ + 43⋅c₀ + 81⋅d₀ ⎦⎠"
      ]
     },
     "execution_count": 27,
     "metadata": {},
     "output_type": "execute_result"
    }
   ],
   "source": [
    "Xn.subs({n: 2}), A@X1"
   ]
  },
  {
   "cell_type": "markdown",
   "id": "1cd68e8f",
   "metadata": {},
   "source": [
    "On trouve finalement"
   ]
  },
  {
   "cell_type": "code",
   "execution_count": 28,
   "id": "500fd66d",
   "metadata": {
    "ExecuteTime": {
     "end_time": "2023-05-08T14:32:18.903966Z",
     "start_time": "2023-05-08T14:32:18.597281Z"
    }
   },
   "outputs": [
    {
     "data": {
      "image/png": "[encoded data removed]",
      "text/latex": [
       "$\\displaystyle \\left( \\left[\\begin{matrix}a_{0}\\\\b_{0}\\\\c_{0}\\\\d_{0}\\end{matrix}\\right], \\  \\left[\\begin{matrix}a_{0} - 2 b_{0} + 3 c_{0} + 4 d_{0}\\\\- 2 a_{0} + b_{0} - 9 c_{0} - 15 d_{0}\\\\- 3 a_{0} + 3 b_{0} - 22 c_{0} - 37 d_{0}\\\\2 a_{0} - b_{0} + 14 c_{0} + 24 d_{0}\\end{matrix}\\right]\\right)$"
      ],
      "text/plain": [
       "⎛⎡a₀⎤  ⎡  a₀ - 2⋅b₀ + 3⋅c₀ + 4⋅d₀   ⎤⎞\n",
       "⎜⎢  ⎥  ⎢                            ⎥⎟\n",
       "⎜⎢b₀⎥  ⎢ -2⋅a₀ + b₀ - 9⋅c₀ - 15⋅d₀  ⎥⎟\n",
       "⎜⎢  ⎥, ⎢                            ⎥⎟\n",
       "⎜⎢c₀⎥  ⎢-3⋅a₀ + 3⋅b₀ - 22⋅c₀ - 37⋅d₀⎥⎟\n",
       "⎜⎢  ⎥  ⎢                            ⎥⎟\n",
       "⎝⎣d₀⎦  ⎣ 2⋅a₀ - b₀ + 14⋅c₀ + 24⋅d₀  ⎦⎠"
      ]
     },
     "execution_count": 28,
     "metadata": {},
     "output_type": "execute_result"
    }
   ],
   "source": [
    "X0, X1"
   ]
  },
  {
   "cell_type": "code",
   "execution_count": 29,
   "id": "ff2adbc7",
   "metadata": {
    "ExecuteTime": {
     "end_time": "2023-05-08T14:32:19.253642Z",
     "start_time": "2023-05-08T14:32:18.905698Z"
    }
   },
   "outputs": [
    {
     "data": {
      "image/png": "[encoded data removed]",
      "text/latex": [
       "$\\displaystyle \\left[\\begin{matrix}5 \\cdot 2^{n - 3} \\left(a_{0} - 5 b_{0} - 5 c_{0} - 12 d_{0}\\right) + 2^{n - 3} \\left(- a_{0} n + 5 a_{0} + 5 b_{0} n + 17 b_{0} + 5 c_{0} n + 37 c_{0} + 12 d_{0} n + 74 d_{0}\\right)\\\\- 8 \\cdot 2^{n - 3} \\left(a_{0} - 5 b_{0} - 5 c_{0} - 12 d_{0}\\right) - 2 \\cdot 2^{n - 3} \\left(- a_{0} n + 5 a_{0} + 5 b_{0} n + 17 b_{0} + 5 c_{0} n + 37 c_{0} + 12 d_{0} n + 74 d_{0}\\right)\\\\- 27 \\cdot 2^{n - 3} \\left(a_{0} - 5 b_{0} - 5 c_{0} - 12 d_{0}\\right) - 5 \\cdot 2^{n - 3} \\left(- a_{0} n + 5 a_{0} + 5 b_{0} n + 17 b_{0} + 5 c_{0} n + 37 c_{0} + 12 d_{0} n + 74 d_{0}\\right) - 2 \\cdot 2^{n - 1} \\left(- a_{0} + 5 b_{0} + 5 c_{0} + 12 d_{0}\\right)\\\\15 \\cdot 2^{n - 3} \\left(a_{0} - 5 b_{0} - 5 c_{0} - 12 d_{0}\\right) + 3 \\cdot 2^{n - 3} \\left(- a_{0} n + 5 a_{0} + 5 b_{0} n + 17 b_{0} + 5 c_{0} n + 37 c_{0} + 12 d_{0} n + 74 d_{0}\\right) + 2^{n - 1} \\left(- a_{0} + 5 b_{0} + 5 c_{0} + 12 d_{0}\\right)\\end{matrix}\\right]$"
      ],
      "text/plain": [
       "⎡                         n - 3                               n - 3           \n",
       "⎢                      5⋅2     ⋅(a₀ - 5⋅b₀ - 5⋅c₀ - 12⋅d₀) + 2     ⋅(-a₀⋅n + 5\n",
       "⎢                                                                             \n",
       "⎢                         n - 3                                 n - 3         \n",
       "⎢                    - 8⋅2     ⋅(a₀ - 5⋅b₀ - 5⋅c₀ - 12⋅d₀) - 2⋅2     ⋅(-a₀⋅n +\n",
       "⎢                                                                             \n",
       "⎢      n - 3                                 n - 3                            \n",
       "⎢- 27⋅2     ⋅(a₀ - 5⋅b₀ - 5⋅c₀ - 12⋅d₀) - 5⋅2     ⋅(-a₀⋅n + 5⋅a₀ + 5⋅b₀⋅n + 17\n",
       "⎢                                                                             \n",
       "⎢      n - 3                                 n - 3                            \n",
       "⎣  15⋅2     ⋅(a₀ - 5⋅b₀ - 5⋅c₀ - 12⋅d₀) + 3⋅2     ⋅(-a₀⋅n + 5⋅a₀ + 5⋅b₀⋅n + 17\n",
       "\n",
       "                                                                              \n",
       "⋅a₀ + 5⋅b₀⋅n + 17⋅b₀ + 5⋅c₀⋅n + 37⋅c₀ + 12⋅d₀⋅n + 74⋅d₀)                      \n",
       "                                                                              \n",
       "                                                                              \n",
       " 5⋅a₀ + 5⋅b₀⋅n + 17⋅b₀ + 5⋅c₀⋅n + 37⋅c₀ + 12⋅d₀⋅n + 74⋅d₀)                    \n",
       "                                                                              \n",
       "                                             n - 1                            \n",
       "⋅b₀ + 5⋅c₀⋅n + 37⋅c₀ + 12⋅d₀⋅n + 74⋅d₀) - 2⋅2     ⋅(-a₀ + 5⋅b₀ + 5⋅c₀ + 12⋅d₀)\n",
       "                                                                              \n",
       "                                           n - 1                              \n",
       "⋅b₀ + 5⋅c₀⋅n + 37⋅c₀ + 12⋅d₀⋅n + 74⋅d₀) + 2     ⋅(-a₀ + 5⋅b₀ + 5⋅c₀ + 12⋅d₀)  \n",
       "\n",
       "⎤\n",
       "⎥\n",
       "⎥\n",
       "⎥\n",
       "⎥\n",
       "⎥\n",
       "⎥\n",
       "⎥\n",
       "⎥\n",
       "⎥\n",
       "⎦"
      ]
     },
     "execution_count": 29,
     "metadata": {},
     "output_type": "execute_result"
    }
   ],
   "source": [
    "# Pour n>=2\n",
    "Xn"
   ]
  },
  {
   "cell_type": "code",
   "execution_count": 30,
   "id": "b0a409fa",
   "metadata": {
    "ExecuteTime": {
     "end_time": "2023-05-08T14:32:19.283093Z",
     "start_time": "2023-05-08T14:32:19.254778Z"
    }
   },
   "outputs": [],
   "source": [
    "An = sp.Matrix([_.subs({a0: 1, b0: 0, c0: 0, d0: 0}), _.subs({a0: 0, b0: 1, c0: 0, d0: 0}), _.subs(\n",
    "    {a0: 0, b0: 0, c0: 1, d0: 0}), _.subs({a0: 0, b0: 0, c0: 0, d0: 1})]).reshape(4, 4).transpose()"
   ]
  },
  {
   "cell_type": "code",
   "execution_count": 31,
   "id": "29764afa",
   "metadata": {
    "ExecuteTime": {
     "end_time": "2023-05-08T14:32:19.594808Z",
     "start_time": "2023-05-08T14:32:19.284319Z"
    }
   },
   "outputs": [
    {
     "data": {
      "image/png": "[encoded data removed]",
      "text/latex": [
       "$\\displaystyle \\left( \\left[\\begin{matrix}20 & 68 & 148 & 296\\\\-32 & -176 & -336 & -688\\\\-76 & -460 & -860 & -1768\\\\44 & 284 & 524 & 1080\\end{matrix}\\right], \\  \\left[\\begin{matrix}20 & 68 & 148 & 296\\\\-32 & -176 & -336 & -688\\\\-76 & -460 & -860 & -1768\\\\44 & 284 & 524 & 1080\\end{matrix}\\right]\\right)$"
      ],
      "text/plain": [
       "⎛⎡20    68   148    296 ⎤  ⎡20    68   148    296 ⎤⎞\n",
       "⎜⎢                      ⎥  ⎢                      ⎥⎟\n",
       "⎜⎢-32  -176  -336  -688 ⎥  ⎢-32  -176  -336  -688 ⎥⎟\n",
       "⎜⎢                      ⎥, ⎢                      ⎥⎟\n",
       "⎜⎢-76  -460  -860  -1768⎥  ⎢-76  -460  -860  -1768⎥⎟\n",
       "⎜⎢                      ⎥  ⎢                      ⎥⎟\n",
       "⎝⎣44   284   524   1080 ⎦  ⎣44   284   524   1080 ⎦⎠"
      ]
     },
     "execution_count": 31,
     "metadata": {},
     "output_type": "execute_result"
    }
   ],
   "source": [
    "An.subs({n: 5}), A@A@A@A@A"
   ]
  },
  {
   "cell_type": "markdown",
   "id": "a4f04a5e",
   "metadata": {},
   "source": [
    "## Système différentiel"
   ]
  },
  {
   "cell_type": "markdown",
   "id": "979856db",
   "metadata": {},
   "source": [
    "1. Résoudre l'équation différentielle\n",
    "$$y^{(4)}+2\\,y^{(3)}-3\\,y''-4\\,y'+4\\,y=2\\,\\sinh(2\\,x)-x\\,\\cosh(x)$$\n",
    "1. Résoudre par une méthode de variation des 4 constantes\n",
    "$$y^{(4)}+2\\,y^{(3)}-3\\,y''-4\\,y'+4\\,y=f(x)$$\n",
    "où $f$ est une fonction continue donnée."
   ]
  },
  {
   "cell_type": "markdown",
   "id": "070e9bb6",
   "metadata": {},
   "source": [
    "**Question 1**\n",
    "\n",
    "On commence par résoudre l'équation homogène.\n",
    "$$y^{(4)}+2\\,y^{(3)}-3\\,y''-4\\,y'+4\\,y=0$$\n",
    "Son équation caractéristique est \n",
    "$$\\lambda^4+2\\,\\lambda^3-3\\,\\lambda^2-4\\,\\lambda+4=0$$"
   ]
  },
  {
   "cell_type": "code",
   "execution_count": 32,
   "id": "1d803410",
   "metadata": {
    "ExecuteTime": {
     "end_time": "2023-05-08T14:32:19.897810Z",
     "start_time": "2023-05-08T14:32:19.597388Z"
    }
   },
   "outputs": [
    {
     "data": {
      "image/png": "[encoded data removed]",
      "text/latex": [
       "$\\displaystyle \\left(\\lambda - 1\\right)^{2} \\left(\\lambda + 2\\right)^{2}$"
      ],
      "text/plain": [
       "             2              2\n",
       "(\\lambda - 1) ⋅(\\lambda + 2) "
      ]
     },
     "execution_count": 32,
     "metadata": {},
     "output_type": "execute_result"
    }
   ],
   "source": [
    "l = sp.symbols('\\\\lambda')\n",
    "eq = l**4+2*l**3-3*l**2-4*l+4\n",
    "eq.factor()"
   ]
  },
  {
   "cell_type": "markdown",
   "id": "67de49c3",
   "metadata": {},
   "source": [
    "On obtient dont\n",
    "$$\\mathrm{Sol}(\\mathcal{H})=\\mathrm{Vect}\\left\\{\\left(x\\longmapsto e^x,\\; x\\longmapsto x\\,e^x,\\; x\\longmapsto e^{-2\\,x},\\;x\\longmapsto x\\,e^{-2\\,x}\\right)\\right\\}$$"
   ]
  },
  {
   "cell_type": "code",
   "execution_count": 33,
   "id": "47343e05",
   "metadata": {
    "ExecuteTime": {
     "end_time": "2023-05-08T14:32:20.197743Z",
     "start_time": "2023-05-08T14:32:19.899059Z"
    }
   },
   "outputs": [
    {
     "data": {
      "image/png": "[encoded data removed]",
      "text/latex": [
       "$\\displaystyle - \\frac{x e^{x}}{2} - \\frac{x e^{- x}}{2} + e^{2 x} - e^{- 2 x}$"
      ],
      "text/plain": [
       "     x      -x               \n",
       "  x⋅ℯ    x⋅ℯ      2⋅x    -2⋅x\n",
       "- ──── - ───── + ℯ    - ℯ    \n",
       "   2       2                 "
      ]
     },
     "execution_count": 33,
     "metadata": {},
     "output_type": "execute_result"
    }
   ],
   "source": [
    "x = sp.symbols('x', real=True)\n",
    "(2*sp.sinh(2*x)-x*sp.cosh(x)).rewrite(sp.exp).expand()"
   ]
  },
  {
   "cell_type": "markdown",
   "id": "962d18df",
   "metadata": {},
   "source": [
    "Par principe de superposition des solutions, on cherche une solution particulière pour les 4 termes.\n",
    "1. $-x\\,e^x/2$ : on cherche sous la forme $\\left(a\\,x^3+b\\,x^2\\right)\\,e^x$\n",
    "1. $-x\\,e^{-x}/2$ : on cherche une solution sous la forme $\\left(a\\,x+b\\right)\\,e^{-x}$\n",
    "1. $e^{2\\,x}$ : on cherche une solution sous la forme $a\\, e^{2\\,x}$\n",
    "1. $-e^{-2\\,x}$ : on cherche une solution sous la forme $\\left(a\\,x^2+b\\,x\\right)\\,e^{-2\\,x}$"
   ]
  },
  {
   "cell_type": "code",
   "execution_count": 34,
   "id": "5e7ec1ec",
   "metadata": {
    "ExecuteTime": {
     "end_time": "2023-05-08T14:32:20.204257Z",
     "start_time": "2023-05-08T14:32:20.199085Z"
    }
   },
   "outputs": [],
   "source": [
    "# Premier terme\n",
    "y = sp.Function('y')\n",
    "ed = y(x).diff(x, 4)+2*y(x).diff(x, 3)-3*y(x).diff(x, 2)-4*y(x).diff(x)+4*y(x)"
   ]
  },
  {
   "cell_type": "code",
   "execution_count": 35,
   "id": "6478e12c",
   "metadata": {
    "ExecuteTime": {
     "end_time": "2023-05-08T14:32:20.590352Z",
     "start_time": "2023-05-08T14:32:20.205464Z"
    }
   },
   "outputs": [
    {
     "data": {
      "image/png": "[encoded data removed]",
      "text/latex": [
       "$\\displaystyle \\frac{\\left(108 a x + 72 a + 36 b + x\\right) e^{x}}{2}$"
      ],
      "text/plain": [
       "                             x\n",
       "(108⋅a⋅x + 72⋅a + 36⋅b + x)⋅ℯ \n",
       "──────────────────────────────\n",
       "              2               "
      ]
     },
     "execution_count": 35,
     "metadata": {},
     "output_type": "execute_result"
    }
   ],
   "source": [
    "a, b, c, d = sp.symbols('a b c d', real=True)\n",
    "(ed+x*sp.exp(x)/2).subs({y(x): (a*x**3+b*x**2)\n",
    "                         * sp.exp(x)}).doit().expand().simplify()"
   ]
  },
  {
   "cell_type": "code",
   "execution_count": 36,
   "id": "41bdd671",
   "metadata": {
    "ExecuteTime": {
     "end_time": "2023-05-08T14:32:20.909827Z",
     "start_time": "2023-05-08T14:32:20.591536Z"
    }
   },
   "outputs": [
    {
     "data": {
      "image/png": "[encoded data removed]",
      "text/latex": [
       "$\\displaystyle \\left\\{ a : - \\frac{1}{108}, \\  b : \\frac{1}{54}\\right\\}$"
      ],
      "text/plain": [
       "{a: -1/108, b: 1/54}"
      ]
     },
     "execution_count": 36,
     "metadata": {},
     "output_type": "execute_result"
    }
   ],
   "source": [
    "res = (_/sp.exp(x)).simplify()\n",
    "sp.solve([res.coeff(x, 1), res.coeff(x, 0)], [a, b])"
   ]
  },
  {
   "cell_type": "code",
   "execution_count": 37,
   "id": "2ab3183d",
   "metadata": {
    "ExecuteTime": {
     "end_time": "2023-05-08T14:32:20.916753Z",
     "start_time": "2023-05-08T14:32:20.911001Z"
    }
   },
   "outputs": [],
   "source": [
    "y1 = ((a*x**3+b*x**2)*sp.exp(x)).subs(_)"
   ]
  },
  {
   "cell_type": "code",
   "execution_count": 38,
   "id": "006f3dc3",
   "metadata": {
    "ExecuteTime": {
     "end_time": "2023-05-08T14:32:21.292857Z",
     "start_time": "2023-05-08T14:32:20.917808Z"
    }
   },
   "outputs": [
    {
     "data": {
      "image/png": "[encoded data removed]",
      "text/latex": [
       "$\\displaystyle \\frac{\\left(8 a x + 8 a + 8 b + x\\right) e^{- x}}{2}$"
      ],
      "text/plain": [
       "                         -x\n",
       "(8⋅a⋅x + 8⋅a + 8⋅b + x)⋅ℯ  \n",
       "───────────────────────────\n",
       "             2             "
      ]
     },
     "execution_count": 38,
     "metadata": {},
     "output_type": "execute_result"
    }
   ],
   "source": [
    "# Deuxième terme\n",
    "(ed+x*sp.exp(-x)/2).subs({y(x): (a*x+b)*sp.exp(-x)}).doit().expand().simplify()"
   ]
  },
  {
   "cell_type": "code",
   "execution_count": 39,
   "id": "c3095b52",
   "metadata": {
    "ExecuteTime": {
     "end_time": "2023-05-08T14:32:21.621619Z",
     "start_time": "2023-05-08T14:32:21.294711Z"
    }
   },
   "outputs": [
    {
     "data": {
      "image/png": "[encoded data removed]",
      "text/latex": [
       "$\\displaystyle \\left\\{ a : - \\frac{1}{8}, \\  b : \\frac{1}{8}\\right\\}$"
      ],
      "text/plain": [
       "{a: -1/8, b: 1/8}"
      ]
     },
     "execution_count": 39,
     "metadata": {},
     "output_type": "execute_result"
    }
   ],
   "source": [
    "res = (_/sp.exp(-x)).simplify()\n",
    "sp.solve([res.coeff(x, 1), res.coeff(x, 0)], [a, b])"
   ]
  },
  {
   "cell_type": "code",
   "execution_count": 40,
   "id": "0605e84a",
   "metadata": {
    "ExecuteTime": {
     "end_time": "2023-05-08T14:32:21.629103Z",
     "start_time": "2023-05-08T14:32:21.623191Z"
    }
   },
   "outputs": [],
   "source": [
    "y2 = ((a*x+b)*sp.exp(-x)).subs(_)"
   ]
  },
  {
   "cell_type": "code",
   "execution_count": 41,
   "id": "f8db4511",
   "metadata": {
    "ExecuteTime": {
     "end_time": "2023-05-08T14:32:21.974423Z",
     "start_time": "2023-05-08T14:32:21.630840Z"
    }
   },
   "outputs": [
    {
     "data": {
      "image/png": "[encoded data removed]",
      "text/latex": [
       "$\\displaystyle \\left(16 a - 1\\right) e^{2 x}$"
      ],
      "text/plain": [
       "            2⋅x\n",
       "(16⋅a - 1)⋅ℯ   "
      ]
     },
     "execution_count": 41,
     "metadata": {},
     "output_type": "execute_result"
    }
   ],
   "source": [
    "# Troisième terme\n",
    "(ed-sp.exp(2*x)).subs({y(x): a*sp.exp(2*x)}).doit().expand().simplify()"
   ]
  },
  {
   "cell_type": "code",
   "execution_count": 42,
   "id": "a5063273",
   "metadata": {
    "ExecuteTime": {
     "end_time": "2023-05-08T14:32:22.294445Z",
     "start_time": "2023-05-08T14:32:21.976119Z"
    }
   },
   "outputs": [
    {
     "data": {
      "image/png": "[encoded data removed]",
      "text/latex": [
       "$\\displaystyle \\left[ \\frac{1}{16}\\right]$"
      ],
      "text/plain": [
       "[1/16]"
      ]
     },
     "execution_count": 42,
     "metadata": {},
     "output_type": "execute_result"
    }
   ],
   "source": [
    "res = (_/sp.exp(2*x)).simplify()\n",
    "sp.solve(res, a)"
   ]
  },
  {
   "cell_type": "code",
   "execution_count": 43,
   "id": "36cffd27",
   "metadata": {
    "ExecuteTime": {
     "end_time": "2023-05-08T14:32:22.298670Z",
     "start_time": "2023-05-08T14:32:22.295918Z"
    }
   },
   "outputs": [],
   "source": [
    "y3 = (a*sp.exp(2*x)).subs({a: _[0]})"
   ]
  },
  {
   "cell_type": "code",
   "execution_count": 44,
   "id": "226ab067",
   "metadata": {
    "ExecuteTime": {
     "end_time": "2023-05-08T14:32:22.710810Z",
     "start_time": "2023-05-08T14:32:22.299760Z"
    }
   },
   "outputs": [
    {
     "data": {
      "image/png": "[encoded data removed]",
      "text/latex": [
       "$\\displaystyle \\left(54 a x - 36 a + 18 b + 1\\right) e^{- 2 x}$"
      ],
      "text/plain": [
       "                            -2⋅x\n",
       "(54⋅a⋅x - 36⋅a + 18⋅b + 1)⋅ℯ    "
      ]
     },
     "execution_count": 44,
     "metadata": {},
     "output_type": "execute_result"
    }
   ],
   "source": [
    "# Quatrième terme\n",
    "(ed+sp.exp(-2*x)).subs({y(x): (a*x**3+b*x**2)\n",
    "                        * sp.exp(-2*x)}).doit().expand().simplify()"
   ]
  },
  {
   "cell_type": "code",
   "execution_count": 45,
   "id": "fb0048e2",
   "metadata": {
    "ExecuteTime": {
     "end_time": "2023-05-08T14:32:23.037989Z",
     "start_time": "2023-05-08T14:32:22.712537Z"
    }
   },
   "outputs": [
    {
     "data": {
      "image/png": "[encoded data removed]",
      "text/latex": [
       "$\\displaystyle \\left\\{ a : 0, \\  b : - \\frac{1}{18}\\right\\}$"
      ],
      "text/plain": [
       "{a: 0, b: -1/18}"
      ]
     },
     "execution_count": 45,
     "metadata": {},
     "output_type": "execute_result"
    }
   ],
   "source": [
    "res = (_/sp.exp(-2*x)).simplify()\n",
    "sp.solve([res.coeff(x, 1), res.coeff(x, 0)], [a, b])"
   ]
  },
  {
   "cell_type": "code",
   "execution_count": 46,
   "id": "e1bf31ae",
   "metadata": {
    "ExecuteTime": {
     "end_time": "2023-05-08T14:32:23.044369Z",
     "start_time": "2023-05-08T14:32:23.039586Z"
    }
   },
   "outputs": [],
   "source": [
    "y4 = ((a*x**3+b*x**2)*sp.exp(-2*x)).subs(_)"
   ]
  },
  {
   "cell_type": "code",
   "execution_count": 47,
   "id": "628fdce0",
   "metadata": {
    "ExecuteTime": {
     "end_time": "2023-05-08T14:32:23.049653Z",
     "start_time": "2023-05-08T14:32:23.045680Z"
    }
   },
   "outputs": [],
   "source": [
    "# La solution générale\n",
    "sol = (a*x+b)*sp.exp(x)+(c*x+d)*sp.exp(-2*x)+y1+y2+y3+y4"
   ]
  },
  {
   "cell_type": "code",
   "execution_count": 48,
   "id": "19a59539",
   "metadata": {
    "ExecuteTime": {
     "end_time": "2023-05-08T14:32:23.524101Z",
     "start_time": "2023-05-08T14:32:23.050859Z"
    }
   },
   "outputs": [
    {
     "data": {
      "image/png": "[encoded data removed]",
      "text/latex": [
       "$\\displaystyle - \\frac{x e^{x}}{2} - \\frac{x e^{- x}}{2} + e^{2 x} - e^{- 2 x}$"
      ],
      "text/plain": [
       "     x      -x               \n",
       "  x⋅ℯ    x⋅ℯ      2⋅x    -2⋅x\n",
       "- ──── - ───── + ℯ    - ℯ    \n",
       "   2       2                 "
      ]
     },
     "execution_count": 48,
     "metadata": {},
     "output_type": "execute_result"
    }
   ],
   "source": [
    "ed.subs({y(x): sol}).doit().expand()"
   ]
  },
  {
   "cell_type": "markdown",
   "id": "f0646f84",
   "metadata": {},
   "source": [
    "**Question 2**\n",
    "\n",
    "On vectorialise, en posant\n",
    "$$Y(x)=\\begin{bmatrix} y(x)\\\\ y'(x)\\\\ y''(x)\\\\ y^{(3)}(x)\\end{bmatrix}$$\n",
    "L'équation devient alors\n",
    "$$Y'(x)=\\begin{bmatrix} 0&1&0&0\\\\ 0&0&1&0\\\\ 0&0&0&1\\\\ -4&4&3&-3\\end{bmatrix}\\cdot Y(x)$$\n",
    "et on applique la méthode de variation des constantes qui consiste à résoudre\n",
    "$$M(x)\\cdot\\Lambda'(x)=\\begin{bmatrix}0\\\\ 0\\\\ 0\\\\ f(x)\\end{bmatrix}$$\n",
    "où \n",
    "$$M(x)=\\begin{bmatrix} \\alpha_1(x)&\\alpha_2(x)&\\alpha_3(x)&\\alpha_4(x)\\\\ \\vdots&\\vdots&\\vdots&\\vdots\\\\ \\alpha_1^{(3)}(x)&\\alpha_2^{(3)}(x)&\\alpha_3^{(3)}(x)&\\alpha_4^{(3)}(x)\\end{bmatrix}$$\n",
    "où $\\alpha_1(x)=x\\,e^x,\\; \\alpha_2(x)=e^x,\\; \\alpha_3(x)=x\\,e^{-2\\,x},\\;\\alpha_4(x)=e^{-2\\,x}$"
   ]
  },
  {
   "cell_type": "code",
   "execution_count": 49,
   "id": "d2436f56",
   "metadata": {
    "ExecuteTime": {
     "end_time": "2023-05-08T14:32:23.529583Z",
     "start_time": "2023-05-08T14:32:23.526276Z"
    }
   },
   "outputs": [],
   "source": [
    "A = sp.Matrix([[0, 1, 0, 0], [0, 0, 1, 0], [0, 0, 0, 1], [-4, 4, 3, -3]])"
   ]
  },
  {
   "cell_type": "code",
   "execution_count": 50,
   "id": "fab87463",
   "metadata": {
    "ExecuteTime": {
     "end_time": "2023-05-08T14:32:23.569098Z",
     "start_time": "2023-05-08T14:32:23.532212Z"
    }
   },
   "outputs": [],
   "source": [
    "base = sp.Matrix([x*sp.exp(x), sp.exp(x), x*sp.exp(-2*x), sp.exp(-2*x)])\n",
    "M = sp.Matrix([base, base.diff(x), base.diff(x, 2), base.diff(x, 3)]).reshape(4, 4)"
   ]
  },
  {
   "cell_type": "code",
   "execution_count": 51,
   "id": "cad9bb19",
   "metadata": {
    "ExecuteTime": {
     "end_time": "2023-05-08T14:32:23.900977Z",
     "start_time": "2023-05-08T14:32:23.570107Z"
    }
   },
   "outputs": [
    {
     "data": {
      "image/png": "[encoded data removed]",
      "text/latex": [
       "$\\displaystyle \\left[\\begin{matrix}x e^{x} & e^{x} & x e^{- 2 x} & e^{- 2 x}\\\\x e^{x} + e^{x} & e^{x} & - 2 x e^{- 2 x} + e^{- 2 x} & - 2 e^{- 2 x}\\\\\\left(x + 2\\right) e^{x} & e^{x} & 4 \\left(x - 1\\right) e^{- 2 x} & 4 e^{- 2 x}\\\\\\left(x + 3\\right) e^{x} & e^{x} & 4 \\cdot \\left(3 - 2 x\\right) e^{- 2 x} & - 8 e^{- 2 x}\\end{matrix}\\right]$"
      ],
      "text/plain": [
       "⎡      x      x           -2⋅x          -2⋅x  ⎤\n",
       "⎢   x⋅ℯ      ℯ         x⋅ℯ             ℯ      ⎥\n",
       "⎢                                             ⎥\n",
       "⎢   x    x    x         -2⋅x    -2⋅x      -2⋅x⎥\n",
       "⎢x⋅ℯ  + ℯ    ℯ   - 2⋅x⋅ℯ     + ℯ      -2⋅ℯ    ⎥\n",
       "⎢                                             ⎥\n",
       "⎢         x   x               -2⋅x       -2⋅x ⎥\n",
       "⎢(x + 2)⋅ℯ   ℯ     4⋅(x - 1)⋅ℯ        4⋅ℯ     ⎥\n",
       "⎢                                             ⎥\n",
       "⎢         x   x                -2⋅x       -2⋅x⎥\n",
       "⎣(x + 3)⋅ℯ   ℯ    4⋅(3 - 2⋅x)⋅ℯ       -8⋅ℯ    ⎦"
      ]
     },
     "execution_count": 51,
     "metadata": {},
     "output_type": "execute_result"
    }
   ],
   "source": [
    "M"
   ]
  },
  {
   "cell_type": "code",
   "execution_count": 52,
   "id": "bfd6bd48",
   "metadata": {
    "ExecuteTime": {
     "end_time": "2023-05-08T14:32:23.904900Z",
     "start_time": "2023-05-08T14:32:23.902423Z"
    }
   },
   "outputs": [],
   "source": [
    "f = sp.Function('f')\n",
    "B = sp.Matrix([0, 0, 0, f(x)])"
   ]
  },
  {
   "cell_type": "code",
   "execution_count": 53,
   "id": "e48cdb24",
   "metadata": {
    "ExecuteTime": {
     "end_time": "2023-05-08T14:32:24.823370Z",
     "start_time": "2023-05-08T14:32:23.906391Z"
    }
   },
   "outputs": [
    {
     "data": {
      "image/png": "[encoded data removed]",
      "text/latex": [
       "$\\displaystyle \\left[\\begin{matrix}\\frac{f{\\left(x \\right)} e^{- x}}{9}\\\\- \\frac{\\left(3 x + 2\\right) f{\\left(x \\right)} e^{- x}}{27}\\\\\\frac{f{\\left(x \\right)} e^{2 x}}{9}\\\\\\frac{\\left(2 - 3 x\\right) f{\\left(x \\right)} e^{2 x}}{27}\\end{matrix}\\right]$"
      ],
      "text/plain": [
       "⎡            -x      ⎤\n",
       "⎢      f(x)⋅ℯ        ⎥\n",
       "⎢      ────────      ⎥\n",
       "⎢         9          ⎥\n",
       "⎢                    ⎥\n",
       "⎢                 -x ⎥\n",
       "⎢-(3⋅x + 2)⋅f(x)⋅ℯ   ⎥\n",
       "⎢────────────────────⎥\n",
       "⎢         27         ⎥\n",
       "⎢                    ⎥\n",
       "⎢           2⋅x      ⎥\n",
       "⎢     f(x)⋅ℯ         ⎥\n",
       "⎢     ─────────      ⎥\n",
       "⎢         9          ⎥\n",
       "⎢                    ⎥\n",
       "⎢                2⋅x ⎥\n",
       "⎢(2 - 3⋅x)⋅f(x)⋅ℯ    ⎥\n",
       "⎢─────────────────── ⎥\n",
       "⎣         27         ⎦"
      ]
     },
     "execution_count": 53,
     "metadata": {},
     "output_type": "execute_result"
    }
   ],
   "source": [
    "(M.inv()@B).applyfunc(sp.simplify)"
   ]
  },
  {
   "cell_type": "code",
   "execution_count": 54,
   "id": "2b46c838",
   "metadata": {
    "ExecuteTime": {
     "end_time": "2023-05-08T14:32:25.147992Z",
     "start_time": "2023-05-08T14:32:24.824991Z"
    }
   },
   "outputs": [
    {
     "data": {
      "image/png": "[encoded data removed]",
      "text/latex": [
       "$\\displaystyle \\left[\\begin{matrix}\\int \\frac{f{\\left(x \\right)} e^{- x}}{9}\\, dx\\\\\\int \\left(- \\frac{\\left(3 x + 2\\right) f{\\left(x \\right)} e^{- x}}{27}\\right)\\, dx\\\\\\int \\frac{f{\\left(x \\right)} e^{2 x}}{9}\\, dx\\\\\\int \\frac{\\left(2 - 3 x\\right) f{\\left(x \\right)} e^{2 x}}{27}\\, dx\\end{matrix}\\right]$"
      ],
      "text/plain": [
       "⎡      ⌠                  ⎤\n",
       "⎢      ⎮       -x         ⎥\n",
       "⎢      ⎮ f(x)⋅ℯ           ⎥\n",
       "⎢      ⎮ ──────── dx      ⎥\n",
       "⎢      ⎮    9             ⎥\n",
       "⎢      ⌡                  ⎥\n",
       "⎢                         ⎥\n",
       "⎢⌠                        ⎥\n",
       "⎢⎮                  -x    ⎥\n",
       "⎢⎮ -(3⋅x + 2)⋅f(x)⋅ℯ      ⎥\n",
       "⎢⎮ ──────────────────── dx⎥\n",
       "⎢⎮          27            ⎥\n",
       "⎢⌡                        ⎥\n",
       "⎢                         ⎥\n",
       "⎢     ⌠                   ⎥\n",
       "⎢     ⎮       2⋅x         ⎥\n",
       "⎢     ⎮ f(x)⋅ℯ            ⎥\n",
       "⎢     ⎮ ───────── dx      ⎥\n",
       "⎢     ⎮     9             ⎥\n",
       "⎢     ⌡                   ⎥\n",
       "⎢                         ⎥\n",
       "⎢⌠                        ⎥\n",
       "⎢⎮                 2⋅x    ⎥\n",
       "⎢⎮ (2 - 3⋅x)⋅f(x)⋅ℯ       ⎥\n",
       "⎢⎮ ─────────────────── dx ⎥\n",
       "⎢⎮          27            ⎥\n",
       "⎣⌡                        ⎦"
      ]
     },
     "execution_count": 54,
     "metadata": {},
     "output_type": "execute_result"
    }
   ],
   "source": [
    "_.applyfunc(lambda t: sp.Integral(t))"
   ]
  },
  {
   "cell_type": "code",
   "execution_count": 55,
   "id": "6b9505f8",
   "metadata": {
    "ExecuteTime": {
     "end_time": "2023-05-08T14:32:25.529569Z",
     "start_time": "2023-05-08T14:32:25.149447Z"
    }
   },
   "outputs": [
    {
     "data": {
      "image/png": "[encoded data removed]",
      "text/latex": [
       "$\\displaystyle \\left[\\begin{matrix}x e^{x} \\int \\frac{f{\\left(x \\right)} e^{- x}}{9}\\, dx + x e^{- 2 x} \\int \\frac{f{\\left(x \\right)} e^{2 x}}{9}\\, dx + e^{x} \\int \\left(- \\frac{\\left(3 x + 2\\right) f{\\left(x \\right)} e^{- x}}{27}\\right)\\, dx + e^{- 2 x} \\int \\frac{\\left(2 - 3 x\\right) f{\\left(x \\right)} e^{2 x}}{27}\\, dx\\\\\\left(- 2 x e^{- 2 x} + e^{- 2 x}\\right) \\int \\frac{f{\\left(x \\right)} e^{2 x}}{9}\\, dx + \\left(x e^{x} + e^{x}\\right) \\int \\frac{f{\\left(x \\right)} e^{- x}}{9}\\, dx + e^{x} \\int \\left(- \\frac{\\left(3 x + 2\\right) f{\\left(x \\right)} e^{- x}}{27}\\right)\\, dx - 2 e^{- 2 x} \\int \\frac{\\left(2 - 3 x\\right) f{\\left(x \\right)} e^{2 x}}{27}\\, dx\\\\4 \\left(x - 1\\right) e^{- 2 x} \\int \\frac{f{\\left(x \\right)} e^{2 x}}{9}\\, dx + \\left(x + 2\\right) e^{x} \\int \\frac{f{\\left(x \\right)} e^{- x}}{9}\\, dx + e^{x} \\int \\left(- \\frac{\\left(3 x + 2\\right) f{\\left(x \\right)} e^{- x}}{27}\\right)\\, dx + 4 e^{- 2 x} \\int \\frac{\\left(2 - 3 x\\right) f{\\left(x \\right)} e^{2 x}}{27}\\, dx\\\\4 \\cdot \\left(3 - 2 x\\right) e^{- 2 x} \\int \\frac{f{\\left(x \\right)} e^{2 x}}{9}\\, dx + \\left(x + 3\\right) e^{x} \\int \\frac{f{\\left(x \\right)} e^{- x}}{9}\\, dx + e^{x} \\int \\left(- \\frac{\\left(3 x + 2\\right) f{\\left(x \\right)} e^{- x}}{27}\\right)\\, dx - 8 e^{- 2 x} \\int \\frac{\\left(2 - 3 x\\right) f{\\left(x \\right)} e^{2 x}}{27}\\, dx\\end{matrix}\\right]$"
      ],
      "text/plain": [
       "⎡                ⌠                       ⌠                   ⌠                \n",
       "⎢                ⎮       -x              ⎮       2⋅x         ⎮                \n",
       "⎢              x ⎮ f(x)⋅ℯ           -2⋅x ⎮ f(x)⋅ℯ          x ⎮ -(3⋅x + 2)⋅f(x)\n",
       "⎢           x⋅ℯ ⋅⎮ ──────── dx + x⋅ℯ    ⋅⎮ ───────── dx + ℯ ⋅⎮ ───────────────\n",
       "⎢                ⎮    9                  ⎮     9             ⎮          27    \n",
       "⎢                ⌡                       ⌡                   ⌡                \n",
       "⎢                                                                             \n",
       "⎢                      ⌠                            ⌠                  ⌠      \n",
       "⎢                      ⎮       2⋅x                  ⎮       -x         ⎮      \n",
       "⎢⎛       -2⋅x    -2⋅x⎞ ⎮ f(x)⋅ℯ         ⎛   x    x⎞ ⎮ f(x)⋅ℯ         x ⎮ -(3⋅x\n",
       "⎢⎝- 2⋅x⋅ℯ     + ℯ    ⎠⋅⎮ ───────── dx + ⎝x⋅ℯ  + ℯ ⎠⋅⎮ ──────── dx + ℯ ⋅⎮ ─────\n",
       "⎢                      ⎮     9                      ⎮    9             ⎮      \n",
       "⎢                      ⌡                            ⌡                  ⌡      \n",
       "⎢                                                                             \n",
       "⎢                   ⌠                           ⌠                  ⌠          \n",
       "⎢                   ⎮       2⋅x                 ⎮       -x         ⎮          \n",
       "⎢              -2⋅x ⎮ f(x)⋅ℯ                  x ⎮ f(x)⋅ℯ         x ⎮ -(3⋅x + 2\n",
       "⎢   4⋅(x - 1)⋅ℯ    ⋅⎮ ───────── dx + (x + 2)⋅ℯ ⋅⎮ ──────── dx + ℯ ⋅⎮ ─────────\n",
       "⎢                   ⎮     9                     ⎮    9             ⎮          \n",
       "⎢                   ⌡                           ⌡                  ⌡          \n",
       "⎢                                                                             \n",
       "⎢                    ⌠                           ⌠                  ⌠         \n",
       "⎢                    ⎮       2⋅x                 ⎮       -x         ⎮         \n",
       "⎢               -2⋅x ⎮ f(x)⋅ℯ                  x ⎮ f(x)⋅ℯ         x ⎮ -(3⋅x + \n",
       "⎢  4⋅(3 - 2⋅x)⋅ℯ    ⋅⎮ ───────── dx + (x + 3)⋅ℯ ⋅⎮ ──────── dx + ℯ ⋅⎮ ────────\n",
       "⎢                    ⎮     9                     ⎮    9             ⎮         \n",
       "⎣                    ⌡                           ⌡                  ⌡         \n",
       "\n",
       "                 ⌠                                   ⎤\n",
       "  -x             ⎮                 2⋅x               ⎥\n",
       "⋅ℯ          -2⋅x ⎮ (2 - 3⋅x)⋅f(x)⋅ℯ                  ⎥\n",
       "───── dx + ℯ    ⋅⎮ ─────────────────── dx            ⎥\n",
       "                 ⎮          27                       ⎥\n",
       "                 ⌡                                   ⎥\n",
       "                                                     ⎥\n",
       "                             ⌠                       ⎥\n",
       "            -x               ⎮                 2⋅x   ⎥\n",
       " + 2)⋅f(x)⋅ℯ            -2⋅x ⎮ (2 - 3⋅x)⋅f(x)⋅ℯ      ⎥\n",
       "─────────────── dx - 2⋅ℯ    ⋅⎮ ─────────────────── dx⎥\n",
       "    27                       ⎮          27           ⎥\n",
       "                             ⌡                       ⎥\n",
       "                                                     ⎥\n",
       "                         ⌠                           ⎥\n",
       "        -x               ⎮                 2⋅x       ⎥\n",
       ")⋅f(x)⋅ℯ            -2⋅x ⎮ (2 - 3⋅x)⋅f(x)⋅ℯ          ⎥\n",
       "─────────── dx + 4⋅ℯ    ⋅⎮ ─────────────────── dx    ⎥\n",
       "27                       ⎮          27               ⎥\n",
       "                         ⌡                           ⎥\n",
       "                                                     ⎥\n",
       "                          ⌠                          ⎥\n",
       "         -x               ⎮                 2⋅x      ⎥\n",
       "2)⋅f(x)⋅ℯ            -2⋅x ⎮ (2 - 3⋅x)⋅f(x)⋅ℯ         ⎥\n",
       "──────────── dx - 8⋅ℯ    ⋅⎮ ─────────────────── dx   ⎥\n",
       " 27                       ⎮          27              ⎥\n",
       "                          ⌡                          ⎦"
      ]
     },
     "execution_count": 55,
     "metadata": {},
     "output_type": "execute_result"
    }
   ],
   "source": [
    "M@_"
   ]
  },
  {
   "cell_type": "code",
   "execution_count": 56,
   "id": "909b9ea1",
   "metadata": {
    "ExecuteTime": {
     "end_time": "2023-05-08T14:32:25.533291Z",
     "start_time": "2023-05-08T14:32:25.531114Z"
    }
   },
   "outputs": [],
   "source": [
    "# La solution est sur la première ligne\n",
    "sol = _[0, 0]"
   ]
  },
  {
   "cell_type": "code",
   "execution_count": 57,
   "id": "5f6a3a17",
   "metadata": {
    "ExecuteTime": {
     "end_time": "2023-05-08T14:32:51.746988Z",
     "start_time": "2023-05-08T14:32:25.534674Z"
    },
    "run_control": {
     "marked": false
    }
   },
   "outputs": [
    {
     "data": {
      "image/png": "[encoded data removed]",
      "text/latex": [
       "$\\displaystyle f{\\left(x \\right)}$"
      ],
      "text/plain": [
       "f(x)"
      ]
     },
     "execution_count": 57,
     "metadata": {},
     "output_type": "execute_result"
    }
   ],
   "source": [
    "# Vérification\n",
    "ed.subs({y(x): sol}).doit().simplify()"
   ]
  }
 ],
 "metadata": {
  "kernelspec": {
   "display_name": "Python 3 (ipykernel)",
   "language": "python",
   "name": "python3"
  },
  "language_info": {
   "codemirror_mode": {
    "name": "ipython",
    "version": 3
   },
   "file_extension": ".py",
   "mimetype": "text/x-python",
   "name": "python",
   "nbconvert_exporter": "python",
   "pygments_lexer": "ipython3",
   "version": "3.8.2"
  },
  "toc": {
   "base_numbering": 1,
   "nav_menu": {},
   "number_sections": true,
   "sideBar": true,
   "skip_h1_title": false,
   "title_cell": "Table of Contents",
   "title_sidebar": "Contents",
   "toc_cell": false,
   "toc_position": {},
   "toc_section_display": true,
   "toc_window_display": false
  }
 },
 "nbformat": 4,
 "nbformat_minor": 5
}

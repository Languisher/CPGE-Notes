{
 "cells": [
  {
   "cell_type": "markdown",
   "id": "8fa0bebc",
   "metadata": {},
   "source": [
    "# Recherche des vecteurs de réduction du théorème spectral"
   ]
  },
  {
   "cell_type": "markdown",
   "id": "0b124751",
   "metadata": {},
   "source": [
    "*On s'intéresse ici à la seule méthode numérique.*"
   ]
  },
  {
   "cell_type": "markdown",
   "id": "9a16a46d",
   "metadata": {},
   "source": [
    "Soit $A$ une matrice symétrique réelle.\n",
    "\n",
    "$\\blacktriangleright$ *Pour le premier vecteur de la base orthonormée associé au plus grand des $|\\lambda_k|$.*\n",
    "\n",
    "Le principe de la méthode est\n",
    "- On choisit un vecteur $X_0$ « au hasard ».\n",
    "- Si $X_n$ est connu pour un certain $n\\in\\mathbb{N}$, on a calcule $X_{n+1}$ avec la formule\n",
    "$$X_{n+1}=\\frac{1}{\\left\\|X_n\\right\\|}.X_n$$\n",
    "- On s'arrête dès que \n",
    "$$\\left\\|X_{n+1}-X_n\\right\\|\\le\\epsilon$$\n",
    "où $\\epsilon$ est la précision demandée.\n",
    "\n",
    "1. Soit la matrice $A$ donnée ci-après. Appliquer la méthode pour trouver une approximation $\\widehat{E_n}$ de la matrice du premier vecteur $E_n$ et de la première valeur $\\lambda_n$ tels que définis dans le cours. On prendra $\\epsilon=10^{-3}$.\n",
    "1. *Essai de recherche du deuxième vecteur.*\n",
    "    1. On recommence l'algorithme en choisissant « au hasard » un vecteur orthogonal à $\\widehat{E_n}$. Qu'observe-t-on ?\n",
    "    1. On recommence l'algorithme en l'appliquant à la matrice\n",
    "    $$\\widehat{A}=A-\\widehat{\\lambda_n}.\\widehat{E_n}\\cdot \\,^t\\widehat{E_n}$$\n",
    "    Qu'observe-ton ? Justifier."
   ]
  },
  {
   "cell_type": "markdown",
   "id": "df19da0e",
   "metadata": {},
   "source": [
    "<div class=\"alert alert-info\">\n",
    "    \n",
    "On pourra utiliser les fonctions suivantes\n",
    "- Un tirage aléatoire dans $[0,1[$ se fait avec la fonction `np.random.random`.\n",
    "- La norme d'un vecteur se calcule avec la fonction `np.linalg.norm`."
   ]
  },
  {
   "cell_type": "code",
   "execution_count": 1,
   "id": "16555b15",
   "metadata": {
    "ExecuteTime": {
     "end_time": "2023-04-18T07:21:30.806082Z",
     "start_time": "2023-04-18T07:21:30.740419Z"
    }
   },
   "outputs": [
    {
     "data": {
      "text/plain": [
       "matrix([[2.81966542, 1.81143912, 2.21386811, 1.81623839, 1.42747207],\n",
       "        [1.81143912, 1.53526139, 1.35580168, 1.11034595, 0.94662324],\n",
       "        [2.21386811, 1.35580168, 1.85954745, 1.41696683, 1.20245633],\n",
       "        [1.81623839, 1.11034595, 1.41696683, 1.62022925, 0.92680286],\n",
       "        [1.42747207, 0.94662324, 1.20245633, 0.92680286, 1.15538859]])"
      ]
     },
     "execution_count": 1,
     "metadata": {},
     "output_type": "execute_result"
    }
   ],
   "source": [
    "import numpy as np\n",
    "M = np.matrix([np.random.random() for i in range(25)]).reshape(5, 5)\n",
    "A = M.transpose()@M\n",
    "A"
   ]
  },
  {
   "cell_type": "markdown",
   "id": "09449784",
   "metadata": {},
   "source": [
    "**Question 1**"
   ]
  },
  {
   "cell_type": "code",
   "execution_count": 2,
   "id": "6ad684f3",
   "metadata": {
    "ExecuteTime": {
     "end_time": "2023-04-18T07:21:30.811195Z",
     "start_time": "2023-04-18T07:21:30.807578Z"
    }
   },
   "outputs": [],
   "source": [
    "def iter(A, X0, eps):\n",
    "    n, p = A.shape\n",
    "    if n != p:\n",
    "        raise Exception(\"Ce n'est pas une matrice carrée !\")\n",
    "    X = X0/np.linalg.norm(X0)\n",
    "    Y = A@X\n",
    "    Y = Y/np.linalg.norm(Y)\n",
    "    while np.linalg.norm(X-Y) > eps:\n",
    "        X = Y\n",
    "        Y = A@X\n",
    "        Y = Y/np.linalg.norm(Y)\n",
    "    return Y"
   ]
  },
  {
   "cell_type": "code",
   "execution_count": 3,
   "id": "ee5ff7db",
   "metadata": {
    "ExecuteTime": {
     "end_time": "2023-04-18T07:21:30.817282Z",
     "start_time": "2023-04-18T07:21:30.813207Z"
    },
    "scrolled": true
   },
   "outputs": [
    {
     "data": {
      "text/plain": [
       "matrix([[0.59372352],\n",
       "        [0.3945116 ],\n",
       "        [0.47310066],\n",
       "        [0.40259887],\n",
       "        [0.32548871]])"
      ]
     },
     "execution_count": 3,
     "metadata": {},
     "output_type": "execute_result"
    }
   ],
   "source": [
    "X0 = np.matrix([np.random.random() for i in range(5)]).reshape(5, 1)\n",
    "E = iter(A, X0, 0.001)\n",
    "E"
   ]
  },
  {
   "cell_type": "code",
   "execution_count": 4,
   "id": "39c80ac5",
   "metadata": {
    "ExecuteTime": {
     "end_time": "2023-04-18T07:21:30.821634Z",
     "start_time": "2023-04-18T07:21:30.818712Z"
    }
   },
   "outputs": [
    {
     "data": {
      "text/plain": [
       "matrix([[7.80154276],\n",
       "        [7.80139884],\n",
       "        [7.80153933],\n",
       "        [7.80111988],\n",
       "        [7.80075051]])"
      ]
     },
     "execution_count": 4,
     "metadata": {},
     "output_type": "execute_result"
    }
   ],
   "source": [
    "# Calcul de la valeur approchée de lambda (notée a)\n",
    "A@E/E"
   ]
  },
  {
   "cell_type": "code",
   "execution_count": 5,
   "id": "f47aa22a",
   "metadata": {
    "ExecuteTime": {
     "end_time": "2023-04-18T07:21:30.826025Z",
     "start_time": "2023-04-18T07:21:30.823017Z"
    }
   },
   "outputs": [
    {
     "data": {
      "text/plain": [
       "7.801542764473869"
      ]
     },
     "execution_count": 5,
     "metadata": {},
     "output_type": "execute_result"
    }
   ],
   "source": [
    "# On peut aussi faire la moyenne (si toutes les valeurs sont peu différentes)\n",
    "a = _[0, 0]\n",
    "# ATTENTION : il peut y avoir des 0 ou des valeurs très faibles qu'il ne faut pas prendre en compte\n",
    "a"
   ]
  },
  {
   "cell_type": "markdown",
   "id": "729ca736",
   "metadata": {
    "ExecuteTime": {
     "end_time": "2023-04-12T00:49:17.900866Z",
     "start_time": "2023-04-12T00:49:17.898020Z"
    }
   },
   "source": [
    "**Question 2-A**"
   ]
  },
  {
   "cell_type": "code",
   "execution_count": 6,
   "id": "6aa4653f",
   "metadata": {
    "ExecuteTime": {
     "end_time": "2023-04-18T07:21:30.832668Z",
     "start_time": "2023-04-18T07:21:30.827250Z"
    }
   },
   "outputs": [
    {
     "data": {
      "text/plain": [
       "matrix([[0.59373662],\n",
       "        [0.39451041],\n",
       "        [0.47311163],\n",
       "        [0.40258799],\n",
       "        [0.32546377]])"
      ]
     },
     "execution_count": 6,
     "metadata": {},
     "output_type": "execute_result"
    }
   ],
   "source": [
    "X0 = np.matrix([np.random.random() for i in range(5)]).reshape(5, 1)\n",
    "iter(A, X0, 0.001)"
   ]
  },
  {
   "cell_type": "code",
   "execution_count": 7,
   "id": "9448fdeb",
   "metadata": {
    "ExecuteTime": {
     "end_time": "2023-04-18T07:21:30.837401Z",
     "start_time": "2023-04-18T07:21:30.834008Z"
    }
   },
   "outputs": [
    {
     "data": {
      "text/plain": [
       "(1.0, matrix([[1.]]))"
      ]
     },
     "execution_count": 7,
     "metadata": {},
     "output_type": "execute_result"
    }
   ],
   "source": [
    "np.linalg.norm(_), _.transpose().dot(E)"
   ]
  },
  {
   "cell_type": "markdown",
   "id": "d290297a",
   "metadata": {},
   "source": [
    "Cela ne marche pas (comme annoncé dans le cours), car l'orthogonal de `E` n'est pas stable par la matrice $A$."
   ]
  },
  {
   "cell_type": "markdown",
   "id": "33941af2",
   "metadata": {},
   "source": [
    "**Question 2-B**"
   ]
  },
  {
   "cell_type": "code",
   "execution_count": 8,
   "id": "cd5668af",
   "metadata": {
    "ExecuteTime": {
     "end_time": "2023-04-18T07:21:30.845444Z",
     "start_time": "2023-04-18T07:21:30.839220Z"
    }
   },
   "outputs": [
    {
     "data": {
      "text/plain": [
       "matrix([[-0.01451054],\n",
       "        [-0.53101023],\n",
       "        [-0.00576541],\n",
       "        [ 0.79187827],\n",
       "        [-0.30118623]])"
      ]
     },
     "execution_count": 8,
     "metadata": {},
     "output_type": "execute_result"
    }
   ],
   "source": [
    "# L'idée est donc d'« enlever » le vecteur E\n",
    "B = A-a*E@E.transpose()\n",
    "X0 = np.matrix([np.random.random() for i in range(5)]).reshape(5, 1)\n",
    "iter(B, X0, 0.001)"
   ]
  },
  {
   "cell_type": "markdown",
   "id": "4e5da02d",
   "metadata": {},
   "source": [
    "On a bien trouvé un nouveau vecteur propre."
   ]
  },
  {
   "cell_type": "code",
   "execution_count": 9,
   "id": "e8fa7b65",
   "metadata": {
    "ExecuteTime": {
     "end_time": "2023-04-18T07:21:30.852657Z",
     "start_time": "2023-04-18T07:21:30.848413Z"
    }
   },
   "outputs": [
    {
     "data": {
      "text/plain": [
       "(0.9999999999999999, matrix([[-5.59834291e-05]]))"
      ]
     },
     "execution_count": 9,
     "metadata": {},
     "output_type": "execute_result"
    }
   ],
   "source": [
    "F = _\n",
    "np.linalg.norm(F), F.transpose().dot(E)"
   ]
  },
  {
   "cell_type": "code",
   "execution_count": 10,
   "id": "0e2deb31",
   "metadata": {
    "ExecuteTime": {
     "end_time": "2023-04-18T07:21:30.857821Z",
     "start_time": "2023-04-18T07:21:30.854454Z"
    }
   },
   "outputs": [
    {
     "data": {
      "text/plain": [
       "matrix([[0.50078592],\n",
       "        [0.48057885],\n",
       "        [0.50093581],\n",
       "        [0.47956235],\n",
       "        [0.47938702]])"
      ]
     },
     "execution_count": 10,
     "metadata": {},
     "output_type": "execute_result"
    }
   ],
   "source": [
    "A@F/F"
   ]
  },
  {
   "cell_type": "code",
   "execution_count": 11,
   "id": "9fb718fa",
   "metadata": {
    "ExecuteTime": {
     "end_time": "2023-04-18T07:21:30.862459Z",
     "start_time": "2023-04-18T07:21:30.859298Z"
    }
   },
   "outputs": [
    {
     "data": {
      "text/plain": [
       "0.4882499895507664"
      ]
     },
     "execution_count": 11,
     "metadata": {},
     "output_type": "execute_result"
    }
   ],
   "source": [
    "b = np.mean(_)\n",
    "b"
   ]
  },
  {
   "cell_type": "markdown",
   "id": "c5d6ae4e",
   "metadata": {},
   "source": [
    "**Attention** Nous avons supposé que les valeurs propres étaient positives. Il faut légèrement adapter l'algorithme pour obtenir quelque chose qui fonctionne avec des valeurs propres négatives."
   ]
  },
  {
   "cell_type": "code",
   "execution_count": 12,
   "id": "e07da0bf",
   "metadata": {
    "ExecuteTime": {
     "end_time": "2023-04-18T07:21:44.487693Z",
     "start_time": "2023-04-18T07:21:30.863901Z"
    }
   },
   "outputs": [
    {
     "ename": "KeyboardInterrupt",
     "evalue": "",
     "output_type": "error",
     "traceback": [
      "\u001b[0;31m---------------------------------------------------------------------------\u001b[0m",
      "\u001b[0;31mKeyboardInterrupt\u001b[0m                         Traceback (most recent call last)",
      "Input \u001b[0;32mIn [12]\u001b[0m, in \u001b[0;36m<module>\u001b[0;34m\u001b[0m\n\u001b[1;32m      1\u001b[0m X0 \u001b[38;5;241m=\u001b[39m np\u001b[38;5;241m.\u001b[39mmatrix([np\u001b[38;5;241m.\u001b[39mrandom\u001b[38;5;241m.\u001b[39mrandom() \u001b[38;5;28;01mfor\u001b[39;00m i \u001b[38;5;129;01min\u001b[39;00m \u001b[38;5;28mrange\u001b[39m(\u001b[38;5;241m5\u001b[39m)])\u001b[38;5;241m.\u001b[39mreshape(\u001b[38;5;241m5\u001b[39m, \u001b[38;5;241m1\u001b[39m)\n\u001b[0;32m----> 2\u001b[0m \u001b[38;5;28;43miter\u001b[39;49m\u001b[43m(\u001b[49m\u001b[38;5;241;43m-\u001b[39;49m\u001b[43mA\u001b[49m\u001b[43m,\u001b[49m\u001b[43m \u001b[49m\u001b[43mX0\u001b[49m\u001b[43m,\u001b[49m\u001b[43m \u001b[49m\u001b[38;5;241;43m0.001\u001b[39;49m\u001b[43m)\u001b[49m\n",
      "Input \u001b[0;32mIn [2]\u001b[0m, in \u001b[0;36miter\u001b[0;34m(A, X0, eps)\u001b[0m\n\u001b[1;32m      6\u001b[0m Y \u001b[38;5;241m=\u001b[39m A\u001b[38;5;129m@X\u001b[39m\n\u001b[1;32m      7\u001b[0m Y \u001b[38;5;241m=\u001b[39m Y\u001b[38;5;241m/\u001b[39mnp\u001b[38;5;241m.\u001b[39mlinalg\u001b[38;5;241m.\u001b[39mnorm(Y)\n\u001b[0;32m----> 8\u001b[0m \u001b[38;5;28;01mwhile\u001b[39;00m \u001b[43mnp\u001b[49m\u001b[38;5;241;43m.\u001b[39;49m\u001b[43mlinalg\u001b[49m\u001b[38;5;241;43m.\u001b[39;49m\u001b[43mnorm\u001b[49m\u001b[43m(\u001b[49m\u001b[43mX\u001b[49m\u001b[38;5;241;43m-\u001b[39;49m\u001b[43mY\u001b[49m\u001b[43m)\u001b[49m \u001b[38;5;241m>\u001b[39m eps:\n\u001b[1;32m      9\u001b[0m     X \u001b[38;5;241m=\u001b[39m Y\n\u001b[1;32m     10\u001b[0m     Y \u001b[38;5;241m=\u001b[39m A\u001b[38;5;129m@X\u001b[39m\n",
      "File \u001b[0;32m<__array_function__ internals>:200\u001b[0m, in \u001b[0;36mnorm\u001b[0;34m(*args, **kwargs)\u001b[0m\n",
      "File \u001b[0;32m/usr/local/lib/python3.8/dist-packages/numpy/linalg/linalg.py:2493\u001b[0m, in \u001b[0;36mnorm\u001b[0;34m(x, ord, axis, keepdims)\u001b[0m\n\u001b[1;32m   2342\u001b[0m \u001b[38;5;129m@array_function_dispatch\u001b[39m(_norm_dispatcher)\n\u001b[1;32m   2343\u001b[0m \u001b[38;5;28;01mdef\u001b[39;00m \u001b[38;5;21mnorm\u001b[39m(x, \u001b[38;5;28mord\u001b[39m\u001b[38;5;241m=\u001b[39m\u001b[38;5;28;01mNone\u001b[39;00m, axis\u001b[38;5;241m=\u001b[39m\u001b[38;5;28;01mNone\u001b[39;00m, keepdims\u001b[38;5;241m=\u001b[39m\u001b[38;5;28;01mFalse\u001b[39;00m):\n\u001b[1;32m   2344\u001b[0m     \u001b[38;5;124;03m\"\"\"\u001b[39;00m\n\u001b[1;32m   2345\u001b[0m \u001b[38;5;124;03m    Matrix or vector norm.\u001b[39;00m\n\u001b[1;32m   2346\u001b[0m \n\u001b[0;32m   (...)\u001b[0m\n\u001b[1;32m   2491\u001b[0m \n\u001b[1;32m   2492\u001b[0m \u001b[38;5;124;03m    \"\"\"\u001b[39;00m\n\u001b[0;32m-> 2493\u001b[0m     x \u001b[38;5;241m=\u001b[39m \u001b[43masarray\u001b[49m\u001b[43m(\u001b[49m\u001b[43mx\u001b[49m\u001b[43m)\u001b[49m\n\u001b[1;32m   2495\u001b[0m     \u001b[38;5;28;01mif\u001b[39;00m \u001b[38;5;129;01mnot\u001b[39;00m \u001b[38;5;28missubclass\u001b[39m(x\u001b[38;5;241m.\u001b[39mdtype\u001b[38;5;241m.\u001b[39mtype, (inexact, object_)):\n\u001b[1;32m   2496\u001b[0m         x \u001b[38;5;241m=\u001b[39m x\u001b[38;5;241m.\u001b[39mastype(\u001b[38;5;28mfloat\u001b[39m)\n",
      "\u001b[0;31mKeyboardInterrupt\u001b[0m: "
     ]
    }
   ],
   "source": [
    "X0 = np.matrix([np.random.random() for i in range(5)]).reshape(5, 1)\n",
    "iter(-A, X0, 0.001)"
   ]
  },
  {
   "cell_type": "code",
   "execution_count": 13,
   "id": "0a9126a5",
   "metadata": {
    "ExecuteTime": {
     "end_time": "2023-04-18T07:21:54.796329Z",
     "start_time": "2023-04-18T07:21:54.793263Z"
    }
   },
   "outputs": [],
   "source": [
    "def iter2(A, X0, eps):\n",
    "    n, p = A.shape\n",
    "    if n != p:\n",
    "        raise Exception(\"Ce n'est pas une matrice carrée !\")\n",
    "    X = X0/np.linalg.norm(X0)\n",
    "    Y = A@X\n",
    "    Y = Y/np.linalg.norm(Y)\n",
    "    aux1 = np.linalg.norm(X-Y)\n",
    "    aux2 = np.linalg.norm(X+Y)\n",
    "    while min(aux1, aux2) > eps:\n",
    "        X = Y\n",
    "        Y = A@X\n",
    "        Y = Y/np.linalg.norm(Y)\n",
    "        aux1 = np.linalg.norm(X-Y)\n",
    "        aux2 = np.linalg.norm(X+Y)\n",
    "    if aux1 <= eps:\n",
    "        return Y\n",
    "    else:\n",
    "        return -Y"
   ]
  },
  {
   "cell_type": "code",
   "execution_count": 14,
   "id": "40aa81cd",
   "metadata": {
    "ExecuteTime": {
     "end_time": "2023-04-18T07:21:54.800944Z",
     "start_time": "2023-04-18T07:21:54.797690Z"
    }
   },
   "outputs": [
    {
     "data": {
      "text/plain": [
       "matrix([[-0.59373711],\n",
       "        [-0.39450832],\n",
       "        [-0.47311143],\n",
       "        [-0.40259276],\n",
       "        [-0.32545978]])"
      ]
     },
     "execution_count": 14,
     "metadata": {},
     "output_type": "execute_result"
    }
   ],
   "source": [
    "iter2(-A, X0, 0.001)"
   ]
  },
  {
   "cell_type": "code",
   "execution_count": 15,
   "id": "59af8030",
   "metadata": {
    "ExecuteTime": {
     "end_time": "2023-04-18T07:21:54.805105Z",
     "start_time": "2023-04-18T07:21:54.802185Z"
    }
   },
   "outputs": [
    {
     "data": {
      "text/plain": [
       "matrix([[-7.80137067]])"
      ]
     },
     "execution_count": 15,
     "metadata": {},
     "output_type": "execute_result"
    }
   ],
   "source": [
    "(-A@_)[0]/_[0]"
   ]
  },
  {
   "cell_type": "markdown",
   "id": "def29a55",
   "metadata": {
    "slideshow": {
     "slide_type": ""
    }
   },
   "source": [
    "# Révisions sur les méthodes de quadrature"
   ]
  },
  {
   "cell_type": "markdown",
   "id": "fa1364de",
   "metadata": {},
   "source": [
    "*Une méthode de quadrature est une méthode qui permet de calculer des intégrales.*"
   ]
  },
  {
   "cell_type": "markdown",
   "id": "07375775",
   "metadata": {},
   "source": [
    "## Exercice"
   ]
  },
  {
   "cell_type": "markdown",
   "id": "9c4ae866",
   "metadata": {},
   "source": [
    "*Méthode des trapèzes*\n",
    "\n",
    "On rappelle que si on a une fonction $f\\in\\mathscr{C}^2\\left([a,b],\\mathbb{R}\\right)$, la *méthode des trapèzes* consiste à évaluer l'intégrale de $f$ sur $[a,b]$, pour un $n\\in\\mathbb{N}^*$ par\n",
    "$$\\boxed{I_n=\\frac{b-a}{2\\,n}\\,\\left(f(a)+f(b)+\\sum_{k=1}^{n-1}f\\left(a+k\\,\\frac{b-a}{n}\\right)\\right)}$$\n",
    "On pose, pour $x\\in[a,b]$\n",
    "$$\\varphi(x)=\\int_a^x f(t)\\;\\mathrm{d}t-\\frac{x-a}{2}\\,\\left(f(a)+f(x)\\right)$$\n",
    "1. Montrer, en utilisant la formule de Taylor avec reste intégral à l'ordre 2 en $a$ que\n",
    "$$\\left|\\varphi(b)\\right|\\le \\frac{(b-a)^3}{12}\\,\\sup_{t\\in[a,b]}\\left(\\left|f''(t)\\right|\\right)$$\n",
    "1. En déduire que, pour $n\\in\\mathbb{N}^*$\n",
    "$$\\boxed{\\left|\\int_a^b f(t)\\;\\mathrm{d}t-I_n\\right|\\le \\frac{(b-a)^3}{12\\,n^2}\\,\\sup_{t\\in[a,b]}\\left(\\left|f''(t)\\right|\\right)}$$"
   ]
  },
  {
   "cell_type": "markdown",
   "id": "2c57e3c7",
   "metadata": {},
   "source": [
    "**Question 1**"
   ]
  },
  {
   "cell_type": "markdown",
   "id": "f8b28238",
   "metadata": {},
   "source": [
    "La formule de Taylor avec reste intégral nous donne\n",
    "$$\\varphi(b)=\\varphi(a)+(b-a)\\,\\varphi'(a)+\\int_a^b (b-t)\\,\\varphi''(t)\\;\\mathrm{d}t$$\n",
    "Par ailleurs, d'après la définition de $\\varphi$ et le théorème fondamental de l'analyse, on a, pour $t\\in[a,b]$\n",
    "$$\\varphi'(t)=f(t)-\\frac{t-a}{2}\\, f'(t)-\\frac{1}{2}\\,(f(a)+f(t))\\quad\\text{et}\\quad \\varphi'(a)=0$$\n",
    "Puis\n",
    "$$\\varphi''(t)=-\\frac{t-a}{2}\\,f''(t)$$\n",
    "Donc\n",
    "$$\\forall t\\in[a,b],\\; \\left|\\varphi''(t)\\right|\\le \\frac{t-a}{2}\\,\\sup_{u\\in[a,b]}\\left|f''(u)\\right|$$"
   ]
  },
  {
   "cell_type": "code",
   "execution_count": 16,
   "id": "42dd3f63",
   "metadata": {
    "ExecuteTime": {
     "end_time": "2023-04-18T07:21:55.007859Z",
     "start_time": "2023-04-18T07:21:54.806304Z"
    }
   },
   "outputs": [],
   "source": [
    "import sympy as sp\n",
    "sp.init_printing()"
   ]
  },
  {
   "cell_type": "code",
   "execution_count": 17,
   "id": "3c46f4d8",
   "metadata": {
    "ExecuteTime": {
     "end_time": "2023-04-18T07:21:55.010897Z",
     "start_time": "2023-04-18T07:21:55.008890Z"
    }
   },
   "outputs": [],
   "source": [
    "a, b, t = sp.symbols('a b t', real=True)"
   ]
  },
  {
   "cell_type": "code",
   "execution_count": 18,
   "id": "3326c7c2",
   "metadata": {
    "ExecuteTime": {
     "end_time": "2023-04-18T07:21:55.511653Z",
     "start_time": "2023-04-18T07:21:55.011842Z"
    }
   },
   "outputs": [
    {
     "data": {
      "image/png": "[encoded data removed]",
      "text/latex": [
       "$\\displaystyle - \\frac{\\left(a - b\\right)^{3}}{12}$"
      ],
      "text/plain": [
       "        3 \n",
       "-(a - b)  \n",
       "──────────\n",
       "    12    "
      ]
     },
     "execution_count": 18,
     "metadata": {},
     "output_type": "execute_result"
    }
   ],
   "source": [
    "sp.integrate((b-t)*(t-a)/2, (t, a, b)).factor()"
   ]
  },
  {
   "cell_type": "markdown",
   "id": "1405b193",
   "metadata": {},
   "source": [
    "**Question 2**"
   ]
  },
  {
   "cell_type": "markdown",
   "id": "eec4d7c6",
   "metadata": {},
   "source": [
    "Soit $n\\in\\mathbb{N}^*$, on pose alors\n",
    "$$\\forall k\\in\\{0,\\ldots,n\\},\\; a_k=a+k\\,\\frac{b-a}{n}$$\n",
    "Comme pour $k\\in\\{1,\\ldots,n\\}$, on a\n",
    "$$\\delta_n\\overset{\\text{Not}}{=}\\left|\\int_{a_{k-1}}^{a_k} f(t)\\;\\mathrm{d}t-\\frac{a_k-a_{k-1}}{2}\\,\\left(f\\left(a_{k-1}\\right)+f\\left(a_k\\right)\\right)\\right|\\le \\frac{(b-a)^3}{12\\,n^3}\\,\\sup_{t\\in[a_{k-1},a_k]}\\left|f''(t)\\right|\\le \\frac{(b-a)^3}{12\\,n^3}\\,\\sup_{t\\in[a,b]}\\left|f''(t)\\right|$$\n",
    "Puis\n",
    "$$\\left|\\int_a^b f(t)\\;\\mathrm{d}t -I_n\\right|\\le \\sum_{k=1}^n \\delta_n\\le \\frac{(b-a)^3}{12\\, n^2}\\, \\sup_{t\\in[a,b]}\\left|f''(t)\\right|$$"
   ]
  },
  {
   "cell_type": "markdown",
   "id": "41ec7977",
   "metadata": {},
   "source": [
    "## Exercice"
   ]
  },
  {
   "cell_type": "markdown",
   "id": "37565e21",
   "metadata": {},
   "source": [
    "*Méthode de Gauss*\n",
    "\n",
    "On se ramène à l'intervalle $[-1,+1]$ en posant \n",
    "$$\\forall u\\in[-1,+1],\\; g(u)\\overset{\\text{Def}}{=} f\\left(\\frac{a+b}{2}+u\\,\\frac{b-a}{2}\\right)$$\n",
    "et on va évaluer \n",
    "$$\\int_{-1}^{+1} g(u)\\;\\mathrm{d}u$$\n",
    "La *méthode de Gauss* consiste, pour un $p\\in\\mathbb{N}^*$ à trouver $p$ réels $\\left(\\alpha_{1,p},\\ldots,\\alpha_{p,p}\\right)$ et $p$ réels dans $[-1,+1]$, $\\left(t_{1,p},\\ldots,t_{p,p}\\right)$ tels que\n",
    "$$-1\\le t_{1,p}<\\cdots<t_{p,p}\\le +1\\quad\\text{et}\\quad J_p(f)=\\sum_{k=1}^p \\alpha_{k,p}\\, f\\left(t_{k,p}\\right)$$\n",
    "vérifie\n",
    "$$\\forall k\\in\\{0,\\ldots,2\\,p-1\\},\\; J_p\\left(t\\longmapsto t^k\\right)=\\int_{-1}^{+1} t^k\\;\\mathrm{d}t$$\n",
    "1. Quelle relation y a-t-il entre\n",
    "$$\\int_a^b f(t)\\;\\mathrm{d}t\\quad\\text{et}\\quad \\int_{-1}^{+1}g(u)\\;\\mathrm{d}u\\;?$$\n",
    "1. Montrer que, si on connaît les $t_{k,p}$, alors il y a existence et unicité des $\\alpha_{k,p}$.\n",
    "1. On pose, pour $n\\in\\mathbb{N}$ et $x\\in\\mathbb{R}$\n",
    "$$L_n(x)\\overset{\\text{Def}}{=} \\frac{1}{2^n\\,n!}\\, \\frac{\\mathrm{d}^n}{\\mathrm{d}x^n}\\left(\\left(x^{2}-1\\right)^n  \\right)$$\n",
    "    1. Montrer que $\\left(L_n\\right)_{n\\in\\mathbb{N}}$ est une famille orthonormée échelonnée en degré pour le produit scalaire ($f$ et $g$ sont dans $\\mathscr{C}\\left([-1,+1],\\mathbb{R}\\right)$)\n",
    "    $$\\langle f, g\\rangle = \\frac{1}{2}\\,\\int_{-1}^{+1} f(t)\\,g(t)\\;\\mathrm{d}t$$\n",
    "    1. Vérifier que si $p\\in\\{1,\\ldots,5\\}$, $L_p$ possède $p$ racines simples dans $[-1+1]$.\n",
    "    1. Montrer que, plus généralement, $L_p$ possède exactement $p$ racines simples dans $[-1,+1]$ (que nous prendons comme $t_{1,p}$, ..., $t_{p,p}$)\n",
    "    1. Montrer qu'alors le système\n",
    "    $$\\forall k\\in\\{0,\\ldots,2\\,p-1\\},\\;J_p\\left(t\\longmapsto t^k\\right)=\\int_{-1}^{+1} t^k\\;\\mathrm{d}t$$\n",
    "    admet une solution unique pour $\\alpha_{1,p}$, ..., $\\alpha_{p,p}$ et les calculer pour $p\\in\\{1,\\ldots,5\\}$."
   ]
  },
  {
   "cell_type": "markdown",
   "id": "29e19ed5",
   "metadata": {},
   "source": [
    "On admet que\n",
    "$$\\left|\\int_{-1}^{+1} g(u)\\;\\mathrm{d}u-J_p(g)\\right|\\le \\frac{2^{2\\,p+1}\\, (p!)^4}{(2\\,p+1)\\, [(2\\,p)!]^3}\\, \\underbrace{\\max_{u\\in[-1,+1]}\\left|g^{(2\\,p)}(u)\\right|}_{\\overset{\\text{Not}}{=} M_{2\\,p}}$$"
   ]
  },
  {
   "cell_type": "markdown",
   "id": "9845fc06",
   "metadata": {},
   "source": [
    "**Question 1**\n",
    "\n",
    "On a par le changement de variable $t=\\frac{a+b}{2}+u\\,\\frac{b-a}{2}$\n",
    "$$\\int_a^b f(t)\\;\\mathrm{d}t=\\frac{b-a}{2}\\,\\int_{-1}^{+1} g(u)\\;\\mathrm{d}u$$"
   ]
  },
  {
   "cell_type": "markdown",
   "id": "31981c2a",
   "metadata": {},
   "source": [
    "**Question 2**\n",
    "\n",
    "Le déterminant du système est un déterminant de Van der Monde."
   ]
  },
  {
   "cell_type": "markdown",
   "id": "f48bfbba",
   "metadata": {},
   "source": [
    "**Question 3-A**\n",
    "\n",
    "On calcule pour $n\\le m$ \n",
    "$$\\left\\langle L_n,L_n\\right\\rangle=\\frac{1}{2}\\, \\int_{-1}^{+1} \\frac{1}{2^{n+m}\\, n!\\,m!}\\,\\frac{\\mathrm{d}^n}{\\mathrm{d}x^n}\\left(\\left(x^2-1\\right)^n\\right)\\,\\frac{\\mathrm{d}^m}{\\mathrm{d}x^m}\\left(\\left(x^2-1\\right)^m\\right)\\;\\mathrm{d}x$$\n",
    "En utilisant le fait que\n",
    "$$\\forall k\\in\\{0,\\ldots,n-1\\},\\; x\\longmapsto \\frac{\\mathrm{d}^k}{\\mathrm{d}x^k}\\left(\\left(x^2-1\\right)^n\\right) \\text{ s'annule en $\\pm1$}$$\n",
    "et en faisant $n$ intégrations par parties, on obtient\n",
    "$$\\langle L_n,L_n\\rangle=\\frac{(-1)^n}{2^{m+n+1}\\,n!\\,m!} \\,\\int_{-1}^{+1} \\left(x^2-1\\right)^n\\, \\frac{\\mathrm{d}^{n+m}}{\\mathrm{d} x^{n+m}}\\left(\\left(x^2-1\\right)^m\\right)\\;\\mathrm{d}x$$\n",
    "1. Si $m>n$, alors \n",
    "$$\\forall x\\in [-1,1],\\; \\frac{\\mathrm{d}^{n+m}}{\\mathrm{d} x^{n+m}}\\left(\\left(x^2-1\\right)^m\\right)=0$$\n",
    "donc $\\langle L_n,L_m\\rangle=0$.\n",
    "1. Si $n=m$, on obtient\n",
    "$$\\langle L_n,L_n\\rangle=\\frac{(-1)^n}{2^{2\\,n+1}\\, \\left(n!\\right)^2} \\, \\int_{-1}^{+1} \\left(x^2-1\\right)^n\\;\\mathrm{d}x$$\n",
    "Le changement de variable $x=\\sin(t)$ nous ramène à une intégrale de Wallis."
   ]
  },
  {
   "cell_type": "code",
   "execution_count": 19,
   "id": "a0d2b5e0",
   "metadata": {
    "ExecuteTime": {
     "end_time": "2023-04-18T07:21:55.834533Z",
     "start_time": "2023-04-18T07:21:55.513480Z"
    }
   },
   "outputs": [
    {
     "data": {
      "image/png": "[encoded data removed]",
      "text/latex": [
       "$\\displaystyle \\left[ 1, \\  \\frac{1}{6}, \\  \\frac{1}{120}, \\  \\frac{1}{5040}, \\  \\frac{1}{362880}\\right]$"
      ],
      "text/plain": [
       "[1, 1/6, 1/120, 1/5040, 1/362880]"
      ]
     },
     "execution_count": 19,
     "metadata": {},
     "output_type": "execute_result"
    }
   ],
   "source": [
    "[(-1)**n/(2**(2*n+1)*sp.factorial(n)**2)*sp.integrate((t**2-1)**n, (t, -1, 1)) for n in range(5)]"
   ]
  },
  {
   "cell_type": "markdown",
   "id": "88c26d41",
   "metadata": {},
   "source": [
    "La famille est bien orthogonale, masi elle n'est pas orthonormée. Le coefficient indiqué sert imposer $L_n(1)=1$. Comme seuls les zéros de $L_n$ nous intéressent, le coefficient de proportionnalité n'est pas important."
   ]
  },
  {
   "cell_type": "code",
   "execution_count": 20,
   "id": "9ad62ab1",
   "metadata": {
    "ExecuteTime": {
     "end_time": "2023-04-18T07:21:56.149749Z",
     "start_time": "2023-04-18T07:21:55.835671Z"
    }
   },
   "outputs": [
    {
     "data": {
      "image/png": "[encoded data removed]",
      "text/latex": [
       "$\\displaystyle \\left[ 1, \\  1, \\  1, \\  1, \\  1\\right]$"
      ],
      "text/plain": [
       "[1, 1, 1, 1, 1]"
      ]
     },
     "execution_count": 20,
     "metadata": {},
     "output_type": "execute_result"
    }
   ],
   "source": [
    "[(sp.diff((t**2-1)**n, t, n)/2**n/sp.factorial(n)).subs({t: 1}) for n in range(5)]"
   ]
  },
  {
   "cell_type": "markdown",
   "id": "35f0f922",
   "metadata": {},
   "source": [
    "**Question 3-B**"
   ]
  },
  {
   "cell_type": "code",
   "execution_count": 21,
   "id": "cdd331b5",
   "metadata": {
    "ExecuteTime": {
     "end_time": "2023-04-18T07:21:56.498291Z",
     "start_time": "2023-04-18T07:21:56.151305Z"
    }
   },
   "outputs": [
    {
     "data": {
      "image/png": "[encoded data removed]",
      "text/latex": [
       "$\\displaystyle \\left[ t, \\  \\frac{3 t^{2} - 1}{2}, \\  \\frac{t \\left(5 t^{2} - 3\\right)}{2}, \\  t^{4} + 3 t^{2} \\left(t^{2} - 1\\right) + \\frac{3 \\left(t^{2} - 1\\right)^{2}}{8}, \\  \\frac{t \\left(8 t^{4} + 40 t^{2} \\left(t^{2} - 1\\right) + 15 \\left(t^{2} - 1\\right)^{2}\\right)}{8}\\right]$"
      ],
      "text/plain": [
       "⎡                                                          2    ⎛             \n",
       "⎢      2        ⎛   2    ⎞                         ⎛ 2    ⎞     ⎜   4       2 \n",
       "⎢   3⋅t  - 1  t⋅⎝5⋅t  - 3⎠   4      2 ⎛ 2    ⎞   3⋅⎝t  - 1⎠   t⋅⎝8⋅t  + 40⋅t ⋅\n",
       "⎢t, ────────, ────────────, t  + 3⋅t ⋅⎝t  - 1⎠ + ───────────, ────────────────\n",
       "⎣      2           2                                  8                       \n",
       "\n",
       "                      2⎞⎤\n",
       "⎛ 2    ⎞      ⎛ 2    ⎞ ⎟⎥\n",
       "⎝t  - 1⎠ + 15⋅⎝t  - 1⎠ ⎠⎥\n",
       "────────────────────────⎥\n",
       "   8                    ⎦"
      ]
     },
     "execution_count": 21,
     "metadata": {},
     "output_type": "execute_result"
    }
   ],
   "source": [
    "L = [sp.diff((t**2-1)**n/(2**n*sp.factorial(n)), t, n) for n in range(1, 6)]\n",
    "L"
   ]
  },
  {
   "cell_type": "code",
   "execution_count": 22,
   "id": "d508e810",
   "metadata": {
    "ExecuteTime": {
     "end_time": "2023-04-18T07:21:56.872444Z",
     "start_time": "2023-04-18T07:21:56.499701Z"
    }
   },
   "outputs": [
    {
     "data": {
      "image/png": "[encoded data removed]",
      "text/latex": [
       "$\\displaystyle \\left[ \\left[ 0\\right], \\  \\left[ - \\frac{\\sqrt{3}}{3}, \\  \\frac{\\sqrt{3}}{3}\\right], \\  \\left[ 0, \\  - \\frac{\\sqrt{15}}{5}, \\  \\frac{\\sqrt{15}}{5}\\right], \\  \\left[ - \\sqrt{\\frac{3}{7} - \\frac{2 \\sqrt{30}}{35}}, \\  \\sqrt{\\frac{3}{7} - \\frac{2 \\sqrt{30}}{35}}, \\  - \\sqrt{\\frac{2 \\sqrt{30}}{35} + \\frac{3}{7}}, \\  \\sqrt{\\frac{2 \\sqrt{30}}{35} + \\frac{3}{7}}\\right], \\  \\left[ 0, \\  - \\sqrt{\\frac{5}{9} - \\frac{2 \\sqrt{70}}{63}}, \\  \\sqrt{\\frac{5}{9} - \\frac{2 \\sqrt{70}}{63}}, \\  - \\sqrt{\\frac{2 \\sqrt{70}}{63} + \\frac{5}{9}}, \\  \\sqrt{\\frac{2 \\sqrt{70}}{63} + \\frac{5}{9}}\\right]\\right]$"
      ],
      "text/plain": [
       "⎡                                  ⎡     ___________      ___________       __\n",
       "⎢     ⎡-√3   √3⎤  ⎡   -√15   √15⎤  ⎢    ╱ 3   2⋅√30      ╱ 3   2⋅√30       ╱ 2\n",
       "⎢[0], ⎢────, ──⎥, ⎢0, ─────, ───⎥, ⎢-  ╱  ─ - ───── ,   ╱  ─ - ───── , -  ╱  ─\n",
       "⎣     ⎣ 3    3 ⎦  ⎣     5     5 ⎦  ⎣ ╲╱   7     35    ╲╱   7     35     ╲╱    \n",
       "\n",
       "_________      ___________⎤  ⎡        ___________      ___________       _____\n",
       "⋅√30   3      ╱ 2⋅√30   3 ⎥  ⎢       ╱ 5   2⋅√70      ╱ 5   2⋅√70       ╱ 2⋅√7\n",
       "──── + ─ ,   ╱  ───── + ─ ⎥, ⎢0, -  ╱  ─ - ───── ,   ╱  ─ - ───── , -  ╱  ────\n",
       " 35    7   ╲╱     35    7 ⎦  ⎣    ╲╱   9     63    ╲╱   9     63     ╲╱     63\n",
       "\n",
       "______      ___________⎤⎤\n",
       "0   5      ╱ 2⋅√70   5 ⎥⎥\n",
       "─ + ─ ,   ╱  ───── + ─ ⎥⎥\n",
       "    9   ╲╱     63    9 ⎦⎦"
      ]
     },
     "execution_count": 22,
     "metadata": {},
     "output_type": "execute_result"
    }
   ],
   "source": [
    "racines = [sp.solve(P, t) for P in L]\n",
    "racines"
   ]
  },
  {
   "cell_type": "code",
   "execution_count": 23,
   "id": "7d26d27d",
   "metadata": {
    "ExecuteTime": {
     "end_time": "2023-04-18T07:21:56.876170Z",
     "start_time": "2023-04-18T07:21:56.873912Z"
    }
   },
   "outputs": [],
   "source": [
    "def myevalf(l):\n",
    "    return list(map(lambda t: t.evalf(), l))"
   ]
  },
  {
   "cell_type": "code",
   "execution_count": 24,
   "id": "e2338984",
   "metadata": {
    "ExecuteTime": {
     "end_time": "2023-04-18T07:21:57.175015Z",
     "start_time": "2023-04-18T07:21:56.877391Z"
    }
   },
   "outputs": [
    {
     "data": {
      "image/png": "[encoded data removed]",
      "text/latex": [
       "$\\displaystyle \\left[ \\left[ 0\\right], \\  \\left[ -0.577350269189626, \\  0.577350269189626\\right], \\  \\left[ 0, \\  -0.774596669241483, \\  0.774596669241483\\right], \\  \\left[ -0.339981043584856, \\  0.339981043584856, \\  -0.861136311594053, \\  0.861136311594053\\right], \\  \\left[ 0, \\  -0.538469310105683, \\  0.538469310105683, \\  -0.906179845938664, \\  0.906179845938664\\right]\\right]$"
      ],
      "text/plain": [
       "[[0], [-0.577350269189626, 0.577350269189626], [0, -0.774596669241483, 0.77459\n",
       "6669241483], [-0.339981043584856, 0.339981043584856, -0.861136311594053, 0.861\n",
       "136311594053], [0, -0.538469310105683, 0.538469310105683, -0.906179845938664, \n",
       "0.906179845938664]]"
      ]
     },
     "execution_count": 24,
     "metadata": {},
     "output_type": "execute_result"
    }
   ],
   "source": [
    "[myevalf(i) for i in _]"
   ]
  },
  {
   "cell_type": "markdown",
   "id": "cd8848cc",
   "metadata": {},
   "source": [
    "**Question 3-C**\n",
    "\n",
    "Pour ceux qui aiment les exercices classiques ! On écrit $L_n(x)$ sous la forme\n",
    "$$L_n(x)=\\prod_{i=1}^p (x-\\alpha_i)^{n_i}\\,Q(x)$$\n",
    "où \n",
    "$$-1\\le \\alpha_1<\\cdots<\\alpha_p\\le 1$$\n",
    "sont les racines de $L_n$ dans $[-1,1]$.\n",
    "\n",
    "Puis\n",
    "$$\\Delta=\\left\\{k\\in\\{1,\\ldots,p\\},\\; n_k\\text{ est impair}\\right\\}$$\n",
    "et on exprime que si $\\Delta\\ne\\{1,\\ldots,n\\}$ alors\n",
    "$L_n$ est orthogonal à la fonction polynomiale\n",
    "$$x\\longmapsto \\prod_{i\\in\\Delta}\\left(x-\\alpha_i\\right)$$\n",
    "ce qui est impossible car l'intégrale est $>0$."
   ]
  },
  {
   "cell_type": "markdown",
   "id": "6fe0d066",
   "metadata": {},
   "source": [
    "**Question 3.D**"
   ]
  },
  {
   "cell_type": "code",
   "execution_count": 25,
   "id": "f7a37870",
   "metadata": {
    "ExecuteTime": {
     "end_time": "2023-04-18T07:21:57.478714Z",
     "start_time": "2023-04-18T07:21:57.176717Z"
    }
   },
   "outputs": [
    {
     "data": {
      "image/png": "[encoded data removed]",
      "text/latex": [
       "$\\displaystyle \\left[ 0, \\  \\frac{2}{3}, \\  0, \\  \\frac{2}{5}, \\  0\\right]$"
      ],
      "text/plain": [
       "[0, 2/3, 0, 2/5, 0]"
      ]
     },
     "execution_count": 25,
     "metadata": {},
     "output_type": "execute_result"
    }
   ],
   "source": [
    "b = [sp.integrate(t**k, (t, -1, 1)) for k in range(1, 6)]\n",
    "b"
   ]
  },
  {
   "cell_type": "code",
   "execution_count": 26,
   "id": "352f21f2",
   "metadata": {
    "ExecuteTime": {
     "end_time": "2023-04-18T07:21:58.311793Z",
     "start_time": "2023-04-18T07:21:57.480113Z"
    }
   },
   "outputs": [],
   "source": [
    "alpha = sp.IndexedBase('\\\\alpha')\n",
    "\n",
    "eqs = []\n",
    "for i in range(1, 5):\n",
    "    r = racines[i]\n",
    "    eq = [sp.Eq(sum([alpha[j] for j in range(i+1)]), 2)]\n",
    "    aux = [sp.Eq(sum([alpha[j]*r[j]**(l+1) for j in range(i+1)]), b[l])\n",
    "           for l in range(i)]\n",
    "    eq.extend(aux)\n",
    "    eqs.append(sp.solve(eq, [alpha[j] for j in range(i+1)]))"
   ]
  },
  {
   "cell_type": "code",
   "execution_count": 27,
   "id": "2b64eeed",
   "metadata": {
    "ExecuteTime": {
     "end_time": "2023-04-18T07:21:58.625720Z",
     "start_time": "2023-04-18T07:21:58.313439Z"
    }
   },
   "outputs": [
    {
     "data": {
      "image/png": "[encoded data removed]",
      "text/latex": [
       "$\\displaystyle \\left[ \\left\\{ {\\alpha}_{0} : 1, \\  {\\alpha}_{1} : 1\\right\\}, \\  \\left\\{ {\\alpha}_{0} : \\frac{8}{9}, \\  {\\alpha}_{1} : \\frac{5}{9}, \\  {\\alpha}_{2} : \\frac{5}{9}\\right\\}, \\  \\left\\{ {\\alpha}_{0} : \\frac{\\sqrt{30}}{36} + \\frac{1}{2}, \\  {\\alpha}_{1} : \\frac{\\sqrt{30}}{36} + \\frac{1}{2}, \\  {\\alpha}_{2} : \\frac{1}{2} - \\frac{\\sqrt{30}}{36}, \\  {\\alpha}_{3} : \\frac{1}{2} - \\frac{\\sqrt{30}}{36}\\right\\}, \\  \\left\\{ {\\alpha}_{0} : \\frac{128}{225}, \\  {\\alpha}_{1} : \\frac{13 \\sqrt{70}}{900} + \\frac{161}{450}, \\  {\\alpha}_{2} : \\frac{13 \\sqrt{70}}{900} + \\frac{161}{450}, \\  {\\alpha}_{3} : \\frac{161}{450} - \\frac{13 \\sqrt{70}}{900}, \\  {\\alpha}_{4} : \\frac{161}{450} - \\frac{13 \\sqrt{70}}{900}\\right\\}\\right]$"
      ],
      "text/plain": [
       "⎡                                                                             \n",
       "⎢{\\alpha[0]: 1, \\alpha[1]: 1}, {\\alpha[0]: 8/9, \\alpha[1]: 5/9, \\alpha[2]: 5/9\n",
       "⎣                                                                             \n",
       "\n",
       "   ⎧           √30   1             √30   1             1   √30             1  \n",
       "}, ⎨\\alpha[0]: ─── + ─, \\alpha[1]: ─── + ─, \\alpha[2]: ─ - ───, \\alpha[3]: ─ -\n",
       "   ⎩            36   2              36   2             2    36             2  \n",
       "\n",
       " √30⎫  ⎧           128             13⋅√70   161             13⋅√70   161      \n",
       " ───⎬, ⎨\\alpha[0]: ───, \\alpha[1]: ────── + ───, \\alpha[2]: ────── + ───, \\alp\n",
       "  36⎭  ⎩           225              900     450              900     450      \n",
       "\n",
       "       161   13⋅√70             161   13⋅√70⎫⎤\n",
       "ha[3]: ─── - ──────, \\alpha[4]: ─── - ──────⎬⎥\n",
       "       450    900               450    900  ⎭⎦"
      ]
     },
     "execution_count": 27,
     "metadata": {},
     "output_type": "execute_result"
    }
   ],
   "source": [
    "eqs"
   ]
  },
  {
   "cell_type": "markdown",
   "id": "378507fc",
   "metadata": {},
   "source": [
    "## Exercice"
   ]
  },
  {
   "cell_type": "markdown",
   "id": "717ce954",
   "metadata": {},
   "source": [
    "On veut calculer \n",
    "$$I=\\int_0^2 e^{-t^2}\\;\\mathrm{d}t\\quad\\text{à $10^{-5}$ près}$$\n",
    "1. Utiliser `numpy` pour avoir une valeur approchée et en connaître sa précision.\n",
    "1. Combien faudrait-il de valeurs de $f(t_k)$ pour calculer $I$ à la précision demandée avec la méthode des trapèzes ?\n",
    "1. En effectuant la méthode de Gauss avec $p=3$ sur $n$ intervalles, combien faudrait-il de valeurs de $f(t_k)$ pour calculer $I$ à la précision demandée avec cette méthode ?"
   ]
  }
 ],
 "metadata": {
  "kernelspec": {
   "display_name": "Python 3 (ipykernel)",
   "language": "python",
   "name": "python3"
  },
  "language_info": {
   "codemirror_mode": {
    "name": "ipython",
    "version": 3
   },
   "file_extension": ".py",
   "mimetype": "text/x-python",
   "name": "python",
   "nbconvert_exporter": "python",
   "pygments_lexer": "ipython3",
   "version": "3.8.2"
  },
  "toc": {
   "base_numbering": 1,
   "nav_menu": {},
   "number_sections": true,
   "sideBar": true,
   "skip_h1_title": false,
   "title_cell": "Table of Contents",
   "title_sidebar": "Contents",
   "toc_cell": false,
   "toc_position": {},
   "toc_section_display": true,
   "toc_window_display": false
  }
 },
 "nbformat": 4,
 "nbformat_minor": 5
}

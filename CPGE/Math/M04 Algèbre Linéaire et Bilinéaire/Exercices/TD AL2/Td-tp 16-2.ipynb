{
 "cells": [
  {
   "cell_type": "markdown",
   "id": "228650ab",
   "metadata": {},
   "source": [
    "# Espaces hermitiens"
   ]
  },
  {
   "cell_type": "markdown",
   "id": "1a5941b6",
   "metadata": {},
   "source": [
    "## Exercice"
   ]
  },
  {
   "cell_type": "markdown",
   "id": "285e8f04",
   "metadata": {},
   "source": [
    "Soit $E$ un espace hermitien et $u\\in\\mathscr{L}(E)$ tel que\n",
    "$$\\forall x\\in E, \\; \\langle u(x),x\\rangle=0$$\n",
    "Montrer que $u=0_{_{\\mathscr{L}(E)}}$."
   ]
  },
  {
   "cell_type": "markdown",
   "id": "749f3ee2",
   "metadata": {},
   "source": [
    "## Exercice"
   ]
  },
  {
   "cell_type": "markdown",
   "id": "1f69f5df",
   "metadata": {},
   "source": [
    "On considère la matrice\n",
    "$$A=\\begin{bmatrix} 4&i&-i\\\\ -i&4&1\\\\ i&1&4\\end{bmatrix}$$\n",
    "1. À quel sous-ensemble de $\\mathrm{M}_3(\\mathbb{C})$ appartient $A$ ? Qu'en déduit-on ?\n",
    "1. Diagonaliser $A$ en base orthonormée."
   ]
  },
  {
   "cell_type": "code",
   "execution_count": null,
   "id": "449d3898",
   "metadata": {
    "ExecuteTime": {
     "end_time": "2023-05-31T05:46:12.119632Z",
     "start_time": "2023-05-31T05:46:11.869333Z"
    }
   },
   "outputs": [],
   "source": [
    "import sympy as sp\n",
    "sp.init_printing()"
   ]
  },
  {
   "cell_type": "code",
   "execution_count": null,
   "id": "90b257f5",
   "metadata": {
    "ExecuteTime": {
     "end_time": "2023-05-31T05:46:12.550000Z",
     "start_time": "2023-05-31T05:46:12.120737Z"
    }
   },
   "outputs": [],
   "source": [
    "A = sp.Matrix([[4, sp.I, -sp.I], [-sp.I, 4, 1], [sp.I, 1, 4]])\n",
    "A"
   ]
  },
  {
   "cell_type": "markdown",
   "id": "de19ab75",
   "metadata": {},
   "source": [
    "## Exercice"
   ]
  },
  {
   "cell_type": "markdown",
   "id": "38dc64fd",
   "metadata": {},
   "source": [
    "1. Soit $E$ un espace hermitien, soit $u\\in\\mathscr{L}(E)$, montrer qu'il existe une base *orthonormée* $\\mathcal{B}$ telle que \n",
    "$$\\mathrm{Mat}\\left(u,\\mathcal{B}\\right)\\in \\mathrm{T}_n^+\\left(\\mathbb{C}\\right)$$\n",
    "1. Trigonaliser en base orthonormée la matrice\n",
    "$$A = \\begin{bmatrix}4 \\,i-5 & 12 \\, i+15 & 5 \\, i+27\\\\\n",
    "3 \\, i+1 & 8-5 \\, i & 6-12 \\, i\\\\\n",
    "-\\, i & \\, i-3 & 4 \\, i-3\\end{bmatrix}$$"
   ]
  },
  {
   "cell_type": "code",
   "execution_count": null,
   "id": "ad5564bd",
   "metadata": {
    "ExecuteTime": {
     "end_time": "2023-05-31T05:46:13.730392Z",
     "start_time": "2023-05-31T05:46:13.445203Z"
    }
   },
   "outputs": [],
   "source": [
    "A = sp.Matrix([[4*sp.I-5, 12*sp.I+15, 5*sp.I+27], [3*sp.I+1,\n",
    "              8-5*sp.I, 6-12*sp.I], [-sp.I, sp.I-3, 4*sp.I-3]])\n",
    "A"
   ]
  }
 ],
 "metadata": {
  "kernelspec": {
   "display_name": "Python 3 (ipykernel)",
   "language": "python",
   "name": "python3"
  },
  "language_info": {
   "codemirror_mode": {
    "name": "ipython",
    "version": 3
   },
   "file_extension": ".py",
   "mimetype": "text/x-python",
   "name": "python",
   "nbconvert_exporter": "python",
   "pygments_lexer": "ipython3",
   "version": "3.8.2"
  },
  "toc": {
   "base_numbering": 1,
   "nav_menu": {},
   "number_sections": true,
   "sideBar": true,
   "skip_h1_title": false,
   "title_cell": "Table of Contents",
   "title_sidebar": "Contents",
   "toc_cell": false,
   "toc_position": {},
   "toc_section_display": true,
   "toc_window_display": false
  }
 },
 "nbformat": 4,
 "nbformat_minor": 5
}

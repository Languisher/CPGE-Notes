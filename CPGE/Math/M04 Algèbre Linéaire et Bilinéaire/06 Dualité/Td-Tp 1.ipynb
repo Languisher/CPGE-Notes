{
 "cells": [
  {
   "cell_type": "markdown",
   "id": "1bf9caa6",
   "metadata": {},
   "source": [
    "# Introduction à la dualité"
   ]
  },
  {
   "cell_type": "markdown",
   "id": "c95712f0",
   "metadata": {},
   "source": [
    "<div class=\"alert alert-info\">\n",
    "    \n",
    "Je rappelle que l'objectif des Td-Tps est multiple\n",
    "1. Vérifier qu'on a bien compris les notions mathématiques\n",
    "1. S'assurer qu'on sait utiliser `Python` pour faire les calculs utiles\n",
    "1. Apprendre à coordonner les réflexions mathématiques et les calculs informatiques.\n",
    "</div>"
   ]
  },
  {
   "cell_type": "markdown",
   "id": "befca72a",
   "metadata": {},
   "source": [
    "## Exercice : utilisation de la dualité"
   ]
  },
  {
   "cell_type": "markdown",
   "id": "e9d20ba6",
   "metadata": {},
   "source": [
    "On considère l'espace vectoriel $E=\\mathscr{C}\\left([a,b],\\mathbb{R}\\right)$ où $(a,b)\\in\\mathbb{R}^2$ et $a<b$. Soit $c\\in]a,b[$, on définit les 4 formes linéaires de $E^\\star$ suivantes\n",
    "$$\\varphi_1\\;:\\;f\\longmapsto f(a),\\quad \\varphi_2\\;:\\;f\\longmapsto f(b),\\quad \\varphi_3\\;:\\;f\\longmapsto f(c) \\quad\\text{et}\\quad\\varphi_4\\;:\\; f\\longmapsto \\int_a^b f(t)\\;\\mathrm{d}t$$\n",
    "1. À quelle(s) condition(s) nécessaire(s) et suffisante(s) ces 4 formes linéaires sont-elles indépendantes dans $E^\\star$ ?\n",
    "2. On considère le sous-espace vectoriel de $E$ défini par \n",
    "$$E_1=\\mathrm{Vect}\\left(\\left\\{x\\longmapsto x^k,\\;k\\in\\{0,\\ldots,3\\}\\right\\}\\right)$$\n",
    "Montrer que ces 4 formes linéaires sont indépendantes dans $E_1^\\star$ si, et seulement si, $c\\ne \\frac{a+b}2$.\n",
    "3. En déduire une méthode approchée de calcul d'intégrale. *On notera $I_f$ la valeur approchée trouvée.*"
   ]
  },
  {
   "cell_type": "markdown",
   "id": "c517a494",
   "metadata": {},
   "source": [
    "## Exercice : interpolation"
   ]
  },
  {
   "cell_type": "markdown",
   "id": "a81b7dd0",
   "metadata": {},
   "source": [
    "Soit $a_1<a_2<\\cdots<a_n$, $n$ réels, où $n\\in\\mathbb{N}^*\\setminus\\{1\\}$. Soit $(y_1,\\ldots,y_{n},z_1,\\ldots,z_n)\\in\\mathbb{R}^{2\\,n}$.\n",
    "1. Montrer l'existence et l'unicité d'une fonction polynomiale $P$ de degré $\\le 2\\,n-1$ qui vérifie\n",
    "$$\\forall i\\in\\{1,\\ldots,n\\},\\; P(a_i)=y_i\\quad\\text{ et }\\quad P'(a_{n+i})=z_i$$\n",
    "1. Calculer $P$."
   ]
  },
  {
   "cell_type": "markdown",
   "id": "0cae8af7",
   "metadata": {},
   "source": [
    "## Complément"
   ]
  },
  {
   "cell_type": "markdown",
   "id": "b64e0682",
   "metadata": {},
   "source": [
    "Pour ceux qui ont fini, on reprend l'exercice 1, mais on se place dans $E'=\\mathscr{C}^\\infty\\left([a,b],\\mathbb{R}\\right)$. Soit $f\\in E'$, donner un majorant de (évaluation de l'erreur de la méthode approchée).\n",
    "$$\\left|\\int_a^b f(t)\\;\\mathrm{d}t-I_f\\right|$$"
   ]
  }
 ],
 "metadata": {
  "kernelspec": {
   "display_name": "Python 3 (ipykernel)",
   "language": "python",
   "name": "python3"
  },
  "language_info": {
   "codemirror_mode": {
    "name": "ipython",
    "version": 3
   },
   "file_extension": ".py",
   "mimetype": "text/x-python",
   "name": "python",
   "nbconvert_exporter": "python",
   "pygments_lexer": "ipython3",
   "version": "3.8.2"
  },
  "toc": {
   "base_numbering": 1,
   "nav_menu": {},
   "number_sections": true,
   "sideBar": true,
   "skip_h1_title": false,
   "title_cell": "Table of Contents",
   "title_sidebar": "Contents",
   "toc_cell": false,
   "toc_position": {},
   "toc_section_display": true,
   "toc_window_display": false
  }
 },
 "nbformat": 4,
 "nbformat_minor": 5
}

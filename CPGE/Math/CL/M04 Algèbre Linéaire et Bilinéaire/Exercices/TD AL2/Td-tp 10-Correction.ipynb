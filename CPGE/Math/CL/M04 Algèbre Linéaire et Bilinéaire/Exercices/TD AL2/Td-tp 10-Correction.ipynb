{
 "cells": [
  {
   "cell_type": "markdown",
   "id": "32bc947b",
   "metadata": {},
   "source": [
    "# Réduction des matrices et des endomorphismes"
   ]
  },
  {
   "cell_type": "markdown",
   "id": "0ef9777e",
   "metadata": {},
   "source": [
    "## Exercice"
   ]
  },
  {
   "cell_type": "markdown",
   "id": "53d4db5a",
   "metadata": {},
   "source": [
    "Soit $M$ la matrice définie par\n",
    "$$M=\\left[\\begin{matrix}2 a - 1 & a + b - 1 & - a + b + 1 & 2 b\\\\- a - 2 b + 1 & 1 - b & a + b - 1 & 0\\\\a - b - 1 & a + b - 1 & 2 b + 1 & 3 b\\\\b & 0 & - b & a - b\\end{matrix}\\right]$$\n",
    "où $a$ et $b$ sont deux réels.\n",
    "1. Déterminer les valeurs propres et les espaces propres de $M$ suivant les valeurs de $a$ et $b$.\n",
    "1. Comparer avec le résultat de la commande `M.eigenvects()` "
   ]
  },
  {
   "cell_type": "code",
   "execution_count": 1,
   "id": "e4addc10",
   "metadata": {
    "ExecuteTime": {
     "end_time": "2023-04-20T03:26:11.044716Z",
     "start_time": "2023-04-20T03:26:10.820881Z"
    }
   },
   "outputs": [],
   "source": [
    "import sympy as sp\n",
    "sp.init_printing()"
   ]
  },
  {
   "cell_type": "code",
   "execution_count": 2,
   "id": "953cc46f",
   "metadata": {
    "ExecuteTime": {
     "end_time": "2023-04-20T03:26:11.048213Z",
     "start_time": "2023-04-20T03:26:11.045772Z"
    }
   },
   "outputs": [],
   "source": [
    "a, b = sp.symbols('a b', real=True)"
   ]
  },
  {
   "cell_type": "code",
   "execution_count": 3,
   "id": "2ff3a8a7",
   "metadata": {
    "ExecuteTime": {
     "end_time": "2023-04-20T03:26:11.481132Z",
     "start_time": "2023-04-20T03:26:11.049741Z"
    }
   },
   "outputs": [
    {
     "data": {
      "image/png": "[encoded data removed]",
      "text/latex": [
       "$\\displaystyle \\left[\\begin{matrix}2 a - 1 & a + b - 1 & - a + b + 1 & 2 b\\\\- a - 2 b + 1 & 1 - b & a + b - 1 & 0\\\\a - b - 1 & a + b - 1 & 2 b + 1 & 3 b\\\\b & 0 & - b & a - b\\end{matrix}\\right]$"
      ],
      "text/plain": [
       "⎡  2⋅a - 1     a + b - 1  -a + b + 1   2⋅b ⎤\n",
       "⎢                                          ⎥\n",
       "⎢-a - 2⋅b + 1    1 - b    a + b - 1     0  ⎥\n",
       "⎢                                          ⎥\n",
       "⎢ a - b - 1    a + b - 1   2⋅b + 1     3⋅b ⎥\n",
       "⎢                                          ⎥\n",
       "⎣     b            0          -b      a - b⎦"
      ]
     },
     "execution_count": 3,
     "metadata": {},
     "output_type": "execute_result"
    }
   ],
   "source": [
    "M = sp.Matrix([[2*a-1, a+b-1, -a+b+1, 2*b], [-a-2*b+1, 1-b, a +\n",
    "              b-1, 0], [a-b-1, a+b-1, 2*b+1, 3*b], [b, 0, -b, a-b]])\n",
    "M"
   ]
  },
  {
   "cell_type": "markdown",
   "id": "1d935d2e",
   "metadata": {},
   "source": [
    "**Question 1**\n",
    "\n",
    "On commence par créer un pivot en s'appuyant sur un des 1 de la première colonne. De plus, on ne travaille que sur les lignes pour pouvoir calculer les espaces propres.\n",
    "<div class=\"alert alert-info\"> Il faut éviter le plus possible de discuter sur des valeurs peut-être inutiles. </div>"
   ]
  },
  {
   "cell_type": "code",
   "execution_count": 4,
   "id": "7d024362",
   "metadata": {
    "ExecuteTime": {
     "end_time": "2023-04-20T03:26:11.784983Z",
     "start_time": "2023-04-20T03:26:11.482228Z"
    }
   },
   "outputs": [
    {
     "data": {
      "image/png": "[encoded data removed]",
      "text/latex": [
       "$\\displaystyle \\left[\\begin{matrix}2 a - x - 1 & a + b - 1 & - a + b + 1 & 2 b\\\\- a - 2 b + 1 & - b - x + 1 & a + b - 1 & 0\\\\a - b - 1 & a + b - 1 & 2 b - x + 1 & 3 b\\\\b & 0 & - b & a - b - x\\end{matrix}\\right]$"
      ],
      "text/plain": [
       "⎡2⋅a - x - 1   a + b - 1   -a + b + 1      2⋅b   ⎤\n",
       "⎢                                                ⎥\n",
       "⎢-a - 2⋅b + 1  -b - x + 1   a + b - 1       0    ⎥\n",
       "⎢                                                ⎥\n",
       "⎢ a - b - 1    a + b - 1   2⋅b - x + 1     3⋅b   ⎥\n",
       "⎢                                                ⎥\n",
       "⎣     b            0           -b       a - b - x⎦"
      ]
     },
     "execution_count": 4,
     "metadata": {},
     "output_type": "execute_result"
    }
   ],
   "source": [
    "x = sp.symbols('x', real=True)\n",
    "M-x*sp.eye(4)"
   ]
  },
  {
   "cell_type": "markdown",
   "id": "a1d75090",
   "metadata": {},
   "source": [
    "On va utiliser un des 1, pour faire apparaître un *bon* pivot."
   ]
  },
  {
   "cell_type": "code",
   "execution_count": 5,
   "id": "cf0883f4",
   "metadata": {
    "ExecuteTime": {
     "end_time": "2023-04-20T03:26:12.086915Z",
     "start_time": "2023-04-20T03:26:11.786497Z"
    }
   },
   "outputs": [
    {
     "data": {
      "image/png": "[encoded data removed]",
      "text/latex": [
       "$\\displaystyle \\left[\\begin{matrix}2 a - x - 1 & a + b - 1 & - a + b + 1 & 2 b\\\\1 - a & - b - x + 1 & a - b - 1 & 2 a - 2 b - 2 x\\\\a - b - 1 & a + b - 1 & 2 b - x + 1 & 3 b\\\\b & 0 & - b & a - b - x\\end{matrix}\\right]$"
      ],
      "text/plain": [
       "⎡2⋅a - x - 1  a + b - 1   -a + b + 1         2⋅b      ⎤\n",
       "⎢                                                     ⎥\n",
       "⎢   1 - a     -b - x + 1   a - b - 1   2⋅a - 2⋅b - 2⋅x⎥\n",
       "⎢                                                     ⎥\n",
       "⎢ a - b - 1   a + b - 1   2⋅b - x + 1        3⋅b      ⎥\n",
       "⎢                                                     ⎥\n",
       "⎣     b           0           -b          a - b - x   ⎦"
      ]
     },
     "execution_count": 5,
     "metadata": {},
     "output_type": "execute_result"
    }
   ],
   "source": [
    "_.elementary_row_op('n->n+km', 1, 2, 3)"
   ]
  },
  {
   "cell_type": "code",
   "execution_count": 6,
   "id": "6488341c",
   "metadata": {
    "ExecuteTime": {
     "end_time": "2023-04-20T03:26:12.384953Z",
     "start_time": "2023-04-20T03:26:12.088093Z"
    }
   },
   "outputs": [
    {
     "data": {
      "image/png": "[encoded data removed]",
      "text/latex": [
       "$\\displaystyle \\left[\\begin{matrix}2 a - x - 1 & a + b - 1 & - a + b + 1 & 2 b\\\\1 - a & - b - x + 1 & a - b - 1 & 2 a - 2 b - 2 x\\\\a - 1 & a + b - 1 & b - x + 1 & a + 2 b - x\\\\b & 0 & - b & a - b - x\\end{matrix}\\right]$"
      ],
      "text/plain": [
       "⎡2⋅a - x - 1  a + b - 1   -a + b + 1        2⋅b      ⎤\n",
       "⎢                                                    ⎥\n",
       "⎢   1 - a     -b - x + 1  a - b - 1   2⋅a - 2⋅b - 2⋅x⎥\n",
       "⎢                                                    ⎥\n",
       "⎢   a - 1     a + b - 1   b - x + 1     a + 2⋅b - x  ⎥\n",
       "⎢                                                    ⎥\n",
       "⎣     b           0           -b         a - b - x   ⎦"
      ]
     },
     "execution_count": 6,
     "metadata": {},
     "output_type": "execute_result"
    }
   ],
   "source": [
    "_.elementary_row_op('n->n+km', 2, 1, 3)"
   ]
  },
  {
   "cell_type": "code",
   "execution_count": 7,
   "id": "3a11f9ca",
   "metadata": {
    "ExecuteTime": {
     "end_time": "2023-04-20T03:26:12.681347Z",
     "start_time": "2023-04-20T03:26:12.386147Z"
    }
   },
   "outputs": [
    {
     "data": {
      "image/png": "[encoded data removed]",
      "text/latex": [
       "$\\displaystyle \\left[\\begin{matrix}2 a - x - 1 & a + b - 1 & - a + b + 1 & 2 b\\\\0 & a - x & a - x & 3 a - 3 x\\\\a - 1 & a + b - 1 & b - x + 1 & a + 2 b - x\\\\b & 0 & - b & a - b - x\\end{matrix}\\right]$"
      ],
      "text/plain": [
       "⎡2⋅a - x - 1  a + b - 1  -a + b + 1      2⋅b    ⎤\n",
       "⎢                                               ⎥\n",
       "⎢     0         a - x      a - x      3⋅a - 3⋅x ⎥\n",
       "⎢                                               ⎥\n",
       "⎢   a - 1     a + b - 1  b - x + 1   a + 2⋅b - x⎥\n",
       "⎢                                               ⎥\n",
       "⎣     b           0          -b       a - b - x ⎦"
      ]
     },
     "execution_count": 7,
     "metadata": {},
     "output_type": "execute_result"
    }
   ],
   "source": [
    "_.elementary_row_op('n->n+km', 1, 1, 2)"
   ]
  },
  {
   "cell_type": "markdown",
   "id": "054912f0",
   "metadata": {},
   "source": [
    "On voit que la deuxième ligne s'annule pour $x=a$, $a$ est donc une valeur propre."
   ]
  },
  {
   "cell_type": "code",
   "execution_count": 8,
   "id": "79804fe0",
   "metadata": {
    "ExecuteTime": {
     "end_time": "2023-04-20T03:26:12.979597Z",
     "start_time": "2023-04-20T03:26:12.682832Z"
    }
   },
   "outputs": [
    {
     "data": {
      "image/png": "[encoded data removed]",
      "text/latex": [
       "$\\displaystyle \\left[\\begin{matrix}a - 1 & a + b - 1 & - a + b + 1 & 2 b\\\\0 & 0 & 0 & 0\\\\a - 1 & a + b - 1 & - a + b + 1 & 2 b\\\\b & 0 & - b & - b\\end{matrix}\\right]$"
      ],
      "text/plain": [
       "⎡a - 1  a + b - 1  -a + b + 1  2⋅b⎤\n",
       "⎢                                 ⎥\n",
       "⎢  0        0          0        0 ⎥\n",
       "⎢                                 ⎥\n",
       "⎢a - 1  a + b - 1  -a + b + 1  2⋅b⎥\n",
       "⎢                                 ⎥\n",
       "⎣  b        0          -b      -b ⎦"
      ]
     },
     "execution_count": 8,
     "metadata": {},
     "output_type": "execute_result"
    }
   ],
   "source": [
    "M0 = _\n",
    "M0.subs({x: a})"
   ]
  },
  {
   "cell_type": "code",
   "execution_count": 9,
   "id": "145e3009",
   "metadata": {
    "ExecuteTime": {
     "end_time": "2023-04-20T03:26:13.276171Z",
     "start_time": "2023-04-20T03:26:12.981469Z"
    }
   },
   "outputs": [
    {
     "data": {
      "image/png": "[encoded data removed]",
      "text/latex": [
       "$\\displaystyle \\left[\\begin{matrix}a - 1 & a + b - 1 & - a + b + 1 & 2 b\\\\0 & 0 & 0 & 0\\\\0 & 0 & 0 & 0\\\\b & 0 & - b & - b\\end{matrix}\\right]$"
      ],
      "text/plain": [
       "⎡a - 1  a + b - 1  -a + b + 1  2⋅b⎤\n",
       "⎢                                 ⎥\n",
       "⎢  0        0          0        0 ⎥\n",
       "⎢                                 ⎥\n",
       "⎢  0        0          0        0 ⎥\n",
       "⎢                                 ⎥\n",
       "⎣  b        0          -b      -b ⎦"
      ]
     },
     "execution_count": 9,
     "metadata": {},
     "output_type": "execute_result"
    }
   ],
   "source": [
    "_.elementary_row_op('n->n+km', 2, -1, 0)"
   ]
  },
  {
   "cell_type": "markdown",
   "id": "57e6fa57",
   "metadata": {},
   "source": [
    "On a donc deux cas\n",
    "1. si $b=0$, le rang vaut 1 si $a\\ne1$ et 0 si $a=1$\n",
    "1. si $b\\ne 0$, le rang vaut 2"
   ]
  },
  {
   "cell_type": "code",
   "execution_count": 10,
   "id": "239a4850",
   "metadata": {
    "ExecuteTime": {
     "end_time": "2023-04-20T03:26:13.573798Z",
     "start_time": "2023-04-20T03:26:13.277333Z"
    }
   },
   "outputs": [
    {
     "data": {
      "image/png": "[encoded data removed]",
      "text/latex": [
       "$\\displaystyle \\left[\\begin{matrix}a - 1 & a - 1 & 1 - a & 0\\\\0 & 0 & 0 & 0\\\\0 & 0 & 0 & 0\\\\0 & 0 & 0 & 0\\end{matrix}\\right]$"
      ],
      "text/plain": [
       "⎡a - 1  a - 1  1 - a  0⎤\n",
       "⎢                      ⎥\n",
       "⎢  0      0      0    0⎥\n",
       "⎢                      ⎥\n",
       "⎢  0      0      0    0⎥\n",
       "⎢                      ⎥\n",
       "⎣  0      0      0    0⎦"
      ]
     },
     "execution_count": 10,
     "metadata": {},
     "output_type": "execute_result"
    }
   ],
   "source": [
    "M1 = _\n",
    "M1.subs({b: 0})"
   ]
  },
  {
   "cell_type": "markdown",
   "id": "cd6c63ab",
   "metadata": {},
   "source": [
    "1. Si $b=0$ et $a=1$, c'est l'identité. \n",
    "1. Si $b=0$ et $a\\ne 1$, $E_M(a)$ a pour équation dans $\\mathbb{C}^4$\n",
    "$$x+y-z=0$$\n",
    "c'est un hyperplan de base (par exemple)\n",
    "$$(1, -1, 0, 0),\\quad (1, 0,1,0),\\quad (0,0,0,1)$$"
   ]
  },
  {
   "cell_type": "code",
   "execution_count": 11,
   "id": "d707d984",
   "metadata": {
    "ExecuteTime": {
     "end_time": "2023-04-20T03:26:13.577786Z",
     "start_time": "2023-04-20T03:26:13.575186Z"
    }
   },
   "outputs": [],
   "source": [
    "# Cas où b est différent de 0\n",
    "alpha, beta, gamma, delta = sp.symbols(\n",
    "    '\\\\alpha \\\\beta \\\\gamma \\\\delta', real=True)\n",
    "X = sp.Matrix([alpha, beta, gamma, delta])"
   ]
  },
  {
   "cell_type": "code",
   "execution_count": 12,
   "id": "7473a1cb",
   "metadata": {
    "ExecuteTime": {
     "end_time": "2023-04-20T03:26:13.906045Z",
     "start_time": "2023-04-20T03:26:13.579021Z"
    }
   },
   "outputs": [
    {
     "data": {
      "image/png": "[encoded data removed]",
      "text/latex": [
       "$\\displaystyle \\left\\{ \\alpha : \\delta + \\gamma, \\  \\beta : \\frac{\\delta \\left(- a - 2 b + 1\\right)}{a + b - 1} - \\frac{\\gamma b}{a + b - 1}\\right\\}$"
      ],
      "text/plain": [
       "⎧                                \\delta⋅(-a - 2⋅b + 1)    \\gamma⋅b⎫\n",
       "⎨\\alpha: \\delta + \\gamma, \\beta: ───────────────────── - ─────────⎬\n",
       "⎩                                      a + b - 1         a + b - 1⎭"
      ]
     },
     "execution_count": 12,
     "metadata": {},
     "output_type": "execute_result"
    }
   ],
   "source": [
    "sp.solve(M1@X, X)"
   ]
  },
  {
   "cell_type": "markdown",
   "id": "8633b80a",
   "metadata": {},
   "source": [
    "Si $a+b\\ne1$, on trouve l'espace propre de dimension 2\n",
    "$$E_M(a)=\\mathrm{Vect}\\left(\\left\\{\\begin{bmatrix} a+b-1\\\\ -b\\\\ a+b-1\\\\ 0\\end{bmatrix},\\begin{bmatrix} a+b-1\\\\ 1-a-2\\,b\\\\ 0\\\\ a+b-1\\end{bmatrix}\\right\\}\\right)$$"
   ]
  },
  {
   "cell_type": "markdown",
   "id": "552362d2",
   "metadata": {},
   "source": [
    "Pour le cas $b=1-a$ (et comme $b\\ne 0$, on a $a\\ne 1$), on trouve"
   ]
  },
  {
   "cell_type": "code",
   "execution_count": 13,
   "id": "bec9ad02",
   "metadata": {
    "ExecuteTime": {
     "end_time": "2023-04-20T03:26:14.204588Z",
     "start_time": "2023-04-20T03:26:13.907165Z"
    }
   },
   "outputs": [
    {
     "data": {
      "image/png": "[encoded data removed]",
      "text/latex": [
       "$\\displaystyle \\left\\{ \\alpha : 0, \\  \\gamma : - \\delta\\right\\}$"
      ],
      "text/plain": [
       "{\\alpha: 0, \\gamma: -\\delta}"
      ]
     },
     "execution_count": 13,
     "metadata": {},
     "output_type": "execute_result"
    }
   ],
   "source": [
    "sp.solve(M1.subs({b: 1-a})@X, X)"
   ]
  },
  {
   "cell_type": "markdown",
   "id": "4765975e",
   "metadata": {},
   "source": [
    "On trouve alors l'espace propre de dimension 2\n",
    "$$E_M(a)=\\mathrm{Vect}\\left(\\left\\{\\begin{bmatrix} 0\\\\ 1\\\\ 0\\\\ 0\\end{bmatrix},\\begin{bmatrix} 0\\\\ 0\\\\ 1\\\\ -1\\end{bmatrix}\\right\\}\\right)$$"
   ]
  },
  {
   "cell_type": "markdown",
   "id": "3377688a",
   "metadata": {},
   "source": [
    "*On suppose maintenant que $x\\ne a$, on peut alors simplifier la matrice $M_0$*"
   ]
  },
  {
   "cell_type": "code",
   "execution_count": 14,
   "id": "920ce41b",
   "metadata": {
    "ExecuteTime": {
     "end_time": "2023-04-20T03:26:14.493521Z",
     "start_time": "2023-04-20T03:26:14.205713Z"
    }
   },
   "outputs": [
    {
     "data": {
      "image/png": "[encoded data removed]",
      "text/latex": [
       "$\\displaystyle \\left[\\begin{matrix}2 a - x - 1 & a + b - 1 & - a + b + 1 & 2 b\\\\0 & a - x & a - x & 3 a - 3 x\\\\a - 1 & a + b - 1 & b - x + 1 & a + 2 b - x\\\\b & 0 & - b & a - b - x\\end{matrix}\\right]$"
      ],
      "text/plain": [
       "⎡2⋅a - x - 1  a + b - 1  -a + b + 1      2⋅b    ⎤\n",
       "⎢                                               ⎥\n",
       "⎢     0         a - x      a - x      3⋅a - 3⋅x ⎥\n",
       "⎢                                               ⎥\n",
       "⎢   a - 1     a + b - 1  b - x + 1   a + 2⋅b - x⎥\n",
       "⎢                                               ⎥\n",
       "⎣     b           0          -b       a - b - x ⎦"
      ]
     },
     "execution_count": 14,
     "metadata": {},
     "output_type": "execute_result"
    }
   ],
   "source": [
    "M0"
   ]
  },
  {
   "cell_type": "code",
   "execution_count": 15,
   "id": "b9e69794",
   "metadata": {
    "ExecuteTime": {
     "end_time": "2023-04-20T03:26:14.797904Z",
     "start_time": "2023-04-20T03:26:14.494932Z"
    }
   },
   "outputs": [
    {
     "data": {
      "image/png": "[encoded data removed]",
      "text/latex": [
       "$\\displaystyle \\left[\\begin{matrix}2 a - x - 1 & a + b - 1 & - a + b + 1 & 2 b\\\\0 & 1 & 1 & \\frac{3 a - 3 x}{a - x}\\\\a - 1 & a + b - 1 & b - x + 1 & a + 2 b - x\\\\b & 0 & - b & a - b - x\\end{matrix}\\right]$"
      ],
      "text/plain": [
       "⎡2⋅a - x - 1  a + b - 1  -a + b + 1      2⋅b    ⎤\n",
       "⎢                                               ⎥\n",
       "⎢                                     3⋅a - 3⋅x ⎥\n",
       "⎢     0           1          1        ───────── ⎥\n",
       "⎢                                       a - x   ⎥\n",
       "⎢                                               ⎥\n",
       "⎢   a - 1     a + b - 1  b - x + 1   a + 2⋅b - x⎥\n",
       "⎢                                               ⎥\n",
       "⎣     b           0          -b       a - b - x ⎦"
      ]
     },
     "execution_count": 15,
     "metadata": {},
     "output_type": "execute_result"
    }
   ],
   "source": [
    "_.elementary_row_op('n->kn', 1, 1/(a-x))"
   ]
  },
  {
   "cell_type": "code",
   "execution_count": 16,
   "id": "791f8c64",
   "metadata": {
    "ExecuteTime": {
     "end_time": "2023-04-20T03:26:15.146332Z",
     "start_time": "2023-04-20T03:26:14.799293Z"
    }
   },
   "outputs": [
    {
     "data": {
      "image/png": "[encoded data removed]",
      "text/latex": [
       "$\\displaystyle \\left[\\begin{matrix}2 a - x - 1 & a + b - 1 & - a + b + 1 & 2 b\\\\0 & 1 & 1 & 3\\\\a - 1 & a + b - 1 & b - x + 1 & a + 2 b - x\\\\b & 0 & - b & a - b - x\\end{matrix}\\right]$"
      ],
      "text/plain": [
       "⎡2⋅a - x - 1  a + b - 1  -a + b + 1      2⋅b    ⎤\n",
       "⎢                                               ⎥\n",
       "⎢     0           1          1            3     ⎥\n",
       "⎢                                               ⎥\n",
       "⎢   a - 1     a + b - 1  b - x + 1   a + 2⋅b - x⎥\n",
       "⎢                                               ⎥\n",
       "⎣     b           0          -b       a - b - x ⎦"
      ]
     },
     "execution_count": 16,
     "metadata": {},
     "output_type": "execute_result"
    }
   ],
   "source": [
    "_.applyfunc(sp.simplify)"
   ]
  },
  {
   "cell_type": "code",
   "execution_count": 17,
   "id": "d972f48d",
   "metadata": {
    "ExecuteTime": {
     "end_time": "2023-04-20T03:26:15.445449Z",
     "start_time": "2023-04-20T03:26:15.147513Z"
    }
   },
   "outputs": [
    {
     "data": {
      "image/png": "[encoded data removed]",
      "text/latex": [
       "$\\displaystyle \\left[\\begin{matrix}2 a - x - 1 & a + b - 1 & - a + b + 1 & 2 b\\\\0 & 1 & 1 & 3\\\\a - 1 & 0 & - a - x + 2 & - 2 a - b - x + 3\\\\b & 0 & - b & a - b - x\\end{matrix}\\right]$"
      ],
      "text/plain": [
       "⎡2⋅a - x - 1  a + b - 1  -a + b + 1        2⋅b       ⎤\n",
       "⎢                                                    ⎥\n",
       "⎢     0           1          1              3        ⎥\n",
       "⎢                                                    ⎥\n",
       "⎢   a - 1         0      -a - x + 2  -2⋅a - b - x + 3⎥\n",
       "⎢                                                    ⎥\n",
       "⎣     b           0          -b         a - b - x    ⎦"
      ]
     },
     "execution_count": 17,
     "metadata": {},
     "output_type": "execute_result"
    }
   ],
   "source": [
    "_.elementary_row_op('n->n+km', 2, 1-a-b, 1)"
   ]
  },
  {
   "cell_type": "code",
   "execution_count": 18,
   "id": "d0b48606",
   "metadata": {
    "ExecuteTime": {
     "end_time": "2023-04-20T03:26:15.746103Z",
     "start_time": "2023-04-20T03:26:15.446744Z"
    }
   },
   "outputs": [
    {
     "data": {
      "image/png": "[encoded data removed]",
      "text/latex": [
       "$\\displaystyle \\left[\\begin{matrix}2 a - x - 1 & 0 & 2 - 2 a & - 3 a - b + 3\\\\0 & 1 & 1 & 3\\\\a - 1 & 0 & - a - x + 2 & - 2 a - b - x + 3\\\\b & 0 & - b & a - b - x\\end{matrix}\\right]$"
      ],
      "text/plain": [
       "⎡2⋅a - x - 1  0   2 - 2⋅a      -3⋅a - b + 3  ⎤\n",
       "⎢                                            ⎥\n",
       "⎢     0       1      1              3        ⎥\n",
       "⎢                                            ⎥\n",
       "⎢   a - 1     0  -a - x + 2  -2⋅a - b - x + 3⎥\n",
       "⎢                                            ⎥\n",
       "⎣     b       0      -b         a - b - x    ⎦"
      ]
     },
     "execution_count": 18,
     "metadata": {},
     "output_type": "execute_result"
    }
   ],
   "source": [
    "_.elementary_row_op('n->n+km', 0, 1-a-b, 1)"
   ]
  },
  {
   "cell_type": "code",
   "execution_count": 19,
   "id": "99ece2bb",
   "metadata": {
    "ExecuteTime": {
     "end_time": "2023-04-20T03:26:16.042926Z",
     "start_time": "2023-04-20T03:26:15.747300Z"
    }
   },
   "outputs": [
    {
     "data": {
      "image/png": "[encoded data removed]",
      "text/latex": [
       "$\\displaystyle \\left[\\begin{matrix}a - x & 0 & - a + x & - a + x\\\\0 & 1 & 1 & 3\\\\a - 1 & 0 & - a - x + 2 & - 2 a - b - x + 3\\\\b & 0 & - b & a - b - x\\end{matrix}\\right]$"
      ],
      "text/plain": [
       "⎡a - x  0    -a + x         -a + x     ⎤\n",
       "⎢                                      ⎥\n",
       "⎢  0    1      1              3        ⎥\n",
       "⎢                                      ⎥\n",
       "⎢a - 1  0  -a - x + 2  -2⋅a - b - x + 3⎥\n",
       "⎢                                      ⎥\n",
       "⎣  b    0      -b         a - b - x    ⎦"
      ]
     },
     "execution_count": 19,
     "metadata": {},
     "output_type": "execute_result"
    }
   ],
   "source": [
    "_.elementary_row_op('n->n+km', 0, -1, 2)"
   ]
  },
  {
   "cell_type": "code",
   "execution_count": 20,
   "id": "00691299",
   "metadata": {
    "ExecuteTime": {
     "end_time": "2023-04-20T03:26:16.363517Z",
     "start_time": "2023-04-20T03:26:16.044268Z"
    }
   },
   "outputs": [
    {
     "data": {
      "image/png": "[encoded data removed]",
      "text/latex": [
       "$\\displaystyle \\left[\\begin{matrix}1 & 0 & -1 & -1\\\\0 & 1 & 1 & 3\\\\a - 1 & 0 & - a - x + 2 & - 2 a - b - x + 3\\\\b & 0 & - b & a - b - x\\end{matrix}\\right]$"
      ],
      "text/plain": [
       "⎡  1    0      -1             -1       ⎤\n",
       "⎢                                      ⎥\n",
       "⎢  0    1      1              3        ⎥\n",
       "⎢                                      ⎥\n",
       "⎢a - 1  0  -a - x + 2  -2⋅a - b - x + 3⎥\n",
       "⎢                                      ⎥\n",
       "⎣  b    0      -b         a - b - x    ⎦"
      ]
     },
     "execution_count": 20,
     "metadata": {},
     "output_type": "execute_result"
    }
   ],
   "source": [
    "# On peut simplifier par a-x la première ligne, car on sait que a est différent de x\n",
    "(_.elementary_row_op('n->kn', 0, 1/(a-x))).applyfunc(sp.simplify)"
   ]
  },
  {
   "cell_type": "code",
   "execution_count": 21,
   "id": "6c09bb0a",
   "metadata": {
    "ExecuteTime": {
     "end_time": "2023-04-20T03:26:16.657571Z",
     "start_time": "2023-04-20T03:26:16.364725Z"
    }
   },
   "outputs": [
    {
     "data": {
      "image/png": "[encoded data removed]",
      "text/latex": [
       "$\\displaystyle \\left[\\begin{matrix}1 & 0 & -1 & -1\\\\0 & 1 & 1 & 3\\\\0 & 0 & 1 - x & - a - b - x + 2\\\\b & 0 & - b & a - b - x\\end{matrix}\\right]$"
      ],
      "text/plain": [
       "⎡1  0   -1          -1      ⎤\n",
       "⎢                           ⎥\n",
       "⎢0  1    1          3       ⎥\n",
       "⎢                           ⎥\n",
       "⎢0  0  1 - x  -a - b - x + 2⎥\n",
       "⎢                           ⎥\n",
       "⎣b  0   -b      a - b - x   ⎦"
      ]
     },
     "execution_count": 21,
     "metadata": {},
     "output_type": "execute_result"
    }
   ],
   "source": [
    "_.elementary_row_op('n->n+km', 2, 1-a, 0)"
   ]
  },
  {
   "cell_type": "code",
   "execution_count": 22,
   "id": "0df0e71f",
   "metadata": {
    "ExecuteTime": {
     "end_time": "2023-04-20T03:26:16.958533Z",
     "start_time": "2023-04-20T03:26:16.658998Z"
    }
   },
   "outputs": [
    {
     "data": {
      "image/png": "[encoded data removed]",
      "text/latex": [
       "$\\displaystyle \\left[\\begin{matrix}1 & 0 & -1 & -1\\\\0 & 1 & 1 & 3\\\\0 & 0 & 1 - x & - a - b - x + 2\\\\0 & 0 & 0 & a - x\\end{matrix}\\right]$"
      ],
      "text/plain": [
       "⎡1  0   -1          -1      ⎤\n",
       "⎢                           ⎥\n",
       "⎢0  1    1          3       ⎥\n",
       "⎢                           ⎥\n",
       "⎢0  0  1 - x  -a - b - x + 2⎥\n",
       "⎢                           ⎥\n",
       "⎣0  0    0        a - x     ⎦"
      ]
     },
     "execution_count": 22,
     "metadata": {},
     "output_type": "execute_result"
    }
   ],
   "source": [
    "_.elementary_row_op('n->n+km', 3, -b, 0)"
   ]
  },
  {
   "cell_type": "code",
   "execution_count": 23,
   "id": "d6766b1f",
   "metadata": {
    "ExecuteTime": {
     "end_time": "2023-04-20T03:26:17.263162Z",
     "start_time": "2023-04-20T03:26:16.959726Z"
    }
   },
   "outputs": [
    {
     "data": {
      "image/png": "[encoded data removed]",
      "text/latex": [
       "$\\displaystyle \\left[\\begin{matrix}1 & 0 & -1 & -1\\\\0 & 1 & 1 & 3\\\\0 & 0 & 1 - x & - a - b - x + 2\\\\0 & 0 & 0 & 1\\end{matrix}\\right]$"
      ],
      "text/plain": [
       "⎡1  0   -1          -1      ⎤\n",
       "⎢                           ⎥\n",
       "⎢0  1    1          3       ⎥\n",
       "⎢                           ⎥\n",
       "⎢0  0  1 - x  -a - b - x + 2⎥\n",
       "⎢                           ⎥\n",
       "⎣0  0    0          1       ⎦"
      ]
     },
     "execution_count": 23,
     "metadata": {},
     "output_type": "execute_result"
    }
   ],
   "source": [
    "_.elementary_row_op('n->kn', 3, 1/(a-x)).applyfunc(sp.simplify)"
   ]
  },
  {
   "cell_type": "code",
   "execution_count": 24,
   "id": "b70f2c22",
   "metadata": {
    "ExecuteTime": {
     "end_time": "2023-04-20T03:26:17.558911Z",
     "start_time": "2023-04-20T03:26:17.264463Z"
    }
   },
   "outputs": [
    {
     "data": {
      "image/png": "[encoded data removed]",
      "text/latex": [
       "$\\displaystyle \\left[\\begin{matrix}1 & 0 & -1 & -1\\\\0 & 1 & 1 & 3\\\\0 & 0 & 1 - x & 0\\\\0 & 0 & 0 & 1\\end{matrix}\\right]$"
      ],
      "text/plain": [
       "⎡1  0   -1    -1⎤\n",
       "⎢               ⎥\n",
       "⎢0  1    1    3 ⎥\n",
       "⎢               ⎥\n",
       "⎢0  0  1 - x  0 ⎥\n",
       "⎢               ⎥\n",
       "⎣0  0    0    1 ⎦"
      ]
     },
     "execution_count": 24,
     "metadata": {},
     "output_type": "execute_result"
    }
   ],
   "source": [
    "_.elementary_row_op('n->n+km', 2, a+b+x-2, 3)"
   ]
  },
  {
   "cell_type": "markdown",
   "id": "13adae4f",
   "metadata": {},
   "source": [
    "On trouve que $x=1$ est une autre valeur propre"
   ]
  },
  {
   "cell_type": "code",
   "execution_count": 25,
   "id": "ad96fb56",
   "metadata": {
    "ExecuteTime": {
     "end_time": "2023-04-20T03:26:17.861112Z",
     "start_time": "2023-04-20T03:26:17.560377Z"
    }
   },
   "outputs": [
    {
     "data": {
      "image/png": "[encoded data removed]",
      "text/latex": [
       "$\\displaystyle \\left\\{ \\alpha : \\gamma, \\  \\beta : - \\gamma, \\  \\delta : 0\\right\\}$"
      ],
      "text/plain": [
       "{\\alpha: \\gamma, \\beta: -\\gamma, \\delta: 0}"
      ]
     },
     "execution_count": 25,
     "metadata": {},
     "output_type": "execute_result"
    }
   ],
   "source": [
    "sp.solve(_.subs({x: 1})@X, X)"
   ]
  },
  {
   "cell_type": "markdown",
   "id": "d0d01cdd",
   "metadata": {},
   "source": [
    "Et l'espace propre associé est de dimension 1 et c'est\n",
    "$$E_M(1)=\\mathrm{Vect}\\left(\\left\\{\\begin{bmatrix} 1\\\\ -1\\\\ 1\\\\ 0\\end{bmatrix}\\right\\}\\right)$$"
   ]
  },
  {
   "cell_type": "markdown",
   "id": "db440c12",
   "metadata": {},
   "source": [
    "**Question 2**\n",
    "\n",
    "Si on ne fait pas attention, la fonction `.eigenvects` nous trompe."
   ]
  },
  {
   "cell_type": "code",
   "execution_count": 26,
   "id": "8054f17c",
   "metadata": {
    "ExecuteTime": {
     "end_time": "2023-04-20T03:26:18.169349Z",
     "start_time": "2023-04-20T03:26:17.862623Z"
    }
   },
   "outputs": [
    {
     "data": {
      "image/png": "[encoded data removed]",
      "text/latex": [
       "$\\displaystyle \\left[ \\left( 1, \\  1, \\  \\left[ \\left[\\begin{matrix}1\\\\-1\\\\1\\\\0\\end{matrix}\\right]\\right]\\right), \\  \\left( a, \\  3, \\  \\left[ \\left[\\begin{matrix}1\\\\- \\frac{b}{a + b - 1}\\\\1\\\\0\\end{matrix}\\right], \\  \\left[\\begin{matrix}1\\\\\\frac{- a - 2 b + 1}{a + b - 1}\\\\0\\\\1\\end{matrix}\\right]\\right]\\right)\\right]$"
      ],
      "text/plain": [
       "⎡                ⎛      ⎡⎡    1    ⎤  ⎡     1      ⎤⎤⎞⎤\n",
       "⎢⎛      ⎡⎡1 ⎤⎤⎞  ⎜      ⎢⎢         ⎥  ⎢            ⎥⎥⎟⎥\n",
       "⎢⎜      ⎢⎢  ⎥⎥⎟  ⎜      ⎢⎢   -b    ⎥  ⎢-a - 2⋅b + 1⎥⎥⎟⎥\n",
       "⎢⎜      ⎢⎢-1⎥⎥⎟  ⎜      ⎢⎢─────────⎥  ⎢────────────⎥⎥⎟⎥\n",
       "⎢⎜1, 1, ⎢⎢  ⎥⎥⎟, ⎜a, 3, ⎢⎢a + b - 1⎥, ⎢ a + b - 1  ⎥⎥⎟⎥\n",
       "⎢⎜      ⎢⎢1 ⎥⎥⎟  ⎜      ⎢⎢         ⎥  ⎢            ⎥⎥⎟⎥\n",
       "⎢⎜      ⎢⎢  ⎥⎥⎟  ⎜      ⎢⎢    1    ⎥  ⎢     0      ⎥⎥⎟⎥\n",
       "⎢⎝      ⎣⎣0 ⎦⎦⎠  ⎜      ⎢⎢         ⎥  ⎢            ⎥⎥⎟⎥\n",
       "⎣                ⎝      ⎣⎣    0    ⎦  ⎣     1      ⎦⎦⎠⎦"
      ]
     },
     "execution_count": 26,
     "metadata": {},
     "output_type": "execute_result"
    }
   ],
   "source": [
    "M.eigenvects()"
   ]
  },
  {
   "cell_type": "markdown",
   "id": "e7815445",
   "metadata": {},
   "source": [
    "On a donc un problème si $a+b=1$ et un cas particulier si $a=1$."
   ]
  },
  {
   "cell_type": "code",
   "execution_count": 27,
   "id": "00f0bdb5",
   "metadata": {
    "ExecuteTime": {
     "end_time": "2023-04-20T03:26:18.471727Z",
     "start_time": "2023-04-20T03:26:18.172087Z"
    }
   },
   "outputs": [
    {
     "data": {
      "image/png": "[encoded data removed]",
      "text/latex": [
       "$\\displaystyle \\left[ \\left( 1, \\  4, \\  \\left[ \\left[\\begin{matrix}1\\\\-1\\\\1\\\\0\\end{matrix}\\right], \\  \\left[\\begin{matrix}1\\\\-2\\\\0\\\\1\\end{matrix}\\right]\\right]\\right)\\right]$"
      ],
      "text/plain": [
       "⎡⎛      ⎡⎡1 ⎤  ⎡1 ⎤⎤⎞⎤\n",
       "⎢⎜      ⎢⎢  ⎥  ⎢  ⎥⎥⎟⎥\n",
       "⎢⎜      ⎢⎢-1⎥  ⎢-2⎥⎥⎟⎥\n",
       "⎢⎜1, 4, ⎢⎢  ⎥, ⎢  ⎥⎥⎟⎥\n",
       "⎢⎜      ⎢⎢1 ⎥  ⎢0 ⎥⎥⎟⎥\n",
       "⎢⎜      ⎢⎢  ⎥  ⎢  ⎥⎥⎟⎥\n",
       "⎣⎝      ⎣⎣0 ⎦  ⎣1 ⎦⎦⎠⎦"
      ]
     },
     "execution_count": 27,
     "metadata": {},
     "output_type": "execute_result"
    }
   ],
   "source": [
    "# Cas a=1\n",
    "M.subs({a: 1}).eigenvects()"
   ]
  },
  {
   "cell_type": "markdown",
   "id": "50c2b3a9",
   "metadata": {},
   "source": [
    "<div class=\"alert alert-danger\"> Ce résultat est faux !"
   ]
  },
  {
   "cell_type": "code",
   "execution_count": 28,
   "id": "954aaa7f",
   "metadata": {
    "ExecuteTime": {
     "end_time": "2023-04-20T03:26:18.786179Z",
     "start_time": "2023-04-20T03:26:18.472935Z"
    }
   },
   "outputs": [
    {
     "data": {
      "image/png": "[encoded data removed]",
      "text/latex": [
       "$\\displaystyle \\left[ \\left( 1, \\  1, \\  \\left[ \\left[\\begin{matrix}1\\\\-1\\\\1\\\\0\\end{matrix}\\right]\\right]\\right), \\  \\left( a, \\  3, \\  \\left[ \\left[\\begin{matrix}0\\\\1\\\\0\\\\0\\end{matrix}\\right], \\  \\left[\\begin{matrix}0\\\\0\\\\-1\\\\1\\end{matrix}\\right]\\right]\\right)\\right]$"
      ],
      "text/plain": [
       "⎡⎛      ⎡⎡1 ⎤⎤⎞  ⎛      ⎡⎡0⎤  ⎡0 ⎤⎤⎞⎤\n",
       "⎢⎜      ⎢⎢  ⎥⎥⎟  ⎜      ⎢⎢ ⎥  ⎢  ⎥⎥⎟⎥\n",
       "⎢⎜      ⎢⎢-1⎥⎥⎟  ⎜      ⎢⎢1⎥  ⎢0 ⎥⎥⎟⎥\n",
       "⎢⎜1, 1, ⎢⎢  ⎥⎥⎟, ⎜a, 3, ⎢⎢ ⎥, ⎢  ⎥⎥⎟⎥\n",
       "⎢⎜      ⎢⎢1 ⎥⎥⎟  ⎜      ⎢⎢0⎥  ⎢-1⎥⎥⎟⎥\n",
       "⎢⎜      ⎢⎢  ⎥⎥⎟  ⎜      ⎢⎢ ⎥  ⎢  ⎥⎥⎟⎥\n",
       "⎣⎝      ⎣⎣0 ⎦⎦⎠  ⎝      ⎣⎣0⎦  ⎣1 ⎦⎦⎠⎦"
      ]
     },
     "execution_count": 28,
     "metadata": {},
     "output_type": "execute_result"
    }
   ],
   "source": [
    "# Cas b=1-a\n",
    "M.subs({b: 1-a}).eigenvects()"
   ]
  },
  {
   "cell_type": "markdown",
   "id": "8ed8e032",
   "metadata": {},
   "source": [
    "## Exercice"
   ]
  },
  {
   "cell_type": "markdown",
   "id": "59194936",
   "metadata": {},
   "source": [
    "On s'intéresse au problème suivant. Soit $A\\in\\mathrm{M}_n\\left(\\mathbb{C}\\right)$, on définit alors la matrice $M$ par blocs de la manière suivante\n",
    "$$M=\\left[\\begin{array}{c|c} 0_n& I_n\\\\ \\hline 2.A& A\\end{array}\\right]\\in\\mathrm{M}_n\\left(\\mathbb{C}\\right)$$\n",
    "L'objectif de cet exercice est de trouver des conditions nécessaires pour que $M$ soit *diagonalisable*, c'est-à-dire que\n",
    "$$\\mathrm{M}_{n,1}\\left(\\mathbb{R}\\right)=\\bigoplus_{\\lambda\\in\\mathrm{Sp}(M)} E_M(\\lambda)$$\n",
    "1. Étudier le cas $n=1$, où $A=[a]$ avec $a\\in\\mathbb{C}$.\n",
    "1. Étudier le cas $n=2$, où\n",
    "$$A=\\begin{bmatrix} a&b\\\\ c&d\\end{bmatrix}$$\n",
    "1. Faire le cas général."
   ]
  },
  {
   "cell_type": "markdown",
   "id": "53631a62",
   "metadata": {},
   "source": [
    "**Question 1**"
   ]
  },
  {
   "cell_type": "code",
   "execution_count": 29,
   "id": "a4d871b5",
   "metadata": {
    "ExecuteTime": {
     "end_time": "2023-04-20T03:26:19.076877Z",
     "start_time": "2023-04-20T03:26:18.787376Z"
    }
   },
   "outputs": [
    {
     "data": {
      "image/png": "[encoded data removed]",
      "text/latex": [
       "$\\displaystyle \\left[\\begin{matrix}0 & 1\\\\2 a & a\\end{matrix}\\right]$"
      ],
      "text/plain": [
       "⎡ 0   1⎤\n",
       "⎢      ⎥\n",
       "⎣2⋅a  a⎦"
      ]
     },
     "execution_count": 29,
     "metadata": {},
     "output_type": "execute_result"
    }
   ],
   "source": [
    "a = sp.symbols('a')  # Car a n'est plus réel\n",
    "M = sp.Matrix([[0, 1], [2*a, a]])\n",
    "M"
   ]
  },
  {
   "cell_type": "code",
   "execution_count": 30,
   "id": "47d1d34d",
   "metadata": {
    "ExecuteTime": {
     "end_time": "2023-04-20T03:26:19.369811Z",
     "start_time": "2023-04-20T03:26:19.078196Z"
    }
   },
   "outputs": [
    {
     "data": {
      "image/png": "[encoded data removed]",
      "text/latex": [
       "$\\displaystyle \\left[\\begin{matrix}- x & 1\\\\2 a & a - x\\end{matrix}\\right]$"
      ],
      "text/plain": [
       "⎡-x     1  ⎤\n",
       "⎢          ⎥\n",
       "⎣2⋅a  a - x⎦"
      ]
     },
     "execution_count": 30,
     "metadata": {},
     "output_type": "execute_result"
    }
   ],
   "source": [
    "M-x*sp.eye(2)"
   ]
  },
  {
   "cell_type": "code",
   "execution_count": 31,
   "id": "4ae8fcee",
   "metadata": {
    "ExecuteTime": {
     "end_time": "2023-04-20T03:26:19.660859Z",
     "start_time": "2023-04-20T03:26:19.371216Z"
    }
   },
   "outputs": [
    {
     "data": {
      "image/png": "[encoded data removed]",
      "text/latex": [
       "$\\displaystyle \\left[\\begin{matrix}- x & 1\\\\2 a - x \\left(- a + x\\right) & 0\\end{matrix}\\right]$"
      ],
      "text/plain": [
       "⎡       -x         1⎤\n",
       "⎢                   ⎥\n",
       "⎣2⋅a - x⋅(-a + x)  0⎦"
      ]
     },
     "execution_count": 31,
     "metadata": {},
     "output_type": "execute_result"
    }
   ],
   "source": [
    "_.elementary_row_op('n->n+km', 1, x-a, 0)"
   ]
  },
  {
   "cell_type": "code",
   "execution_count": 32,
   "id": "dcede0ba",
   "metadata": {
    "ExecuteTime": {
     "end_time": "2023-04-20T03:26:19.990580Z",
     "start_time": "2023-04-20T03:26:19.661993Z"
    }
   },
   "outputs": [
    {
     "data": {
      "image/png": "[encoded data removed]",
      "text/latex": [
       "$\\displaystyle \\left[\\begin{matrix}- x & 1\\\\2 a + x \\left(a - x\\right) & 0\\end{matrix}\\right]$"
      ],
      "text/plain": [
       "⎡      -x         1⎤\n",
       "⎢                  ⎥\n",
       "⎣2⋅a + x⋅(a - x)  0⎦"
      ]
     },
     "execution_count": 32,
     "metadata": {},
     "output_type": "execute_result"
    }
   ],
   "source": [
    "_.applyfunc(sp.simplify)"
   ]
  },
  {
   "cell_type": "code",
   "execution_count": 33,
   "id": "a6824eb4",
   "metadata": {
    "ExecuteTime": {
     "end_time": "2023-04-20T03:26:20.331873Z",
     "start_time": "2023-04-20T03:26:19.992044Z"
    }
   },
   "outputs": [
    {
     "data": {
      "image/png": "[encoded data removed]",
      "text/latex": [
       "$\\displaystyle \\left[ \\frac{a}{2} - \\frac{\\sqrt{a \\left(a + 8\\right)}}{2}, \\  \\frac{a}{2} + \\frac{\\sqrt{a \\left(a + 8\\right)}}{2}\\right]$"
      ],
      "text/plain": [
       "⎡      ___________        ___________⎤\n",
       "⎢a   ╲╱ a⋅(a + 8)   a   ╲╱ a⋅(a + 8) ⎥\n",
       "⎢─ - ─────────────, ─ + ─────────────⎥\n",
       "⎣2         2        2         2      ⎦"
      ]
     },
     "execution_count": 33,
     "metadata": {},
     "output_type": "execute_result"
    }
   ],
   "source": [
    "sp.solve(_[1, 0], x)"
   ]
  },
  {
   "cell_type": "markdown",
   "id": "7ddf392b",
   "metadata": {},
   "source": [
    "Dans $\\mathbb{C}$, on aura donc deux cas\n",
    "1. $a\\notin \\{0,-8\\}$ et la matrice aura deux valeurs propres distinctes $(\\lambda_1,\\lambda_2)$ et donc sera diagonalisable car la somme des dimensions fait 2.\n",
    "1. $a\\in\\{0,-8\\}$, on aura qu'une seule valeur propre et l'espace propre sera de dimension 1, la matrice ne sera pas diagonalisable."
   ]
  },
  {
   "cell_type": "markdown",
   "id": "a7beb867",
   "metadata": {},
   "source": [
    "On pouvait aussi le voir avec le polynôme caractéristique."
   ]
  },
  {
   "cell_type": "code",
   "execution_count": 34,
   "id": "527f77e5",
   "metadata": {
    "ExecuteTime": {
     "end_time": "2023-04-20T03:26:20.631818Z",
     "start_time": "2023-04-20T03:26:20.333634Z"
    }
   },
   "outputs": [
    {
     "data": {
      "image/png": "[encoded data removed]",
      "text/latex": [
       "$\\displaystyle - a x - 2 a + x^{2}$"
      ],
      "text/plain": [
       "              2\n",
       "-a⋅x - 2⋅a + x "
      ]
     },
     "execution_count": 34,
     "metadata": {},
     "output_type": "execute_result"
    }
   ],
   "source": [
    "(M-x*sp.eye(2)).det()"
   ]
  },
  {
   "cell_type": "code",
   "execution_count": 35,
   "id": "b6851300",
   "metadata": {
    "ExecuteTime": {
     "end_time": "2023-04-20T03:26:20.959906Z",
     "start_time": "2023-04-20T03:26:20.633412Z"
    }
   },
   "outputs": [
    {
     "data": {
      "image/png": "[encoded data removed]",
      "text/latex": [
       "$\\displaystyle \\left[ \\frac{a}{2} - \\frac{\\sqrt{a \\left(a + 8\\right)}}{2}, \\  \\frac{a}{2} + \\frac{\\sqrt{a \\left(a + 8\\right)}}{2}\\right]$"
      ],
      "text/plain": [
       "⎡      ___________        ___________⎤\n",
       "⎢a   ╲╱ a⋅(a + 8)   a   ╲╱ a⋅(a + 8) ⎥\n",
       "⎢─ - ─────────────, ─ + ─────────────⎥\n",
       "⎣2         2        2         2      ⎦"
      ]
     },
     "execution_count": 35,
     "metadata": {},
     "output_type": "execute_result"
    }
   ],
   "source": [
    "sp.solve(_, x)"
   ]
  },
  {
   "cell_type": "markdown",
   "id": "48886271",
   "metadata": {},
   "source": [
    "Et remarquer que pour ces valeurs, l'espace propre est de dimension toujours 1, même quand la racine est double !"
   ]
  },
  {
   "cell_type": "markdown",
   "id": "af8733be",
   "metadata": {},
   "source": [
    "**Question 2**"
   ]
  },
  {
   "cell_type": "code",
   "execution_count": 36,
   "id": "511077cd",
   "metadata": {
    "ExecuteTime": {
     "end_time": "2023-04-20T03:26:20.963804Z",
     "start_time": "2023-04-20T03:26:20.961293Z"
    }
   },
   "outputs": [],
   "source": [
    "b, c, d = sp.symbols('b c d')"
   ]
  },
  {
   "cell_type": "code",
   "execution_count": 37,
   "id": "7a1a772a",
   "metadata": {
    "ExecuteTime": {
     "end_time": "2023-04-20T03:26:21.259310Z",
     "start_time": "2023-04-20T03:26:20.964927Z"
    }
   },
   "outputs": [
    {
     "data": {
      "image/png": "[encoded data removed]",
      "text/latex": [
       "$\\displaystyle \\left[\\begin{matrix}\\left[\\begin{matrix}0 & 0\\\\0 & 0\\end{matrix}\\right] & \\left[\\begin{matrix}1 & 0\\\\0 & 1\\end{matrix}\\right]\\\\\\left[\\begin{matrix}2 a & 2 b\\\\2 c & 2 d\\end{matrix}\\right] & \\left[\\begin{matrix}a & b\\\\c & d\\end{matrix}\\right]\\end{matrix}\\right]$"
      ],
      "text/plain": [
       "⎡  ⎡0  0⎤    ⎡1  0⎤⎤\n",
       "⎢  ⎢    ⎥    ⎢    ⎥⎥\n",
       "⎢  ⎣0  0⎦    ⎣0  1⎦⎥\n",
       "⎢                  ⎥\n",
       "⎢⎡2⋅a  2⋅b⎤  ⎡a  b⎤⎥\n",
       "⎢⎢        ⎥  ⎢    ⎥⎥\n",
       "⎣⎣2⋅c  2⋅d⎦  ⎣c  d⎦⎦"
      ]
     },
     "execution_count": 37,
     "metadata": {},
     "output_type": "execute_result"
    }
   ],
   "source": [
    "A = sp.Matrix([[a, b], [c, d]])\n",
    "M = sp.BlockMatrix([[sp.zeros(2), sp.eye(2)], [2*A, A]])\n",
    "M"
   ]
  },
  {
   "cell_type": "code",
   "execution_count": 38,
   "id": "2815054f",
   "metadata": {
    "ExecuteTime": {
     "end_time": "2023-04-20T03:26:21.562500Z",
     "start_time": "2023-04-20T03:26:21.260617Z"
    }
   },
   "outputs": [
    {
     "data": {
      "image/png": "[encoded data removed]",
      "text/latex": [
       "$\\displaystyle \\left[\\begin{matrix}- x & 0 & 1 & 0\\\\0 & - x & 0 & 1\\\\2 a & 2 b & a - x & b\\\\2 c & 2 d & c & d - x\\end{matrix}\\right]$"
      ],
      "text/plain": [
       "⎡-x    0     1      0  ⎤\n",
       "⎢                      ⎥\n",
       "⎢ 0   -x     0      1  ⎥\n",
       "⎢                      ⎥\n",
       "⎢2⋅a  2⋅b  a - x    b  ⎥\n",
       "⎢                      ⎥\n",
       "⎣2⋅c  2⋅d    c    d - x⎦"
      ]
     },
     "execution_count": 38,
     "metadata": {},
     "output_type": "execute_result"
    }
   ],
   "source": [
    "M = sp.Matrix(M)\n",
    "M-x*sp.eye(4)"
   ]
  },
  {
   "cell_type": "code",
   "execution_count": 39,
   "id": "57d66b28",
   "metadata": {
    "ExecuteTime": {
     "end_time": "2023-04-20T03:26:21.993223Z",
     "start_time": "2023-04-20T03:26:21.563752Z"
    }
   },
   "outputs": [
    {
     "data": {
      "image/png": "[encoded data removed]",
      "text/latex": [
       "$\\displaystyle a d x^{2} + 4 a d x + 4 a d - a x^{3} - 2 a x^{2} - b c x^{2} - 4 b c x - 4 b c - d x^{3} - 2 d x^{2} + x^{4}$"
      ],
      "text/plain": [
       "     2                        3        2        2                        3    \n",
       "a⋅d⋅x  + 4⋅a⋅d⋅x + 4⋅a⋅d - a⋅x  - 2⋅a⋅x  - b⋅c⋅x  - 4⋅b⋅c⋅x - 4⋅b⋅c - d⋅x  - 2\n",
       "\n",
       "    2    4\n",
       "⋅d⋅x  + x "
      ]
     },
     "execution_count": 39,
     "metadata": {},
     "output_type": "execute_result"
    }
   ],
   "source": [
    "_.det().factor()"
   ]
  },
  {
   "cell_type": "markdown",
   "id": "f4834722",
   "metadata": {},
   "source": [
    "*Et on continue longtemps sans rien trouver...*"
   ]
  },
  {
   "cell_type": "markdown",
   "id": "28e30cbd",
   "metadata": {},
   "source": [
    "**Question 3**"
   ]
  },
  {
   "cell_type": "markdown",
   "id": "e333bd0c",
   "metadata": {},
   "source": [
    "On va montrer l'équivalence\n",
    "$$\\boxed{\\boxed{\\left[M\\text{ diagonalisable}\\right]\\iff\\left[A\\text{ diagonalisable et } \\mathrm{Sp}(M)\\cap\\{0,-8\\}=\\emptyset\\right]}}$$"
   ]
  },
  {
   "cell_type": "markdown",
   "id": "2a137d43",
   "metadata": {},
   "source": [
    "Calculons pour $\\lambda\\in\\mathbb{C}$ \n",
    "$$\\mathrm{rang}\\left(M-\\lambda.I_{2\\,n}\\right)=\\mathrm{rang}\\left(\\left[\\begin{array}{c|c} -\\lambda.I_n& I_n\\\\ \\hline 2.A&A-\\lambda.I_n \\end{array}\\right]\\right)$$\n",
    "En effectuant une transvection-bloc sur les lignes (multiplication *à gauche* !), $L_2\\leftarrow L_2-(A-\\lambda.I_n)\\,L_1$, on obtient\n",
    "$$\\mathrm{rang}\\left(M-\\lambda.I_{2\\,n}\\right)=\\mathrm{rang}\\left(\\left[\\begin{array}{c|c}-\\lambda.I_n&I_n \\\\ \\hline (2+\\lambda).A-\\lambda^2.I_n&O_n \\end{array}\\right]\\right)=n+\\mathrm{rang}\\left((2+\\lambda).A-\\lambda^2.I_n\\right)$$\n",
    "et finalement, pour $\\lambda\\ne -2$\n",
    "$$\\dim\\left(E_M(\\lambda)\\right)=\\dim\\left(E_A\\left(\\frac{\\lambda^2}{2+\\lambda}\\right)\\right)$$"
   ]
  },
  {
   "cell_type": "markdown",
   "id": "8fe02908",
   "metadata": {},
   "source": [
    "Étudions l'application\n",
    "$$\\psi\\;:\\left\\{\\begin{array}{ccc} \\mathbb{C}\\setminus\\{-2\\}&\\longrightarrow&\\mathbb{C}\\\\ \\lambda&\\longmapsto&\\displaystyle \\frac{\\lambda^2}{2+\\lambda}\\end{array}\\right.$$"
   ]
  },
  {
   "cell_type": "code",
   "execution_count": 40,
   "id": "8374082a",
   "metadata": {
    "ExecuteTime": {
     "end_time": "2023-04-20T03:26:22.329193Z",
     "start_time": "2023-04-20T03:26:21.994421Z"
    }
   },
   "outputs": [
    {
     "data": {
      "image/png": "[encoded data removed]",
      "text/latex": [
       "$\\displaystyle \\left[ b, \\  - \\frac{2 b}{b + 2}\\right]$"
      ],
      "text/plain": [
       "⎡   -2⋅b ⎤\n",
       "⎢b, ─────⎥\n",
       "⎣   b + 2⎦"
      ]
     },
     "execution_count": 40,
     "metadata": {},
     "output_type": "execute_result"
    }
   ],
   "source": [
    "sp.solve(sp.Eq(a**2/(2+a),b**2/(2+b)), a)"
   ]
  },
  {
   "cell_type": "code",
   "execution_count": 41,
   "id": "4bcd7ba4",
   "metadata": {
    "ExecuteTime": {
     "end_time": "2023-04-20T03:26:22.632144Z",
     "start_time": "2023-04-20T03:26:22.330617Z"
    }
   },
   "outputs": [
    {
     "data": {
      "image/png": "[encoded data removed]",
      "text/latex": [
       "$\\displaystyle \\left[ -4, \\  0\\right]$"
      ],
      "text/plain": [
       "[-4, 0]"
      ]
     },
     "execution_count": 41,
     "metadata": {},
     "output_type": "execute_result"
    }
   ],
   "source": [
    "# Il y a en général deux valeurs, sauf quand \n",
    "sp.solve(sp.Eq(_[0], _[1]), b)"
   ]
  },
  {
   "cell_type": "code",
   "execution_count": 42,
   "id": "36de654d",
   "metadata": {
    "ExecuteTime": {
     "end_time": "2023-04-20T03:26:22.940719Z",
     "start_time": "2023-04-20T03:26:22.633595Z"
    }
   },
   "outputs": [
    {
     "data": {
      "image/png": "[encoded data removed]",
      "text/latex": [
       "$\\displaystyle \\left( -8, \\  0\\right)$"
      ],
      "text/plain": [
       "(-8, 0)"
      ]
     },
     "execution_count": 42,
     "metadata": {},
     "output_type": "execute_result"
    }
   ],
   "source": [
    "# Ce qui correspond aux valeurs de lambda^2/(2+lambda)\n",
    "(_[0]**2/(2+_[0]), (_[1]**2/(2+_[1])))"
   ]
  },
  {
   "cell_type": "markdown",
   "id": "3683a482",
   "metadata": {},
   "source": [
    "($\\Leftarrow$) Soit $(\\alpha_1,\\ldots,\\alpha_p)$ les valeurs propres distinctes de $A$, alors, comme $A$ est diagonalisable, on a\n",
    "$$\\sum_{k=1}^p \\dim\\left(E_A(\\alpha_k)\\right)=n$$\n",
    "D'après l'étude de la fonction $\\psi$, comme les valeurs propres sont différentes de 0 et -8, on a l'existence pour tout $k\\in\\{1,\\ldots,p\\}$ de deux complexes $\\lambda_{1,k}$ et $\\lambda_{2,k}$ tels que\n",
    "$$\\forall k\\in\\{1,\\ldots,p\\},\\; \\psi\\left(\\lambda_{1,k}\\right)=\\psi\\left(\\lambda_{2,k}\\right)=\\alpha_k$$\n",
    "et alors\n",
    "$$\\mathrm{Sp}(M)=\\left\\{\\lambda_{1,k},\\; k\\in\\{1,\\ldots,p\\}\\right\\}\\cup\\left\\{\\lambda_{2,k},\\; k\\in\\{1,\\ldots,p\\}\\right\\}$$\n",
    "et\n",
    "$$\\sum_{\\lambda\\in\\mathrm{Sp}(M)}\\dim\\left(E_M(\\lambda)\\right)=2\\,\\sum_{k=1}^p \\dim\\left(E_A(\\alpha_k)\\right)=2\\,n$$\n",
    "ce qui montre que $M$ est diagonalisable."
   ]
  },
  {
   "cell_type": "markdown",
   "id": "3e7c9a9e",
   "metadata": {},
   "source": [
    "($\\Rightarrow$) Par contraposition.\n",
    "1. Si $A$ n'est pas diagonalisable, alors\n",
    "$$\\sum_{k=1}^p \\dim\\left(E_A(\\alpha_k)\\right)<n$$\n",
    "et, comme on a au plus deux valeurs propres correspondantes pour $M$\n",
    "$$\\sum_{\\lambda\\in\\mathrm{Sp}(M)} \\dim\\left(E_M(\\lambda)\\right)\\le 2\\,\\sum_{k=1}^p \\dim\\left(E_A(\\alpha_k)\\right)<2\\,n$$\n",
    "donc $M$ n'est pas diagonalisable.\n",
    "1. De même, si $A$ est diagonalisable et 0 (ou -8) est dans le spectre de $A$, la somme des dimensions des espaces propres de $M$ n'atteindra pas $2\\,n$."
   ]
  }
 ],
 "metadata": {
  "kernelspec": {
   "display_name": "Python 3 (ipykernel)",
   "language": "python",
   "name": "python3"
  },
  "language_info": {
   "codemirror_mode": {
    "name": "ipython",
    "version": 3
   },
   "file_extension": ".py",
   "mimetype": "text/x-python",
   "name": "python",
   "nbconvert_exporter": "python",
   "pygments_lexer": "ipython3",
   "version": "3.8.2"
  },
  "toc": {
   "base_numbering": 1,
   "nav_menu": {},
   "number_sections": true,
   "sideBar": true,
   "skip_h1_title": false,
   "title_cell": "Table of Contents",
   "title_sidebar": "Contents",
   "toc_cell": false,
   "toc_position": {},
   "toc_section_display": true,
   "toc_window_display": false
  }
 },
 "nbformat": 4,
 "nbformat_minor": 5
}

{
 "cells": [
  {
   "attachments": {},
   "cell_type": "markdown",
   "metadata": {},
   "source": [
    "# Using Manim to plot 3D-Scenes\n",
    "\n",
    "Author: Brandon Lin 林楠\n",
    "\n",
    "Date: 2023.03.17\n",
    "\n",
    "Written in Shanghai Jiao Tong University"
   ]
  },
  {
   "cell_type": "code",
   "execution_count": null,
   "metadata": {},
   "outputs": [],
   "source": [
    "from manim import *\n",
    "\n",
    "config.media_width = \"75%\"\n",
    "config.verbosity = \"WARNING\""
   ]
  },
  {
   "attachments": {},
   "cell_type": "markdown",
   "metadata": {},
   "source": [
    "## Scene and Animations\n",
    "- ThreeDScene: Always use the `ThreeDScene` class when creating 3D animations. It provides essential methods for working with 3D objects and camera control.\n",
    "- Basic methods:\n",
    "    - `self.add()`\n",
    "    - `self.play(..., run_time=NUM)` (I think for every animation, we can control its duration, but I haven't verify it yet)\n",
    "    - `self.wait()`"
   ]
  },
  {
   "cell_type": "code",
   "execution_count": null,
   "metadata": {},
   "outputs": [],
   "source": [
    "%%manim -qm Example\n",
    "\n",
    "class Example(ThreeDScene):\n",
    "    def construct(self):\n",
    "        pass"
   ]
  },
  {
   "attachments": {},
   "cell_type": "markdown",
   "metadata": {},
   "source": [
    "## Axes et Camera\n",
    "### Axes\n",
    "- Always use the `ThreeAxes(**axes_config)` class, define the range of the axes by yourself by changing the values in `x_range`, `y_range` and `z_range` \n",
    "- You can use `add_coordinate()` to mark the numbers on the axe\n",
    "- Add labels at the end of the axes: `x_label = Tex(\"$x$\").next_to(axes.x_axis.get_end(), RIGHT, buff=0.2)`\n",
    "### Camera\n",
    "- Explication: \n",
    "\n",
    "![Explication](https://www.researchgate.net/publication/339500564/figure/fig1/AS:862793272131584@1582717354263/Spherical-coordinates-r-th-ph-radial-distance-r-azimuthal-angle-th-and-polar-angle-ph.ppm)\n",
    "- Initialisation: `set_camera_orientation(phi=None, theta=None, gamma=None, zoom=None, focal_distance=None, frame_center=None, **kwargs)` (I actually never use `gamma`, conversely, I found `distance` extremely useful. See examples below)\n",
    "- Begin continuous camera rotation around the scene: `begin_ambient_camera_rotation(rate)`\n",
    "- Stop the continuous camera rotation: `stop_ambient_camera_rotation()`\n",
    "- Move the camera to a new position: `move_camera(*args, **kwargs)`"
   ]
  },
  {
   "cell_type": "markdown",
   "metadata": {},
   "source": [
    "- Default position"
   ]
  },
  {
   "cell_type": "code",
   "execution_count": 97,
   "metadata": {},
   "outputs": [
    {
     "data": {
      "text/html": [
       "<video src=\"media/jupyter/Example@2023-03-17@22-59-40.mp4\" controls autoplay loop style=\"max-width: 75%;\"  >\n",
       "      Your browser does not support the <code>video</code> element.\n",
       "    </video>"
      ],
      "text/plain": [
       "<IPython.core.display.Video object>"
      ]
     },
     "metadata": {},
     "output_type": "display_data"
    }
   ],
   "source": [
    "%%manim -qm Example\n",
    "\n",
    "class Example(ThreeDScene):\n",
    "    def construct(self):\n",
    "        axes_config = {\n",
    "            \"x_range\": [-5, 5],\n",
    "            \"y_range\": [-5, 5],\n",
    "            \"z_range\": [-5, 5],\n",
    "        }\n",
    "\n",
    "        axes = ThreeDAxes(**axes_config).add_coordinates()\n",
    "        self.add(axes)\n",
    "        \n",
    "        # Labels for x, y, and z axes\n",
    "        x_label = Tex(\"$x$\").next_to(axes.x_axis.get_end(), RIGHT, buff=0.2)\n",
    "        y_label = Tex(\"$y$\").next_to(axes.y_axis.get_end(), UP, buff=0.2)\n",
    "        z_label = Tex(\"$z$\").next_to(axes.z_axis.get_end(), UP, buff=0.2)\n",
    "        self.add(x_label, y_label, z_label)\n",
    "        self.wait(3)        \n",
    "        "
   ]
  },
  {
   "attachments": {},
   "cell_type": "markdown",
   "metadata": {},
   "source": [
    "- An ideal observation place"
   ]
  },
  {
   "cell_type": "code",
   "execution_count": 98,
   "metadata": {},
   "outputs": [
    {
     "name": "stderr",
     "output_type": "stream",
     "text": [
      "                                                        \r"
     ]
    },
    {
     "data": {
      "text/html": [
       "<video src=\"media/jupyter/Example@2023-03-17@22-59-51.mp4\" controls autoplay loop style=\"max-width: 75%;\"  >\n",
       "      Your browser does not support the <code>video</code> element.\n",
       "    </video>"
      ],
      "text/plain": [
       "<IPython.core.display.Video object>"
      ]
     },
     "metadata": {},
     "output_type": "display_data"
    }
   ],
   "source": [
    "%%manim -qm Example\n",
    "\n",
    "class Example(ThreeDScene):\n",
    "    def construct(self):\n",
    "        axes_config = {\n",
    "            \"x_range\": [-5, 5],\n",
    "            \"y_range\": [-5, 5],\n",
    "            \"z_range\": [-5, 5],\n",
    "        }\n",
    "\n",
    "        axes = ThreeDAxes(**axes_config).add_coordinates()\n",
    "        \n",
    "        \n",
    "        self.set_camera_orientation(phi=80*DEGREES,\n",
    "                                    theta=-40*DEGREES,\n",
    "                                    distance=6)\n",
    "        \n",
    "        self.add(axes)\n",
    "        \n",
    "        self.begin_ambient_camera_rotation(rate=0.9)\n",
    "        self.wait(3)        \n",
    "        "
   ]
  },
  {
   "attachments": {},
   "cell_type": "markdown",
   "metadata": {},
   "source": [
    "- An example of transformation from 2D to 3D"
   ]
  },
  {
   "cell_type": "code",
   "execution_count": 93,
   "metadata": {},
   "outputs": [
    {
     "name": "stderr",
     "output_type": "stream",
     "text": [
      "                                                                                          \r"
     ]
    },
    {
     "data": {
      "text/html": [
       "<video src=\"media/jupyter/Example@2023-03-17@22-43-38.mp4\" controls autoplay loop style=\"max-width: 75%;\"  >\n",
       "      Your browser does not support the <code>video</code> element.\n",
       "    </video>"
      ],
      "text/plain": [
       "<IPython.core.display.Video object>"
      ]
     },
     "metadata": {},
     "output_type": "display_data"
    }
   ],
   "source": [
    "%%manim -qm Example\n",
    "\n",
    "class Example(ThreeDScene):\n",
    "    def construct(self):\n",
    "        axes_config = {\n",
    "            \"x_range\": [-5, 5],\n",
    "            \"y_range\": [-5, 5],\n",
    "            \"z_range\": [-5, 5],\n",
    "        }\n",
    "\n",
    "        axes = ThreeDAxes(**axes_config)\n",
    "        \n",
    "        curve = ParametricFunction(lambda t: np.array([\n",
    "            np.cos(t), np.sin(3*t), np.cos(5*t)\n",
    "        ]), color=YELLOW, t_range=(-5, 5))\n",
    "        \n",
    "        self.add(axes, curve)\n",
    "        self.move_camera(phi=60*DEGREES, run_time=3)\n",
    "        self.begin_ambient_camera_rotation(rate=0.9)\n",
    "        self.wait(3)\n",
    "        "
   ]
  },
  {
   "attachments": {},
   "cell_type": "markdown",
   "metadata": {},
   "source": [
    "## Text\n",
    "- Use `Text()` class to create normal text informations.\n",
    "- Use `Tex()` class to create, use `$$` when typing math equations and symbols !\n",
    "- Use `scale` to define its size.\n",
    "- Use `rotate` to change its orientation.\n",
    "- Changing the position:\n",
    "    - `shift` and `move_to`, such as `text.shift(LEFT*2 + UP*4)`\n",
    "    - `next_to`, such as `text.next_to(circle, RIGHT, buff=0.5)`\n",
    "\n",
    "- Important : There are two ways that the text appear, the first example shows that the text inclining with the camera, while the second example shows the text as if it is separated from the scene."
   ]
  },
  {
   "cell_type": "code",
   "execution_count": null,
   "metadata": {},
   "outputs": [],
   "source": [
    "%%manim -qm Example\n",
    "# Example 1 : Text oriented with the camera\n",
    "class Example(ThreeDScene):\n",
    "    def construct(self):\n",
    "        text3d = Tex(\"Hello World!$2+3=5 \\sum$\").scale(2)\n",
    "        text3d.rotate(PI/2, axis=RIGHT)\n",
    "        \n",
    "        self.set_camera_orientation(phi=80*DEGREES,\n",
    "                                    theta=-40*DEGREES,\n",
    "                                    distance=6)\n",
    "        \n",
    "        self.play(Write(text3d))\n",
    "        self.wait()"
   ]
  },
  {
   "cell_type": "code",
   "execution_count": null,
   "metadata": {},
   "outputs": [],
   "source": [
    "%%manim -qm Example\n",
    "from manim import *\n",
    "# Example 2 : Text not oriented with the camera\n",
    "class Example(ThreeDScene):\n",
    "    def construct(self):\n",
    "        text = Tex(\"Hello World!\").scale(2)\n",
    "        text.shift(LEFT*2 + UP*3)\n",
    "        \n",
    "        self.set_camera_orientation(phi=70 * DEGREES, theta=-60 * DEGREES)\n",
    "        \n",
    "        # Add text to a 2D overlay, so it stays in front of the camera without any inclination\n",
    "        self.add_fixed_in_frame_mobjects(text)\n",
    "        self.play(Write(text)) # Without this line, it will appear directly.\n",
    "        self.wait()\n"
   ]
  },
  {
   "attachments": {},
   "cell_type": "markdown",
   "metadata": {},
   "source": [
    "## Transformations\n",
    "Apply various transformations to your 3D objects using methods.\n",
    "\n",
    "Manim can apply various transformations to 3D objects just as it does for 2D objects. Common transformations like translation, scaling, and rotation can be applied to 3D objects using methods like `.animate` syntax for animations and ...\n",
    "- `move_to()`, \n",
    "- `scale()`, \n",
    "- `rotate()`"
   ]
  },
  {
   "cell_type": "code",
   "execution_count": 103,
   "metadata": {},
   "outputs": [
    {
     "name": "stderr",
     "output_type": "stream",
     "text": [
      "                                                                                                           \r"
     ]
    },
    {
     "data": {
      "text/html": [
       "<video src=\"media/jupyter/Example@2023-03-17@23-11-05.mp4\" controls autoplay loop style=\"max-width: 75%;\"  >\n",
       "      Your browser does not support the <code>video</code> element.\n",
       "    </video>"
      ],
      "text/plain": [
       "<IPython.core.display.Video object>"
      ]
     },
     "metadata": {},
     "output_type": "display_data"
    }
   ],
   "source": [
    "%%manim -qm Example\n",
    "\n",
    "class Example(ThreeDScene):\n",
    "    def construct(self):\n",
    "        axes = ThreeDAxes()\n",
    "        cube = Cube(color=YELLOW).scale(0.5).shift(LEFT)\n",
    "        sphere = Sphere(radius=0.5, resolution=(30, 30)).shift(RIGHT)\n",
    "\n",
    "        self.set_camera_orientation(phi=75 * DEGREES, theta=-45 * DEGREES, distance=8)\n",
    "\n",
    "        # Adding 3D objects to the scene\n",
    "        self.play(FadeIn(axes), FadeIn(cube), FadeIn(sphere))\n",
    "        self.wait()\n",
    "\n",
    "        # Translation\n",
    "        self.play(\n",
    "            cube.animate.shift(2 * UP + 2 * OUT),\n",
    "            sphere.animate.shift(2 * DOWN + 2 * IN),\n",
    "        )\n",
    "        self.wait()\n",
    "\n",
    "        # Scaling\n",
    "        self.play(\n",
    "            cube.animate.scale(2),\n",
    "            sphere.animate.scale(1.5),\n",
    "        )\n",
    "        self.wait()\n",
    "\n",
    "        # Rotation\n",
    "        self.play(\n",
    "            Rotate(cube, angle=PI, axis=RIGHT),\n",
    "            Rotate(sphere, angle=PI, axis=UP),\n",
    "        )\n",
    "        self.wait()"
   ]
  },
  {
   "attachments": {},
   "cell_type": "markdown",
   "metadata": {},
   "source": [
    "## Primitives\n",
    "Manim has built-in 3D primitives like `Sphere`, `Cone`, `Cylinder`, `Box`, `Torus`, and `Arrow3D`. You can use these to create more complex 3D objects."
   ]
  },
  {
   "cell_type": "code",
   "execution_count": 62,
   "metadata": {},
   "outputs": [
    {
     "name": "stderr",
     "output_type": "stream",
     "text": [
      "                                                                                                  \r"
     ]
    },
    {
     "data": {
      "text/html": [
       "<video src=\"media/jupyter/Example@2023-03-17@20-55-37.mp4\" controls autoplay loop style=\"max-width: 75%;\"  >\n",
       "      Your browser does not support the <code>video</code> element.\n",
       "    </video>"
      ],
      "text/plain": [
       "<IPython.core.display.Video object>"
      ]
     },
     "metadata": {},
     "output_type": "display_data"
    }
   ],
   "source": [
    "%%manim -qm Example\n",
    "\n",
    "class Example(ThreeDScene):\n",
    "    def construct(self):\n",
    "        sphere = Sphere(radius=1, resolution=(30, 30))\n",
    "        cone = Cone(base_radius=1, height=2, direction=OUT)\n",
    "        cone.shift(LEFT*6 + UP*15)\n",
    "        \n",
    "        self.set_camera_orientation(phi=80*DEGREES,\n",
    "                                    theta=-40*DEGREES,\n",
    "                                    distance=6)\n",
    "        \n",
    "        self.add(sphere, cone)\n",
    "        self.play(ApplyMethod(sphere.move_to, np.array([3, -2, 1])))\n",
    "        self.wait()\n"
   ]
  },
  {
   "attachments": {},
   "cell_type": "markdown",
   "metadata": {},
   "source": [
    "## Curves and Paths\n",
    "- `ParametricFunction` is a class in Manim that allows you to create curves or paths in 2D space using parametric equations. A parametric equation defines a curve by expressing the coordinates of each point on the curve as a function of a parameter, usually denoted by $t$.\n",
    "\n",
    "- Define the curve: `curve = ParametricFunction(curve_func, t_range=[t_min, t_max])` \n",
    "    - Here: `curve_func` could be: `lambda t: np.array([func_1, func_2, func_3])`\n",
    "    \n",
    "    \n",
    "- Transform between curves: `Transform(curve1, curve2)`"
   ]
  },
  {
   "cell_type": "code",
   "execution_count": 75,
   "metadata": {},
   "outputs": [
    {
     "name": "stderr",
     "output_type": "stream",
     "text": [
      "                                                                                             \r"
     ]
    },
    {
     "data": {
      "text/html": [
       "<video src=\"media/jupyter/Example@2023-03-17@21-11-57.mp4\" controls autoplay loop style=\"max-width: 75%;\"  >\n",
       "      Your browser does not support the <code>video</code> element.\n",
       "    </video>"
      ],
      "text/plain": [
       "<IPython.core.display.Video object>"
      ]
     },
     "metadata": {},
     "output_type": "display_data"
    }
   ],
   "source": [
    "%%manim -qm Example\n",
    "\n",
    "class Example(ThreeDScene):\n",
    "    def construct(self):\n",
    "        axes_config = {\n",
    "            \"x_range\": [-5, 5],\n",
    "            \"y_range\": [-5, 5],\n",
    "            \"z_range\": [-5, 5],\n",
    "        }\n",
    "\n",
    "        axes = ThreeDAxes(**axes_config)\n",
    "        \n",
    "        self.set_camera_orientation(phi=80*DEGREES,\n",
    "                                    theta=-40*DEGREES,\n",
    "                                    distance=6)\n",
    "        \n",
    "        self.begin_ambient_camera_rotation(rate=0.9)\n",
    "        self.add(axes)\n",
    "        \n",
    "        curve = ParametricFunction(lambda t: np.array([\n",
    "            np.cos(t), np.sin(3*t), np.cos(5*t)\n",
    "        ]), color=YELLOW, t_range=(-5, 5))\n",
    "        \n",
    "        curve_new = ParametricFunction(lambda t: np.array([\n",
    "            np.cos(5*t), np.sin(t), np.cos(3*t)\n",
    "        ]), color=BLUE, t_range=(-5, 5))\n",
    "        \n",
    "        self.play(Write(curve), run_time=10)\n",
    "        self.play(Transform(curve, curve_new), run_time=5)\n",
    "        self.wait()"
   ]
  },
  {
   "attachments": {},
   "cell_type": "markdown",
   "metadata": {},
   "source": [
    "## Surfaces\n",
    "> In the context of Manim, `ParametricSurface` is a class that was available in earlier versions to create 3D surfaces by defining a parametric function. In the latest version of Manim, the `ParametricSurface` class has been replaced by the `Surface` class, which is used for the same purpose.\n",
    "\n",
    "Parametric surfaces are 3D objects defined by parametric equations for the $x$, $y$, and $z$ coordinates in terms of two parameters, usually denoted by $u$ and $v$. They can be used to create complex 3D objects like spheres, tori, or custom surfaces.\n",
    "\n",
    "- Define the surface: `surface = Surface(surface_func, u_range=[u_min, u_max], v_range=[v_min, v_max], resolution=(NUM, NUM))`\n",
    "    - The `resolution` affects the time used to produce the video."
   ]
  },
  {
   "cell_type": "code",
   "execution_count": 81,
   "metadata": {},
   "outputs": [
    {
     "name": "stderr",
     "output_type": "stream",
     "text": [
      "                                                                                                 \r"
     ]
    },
    {
     "data": {
      "text/html": [
       "<video src=\"media/jupyter/Example@2023-03-17@21-50-36.mp4\" controls autoplay loop style=\"max-width: 75%;\"  >\n",
       "      Your browser does not support the <code>video</code> element.\n",
       "    </video>"
      ],
      "text/plain": [
       "<IPython.core.display.Video object>"
      ]
     },
     "metadata": {},
     "output_type": "display_data"
    }
   ],
   "source": [
    "%%manim -qm Example\n",
    "# Example of 3 surfaces\n",
    "class Example(ThreeDScene):\n",
    "    def construct(self):\n",
    "        axes_config = {\n",
    "            \"x_range\": [-5, 5],\n",
    "            \"y_range\": [-5, 5],\n",
    "            \"z_range\": [-5, 5],\n",
    "        }\n",
    "\n",
    "        axes = ThreeDAxes(**axes_config)\n",
    "        \n",
    "        self.set_camera_orientation(phi=80*DEGREES,\n",
    "                                    theta=-40*DEGREES,\n",
    "                                    distance=6)\n",
    "        \n",
    "        self.begin_ambient_camera_rotation(rate=0.9)\n",
    "        self.add(axes)\n",
    "        \n",
    "        bowl = Surface(\n",
    "            lambda u, v: np.array([\n",
    "                np.cos(v)*u, np.sin(v)*u, u**2\n",
    "            ]), v_range=(-5, 5), resolution=(10, 32)\n",
    "        ) # \"resolution\" affects the time used to produce the video!\n",
    "        \n",
    "        HeatedSurface = Surface(\n",
    "            lambda u, v: np.array([\n",
    "                u, v, np.sin(v) + np.cos(v)\n",
    "            ]), u_range=(-5, 5), v_range=(-5, 5), resolution=(15, 50)\n",
    "        )\n",
    "        \n",
    "        PlaneSurface = Surface(\n",
    "            lambda u, v: np.array([\n",
    "                u, v, 2*u + 3*v -1\n",
    "            ]), u_range=(-5, 5), resolution=(15, 50)\n",
    "        )\n",
    "        self.play(Write(bowl), run_time=3)\n",
    "        self.play(Write(HeatedSurface), run_time=5)\n",
    "        self.play(Write(PlaneSurface), run_time=3)\n",
    "        self.wait()"
   ]
  },
  {
   "attachments": {},
   "cell_type": "markdown",
   "metadata": {},
   "source": [
    "## Grouping\n",
    "\n",
    "`VGroup` (short for \"Vectorized Group\") is a class in Manim that's used to group multiple Mobjects (short for \"Mathematical Objects\") together. This allows you to treat a collection of Mobjects as a single entity, making it easier to manipulate, transform, and animate them simultaneously.\n",
    "\n",
    "Some common use cases for`VGroup` include:\n",
    "\n",
    "- Positioning: When you want to position multiple Mobjects relative to each other or in a specific arrangement, you can use a `VGroup` to move them together while preserving their relative positions.\n",
    "\n",
    "- Scaling and Rotation: When you want to scale or rotate multiple Mobjects as a unit, you can use a `VGroup` to apply the transformation to all of its child Mobjects.\n",
    "\n",
    "- Animation: When you want to animate multiple Mobjects simultaneously, you can use a `VGroup` to apply the animation to the entire group."
   ]
  },
  {
   "cell_type": "code",
   "execution_count": 102,
   "metadata": {},
   "outputs": [
    {
     "name": "stderr",
     "output_type": "stream",
     "text": [
      "                                                                                                        \r"
     ]
    },
    {
     "data": {
      "text/html": [
       "<video src=\"media/jupyter/VGroupExample@2023-03-17@23-04-10.mp4\" controls autoplay loop style=\"max-width: 75%;\"  >\n",
       "      Your browser does not support the <code>video</code> element.\n",
       "    </video>"
      ],
      "text/plain": [
       "<IPython.core.display.Video object>"
      ]
     },
     "metadata": {},
     "output_type": "display_data"
    }
   ],
   "source": [
    "%%manim -qm VGroupExample\n",
    "\n",
    "class VGroupExample(Scene):\n",
    "    def construct(self):\n",
    "        circle = Circle(color=RED)\n",
    "        square = Square(color=BLUE).scale(0.5)\n",
    "        triangle = Triangle(color=YELLOW).scale(0.5).next_to(square, RIGHT, buff=0.5)\n",
    "\n",
    "        # Create a VGroup containing the circle, square, and triangle\n",
    "        group = VGroup(circle, square, triangle)\n",
    "\n",
    "        # Position the group at the center of the screen\n",
    "        group.move_to(ORIGIN)\n",
    "\n",
    "        # Rotate the group by 45 degrees\n",
    "        group.rotate(45 * DEGREES)\n",
    "\n",
    "        self.play(FadeIn(group))\n",
    "        self.wait()\n",
    "\n",
    "        # Animate the group scaling up and down\n",
    "        self.play(group.animate.scale(1.5))\n",
    "        self.play(group.animate.scale(1/1.5))\n",
    "        self.wait()"
   ]
  },
  {
   "attachments": {},
   "cell_type": "markdown",
   "metadata": {},
   "source": [
    "## References\n",
    "There are no formally written references, thanks to:\n",
    "- GPT-4 \n",
    "- Video: https://www.youtube.com/watch?v=0YF9mkGkcgI\n",
    "- Video: https://www.youtube.com/watch?v=FEtYAw3sI9Y&list=PLWOlLjdyZm2NQD1YZmEPB0dwbd0yKINAT&index=4"
   ]
  }
 ],
 "metadata": {
  "kernelspec": {
   "display_name": ".venv",
   "language": "python",
   "name": "python3"
  },
  "language_info": {
   "codemirror_mode": {
    "name": "ipython",
    "version": 3
   },
   "file_extension": ".py",
   "mimetype": "text/x-python",
   "name": "python",
   "nbconvert_exporter": "python",
   "pygments_lexer": "ipython3",
   "version": "3.9.16"
  },
  "orig_nbformat": 4
 },
 "nbformat": 4,
 "nbformat_minor": 2
}

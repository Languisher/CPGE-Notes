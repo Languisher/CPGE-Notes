{
 "cells": [
  {
   "cell_type": "markdown",
   "id": "1bf9caa6",
   "metadata": {},
   "source": [
    "# Introduction à la dualité"
   ]
  },
  {
   "cell_type": "markdown",
   "id": "c95712f0",
   "metadata": {},
   "source": [
    "<div class=\"alert alert-info\">\n",
    "    \n",
    "Je rappelle que l'objectif des Td-Tps est multiple\n",
    "1. Vérifier qu'on a bien compris les notions mathématiques\n",
    "1. S'assurer qu'on sait utiliser `Python` pour faire les calculs utiles\n",
    "1. Apprendre à coordonner les réflexions mathématiques et les calculs informatiques.\n",
    "</div>"
   ]
  },
  {
   "cell_type": "markdown",
   "id": "befca72a",
   "metadata": {},
   "source": [
    "## Exercice : utilisation de la dualité"
   ]
  },
  {
   "cell_type": "markdown",
   "id": "e9d20ba6",
   "metadata": {},
   "source": [
    "On considère l'espace vectoriel $E=\\mathscr{C}\\left([a,b],\\mathbb{R}\\right)$ où $(a,b)\\in\\mathbb{R}^2$ et $a<b$. Soit $c\\in]a,b[$, on définit les 4 formes linéaires de $E^\\star$ suivantes\n",
    "$$\\varphi_1\\;:\\;f\\longmapsto f(a),\\quad \\varphi_2\\;:\\;f\\longmapsto f(b),\\quad \\varphi_3\\;:\\;f\\longmapsto f(c) \\quad\\text{et}\\quad\\varphi_4\\;:\\; f\\longmapsto \\int_a^b f(t)\\;\\mathrm{d}t$$\n",
    "1. À quelle(s) condition(s) nécessaire(s) et suffisante(s) ces 4 formes linéaires sont-elles indépendantes dans $E^\\star$ ?\n",
    "2. On considère le sous-espace vectoriel de $E$ défini par \n",
    "$$E_1=\\mathrm{Vect}\\left(\\left\\{x\\longmapsto x^k,\\;k\\in\\{0,\\ldots,3\\}\\right\\}\\right)$$\n",
    "Montrer que ces 4 formes linéaires sont indépendantes dans $E_1^\\star$ si, et seulement si, $c\\ne \\frac{a+b}2$.\n",
    "3. En déduire une méthode approchée de calcul d'intégrale. *On notera $I_f$ la valeur approchée trouvée.*"
   ]
  },
  {
   "cell_type": "markdown",
   "id": "3dc9d27e",
   "metadata": {},
   "source": [
    "**Question 1** Elles sont toujours indépendantes. Soit $(\\alpha_1,\\alpha_2,\\alpha_3,\\alpha_4)\\in\\mathbb{R}^4$ tels que\n",
    "$$\\sum_{k=1}^4 \\alpha_k.\\varphi_k=0_{_{E^\\star}}$$\n",
    "1. Si on l'applique à $f\\;:\\;x\\longmapsto (x-a)\\,(x-b)\\,(x-c)\\,g(t)$, où $g$ est une fonction de $E$ quelconque, on obtient\n",
    "$$\\alpha_4\\,\\int_a^b f(t)\\;\\mathrm{d}t=0$$"
   ]
  },
  {
   "cell_type": "code",
   "execution_count": 1,
   "id": "6bca3f51",
   "metadata": {
    "ExecuteTime": {
     "end_time": "2023-02-15T12:53:40.016913Z",
     "start_time": "2023-02-15T12:53:39.347150Z"
    }
   },
   "outputs": [
    {
     "data": {
      "image/png": "[encoded data removed]",
      "text/latex": [
       "$\\displaystyle \\frac{\\left(a - b\\right)^{3} \\left(a + b - 2 c\\right)}{12}$"
      ],
      "text/plain": [
       "       3              \n",
       "(a - b) ⋅(a + b - 2⋅c)\n",
       "──────────────────────\n",
       "          12          "
      ]
     },
     "execution_count": 1,
     "metadata": {},
     "output_type": "execute_result"
    }
   ],
   "source": [
    "import sympy as sp\n",
    "sp.init_printing()\n",
    "a, b, c, t, alpha1, alpha2, alpha3 = sp.symbols(\n",
    "    'a b c t \\\\alpha_1 \\\\alpha_2 \\\\alpha_3', real=True)\n",
    "sp.integrate((t-a)*(t-b)*(t-c), (t, a, b)).factor()"
   ]
  },
  {
   "cell_type": "markdown",
   "id": "420e0f90",
   "metadata": {},
   "source": [
    "Donc si $c\\ne\\frac{a+b}2$, $\\alpha_4=0$. Que se passe-t-il si $c=\\frac{a+b}2$ ?"
   ]
  },
  {
   "cell_type": "code",
   "execution_count": 2,
   "id": "bb9736e4",
   "metadata": {
    "ExecuteTime": {
     "end_time": "2023-02-15T12:53:40.369059Z",
     "start_time": "2023-02-15T12:53:40.018449Z"
    }
   },
   "outputs": [
    {
     "data": {
      "image/png": "[encoded data removed]",
      "text/latex": [
       "$\\displaystyle \\frac{\\left(a - b\\right)^{5}}{120}$"
      ],
      "text/plain": [
       "       5\n",
       "(a - b) \n",
       "────────\n",
       "  120   "
      ]
     },
     "execution_count": 2,
     "metadata": {},
     "output_type": "execute_result"
    }
   ],
   "source": [
    "sp.integrate(((t-a)*(t-b)*(t-c)**2).subs({c: (a+b)/2}), (t, a, b)).factor()"
   ]
  },
  {
   "cell_type": "markdown",
   "id": "6baeb1ed",
   "metadata": {},
   "source": [
    "On trouve encore $\\alpha_4=0$. une fois que $\\alpha_4=0$ est connu, en appliquant successivement aux fonctions $x\\longmapsto (x-a)\\,(x-b)$, $x\\longmapsto(x-a)\\,(x-c)$ et $x\\longmapsto (x-b)\\,(x-c)$ on trouve que $\\alpha_1=\\alpha_2=\\alpha_3=0$."
   ]
  },
  {
   "cell_type": "markdown",
   "id": "ca240e92",
   "metadata": {},
   "source": [
    "**Question 2** Le deuxième calcul ci-dessus n'est plus possible. Si on suppose que $c=\\frac{a+b}2$, les formes linéaires sont liées. En effet"
   ]
  },
  {
   "cell_type": "code",
   "execution_count": 3,
   "id": "af890cec",
   "metadata": {
    "ExecuteTime": {
     "end_time": "2023-02-15T12:53:40.721966Z",
     "start_time": "2023-02-15T12:53:40.371055Z"
    }
   },
   "outputs": [
    {
     "data": {
      "image/png": "[encoded data removed]",
      "text/latex": [
       "$\\displaystyle \\left\\{ \\alpha_{1} : - \\frac{a}{6} + \\frac{b}{6}, \\  \\alpha_{2} : - \\frac{a}{6} + \\frac{b}{6}, \\  \\alpha_{3} : - \\frac{2 a}{3} + \\frac{2 b}{3}\\right\\}$"
      ],
      "text/plain": [
       "⎧           a   b             a   b             2⋅a   2⋅b⎫\n",
       "⎨\\alpha₁: - ─ + ─, \\alpha₂: - ─ + ─, \\alpha₃: - ─── + ───⎬\n",
       "⎩           6   6             6   6              3     3 ⎭"
      ]
     },
     "execution_count": 3,
     "metadata": {},
     "output_type": "execute_result"
    }
   ],
   "source": [
    "def psi(f):\n",
    "    return alpha1*f(a)+alpha2*f(b)+alpha3*f((a+b)/2)-sp.integrate(f(t), (t, a, b))\n",
    "\n",
    "\n",
    "sp.solve([psi(lambda t: 1), psi(lambda t: t), psi(lambda t: t**2),\n",
    "          psi(lambda t: t**3)], [alpha1, alpha2, alpha3])"
   ]
  },
  {
   "cell_type": "markdown",
   "id": "47c23f7a",
   "metadata": {},
   "source": [
    "**Question 3** On aura donc\n",
    "$$I_f=\\frac{b-a}6\\,\\left(f(a)+2\\,f\\left(\\frac{a+b}2\\right)+f(b)\\right)$$"
   ]
  },
  {
   "cell_type": "markdown",
   "id": "c517a494",
   "metadata": {},
   "source": [
    "## Exercice : interpolation"
   ]
  },
  {
   "cell_type": "markdown",
   "id": "a81b7dd0",
   "metadata": {},
   "source": [
    "Soit $a_1<a_2<\\cdots<a_n$, $n$ réels, où $n\\in\\mathbb{N}^*\\setminus\\{1\\}$. Soit $(y_1,\\ldots,y_{n},z_1,\\ldots,z_n)\\in\\mathbb{R}^{2\\,n}$.\n",
    "1. Montrer l'existence et l'unicité d'une fonction polynomiale $P$ de degré $\\le 2\\,n-1$ qui vérifie\n",
    "$$\\forall i\\in\\{1,\\ldots,n\\},\\; P(a_i)=y_i\\quad\\text{ et }\\quad P'(a_{n+i})=z_i$$\n",
    "1. Calculer $P$."
   ]
  },
  {
   "cell_type": "markdown",
   "id": "685e90b0",
   "metadata": {},
   "source": [
    "<div class=\"alert alert-danger\">\n",
    "\n",
    "On suit la démarche présentée en cours pour les fonctions polynomiales d'interpolation de Lagrange.\n",
    "</div>"
   ]
  },
  {
   "cell_type": "markdown",
   "id": "38f1cd6e",
   "metadata": {},
   "source": [
    "**Question 1** Considérons les formes linéaires définies sur $E=\\mathrm{Vect}\\left(\\left\\{x\\longmapsto x^k,\\; k\\in\\{0,\\ldots,\\color{red}{2\\,n-1}\\}\\right\\}\\right)$ par\n",
    "1. Pour $i\\in\\{1,\\ldots,n\\}$, $\\varphi_i\\;:\\;P\\longmapsto P(a_i)$\n",
    "1. Pour $i\\in\\{n+1,\\ldots,\\color{red}{2\\,n}\\}$, $\\varphi_i\\;:\\;P\\longmapsto P'(a_{\\color{red}{i-n}})$\n",
    "- *Ces formes linéaires sont indépendantes.* Soit $(\\alpha_1,\\ldots,\\alpha_{\\color{red}{2\\,n}})\\in\\mathbb{R}^{\\color{red}{2\\,n}}$ tels que\n",
    "$$\\sum_{k=1}^{\\color{red}{2\\,n}} \\alpha_k.\\varphi_k=0_{_{E^\\star}}$$\n",
    "Pour $j\\in\\{1,\\ldots,n\\}$, on considère la fonction polynomiale définie par\n",
    "$$P_j\\;:\\;x\\longmapsto (x-a_1)^2\\cdots(x-a_{j-1})^2\\,(x-a_j)\\,(x-a_{j+1})^2\\cdots(x-a_n)^2$$\n",
    "et on calcule\n",
    "$$0=\\left(\\sum_{k=1}^{\\color{red}{2\\,n}} \\alpha_k.\\varphi_k\\right)(P_j)=\\alpha_{n+j}\\, \\prod_{k\\ne j} (a_j-a_k)^2$$\n",
    "donc $\\alpha_{n+j}=0$ (pour tout $j\\in\\{1,\\ldots,n\\}$). On a donc\n",
    "$$\\sum_{k=1}^n \\alpha_k.\\varphi_k=0_{_{E^\\star}}$$\n",
    "En considérant ensuite la fonction polynomiale définie par \n",
    "$$Q_j\\;:\\; x\\longmapsto \\prod_{k\\ne j}(x-a_k)$$\n",
    "on obtient\n",
    "$$0=\\left(\\sum_{k=1}^n \\alpha_k.\\varphi_k\\right)(Q_j)=\\alpha_j\\,Q_j(a_j)$$\n",
    "donc $\\alpha_j=0$, pour tout $j\\in\\{1,\\ldots,n\\}$. La famille est bien libre.\n",
    "- *Ces $\\color{red}{2\\,n}$ formes linéaires forment une base de $E^\\star$.* Car elles forment une partie libre de cardinal $\\color{red}{2\\,n}$ dans $E^\\star$ qui est de dimension $\\color{red}{2\\,n}$.\n",
    "- En considérant la base ante-duale de $(\\varphi_1,\\ldots,\\varphi_{\\color{red}{2\\,n}})$, que nous noterons $(R_1,\\ldots,R_{\\color{red}{2\\,n}})$, la fonction $P$ cherchée s'écrit comme combinaison linéaire de cette base, il existe donc $(\\beta_1,\\ldots,\\beta_{\\color{red}{2\\,n}})\\in\\mathbb{R}^{\\color{red}{2\\,n}}$ tels que\n",
    "$$P=\\sum_{k=1}^{\\color{red}{2\\,n}} \\beta_k.R_k$$\n",
    "En appliquant pour $j\\in\\{1,\\ldots,\\color{red}{2\\,n}\\}$, la forme linéaire $\\color{red}{\\varphi_j}$ sur $P$, on obtient\n",
    "$$\\forall j\\in\\{1,\\ldots,n\\},\\; \\beta_j=\\begin{cases} y_j&\\text{si } j\\le n\\\\ z_{j-n}&\\text{si } j>n\\end{cases}$$\n",
    "Ce qui montre l'existence et l'unicité de $P$ qui vaut\n",
    "$$\\boxed{P=\\sum_{k=1}^n \\left(y_k.R_k+z_k.R_{n+k}\\right)}$$"
   ]
  },
  {
   "cell_type": "markdown",
   "id": "c01f8ac8",
   "metadata": {},
   "source": [
    "**Question 2** Il faut trouver les $R_k$ pour avoir la formule de $P$. Essayons de deviner leurs formes avec $n=3$."
   ]
  },
  {
   "cell_type": "markdown",
   "id": "03da37fa",
   "metadata": {},
   "source": [
    "*Calcul de $R_1$* Il vérifie les équations\n",
    "$$R_1(a_1)=1,\\quad R_1(a_2)=R_1(a_3)=R'_1(a_1)=R'_1(a_2)=R'_1(a_3)=0$$\n",
    "Il s'écrit sous la forme\n",
    "$$R_1\\;:\\;x\\longmapsto (\\alpha_1\\,t+\\alpha_2)\\,(x-a_2)^2\\,(x-a_3)^2$$"
   ]
  },
  {
   "cell_type": "code",
   "execution_count": 4,
   "id": "cf201e3d",
   "metadata": {
    "ExecuteTime": {
     "end_time": "2023-02-15T12:53:41.141203Z",
     "start_time": "2023-02-15T12:53:40.723318Z"
    }
   },
   "outputs": [
    {
     "data": {
      "image/png": "[encoded data removed]",
      "text/latex": [
       "$\\displaystyle \\left\\{ \\alpha_{1} : \\frac{- 4 a_{1} + 2 a_{2} + 2 a_{3}}{a_{1}^{6} - 3 a_{1}^{5} a_{2} - 3 a_{1}^{5} a_{3} + 3 a_{1}^{4} a_{2}^{2} + 9 a_{1}^{4} a_{2} a_{3} + 3 a_{1}^{4} a_{3}^{2} - a_{1}^{3} a_{2}^{3} - 9 a_{1}^{3} a_{2}^{2} a_{3} - 9 a_{1}^{3} a_{2} a_{3}^{2} - a_{1}^{3} a_{3}^{3} + 3 a_{1}^{2} a_{2}^{3} a_{3} + 9 a_{1}^{2} a_{2}^{2} a_{3}^{2} + 3 a_{1}^{2} a_{2} a_{3}^{3} - 3 a_{1} a_{2}^{3} a_{3}^{2} - 3 a_{1} a_{2}^{2} a_{3}^{3} + a_{2}^{3} a_{3}^{3}}, \\  \\alpha_{2} : \\frac{5 a_{1}^{2} - 3 a_{1} a_{2} - 3 a_{1} a_{3} + a_{2} a_{3}}{a_{1}^{6} - 3 a_{1}^{5} a_{2} - 3 a_{1}^{5} a_{3} + 3 a_{1}^{4} a_{2}^{2} + 9 a_{1}^{4} a_{2} a_{3} + 3 a_{1}^{4} a_{3}^{2} - a_{1}^{3} a_{2}^{3} - 9 a_{1}^{3} a_{2}^{2} a_{3} - 9 a_{1}^{3} a_{2} a_{3}^{2} - a_{1}^{3} a_{3}^{3} + 3 a_{1}^{2} a_{2}^{3} a_{3} + 9 a_{1}^{2} a_{2}^{2} a_{3}^{2} + 3 a_{1}^{2} a_{2} a_{3}^{3} - 3 a_{1} a_{2}^{3} a_{3}^{2} - 3 a_{1} a_{2}^{2} a_{3}^{3} + a_{2}^{3} a_{3}^{3}}\\right\\}$"
      ],
      "text/plain": [
       "⎧                                                                             \n",
       "⎪                                                                             \n",
       "⎨\\alpha₁: ────────────────────────────────────────────────────────────────────\n",
       "⎪           6       5          5          4   2       4             4   2     \n",
       "⎩         a₁  - 3⋅a₁ ⋅a₂ - 3⋅a₁ ⋅a₃ + 3⋅a₁ ⋅a₂  + 9⋅a₁ ⋅a₂⋅a₃ + 3⋅a₁ ⋅a₃  - a₁\n",
       "\n",
       "                                                                              \n",
       "                      -4⋅a₁ + 2⋅a₂ + 2⋅a₃                                     \n",
       "──────────────────────────────────────────────────────────────────────────────\n",
       "3   3       3   2          3      2     3   3       2   3          2   2   2  \n",
       " ⋅a₂  - 9⋅a₁ ⋅a₂ ⋅a₃ - 9⋅a₁ ⋅a₂⋅a₃  - a₁ ⋅a₃  + 3⋅a₁ ⋅a₂ ⋅a₃ + 9⋅a₁ ⋅a₂ ⋅a₃  +\n",
       "\n",
       "                                                                              \n",
       "                                                                              \n",
       "─────────────────────────────────────────────────────, \\alpha₂: ──────────────\n",
       "     2      3          3   2          2   3     3   3             6       5   \n",
       " 3⋅a₁ ⋅a₂⋅a₃  - 3⋅a₁⋅a₂ ⋅a₃  - 3⋅a₁⋅a₂ ⋅a₃  + a₂ ⋅a₃            a₁  - 3⋅a₁ ⋅a₂\n",
       "\n",
       "                                                                         2    \n",
       "                                                                     5⋅a₁  - 3\n",
       "──────────────────────────────────────────────────────────────────────────────\n",
       "       5          4   2       4             4   2     3   3       3   2       \n",
       " - 3⋅a₁ ⋅a₃ + 3⋅a₁ ⋅a₂  + 9⋅a₁ ⋅a₂⋅a₃ + 3⋅a₁ ⋅a₃  - a₁ ⋅a₂  - 9⋅a₁ ⋅a₂ ⋅a₃ - 9\n",
       "\n",
       "                                                                              \n",
       "⋅a₁⋅a₂ - 3⋅a₁⋅a₃ + a₂⋅a₃                                                      \n",
       "──────────────────────────────────────────────────────────────────────────────\n",
       "   3      2     3   3       2   3          2   2   2       2      3          3\n",
       "⋅a₁ ⋅a₂⋅a₃  - a₁ ⋅a₃  + 3⋅a₁ ⋅a₂ ⋅a₃ + 9⋅a₁ ⋅a₂ ⋅a₃  + 3⋅a₁ ⋅a₂⋅a₃  - 3⋅a₁⋅a₂ \n",
       "\n",
       "                             ⎫\n",
       "                             ⎪\n",
       "─────────────────────────────⎬\n",
       "   2          2   3     3   3⎪\n",
       "⋅a₃  - 3⋅a₁⋅a₂ ⋅a₃  + a₂ ⋅a₃ ⎭"
      ]
     },
     "execution_count": 4,
     "metadata": {},
     "output_type": "execute_result"
    }
   ],
   "source": [
    "a1, a2, a3 = sp.symbols('a_1 a_2 a_3', real=True)\n",
    "def R1(t): return (alpha1*t+alpha2)*(t-a2)**2*(t-a3)**2\n",
    "\n",
    "\n",
    "sp.solve([R1(a1)-1, R1(t).diff(t).subs({t: a1})], [alpha1, alpha2])"
   ]
  },
  {
   "cell_type": "code",
   "execution_count": 5,
   "id": "91821d9e",
   "metadata": {
    "ExecuteTime": {
     "end_time": "2023-02-15T12:53:41.489352Z",
     "start_time": "2023-02-15T12:53:41.142539Z"
    }
   },
   "outputs": [
    {
     "data": {
      "image/png": "[encoded data removed]",
      "text/latex": [
       "$\\displaystyle - \\frac{\\left(- a_{2} + t\\right)^{2} \\left(- a_{3} + t\\right)^{2} \\left(- 5 a_{1}^{2} + 3 a_{1} a_{2} + 3 a_{1} a_{3} + 4 a_{1} t - a_{2} a_{3} - 2 a_{2} t - 2 a_{3} t\\right)}{\\left(a_{1} - a_{2}\\right)^{3} \\left(a_{1} - a_{3}\\right)^{3}}$"
      ],
      "text/plain": [
       "          2          2 ⎛      2                                               \n",
       "-(-a₂ + t) ⋅(-a₃ + t) ⋅⎝- 5⋅a₁  + 3⋅a₁⋅a₂ + 3⋅a₁⋅a₃ + 4⋅a₁⋅t - a₂⋅a₃ - 2⋅a₂⋅t \n",
       "──────────────────────────────────────────────────────────────────────────────\n",
       "                                          3          3                        \n",
       "                                 (a₁ - a₂) ⋅(a₁ - a₃)                         \n",
       "\n",
       "        ⎞ \n",
       "- 2⋅a₃⋅t⎠ \n",
       "──────────\n",
       "          \n",
       "          "
      ]
     },
     "execution_count": 5,
     "metadata": {},
     "output_type": "execute_result"
    }
   ],
   "source": [
    "R1(t).subs(_).factor()"
   ]
  },
  {
   "cell_type": "markdown",
   "id": "62735c78",
   "metadata": {},
   "source": [
    "Le calcul ne semble pas se faire facilement..."
   ]
  },
  {
   "cell_type": "markdown",
   "id": "269fb7ee",
   "metadata": {},
   "source": [
    "$\\blacktriangleright$ Comme le calcul brut ne donne rien, on va essayer de raisonner simplement. Introduisons la fonction polynomiale d'interpolation de Lagrange vue en cours, en posant pour $i\\in\\{1,\\ldots,n\\}$\n",
    "$$L_i\\;:\\; x\\longmapsto \\prod_{k=1,\\,k\\ne j}^n \\frac{x-a_k}{a_j-a_k}$$ \n",
    "alors $L_i$ est de degré $\\le n-1$ et $L_1^2$ de degré $\\le 2\\,n-2$. Cherchons, pour $j\\in\\{1,\\ldots,n\\}$, $R_j$ sous la forme\n",
    "$$t\\longmapsto (\\alpha\\,t+\\beta)\\,L_j^2(t)$$\n",
    "on doit avoir alors\n",
    "$$\\alpha\\,a_j+\\beta=1\\quad\\text{et}\\quad \\alpha+2\\,(\\alpha\\,a_j+\\beta)\\,L_j'(a_j)=\\alpha+2\\,L_j'(a_j)=0$$\n",
    "Ce qui se résout facilement."
   ]
  },
  {
   "cell_type": "markdown",
   "id": "14f57a89",
   "metadata": {},
   "source": [
    "<div class=\"alert alert-danger\">\n",
    "    \n",
    "On remarque que le calcul était compliqué car il faisait intervenir la dérivée de la fonction polynomiale d'interpolation de Lagrange."
   ]
  },
  {
   "cell_type": "markdown",
   "id": "1fc8999e",
   "metadata": {},
   "source": [
    "$\\blacktriangleright$ On cherche sous la même forme $R_{n+j}$, on obtient alors\n",
    "$$\\alpha\\,a_j+\\beta=0\\quad\\text{et}\\quad \\alpha=1$$"
   ]
  },
  {
   "cell_type": "code",
   "execution_count": 6,
   "id": "51df87c0",
   "metadata": {
    "ExecuteTime": {
     "end_time": "2023-02-15T12:53:41.835639Z",
     "start_time": "2023-02-15T12:53:41.490763Z"
    }
   },
   "outputs": [
    {
     "data": {
      "image/png": "[encoded data removed]",
      "text/latex": [
       "$\\displaystyle \\left\\{ \\alpha_{1} : \\frac{1}{a_{1}^{4} - 2 a_{1}^{3} a_{2} - 2 a_{1}^{3} a_{3} + a_{1}^{2} a_{2}^{2} + 4 a_{1}^{2} a_{2} a_{3} + a_{1}^{2} a_{3}^{2} - 2 a_{1} a_{2}^{2} a_{3} - 2 a_{1} a_{2} a_{3}^{2} + a_{2}^{2} a_{3}^{2}}, \\  \\alpha_{2} : - \\frac{a_{1}}{a_{1}^{4} - 2 a_{1}^{3} a_{2} - 2 a_{1}^{3} a_{3} + a_{1}^{2} a_{2}^{2} + 4 a_{1}^{2} a_{2} a_{3} + a_{1}^{2} a_{3}^{2} - 2 a_{1} a_{2}^{2} a_{3} - 2 a_{1} a_{2} a_{3}^{2} + a_{2}^{2} a_{3}^{2}}\\right\\}$"
      ],
      "text/plain": [
       "⎧                                                         1                   \n",
       "⎪\\alpha₁: ────────────────────────────────────────────────────────────────────\n",
       "⎨           4       3          3        2   2       2           2   2         \n",
       "⎪         a₁  - 2⋅a₁ ⋅a₂ - 2⋅a₁ ⋅a₃ + a₁ ⋅a₂  + 4⋅a₁ ⋅a₂⋅a₃ + a₁ ⋅a₃  - 2⋅a₁⋅a\n",
       "⎩                                                                             \n",
       "\n",
       "                                                                              \n",
       "─────────────────────────────, \\alpha₂: ──────────────────────────────────────\n",
       " 2                2     2   2             4       3          3        2   2   \n",
       "₂ ⋅a₃ - 2⋅a₁⋅a₂⋅a₃  + a₂ ⋅a₃            a₁  - 2⋅a₁ ⋅a₂ - 2⋅a₁ ⋅a₃ + a₁ ⋅a₂  + \n",
       "                                                                              \n",
       "\n",
       "         -a₁                                               ⎫\n",
       "───────────────────────────────────────────────────────────⎪\n",
       "    2           2   2          2                2     2   2⎬\n",
       "4⋅a₁ ⋅a₂⋅a₃ + a₁ ⋅a₃  - 2⋅a₁⋅a₂ ⋅a₃ - 2⋅a₁⋅a₂⋅a₃  + a₂ ⋅a₃ ⎪\n",
       "                                                           ⎭"
      ]
     },
     "execution_count": 6,
     "metadata": {},
     "output_type": "execute_result"
    }
   ],
   "source": [
    "# Vérification en Python\n",
    "def R4(t):\n",
    "    return (alpha1*t+alpha2)*(t-a2)**2*(t-a3)**2\n",
    "\n",
    "\n",
    "sp.solve([R4(a1), R4(t).diff(t).subs({t: a1})-1], [alpha1, alpha2])"
   ]
  },
  {
   "cell_type": "code",
   "execution_count": 7,
   "id": "1285e23a",
   "metadata": {
    "ExecuteTime": {
     "end_time": "2023-02-15T12:53:42.193098Z",
     "start_time": "2023-02-15T12:53:41.837637Z"
    }
   },
   "outputs": [
    {
     "data": {
      "image/png": "[encoded data removed]",
      "text/latex": [
       "$\\displaystyle \\frac{\\left(- a_{1} + t\\right) \\left(- a_{2} + t\\right)^{2} \\left(- a_{3} + t\\right)^{2}}{\\left(a_{1} - a_{2}\\right)^{2} \\left(a_{1} - a_{3}\\right)^{2}}$"
      ],
      "text/plain": [
       "                   2          2\n",
       "(-a₁ + t)⋅(-a₂ + t) ⋅(-a₃ + t) \n",
       "───────────────────────────────\n",
       "              2          2     \n",
       "     (a₁ - a₂) ⋅(a₁ - a₃)      "
      ]
     },
     "execution_count": 7,
     "metadata": {},
     "output_type": "execute_result"
    }
   ],
   "source": [
    "R4(t).subs(_).factor()"
   ]
  },
  {
   "cell_type": "markdown",
   "id": "0cae8af7",
   "metadata": {},
   "source": [
    "## Complément"
   ]
  },
  {
   "cell_type": "markdown",
   "id": "b64e0682",
   "metadata": {},
   "source": [
    "Pour ceux qui ont fini, on reprend l'exercice 1, mais on se place dans $E'=\\mathscr{C}^\\infty\\left([a,b],\\mathbb{R}\\right)$. Soit $f\\in E'$, donner un majorant de (évaluation de l'erreur de la méthode approchée).\n",
    "$$\\left|\\int_a^b f(t)\\;\\mathrm{d}t-I_f\\right|$$"
   ]
  }
 ],
 "metadata": {
  "kernelspec": {
   "display_name": "Python 3 (ipykernel)",
   "language": "python",
   "name": "python3"
  },
  "language_info": {
   "codemirror_mode": {
    "name": "ipython",
    "version": 3
   },
   "file_extension": ".py",
   "mimetype": "text/x-python",
   "name": "python",
   "nbconvert_exporter": "python",
   "pygments_lexer": "ipython3",
   "version": "3.8.2"
  },
  "toc": {
   "base_numbering": 1,
   "nav_menu": {},
   "number_sections": true,
   "sideBar": true,
   "skip_h1_title": false,
   "title_cell": "Table of Contents",
   "title_sidebar": "Contents",
   "toc_cell": false,
   "toc_position": {},
   "toc_section_display": true,
   "toc_window_display": false
  }
 },
 "nbformat": 4,
 "nbformat_minor": 5
}

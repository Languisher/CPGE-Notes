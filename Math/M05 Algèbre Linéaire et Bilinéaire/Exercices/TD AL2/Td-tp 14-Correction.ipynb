{
 "cells": [
  {
   "cell_type": "markdown",
   "id": "7e80a75b",
   "metadata": {},
   "source": [
    "# Formes quadratiques"
   ]
  },
  {
   "cell_type": "markdown",
   "id": "8e92ce59",
   "metadata": {},
   "source": [
    "## Exercice (changement de bases)"
   ]
  },
  {
   "cell_type": "markdown",
   "id": "1563e785",
   "metadata": {},
   "source": [
    "On considère la matrice symétrique $3\\times 3$ définie par\n",
    "$$A=\\begin{bmatrix} 1&2&3\\\\ 2&4&5\\\\ 3&5&6\\end{bmatrix}$$\n",
    "Soit $\\mathcal{C}$ la base canonique de $\\mathbb{R}^3$, et $\\mathcal{E}=\\left(\\underline{e}_1,\\underline{e}_2,\\underline{e}_3\\right)$ la base de $\\mathbb{R}^3$ définie par \n",
    "$$\\underline{e}_1=(1,1,-1),\\quad \\underline{e}_2=(0,1,1)\\quad\\text{et}\\quad \\underline{e}_3=(1,-1,1)$$\n",
    "1. Écrire la matrice de passage $P_\\mathcal{C}^{\\mathcal{E}}$.\n",
    "1. On suppose que $A$ est la matrice d'une forme quadratique $q$ dans la base $\\mathcal{C}$, quelle est la matrice de $q$ dans la base $\\mathcal{E}$ ?\n",
    "1. On suppose que $A$ est la matrice d'un endomorphisme $u$ dans la base $\\mathcal{C}$, quelle est la matrice de $u$ dans la base $\\mathcal{E}$ ?\n",
    "1. On suppose que $A$ est la matrice d'une application linéaire $u$ dans les bases $\\mathcal{C}$ et $\\mathcal{E}$, quelle est la matrice de $u$ dans les bases $\\mathcal{E}$ et $\\mathcal{B}$ ? Dans les bases $\\mathcal{E}$ et $\\mathcal{E}$ ?"
   ]
  },
  {
   "cell_type": "code",
   "execution_count": 1,
   "id": "8583e997",
   "metadata": {
    "ExecuteTime": {
     "end_time": "2023-05-15T12:04:19.212164Z",
     "start_time": "2023-05-15T12:04:18.980020Z"
    }
   },
   "outputs": [],
   "source": [
    "import sympy as sp\n",
    "sp.init_printing()"
   ]
  },
  {
   "cell_type": "code",
   "execution_count": 2,
   "id": "a4685d35",
   "metadata": {
    "ExecuteTime": {
     "end_time": "2023-05-15T12:04:19.492428Z",
     "start_time": "2023-05-15T12:04:19.213309Z"
    }
   },
   "outputs": [
    {
     "data": {
      "image/png": "[encoded data removed]",
      "text/latex": [
       "$\\displaystyle \\left[\\begin{matrix}1 & 2 & 3\\\\2 & 4 & 5\\\\3 & 5 & 6\\end{matrix}\\right]$"
      ],
      "text/plain": [
       "⎡1  2  3⎤\n",
       "⎢       ⎥\n",
       "⎢2  4  5⎥\n",
       "⎢       ⎥\n",
       "⎣3  5  6⎦"
      ]
     },
     "execution_count": 2,
     "metadata": {},
     "output_type": "execute_result"
    }
   ],
   "source": [
    "A = sp.Matrix([[1, 2, 3], [2, 4, 5], [3, 5, 6]])\n",
    "A"
   ]
  },
  {
   "cell_type": "markdown",
   "id": "31d60cdd",
   "metadata": {},
   "source": [
    "**Question 1**\n",
    "\n",
    "Par définition"
   ]
  },
  {
   "cell_type": "code",
   "execution_count": 3,
   "id": "0ce74e8c",
   "metadata": {
    "ExecuteTime": {
     "end_time": "2023-05-15T12:04:19.783497Z",
     "start_time": "2023-05-15T12:04:19.494594Z"
    }
   },
   "outputs": [
    {
     "data": {
      "image/png": "[encoded data removed]",
      "text/latex": [
       "$\\displaystyle \\left[\\begin{matrix}1 & 0 & 1\\\\1 & 1 & -1\\\\-1 & 1 & 1\\end{matrix}\\right]$"
      ],
      "text/plain": [
       "⎡1   0  1 ⎤\n",
       "⎢         ⎥\n",
       "⎢1   1  -1⎥\n",
       "⎢         ⎥\n",
       "⎣-1  1  1 ⎦"
      ]
     },
     "execution_count": 3,
     "metadata": {},
     "output_type": "execute_result"
    }
   ],
   "source": [
    "P = sp.Matrix([[1, 1, -1], [0, 1, 1], [1, -1, 1]]).transpose()\n",
    "P"
   ]
  },
  {
   "cell_type": "code",
   "execution_count": 4,
   "id": "1e45dfde",
   "metadata": {
    "ExecuteTime": {
     "end_time": "2023-05-15T12:04:20.066566Z",
     "start_time": "2023-05-15T12:04:19.786045Z"
    }
   },
   "outputs": [
    {
     "data": {
      "image/png": "[encoded data removed]",
      "text/latex": [
       "$\\displaystyle 4$"
      ],
      "text/plain": [
       "4"
      ]
     },
     "execution_count": 4,
     "metadata": {},
     "output_type": "execute_result"
    }
   ],
   "source": [
    "# C'est bien une matrice de changement de base !\n",
    "P.det()"
   ]
  },
  {
   "cell_type": "markdown",
   "id": "88ec9a77",
   "metadata": {},
   "source": [
    "**Question 2**\n",
    "\n",
    "C'est dans le cours $\\,^tP\\cdot A\\cdot P$."
   ]
  },
  {
   "cell_type": "code",
   "execution_count": 5,
   "id": "6cb7c50f",
   "metadata": {
    "ExecuteTime": {
     "end_time": "2023-05-15T12:04:20.343986Z",
     "start_time": "2023-05-15T12:04:20.068002Z"
    }
   },
   "outputs": [
    {
     "data": {
      "image/png": "[encoded data removed]",
      "text/latex": [
       "$\\displaystyle \\left[\\begin{matrix}-1 & 3 & 1\\\\3 & 20 & 7\\\\1 & 7 & 3\\end{matrix}\\right]$"
      ],
      "text/plain": [
       "⎡-1  3   1⎤\n",
       "⎢         ⎥\n",
       "⎢3   20  7⎥\n",
       "⎢         ⎥\n",
       "⎣1   7   3⎦"
      ]
     },
     "execution_count": 5,
     "metadata": {},
     "output_type": "execute_result"
    }
   ],
   "source": [
    "P.transpose()@A@P"
   ]
  },
  {
   "cell_type": "markdown",
   "id": "2783cf83",
   "metadata": {},
   "source": [
    "**Question 3**\n",
    "\n",
    "C'est dans le cours $P^{-1}\\cdot A\\cdot P$."
   ]
  },
  {
   "cell_type": "code",
   "execution_count": 6,
   "id": "ed30709e",
   "metadata": {
    "ExecuteTime": {
     "end_time": "2023-05-15T12:04:20.631406Z",
     "start_time": "2023-05-15T12:04:20.345167Z"
    }
   },
   "outputs": [
    {
     "data": {
      "image/png": "[encoded data removed]",
      "text/latex": [
       "$\\displaystyle \\left[\\begin{matrix}- \\frac{1}{4} & 2 & \\frac{3}{4}\\\\\\frac{3}{2} & 10 & \\frac{7}{2}\\\\\\frac{1}{4} & 3 & \\frac{5}{4}\\end{matrix}\\right]$"
      ],
      "text/plain": [
       "⎡-1/4  2   3/4⎤\n",
       "⎢             ⎥\n",
       "⎢3/2   10  7/2⎥\n",
       "⎢             ⎥\n",
       "⎣1/4   3   5/4⎦"
      ]
     },
     "execution_count": 6,
     "metadata": {},
     "output_type": "execute_result"
    }
   ],
   "source": [
    "P.inv()@A@P"
   ]
  },
  {
   "cell_type": "markdown",
   "id": "e17c21c9",
   "metadata": {},
   "source": [
    "**Question 4**\n",
    "\n",
    "1. Au départ, on change de base de $\\mathcal{C}$ à $\\mathcal{E}$, il faut donc utiliser $P\\overset{\\text{Not}}=P_\\mathcal{C}^\\mathcal{E}$. En revanche, à l'arrivée, il faut passer de la base $\\mathcal{E}$ à la base $\\mathcal{C}$, il faut donc utiliser $Q=P^{-1}$. La nouvelle matrice est donc\n",
    "$$P\\cdot A\\cdot P$$\n",
    "1. Même chose au départ, mais à l'arrivée, on ne change pas de base, donc $Q=I_3$. La nouvelle matrice est donc\n",
    "$$I_3^{-1}\\cdot A\\cdot P=A\\cdot P$$"
   ]
  },
  {
   "cell_type": "code",
   "execution_count": 7,
   "id": "aab8c87a",
   "metadata": {
    "ExecuteTime": {
     "end_time": "2023-05-15T12:04:20.911421Z",
     "start_time": "2023-05-15T12:04:20.632610Z"
    }
   },
   "outputs": [
    {
     "data": {
      "image/png": "[encoded data removed]",
      "text/latex": [
       "$\\displaystyle \\left[\\begin{matrix}2 & 16 & 6\\\\-1 & 3 & 1\\\\3 & 15 & 5\\end{matrix}\\right]$"
      ],
      "text/plain": [
       "⎡2   16  6⎤\n",
       "⎢         ⎥\n",
       "⎢-1  3   1⎥\n",
       "⎢         ⎥\n",
       "⎣3   15  5⎦"
      ]
     },
     "execution_count": 7,
     "metadata": {},
     "output_type": "execute_result"
    }
   ],
   "source": [
    "# Premier cas\n",
    "P@A@P"
   ]
  },
  {
   "cell_type": "code",
   "execution_count": 8,
   "id": "3b78da12",
   "metadata": {
    "ExecuteTime": {
     "end_time": "2023-05-15T12:04:21.199057Z",
     "start_time": "2023-05-15T12:04:20.913623Z"
    }
   },
   "outputs": [
    {
     "data": {
      "image/png": "[encoded data removed]",
      "text/latex": [
       "$\\displaystyle \\left[\\begin{matrix}0 & 5 & 2\\\\1 & 9 & 3\\\\2 & 11 & 4\\end{matrix}\\right]$"
      ],
      "text/plain": [
       "⎡0  5   2⎤\n",
       "⎢        ⎥\n",
       "⎢1  9   3⎥\n",
       "⎢        ⎥\n",
       "⎣2  11  4⎦"
      ]
     },
     "execution_count": 8,
     "metadata": {},
     "output_type": "execute_result"
    }
   ],
   "source": [
    "# Deuxième cas\n",
    "A@P"
   ]
  },
  {
   "cell_type": "markdown",
   "id": "3dae6cca",
   "metadata": {},
   "source": [
    "## Exercice"
   ]
  },
  {
   "cell_type": "markdown",
   "id": "84056bb0",
   "metadata": {},
   "source": [
    "Soit $E=\\mathbb{R}^3$, on considère la forme quadratique définie par \n",
    "$$q\\;:\\:(x,y,z)\\in\\mathbb{R}^3\\longmapsto 4\\,x\\,z-4\\,y\\,z$$\n",
    "1. Quelle est la forme bilinéaire $B$, forme polaire de $q$ ?\n",
    "1. Donner la matrice de $B$ dans la base canonique.\n",
    "1. En utilisant la démonstration de la proposition 4.2, trouver une base de $\\mathbb{R}^3$ telle que la matrice de $q$ dans cette base soit diagonale avec des éléments diagonaux dans $\\{-1,0,+1\\}$."
   ]
  },
  {
   "cell_type": "markdown",
   "id": "e7f265a5",
   "metadata": {},
   "source": [
    "**Question 1**\n",
    "\n",
    "On peut utiliser une des formules de polarisation. Si $(x,y,z)\\in\\mathbb{R}^3$ et $(x',y',z')\\in\\mathbb{R}^3$, alors\n",
    "$$B\\left((x,y,z),\\left(x',y',z'\\right)\\right)=\\frac{1}{2}\\,\\left(q\\left(x+x',y+y',z+z'\\right)-q\\left(x,y,z\\right)-q\\left(x',y',z'\\right)\\right)$$"
   ]
  },
  {
   "cell_type": "code",
   "execution_count": 9,
   "id": "22782033",
   "metadata": {
    "ExecuteTime": {
     "end_time": "2023-05-15T12:04:21.662179Z",
     "start_time": "2023-05-15T12:04:21.200314Z"
    }
   },
   "outputs": [
    {
     "data": {
      "image/png": "[encoded data removed]",
      "text/latex": [
       "$\\displaystyle 2 x z' + 2 x' z - 2 y z' - 2 y' z$"
      ],
      "text/plain": [
       "2⋅x⋅z' + 2⋅x'⋅z - 2⋅y⋅z' - 2⋅y'⋅z"
      ]
     },
     "execution_count": 9,
     "metadata": {},
     "output_type": "execute_result"
    }
   ],
   "source": [
    "x, y, z, xp, yp, zp = sp.symbols(\"x y z x' y' z'\", real=True)\n",
    "q = sp.Lambda((x, y, z), 4*x*z-4*y*z)\n",
    "((q(x+xp, y+yp, z+zp)-q(x, y, z)-q(xp, yp, zp))/2).simplify()"
   ]
  },
  {
   "cell_type": "code",
   "execution_count": 10,
   "id": "abf169f5",
   "metadata": {
    "ExecuteTime": {
     "end_time": "2023-05-15T12:04:21.665992Z",
     "start_time": "2023-05-15T12:04:21.663593Z"
    }
   },
   "outputs": [],
   "source": [
    "B = sp.Lambda(((x, y, z), (xp, yp, zp)), _)"
   ]
  },
  {
   "cell_type": "markdown",
   "id": "ac3f13c8",
   "metadata": {},
   "source": [
    "**Question 2**\n",
    "\n",
    "Par définition, si on note $(\\underline{c}_1,\\underline{c}_2,\\underline{c}_3)$ les vecteurs de la base canonique, alors\n",
    "$$\\mathrm{Mat}(q,\\mathcal{C})=\\left[B\\left(\\underline{c}_i,\\underline{c}_j\\right)\\right]_{(i,j)\\in\\{1,2,3\\}^2}$$\n",
    "Donc c'est \n",
    "$$\\begin{bmatrix} 0&0&2\\\\ 0&0&-2\\\\ 2&-2&0\\end{bmatrix}$$"
   ]
  },
  {
   "cell_type": "markdown",
   "id": "c4c1066a",
   "metadata": {},
   "source": [
    "**Question 3**\n",
    "\n",
    "On constate sur la matrice précédente que \n",
    "$$\\forall i\\in\\{1,2,3\\},\\; q\\left(\\underline{c}_i\\right)=0$$\n",
    "On ne peut donc pas initialiser la procédure avec l'un des vecteurs de la base canonique."
   ]
  },
  {
   "cell_type": "code",
   "execution_count": 11,
   "id": "4a72ccd3",
   "metadata": {
    "ExecuteTime": {
     "end_time": "2023-05-15T12:04:21.962085Z",
     "start_time": "2023-05-15T12:04:21.667060Z"
    }
   },
   "outputs": [
    {
     "data": {
      "image/png": "[encoded data removed]",
      "text/latex": [
       "$\\displaystyle 4$"
      ],
      "text/plain": [
       "4"
      ]
     },
     "execution_count": 11,
     "metadata": {},
     "output_type": "execute_result"
    }
   ],
   "source": [
    "q(1, 0, 1)"
   ]
  },
  {
   "cell_type": "markdown",
   "id": "17af6ded",
   "metadata": {},
   "source": [
    "On prend donc\n",
    "$$\\underline{e}_1=\\left(\\frac{1}{{2}},0,\\frac{1}{{2}}\\right)$$"
   ]
  },
  {
   "cell_type": "code",
   "execution_count": 12,
   "id": "5e80443e",
   "metadata": {
    "ExecuteTime": {
     "end_time": "2023-05-15T12:04:22.238865Z",
     "start_time": "2023-05-15T12:04:21.963323Z"
    }
   },
   "outputs": [
    {
     "data": {
      "image/png": "[encoded data removed]",
      "text/latex": [
       "$\\displaystyle 1$"
      ],
      "text/plain": [
       "1"
      ]
     },
     "execution_count": 12,
     "metadata": {},
     "output_type": "execute_result"
    }
   ],
   "source": [
    "E1 = (1/sp.S(2), 0, 1/sp.S(2))\n",
    "q(*E1)  # Pour enlever les parenthèses dans l'appel, on met une * devant"
   ]
  },
  {
   "cell_type": "code",
   "execution_count": 13,
   "id": "5ed5dc43",
   "metadata": {
    "ExecuteTime": {
     "end_time": "2023-05-15T12:04:22.520023Z",
     "start_time": "2023-05-15T12:04:22.240315Z"
    }
   },
   "outputs": [
    {
     "data": {
      "image/png": "[encoded data removed]",
      "text/latex": [
       "$\\displaystyle x - y + z$"
      ],
      "text/plain": [
       "x - y + z"
      ]
     },
     "execution_count": 13,
     "metadata": {},
     "output_type": "execute_result"
    }
   ],
   "source": [
    "# Calcul de l'orthogonal\n",
    "B(E1, (x, y, z))"
   ]
  },
  {
   "cell_type": "code",
   "execution_count": 14,
   "id": "e64f497d",
   "metadata": {
    "ExecuteTime": {
     "end_time": "2023-05-15T12:04:22.797843Z",
     "start_time": "2023-05-15T12:04:22.521209Z"
    }
   },
   "outputs": [
    {
     "data": {
      "image/png": "[encoded data removed]",
      "text/latex": [
       "$\\displaystyle -4$"
      ],
      "text/plain": [
       "-4"
      ]
     },
     "execution_count": 14,
     "metadata": {},
     "output_type": "execute_result"
    }
   ],
   "source": [
    "q(1, 2, 1)"
   ]
  },
  {
   "cell_type": "code",
   "execution_count": 15,
   "id": "b5ba92a2",
   "metadata": {
    "ExecuteTime": {
     "end_time": "2023-05-15T12:04:23.075826Z",
     "start_time": "2023-05-15T12:04:22.799315Z"
    }
   },
   "outputs": [
    {
     "data": {
      "image/png": "[encoded data removed]",
      "text/latex": [
       "$\\displaystyle \\left( -1, \\  0\\right)$"
      ],
      "text/plain": [
       "(-1, 0)"
      ]
     },
     "execution_count": 15,
     "metadata": {},
     "output_type": "execute_result"
    }
   ],
   "source": [
    "E2 = (-1/sp.S(2), -1, -1/sp.S(2))\n",
    "q(*E2), B(E1, E2)"
   ]
  },
  {
   "cell_type": "code",
   "execution_count": 16,
   "id": "5c9b404d",
   "metadata": {
    "ExecuteTime": {
     "end_time": "2023-05-15T12:04:23.356153Z",
     "start_time": "2023-05-15T12:04:23.077289Z"
    }
   },
   "outputs": [
    {
     "data": {
      "image/png": "[encoded data removed]",
      "text/latex": [
       "$\\displaystyle \\left( x - y + z, \\  - x + y + z\\right)$"
      ],
      "text/plain": [
       "(x - y + z, -x + y + z)"
      ]
     },
     "execution_count": 16,
     "metadata": {},
     "output_type": "execute_result"
    }
   ],
   "source": [
    "# Calcul de l'orthogonal\n",
    "B(E1, (x, y, z)), B(E2, (x, y, z))"
   ]
  },
  {
   "cell_type": "code",
   "execution_count": 17,
   "id": "4f1e0146",
   "metadata": {
    "ExecuteTime": {
     "end_time": "2023-05-15T12:04:23.644721Z",
     "start_time": "2023-05-15T12:04:23.357679Z"
    }
   },
   "outputs": [
    {
     "data": {
      "image/png": "[encoded data removed]",
      "text/latex": [
       "$\\displaystyle \\left\\{ x : y, \\  z : 0\\right\\}$"
      ],
      "text/plain": [
       "{x: y, z: 0}"
      ]
     },
     "execution_count": 17,
     "metadata": {},
     "output_type": "execute_result"
    }
   ],
   "source": [
    "sp.solve([_[0], _[1]], (x, y, z))"
   ]
  },
  {
   "cell_type": "code",
   "execution_count": 18,
   "id": "2d4ab1d4",
   "metadata": {
    "ExecuteTime": {
     "end_time": "2023-05-15T12:04:23.944046Z",
     "start_time": "2023-05-15T12:04:23.645851Z"
    }
   },
   "outputs": [
    {
     "data": {
      "image/png": "[encoded data removed]",
      "text/latex": [
       "$\\displaystyle 0$"
      ],
      "text/plain": [
       "0"
      ]
     },
     "execution_count": 18,
     "metadata": {},
     "output_type": "execute_result"
    }
   ],
   "source": [
    "q(1, 1, 0)"
   ]
  },
  {
   "cell_type": "code",
   "execution_count": 19,
   "id": "0ad6cfc3",
   "metadata": {
    "ExecuteTime": {
     "end_time": "2023-05-15T12:04:24.249143Z",
     "start_time": "2023-05-15T12:04:23.945549Z"
    }
   },
   "outputs": [
    {
     "data": {
      "image/png": "[encoded data removed]",
      "text/latex": [
       "$\\displaystyle \\left( 0, \\  0\\right)$"
      ],
      "text/plain": [
       "(0, 0)"
      ]
     },
     "execution_count": 19,
     "metadata": {},
     "output_type": "execute_result"
    }
   ],
   "source": [
    "E3 = (1, 1, 0)\n",
    "B(E1, E3), B(E2, E3)"
   ]
  },
  {
   "cell_type": "code",
   "execution_count": 20,
   "id": "d6c2aff3",
   "metadata": {
    "ExecuteTime": {
     "end_time": "2023-05-15T12:04:24.559798Z",
     "start_time": "2023-05-15T12:04:24.250392Z"
    }
   },
   "outputs": [
    {
     "data": {
      "image/png": "[encoded data removed]",
      "text/latex": [
       "$\\displaystyle \\left[\\begin{matrix}\\frac{1}{2} & - \\frac{1}{2} & 1\\\\0 & -1 & 1\\\\\\frac{1}{2} & - \\frac{1}{2} & 0\\end{matrix}\\right]$"
      ],
      "text/plain": [
       "⎡1/2  -1/2  1⎤\n",
       "⎢            ⎥\n",
       "⎢ 0    -1   1⎥\n",
       "⎢            ⎥\n",
       "⎣1/2  -1/2  0⎦"
      ]
     },
     "execution_count": 20,
     "metadata": {},
     "output_type": "execute_result"
    }
   ],
   "source": [
    "# La matrice de passage\n",
    "P = sp.Matrix([list(E1), list(E2), list(E3)]).transpose()\n",
    "P"
   ]
  },
  {
   "cell_type": "code",
   "execution_count": 21,
   "id": "c13b04e9",
   "metadata": {
    "ExecuteTime": {
     "end_time": "2023-05-15T12:04:24.867212Z",
     "start_time": "2023-05-15T12:04:24.561501Z"
    }
   },
   "outputs": [
    {
     "data": {
      "image/png": "[encoded data removed]",
      "text/latex": [
       "$\\displaystyle \\left[\\begin{matrix}1 & 0 & 0\\\\0 & -1 & 0\\\\0 & 0 & 0\\end{matrix}\\right]$"
      ],
      "text/plain": [
       "⎡1  0   0⎤\n",
       "⎢        ⎥\n",
       "⎢0  -1  0⎥\n",
       "⎢        ⎥\n",
       "⎣0  0   0⎦"
      ]
     },
     "execution_count": 21,
     "metadata": {},
     "output_type": "execute_result"
    }
   ],
   "source": [
    "# Vérifions\n",
    "P.transpose()@sp.Matrix([[0, 0, 2], [0, 0, -2], [2, -2, 0]])@P"
   ]
  },
  {
   "cell_type": "markdown",
   "id": "532a2ec7",
   "metadata": {},
   "source": [
    "## Exercice "
   ]
  },
  {
   "cell_type": "markdown",
   "id": "c095767b",
   "metadata": {},
   "source": [
    "Soit $E$ un espace vectoriel de dimension finie $n$ et $q$ une forme quadratique sur $E$. On suppose que $q$ (de forme polaire $B$) est *non dégénérée*, c'est-à-dire qu'elle vérifie\n",
    "$$\\forall x\\in E,\\; \\left[\\forall y\\in E,\\; B(x,y)=0\\right]\\implies\\left[x=0_{_E}\\right]$$\n",
    "On suppose de plus qu'il existe une sous-espace $H$ de dimension $p\\in\\mathbb{N}$ tel que\n",
    "$$H=H^{\\bot_q}$$\n",
    "1. Montrer que $\\dim(E)=2\\,p$.\n",
    "1. Montrer qu'il existe une base $\\mathcal{B}$ de $E$ telle que\n",
    "$$\\mathrm{Mat}(q,\\mathcal{B})=\\left[\\begin{array}{c|c} I_p&I_p\\\\ \\hline I_p&0_p\\end{array}\\right]$$"
   ]
  },
  {
   "cell_type": "markdown",
   "id": "d8e6f79f",
   "metadata": {},
   "source": [
    "**Question 1**\n",
    "\n",
    "Comme $q$ est non dégénérée, son noyau est réduit à $\\{0_{_E}\\}$ et\n",
    "$$\\dim\\left(H^{\\bot_q}\\right)=\\dim(E)-\\dim(H)$$\n",
    "donc $n=2\\,p$."
   ]
  },
  {
   "cell_type": "markdown",
   "id": "4d711f4d",
   "metadata": {},
   "source": [
    "**Question 2**\n",
    "\n",
    "Prenons une base $(e_1,\\ldots,e_{2\\,p})$ de $E$, où la matrice de $q$ est de la forme (pour un certain $k\\in\\{0,\\ldots,2\\,p\\}$\n",
    "$$\\left[\\begin{array}{c|c} I_k&0_{k,2\\,p-k}\\\\ \\hline 0_{2\\,p-k,k}&-I_{2\\,p-k}\\end{array}\\right]$$\n",
    "Il ne peut y avoir de 0 sur la diagonale, car alors $q$ serait dégénérée.\n",
    "1. *Nécessairement $k=p$*. En effet, supposons $k>p$, alors, d'après la formule de Grassman\n",
    "$$H\\cap \\mathrm{Vect}\\left(\\left\\{e_1,\\ldots,e_k\\right\\}\\right)\\ne\\{0_{_E}\\}$$\n",
    "ce qui est absurde, car si $x\\in H$, $q(x)=0$ et si $x\\in\\mathrm{Vect}\\left(\\left\\{e_1,\\ldots,e_k\\right\\}\\right)$, $q(x)>0$. (Si $k<p$, on travaille avec $\\mathrm{Vect}\\left(\\left\\{e_{k+1},\\ldots,e_{2\\,p}\\right\\}\\right)$ pour obtenir une nouvelle contradiction. Donc\n",
    "$$\\mathrm{Mat}(q,(e_1,\\ldots,e_{2\\,p}))=\\left[\\begin{array}{c|c} I_p&0_p\\\\ \\hline 0_p&-I_p\\end{array}\\right]$$\n",
    "1. Il reste à montrer que\n",
    "$$\\left[\\begin{array}{c|c} I_p&0_p\\\\ \\hline 0_p&-I_p\\end{array}\\right]\\equiv \\left[\\begin{array}{c|c} I_p&I_p\\\\ \\hline I_p&0_p\\end{array}\\right]$$\n",
    "Ce qui est immédiat en prenant \n",
    "$$P=\\left[\\begin{array}{c|c} I_p& I_p\\\\ \\hline 0_p&I_p\\end{array}\\right]$$"
   ]
  },
  {
   "cell_type": "code",
   "execution_count": 22,
   "id": "b533c38a",
   "metadata": {
    "ExecuteTime": {
     "end_time": "2023-05-15T12:04:25.175472Z",
     "start_time": "2023-05-15T12:04:24.868424Z"
    }
   },
   "outputs": [
    {
     "data": {
      "image/png": "[encoded data removed]",
      "text/latex": [
       "$\\displaystyle \\left[\\begin{matrix}1 & 1\\\\1 & 0\\end{matrix}\\right]$"
      ],
      "text/plain": [
       "⎡1  1⎤\n",
       "⎢    ⎥\n",
       "⎣1  0⎦"
      ]
     },
     "execution_count": 22,
     "metadata": {},
     "output_type": "execute_result"
    }
   ],
   "source": [
    "# On trouve P en regardant le cas p=1\n",
    "P = sp.Matrix([[1, 1], [0, 1]])\n",
    "A = sp.Matrix([[1, 0], [0, -1]])\n",
    "P.transpose()@A@P"
   ]
  }
 ],
 "metadata": {
  "kernelspec": {
   "display_name": "Python 3 (ipykernel)",
   "language": "python",
   "name": "python3"
  },
  "language_info": {
   "codemirror_mode": {
    "name": "ipython",
    "version": 3
   },
   "file_extension": ".py",
   "mimetype": "text/x-python",
   "name": "python",
   "nbconvert_exporter": "python",
   "pygments_lexer": "ipython3",
   "version": "3.8.2"
  },
  "toc": {
   "base_numbering": 1,
   "nav_menu": {},
   "number_sections": true,
   "sideBar": true,
   "skip_h1_title": false,
   "title_cell": "Table of Contents",
   "title_sidebar": "Contents",
   "toc_cell": false,
   "toc_position": {},
   "toc_section_display": true,
   "toc_window_display": false
  }
 },
 "nbformat": 4,
 "nbformat_minor": 5
}

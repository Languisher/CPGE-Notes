{
 "cells": [
  {
   "cell_type": "markdown",
   "id": "3cc462ce",
   "metadata": {},
   "source": [
    "# Td-Tp n°5"
   ]
  },
  {
   "cell_type": "markdown",
   "id": "78a6ef01",
   "metadata": {},
   "source": [
    "## Exercice"
   ]
  },
  {
   "cell_type": "markdown",
   "id": "21e48664",
   "metadata": {},
   "source": [
    "Soit $E$ un espace euclidien et $p$ un projecteur de $E$ ($p\\circ p= p$). On dit que $p$ est un *projecteur orthogonal* quand \n",
    "$$\\left(\\mathrm{Im}(p)\\right)^{\\bot.}=\\mathrm{Ker}(p)$$\n",
    "1. Montrer que\n",
    "$$\\left[p\\text{ projecteur orthogonal}\\right]\\iff\\left[p^\\star=p\\right]$$\n",
    "1. Soit $s$ une symétrie de $E$ ($s\\circ s=\\mathrm{id}_{_E}$) et $p$ le projecteur associé à $s$, on dit que $s$ est une *symétrie orthogonale* si $p$ est un projecteur orthogonal. Montrer que\n",
    "$$\\left[s\\text{ symétrie orthogonale}\\right]\\iff\\left[s^\\star=s\\right]$$\n",
    "1. Soit $s$ un endomorphisme de $E$, montrer que\n",
    "$$\\left[s\\text{ symétrie orthogonale}\\right]\\iff\\left[s\\in\\mathcal{O}(E)\\cap\\mathcal{S}(E)\\right]$$"
   ]
  },
  {
   "cell_type": "markdown",
   "id": "6804a678",
   "metadata": {},
   "source": [
    "**Question 1**\n",
    "\n",
    "1. ($\\Rightarrow$) Si $\\mathrm{Im}(p)$ est orthogonale à $\\mathrm{Ker}(p)$, comme de plus, $p$ étant un projecteur\n",
    "$$E=\\mathrm{Im}(p)\\oplus\\mathrm{Ker}(p)$$\n",
    "Soit $(x,y)\\in E^2$, ils s'écrivent $x=x_1+x_2$ et $y=y_1+y_2$ où $(x_1,y_1)\\in\\mathrm{Im}(p)^2$ et $(x_2,y_2)\\in\\mathrm{Ker}(p)^2$, alors\n",
    "$$\\langle p(x),y\\rangle=\\langle x_1,y_1+y_2\\rangle=\\langle x_1,y_1\\rangle+\\underbrace{\\langle x_1,y_2\\rangle}_{=0}=\\langle x_1,y_1\\rangle = \\langle x,p(y)\\rangle$$\n",
    "par symétrie du calcul.\n",
    "1. ($\\Leftarrow$) On sait qu'en général, si $p\\in\\mathscr{L}(E)$\n",
    "$$\\left(\\mathrm{Im}\\left(p^\\star\\right)\\right)^{\\bot.}=\\mathrm{Ker}(p)$$\n",
    "le résultat en découle."
   ]
  },
  {
   "cell_type": "markdown",
   "id": "a6edc42f",
   "metadata": {},
   "source": [
    "**Question 2**\n",
    "\n",
    "On a la relation bien connue, pour toute symétrie\n",
    "$$s=2.p-\\mathrm{id}_{_E} \\quad\\text{et donc}\\quad p=\\frac12.\\left(s+\\mathrm{id}_{_E}\\right)$$\n",
    "La question 1 nous permet alors de dire que\n",
    "$s^\\star=s$ si, (et seulement si)  $p^\\star=p$ si, (et seulement si) $p$ est un projecteur orthogonal si, (et seulement si) $s$ est une symétrie orthogonale."
   ]
  },
  {
   "cell_type": "markdown",
   "id": "2ea93859",
   "metadata": {},
   "source": [
    "**Question 3**\n",
    "\n",
    "1. ($\\Rightarrow$) Si $s$ est une symétrie orthogonale, alors d'après la question 2, $s^\\star=s$ donc $s\\in\\mathcal{S}(E)$. De plus, comme $s$ est une symétrie, on a $s\\circ s=\\mathrm{id}_{_E}$ et donc $s^\\star\\circ s=\\mathrm{id}_{_E}$, ce qui signifie $s\\in\\mathcal{O}(E)$.\n",
    "1. ($\\Leftarrow$) Si $s\\in\\mathcal{O}(E)\\cap\\mathcal{S}(E)$, on a $s^\\star\\circ s=\\mathrm{id}_{_E}$ et $s^\\star=s$, donc $s\\circ s=\\mathrm{id}_{_E}$, ce qui montre que $s$ est une symétrie. Comme elle vérifie de plus, $s^\\star=s$, c'est (d'après la question 2) une symétrie orthogonale."
   ]
  },
  {
   "cell_type": "markdown",
   "id": "45f883c9",
   "metadata": {},
   "source": [
    "## Exercice"
   ]
  },
  {
   "cell_type": "markdown",
   "id": "faeb46cc",
   "metadata": {},
   "source": [
    "Soit la matrice\n",
    "$$M=\\begin{bmatrix} {{5\n",
    " }\\over{6}}&-{{1}\\over{6}}&{{1}\\over{3}}\\cr -{{1}\\over{6}}&{{5}\\over{\n",
    " 6}}&{{1}\\over{3}}\\cr {{1}\\over{3}}&{{1}\\over{3}}&{{1}\\over{3}}\\cr \n",
    " \\end{bmatrix}$$\n",
    "1. Montrer que c'est la matrice d'un projecteur orthogonal $p$ de $\\mathbb{R}^3$ (muni de sa structure euclidienne canonique) dans la base canonique.\n",
    "1. Proposer une base orthonormée $(e_1,e_2,e_3)$ et des réels $(\\lambda_1,\\lambda_2,\\lambda_3)$ tels que\n",
    "$$\\forall k\\in\\{1,2,3\\},\\; p(e_k)=\\lambda_k.e_k$$"
   ]
  },
  {
   "cell_type": "markdown",
   "id": "11ef495d",
   "metadata": {},
   "source": [
    "**Question 1**\n",
    "\n",
    "D'après ce qui précède, $M$ étant symétrique et la base canonique orthonormée, c'est bien la matrice d'un endomorphisme auto-adjoint. Il suffit pour montrer que c'est la matrice d'un projecteur orthogonal de vérifier que $M\\cdot M=M$."
   ]
  },
  {
   "cell_type": "code",
   "execution_count": 1,
   "id": "c35f2453",
   "metadata": {
    "ExecuteTime": {
     "end_time": "2023-03-19T23:28:14.167470Z",
     "start_time": "2023-03-19T23:28:13.466199Z"
    }
   },
   "outputs": [
    {
     "data": {
      "image/png": "[encoded data removed]",
      "text/latex": [
       "$\\displaystyle \\left[\\begin{matrix}0 & 0 & 0\\\\0 & 0 & 0\\\\0 & 0 & 0\\end{matrix}\\right]$"
      ],
      "text/plain": [
       "⎡0  0  0⎤\n",
       "⎢       ⎥\n",
       "⎢0  0  0⎥\n",
       "⎢       ⎥\n",
       "⎣0  0  0⎦"
      ]
     },
     "execution_count": 1,
     "metadata": {},
     "output_type": "execute_result"
    }
   ],
   "source": [
    "import sympy as sp\n",
    "sp.init_printing()\n",
    "\n",
    "M = sp.Matrix([[5, -1, 2], [-1, 5, 2], [2, 2, 2]])/sp.S(6)\n",
    "M@M-M"
   ]
  },
  {
   "cell_type": "markdown",
   "id": "2660289c",
   "metadata": {},
   "source": [
    "**Question 2**\n",
    "\n",
    "Pour un projecteur, on sait que $E=\\mathrm{Im}(p)\\oplus\\mathrm{Ker}(p)$. Comme il est orthogonal, $\\left(\\mathrm{Im}(p)\\right)^{\\bot.}=\\mathrm{Ker}(p)$, il suffit donc de trouver une base de $\\mathrm{Im}(p)$ et de l'orthonormaliser, puis de trouver une base orthonormée de $\\mathrm{Ker}(p)$ et de l'orthonormaliser. De plus, on sait que, pour un projecteur\n",
    "$$\\mathrm{Im}(p)=\\mathrm{Ker}(\\mathrm{id}_{_E}-p)$$"
   ]
  },
  {
   "cell_type": "code",
   "execution_count": 2,
   "id": "1077cad7",
   "metadata": {
    "ExecuteTime": {
     "end_time": "2023-03-19T23:28:16.258674Z",
     "start_time": "2023-03-19T23:28:15.993853Z"
    }
   },
   "outputs": [
    {
     "data": {
      "image/png": "[encoded data removed]",
      "text/latex": [
       "$\\displaystyle \\left[ \\left[\\begin{matrix}- \\frac{1}{2}\\\\- \\frac{1}{2}\\\\1\\end{matrix}\\right]\\right]$"
      ],
      "text/plain": [
       "⎡⎡-1/2⎤⎤\n",
       "⎢⎢    ⎥⎥\n",
       "⎢⎢-1/2⎥⎥\n",
       "⎢⎢    ⎥⎥\n",
       "⎣⎣ 1  ⎦⎦"
      ]
     },
     "execution_count": 2,
     "metadata": {},
     "output_type": "execute_result"
    }
   ],
   "source": [
    "# Base de Ker(p)\n",
    "M.nullspace()"
   ]
  },
  {
   "cell_type": "code",
   "execution_count": 3,
   "id": "b7ef506a",
   "metadata": {
    "ExecuteTime": {
     "end_time": "2023-03-19T23:28:17.438054Z",
     "start_time": "2023-03-19T23:28:17.033411Z"
    }
   },
   "outputs": [
    {
     "data": {
      "image/png": "[encoded data removed]",
      "text/latex": [
       "$\\displaystyle \\left[\\begin{matrix}- \\frac{\\sqrt{6}}{6}\\\\- \\frac{\\sqrt{6}}{6}\\\\\\frac{\\sqrt{6}}{3}\\end{matrix}\\right]$"
      ],
      "text/plain": [
       "⎡-√6 ⎤\n",
       "⎢────⎥\n",
       "⎢ 6  ⎥\n",
       "⎢    ⎥\n",
       "⎢-√6 ⎥\n",
       "⎢────⎥\n",
       "⎢ 6  ⎥\n",
       "⎢    ⎥\n",
       "⎢ √6 ⎥\n",
       "⎢ ── ⎥\n",
       "⎣ 3  ⎦"
      ]
     },
     "execution_count": 3,
     "metadata": {},
     "output_type": "execute_result"
    }
   ],
   "source": [
    "# Orthonormalisation\n",
    "E1 = _[0]\n",
    "E1 = E1/E1.norm()\n",
    "E1"
   ]
  },
  {
   "cell_type": "code",
   "execution_count": 4,
   "id": "0f11f954",
   "metadata": {
    "ExecuteTime": {
     "end_time": "2023-03-19T23:28:22.750030Z",
     "start_time": "2023-03-19T23:28:22.476151Z"
    }
   },
   "outputs": [
    {
     "data": {
      "image/png": "[encoded data removed]",
      "text/latex": [
       "$\\displaystyle \\left[ \\left[\\begin{matrix}-1\\\\1\\\\0\\end{matrix}\\right], \\  \\left[\\begin{matrix}2\\\\0\\\\1\\end{matrix}\\right]\\right]$"
      ],
      "text/plain": [
       "⎡⎡-1⎤  ⎡2⎤⎤\n",
       "⎢⎢  ⎥  ⎢ ⎥⎥\n",
       "⎢⎢1 ⎥, ⎢0⎥⎥\n",
       "⎢⎢  ⎥  ⎢ ⎥⎥\n",
       "⎣⎣0 ⎦  ⎣1⎦⎦"
      ]
     },
     "execution_count": 4,
     "metadata": {},
     "output_type": "execute_result"
    }
   ],
   "source": [
    "# Base de Imp(p)\n",
    "Imp = (M-sp.eye(3)).nullspace()\n",
    "Imp"
   ]
  },
  {
   "cell_type": "code",
   "execution_count": 5,
   "id": "6ff318c7",
   "metadata": {
    "ExecuteTime": {
     "end_time": "2023-03-19T23:28:26.304945Z",
     "start_time": "2023-03-19T23:28:26.033764Z"
    }
   },
   "outputs": [
    {
     "data": {
      "image/png": "[encoded data removed]",
      "text/latex": [
       "$\\displaystyle \\left[ \\left[\\begin{matrix}\\frac{5}{6}\\\\- \\frac{1}{6}\\\\\\frac{1}{3}\\end{matrix}\\right], \\  \\left[\\begin{matrix}- \\frac{1}{6}\\\\\\frac{5}{6}\\\\\\frac{1}{3}\\end{matrix}\\right]\\right]$"
      ],
      "text/plain": [
       "⎡⎡5/6 ⎤  ⎡-1/6⎤⎤\n",
       "⎢⎢    ⎥  ⎢    ⎥⎥\n",
       "⎢⎢-1/6⎥, ⎢5/6 ⎥⎥\n",
       "⎢⎢    ⎥  ⎢    ⎥⎥\n",
       "⎣⎣1/3 ⎦  ⎣1/3 ⎦⎦"
      ]
     },
     "execution_count": 5,
     "metadata": {},
     "output_type": "execute_result"
    }
   ],
   "source": [
    "# Calcul direct de l'image (utile quand ce n'est pas un projecteur)\n",
    "M.columnspace()"
   ]
  },
  {
   "cell_type": "code",
   "execution_count": 6,
   "id": "093ef875",
   "metadata": {
    "ExecuteTime": {
     "end_time": "2023-03-19T23:28:27.893994Z",
     "start_time": "2023-03-19T23:28:27.625418Z"
    }
   },
   "outputs": [
    {
     "data": {
      "image/png": "[encoded data removed]",
      "text/latex": [
       "$\\displaystyle \\left( \\left[\\begin{matrix}- \\frac{\\sqrt{2}}{2}\\\\\\frac{\\sqrt{2}}{2}\\\\0\\end{matrix}\\right], \\  \\left[\\begin{matrix}\\frac{\\sqrt{3}}{3}\\\\\\frac{\\sqrt{3}}{3}\\\\\\frac{\\sqrt{3}}{3}\\end{matrix}\\right]\\right)$"
      ],
      "text/plain": [
       "⎛        ⎡√3⎤⎞\n",
       "⎜⎡-√2 ⎤  ⎢──⎥⎟\n",
       "⎜⎢────⎥  ⎢3 ⎥⎟\n",
       "⎜⎢ 2  ⎥  ⎢  ⎥⎟\n",
       "⎜⎢    ⎥  ⎢√3⎥⎟\n",
       "⎜⎢ √2 ⎥, ⎢──⎥⎟\n",
       "⎜⎢ ── ⎥  ⎢3 ⎥⎟\n",
       "⎜⎢ 2  ⎥  ⎢  ⎥⎟\n",
       "⎜⎢    ⎥  ⎢√3⎥⎟\n",
       "⎜⎣ 0  ⎦  ⎢──⎥⎟\n",
       "⎝        ⎣3 ⎦⎠"
      ]
     },
     "execution_count": 6,
     "metadata": {},
     "output_type": "execute_result"
    }
   ],
   "source": [
    "# Orthonormalisation (Schmidt)\n",
    "E2 = Imp[0]\n",
    "E2 = E2/E2.norm()\n",
    "E3 = Imp[1]\n",
    "E3 = E3-(E3.dot(E2))*E2\n",
    "E3 = E3/E3.norm()\n",
    "E2, E3"
   ]
  },
  {
   "cell_type": "code",
   "execution_count": 7,
   "id": "a2a7be25",
   "metadata": {
    "ExecuteTime": {
     "end_time": "2023-03-19T23:28:37.231029Z",
     "start_time": "2023-03-19T23:28:36.961343Z"
    }
   },
   "outputs": [
    {
     "data": {
      "image/png": "[encoded data removed]",
      "text/latex": [
       "$\\displaystyle \\left[\\begin{matrix}- \\frac{\\sqrt{6}}{6} & - \\frac{\\sqrt{2}}{2} & \\frac{\\sqrt{3}}{3}\\\\- \\frac{\\sqrt{6}}{6} & \\frac{\\sqrt{2}}{2} & \\frac{\\sqrt{3}}{3}\\\\\\frac{\\sqrt{6}}{3} & 0 & \\frac{\\sqrt{3}}{3}\\end{matrix}\\right]$"
      ],
      "text/plain": [
       "⎡-√6   -√2   √3⎤\n",
       "⎢────  ────  ──⎥\n",
       "⎢ 6     2    3 ⎥\n",
       "⎢              ⎥\n",
       "⎢-√6    √2   √3⎥\n",
       "⎢────   ──   ──⎥\n",
       "⎢ 6     2    3 ⎥\n",
       "⎢              ⎥\n",
       "⎢ √6         √3⎥\n",
       "⎢ ──    0    ──⎥\n",
       "⎣ 3          3 ⎦"
      ]
     },
     "execution_count": 7,
     "metadata": {},
     "output_type": "execute_result"
    }
   ],
   "source": [
    "# Vérification\n",
    "\n",
    "P = sp.Matrix([E1, E2, E3]).reshape(3, 3).transpose()\n",
    "P"
   ]
  },
  {
   "cell_type": "code",
   "execution_count": 8,
   "id": "83402a34",
   "metadata": {
    "ExecuteTime": {
     "end_time": "2023-03-19T23:28:39.881583Z",
     "start_time": "2023-03-19T23:28:39.609238Z"
    }
   },
   "outputs": [
    {
     "data": {
      "image/png": "[encoded data removed]",
      "text/latex": [
       "$\\displaystyle \\left[\\begin{matrix}0 & 0 & 0\\\\0 & 1 & 0\\\\0 & 0 & 1\\end{matrix}\\right]$"
      ],
      "text/plain": [
       "⎡0  0  0⎤\n",
       "⎢       ⎥\n",
       "⎢0  1  0⎥\n",
       "⎢       ⎥\n",
       "⎣0  0  1⎦"
      ]
     },
     "execution_count": 8,
     "metadata": {},
     "output_type": "execute_result"
    }
   ],
   "source": [
    "P.transpose()@M@P"
   ]
  },
  {
   "cell_type": "markdown",
   "id": "e0982ef1",
   "metadata": {},
   "source": [
    "## Exercice\n",
    "Soit la matrice \n",
    "$$M=\\begin{bmatrix}10&8&7&8&\n",
    " 6\\cr 8&7&6&7&4\\cr 7&6&11&10&5\\cr 8&7&10&11&4\\cr 6&4&5&4&6\\cr \n",
    " \\end{bmatrix} $$\n",
    "1. En admettant que $M\\in S_5^+(\\mathbb{R})$, trouver la racine carrée de $M$.\n",
    "1. Montrer que $M\\in S_5^+(\\mathbb{R})$."
   ]
  },
  {
   "cell_type": "markdown",
   "id": "bfe08152",
   "metadata": {},
   "source": [
    "**Question 1**\n",
    "\n",
    "L'algorithme est simple, *à condition qu'on sache appliquer pratiquement le théorème spectral à $M$*. Ce qui n'est pas le cas ici..."
   ]
  },
  {
   "cell_type": "code",
   "execution_count": 9,
   "id": "13164e58",
   "metadata": {
    "ExecuteTime": {
     "end_time": "2023-03-19T23:28:50.099751Z",
     "start_time": "2023-03-19T23:28:49.835963Z"
    }
   },
   "outputs": [
    {
     "data": {
      "image/png": "[encoded data removed]",
      "text/latex": [
       "$\\displaystyle \\left[\\begin{matrix}10 & 8 & 7 & 8 & 6\\\\8 & 7 & 6 & 7 & 4\\\\7 & 6 & 11 & 10 & 5\\\\8 & 7 & 10 & 11 & 4\\\\6 & 4 & 5 & 4 & 6\\end{matrix}\\right]$"
      ],
      "text/plain": [
       "⎡10  8  7   8   6⎤\n",
       "⎢                ⎥\n",
       "⎢8   7  6   7   4⎥\n",
       "⎢                ⎥\n",
       "⎢7   6  11  10  5⎥\n",
       "⎢                ⎥\n",
       "⎢8   7  10  11  4⎥\n",
       "⎢                ⎥\n",
       "⎣6   4  5   4   6⎦"
      ]
     },
     "execution_count": 9,
     "metadata": {},
     "output_type": "execute_result"
    }
   ],
   "source": [
    "M = sp.Matrix([[10, 8, 7, 8, 6], [8, 7, 6, 7, 4], [\n",
    "              7, 6, 11, 10, 5], [8, 7, 10, 11, 4], [6, 4, 5, 4, 6]])\n",
    "M"
   ]
  },
  {
   "cell_type": "code",
   "execution_count": 10,
   "id": "658a514f",
   "metadata": {
    "ExecuteTime": {
     "end_time": "2023-03-19T23:28:52.108794Z",
     "start_time": "2023-03-19T23:28:51.593320Z"
    }
   },
   "outputs": [
    {
     "data": {
      "image/png": "[encoded data removed]",
      "text/latex": [
       "$\\displaystyle - x^{5} + 45 x^{4} - 344 x^{3} + 764 x^{2} - 320 x + 16$"
      ],
      "text/plain": [
       "   5       4        3        2             \n",
       "- x  + 45⋅x  - 344⋅x  + 764⋅x  - 320⋅x + 16"
      ]
     },
     "execution_count": 10,
     "metadata": {},
     "output_type": "execute_result"
    }
   ],
   "source": [
    "x = sp.symbols('x')\n",
    "(M-x*sp.eye(5)).det().factor()"
   ]
  },
  {
   "cell_type": "code",
   "execution_count": 11,
   "id": "abde4dd4",
   "metadata": {
    "ExecuteTime": {
     "end_time": "2023-03-19T23:28:53.977039Z",
     "start_time": "2023-03-19T23:28:53.665950Z"
    }
   },
   "outputs": [
    {
     "data": {
      "image/png": "[encoded data removed]",
      "text/latex": [
       "$\\displaystyle \\left[ \\operatorname{CRootOf} {\\left(x^{5} - 45 x^{4} + 344 x^{3} - 764 x^{2} + 320 x - 16, 0\\right)}, \\  \\operatorname{CRootOf} {\\left(x^{5} - 45 x^{4} + 344 x^{3} - 764 x^{2} + 320 x - 16, 1\\right)}, \\  \\operatorname{CRootOf} {\\left(x^{5} - 45 x^{4} + 344 x^{3} - 764 x^{2} + 320 x - 16, 2\\right)}, \\  \\operatorname{CRootOf} {\\left(x^{5} - 45 x^{4} + 344 x^{3} - 764 x^{2} + 320 x - 16, 3\\right)}, \\  \\operatorname{CRootOf} {\\left(x^{5} - 45 x^{4} + 344 x^{3} - 764 x^{2} + 320 x - 16, 4\\right)}\\right]$"
      ],
      "text/plain": [
       "⎡       ⎛ 5       4        3        2                ⎞         ⎛ 5       4    \n",
       "⎣CRootOf⎝x  - 45⋅x  + 344⋅x  - 764⋅x  + 320⋅x - 16, 0⎠, CRootOf⎝x  - 45⋅x  + 3\n",
       "\n",
       "    3        2                ⎞         ⎛ 5       4        3        2         \n",
       "44⋅x  - 764⋅x  + 320⋅x - 16, 1⎠, CRootOf⎝x  - 45⋅x  + 344⋅x  - 764⋅x  + 320⋅x \n",
       "\n",
       "       ⎞         ⎛ 5       4        3        2                ⎞         ⎛ 5   \n",
       "- 16, 2⎠, CRootOf⎝x  - 45⋅x  + 344⋅x  - 764⋅x  + 320⋅x - 16, 3⎠, CRootOf⎝x  - \n",
       "\n",
       "    4        3        2                ⎞⎤\n",
       "45⋅x  + 344⋅x  - 764⋅x  + 320⋅x - 16, 4⎠⎦"
      ]
     },
     "execution_count": 11,
     "metadata": {},
     "output_type": "execute_result"
    }
   ],
   "source": [
    "res = sp.solve(_, x)\n",
    "res"
   ]
  },
  {
   "cell_type": "code",
   "execution_count": 12,
   "id": "0fd3c613",
   "metadata": {
    "ExecuteTime": {
     "end_time": "2023-03-19T23:29:05.734597Z",
     "start_time": "2023-03-19T23:28:55.256060Z"
    }
   },
   "outputs": [
    {
     "data": {
      "image/png": "[encoded data removed]",
      "text/latex": [
       "$\\displaystyle \\left[ \\left[\\begin{matrix}- \\frac{- 166 \\operatorname{CRootOf} {\\left(x^{5} - 45 x^{4} + 344 x^{3} - 764 x^{2} + 320 x - 16, 0\\right)} - 6 \\operatorname{CRootOf} {\\left(x^{5} - 45 x^{4} + 344 x^{3} - 764 x^{2} + 320 x - 16, 0\\right)}^{3} + 75 \\operatorname{CRootOf} {\\left(x^{5} - 45 x^{4} + 344 x^{3} - 764 x^{2} + 320 x - 16, 0\\right)}^{2} + 68}{- 198 \\operatorname{CRootOf} {\\left(x^{5} - 45 x^{4} + 344 x^{3} - 764 x^{2} + 320 x - 16, 0\\right)} - 39 \\operatorname{CRootOf} {\\left(x^{5} - 45 x^{4} + 344 x^{3} - 764 x^{2} + 320 x - 16, 0\\right)}^{3} + \\operatorname{CRootOf} {\\left(x^{5} - 45 x^{4} + 344 x^{3} - 764 x^{2} + 320 x - 16, 0\\right)}^{4} + 203 \\operatorname{CRootOf} {\\left(x^{5} - 45 x^{4} + 344 x^{3} - 764 x^{2} + 320 x - 16, 0\\right)}^{2} + 44}\\\\- \\frac{-48 - 4 \\operatorname{CRootOf} {\\left(x^{5} - 45 x^{4} + 344 x^{3} - 764 x^{2} + 320 x - 16, 0\\right)}^{3} + 22 \\operatorname{CRootOf} {\\left(x^{5} - 45 x^{4} + 344 x^{3} - 764 x^{2} + 320 x - 16, 0\\right)}^{2} + 48 \\operatorname{CRootOf} {\\left(x^{5} - 45 x^{4} + 344 x^{3} - 764 x^{2} + 320 x - 16, 0\\right)}}{- 198 \\operatorname{CRootOf} {\\left(x^{5} - 45 x^{4} + 344 x^{3} - 764 x^{2} + 320 x - 16, 0\\right)} - 39 \\operatorname{CRootOf} {\\left(x^{5} - 45 x^{4} + 344 x^{3} - 764 x^{2} + 320 x - 16, 0\\right)}^{3} + \\operatorname{CRootOf} {\\left(x^{5} - 45 x^{4} + 344 x^{3} - 764 x^{2} + 320 x - 16, 0\\right)}^{4} + 203 \\operatorname{CRootOf} {\\left(x^{5} - 45 x^{4} + 344 x^{3} - 764 x^{2} + 320 x - 16, 0\\right)}^{2} + 44}\\\\- \\frac{- 124 \\operatorname{CRootOf} {\\left(x^{5} - 45 x^{4} + 344 x^{3} - 764 x^{2} + 320 x - 16, 0\\right)} - 5 \\operatorname{CRootOf} {\\left(x^{5} - 45 x^{4} + 344 x^{3} - 764 x^{2} + 320 x - 16, 0\\right)}^{3} + 34 \\operatorname{CRootOf} {\\left(x^{5} - 45 x^{4} + 344 x^{3} - 764 x^{2} + 320 x - 16, 0\\right)}^{2} + 32}{- 198 \\operatorname{CRootOf} {\\left(x^{5} - 45 x^{4} + 344 x^{3} - 764 x^{2} + 320 x - 16, 0\\right)} - 39 \\operatorname{CRootOf} {\\left(x^{5} - 45 x^{4} + 344 x^{3} - 764 x^{2} + 320 x - 16, 0\\right)}^{3} + \\operatorname{CRootOf} {\\left(x^{5} - 45 x^{4} + 344 x^{3} - 764 x^{2} + 320 x - 16, 0\\right)}^{4} + 203 \\operatorname{CRootOf} {\\left(x^{5} - 45 x^{4} + 344 x^{3} - 764 x^{2} + 320 x - 16, 0\\right)}^{2} + 44}\\\\- \\frac{-32 - 14 \\operatorname{CRootOf} {\\left(x^{5} - 45 x^{4} + 344 x^{3} - 764 x^{2} + 320 x - 16, 0\\right)}^{2} - 4 \\operatorname{CRootOf} {\\left(x^{5} - 45 x^{4} + 344 x^{3} - 764 x^{2} + 320 x - 16, 0\\right)}^{3} + 128 \\operatorname{CRootOf} {\\left(x^{5} - 45 x^{4} + 344 x^{3} - 764 x^{2} + 320 x - 16, 0\\right)}}{- 198 \\operatorname{CRootOf} {\\left(x^{5} - 45 x^{4} + 344 x^{3} - 764 x^{2} + 320 x - 16, 0\\right)} - 39 \\operatorname{CRootOf} {\\left(x^{5} - 45 x^{4} + 344 x^{3} - 764 x^{2} + 320 x - 16, 0\\right)}^{3} + \\operatorname{CRootOf} {\\left(x^{5} - 45 x^{4} + 344 x^{3} - 764 x^{2} + 320 x - 16, 0\\right)}^{4} + 203 \\operatorname{CRootOf} {\\left(x^{5} - 45 x^{4} + 344 x^{3} - 764 x^{2} + 320 x - 16, 0\\right)}^{2} + 44}\\\\1\\end{matrix}\\right]\\right]$"
      ],
      "text/plain": [
       "⎡⎡                            ⎛                                               \n",
       "⎢⎢                            ⎜             ⎛ 5       4        3        2     \n",
       "⎢⎢                           -⎝- 166⋅CRootOf⎝x  - 45⋅x  + 344⋅x  - 764⋅x  + 32\n",
       "⎢⎢────────────────────────────────────────────────────────────────────────────\n",
       "⎢⎢                                                                            \n",
       "⎢⎢             ⎛ 5       4        3        2                ⎞             ⎛ 5 \n",
       "⎢⎢- 198⋅CRootOf⎝x  - 45⋅x  + 344⋅x  - 764⋅x  + 320⋅x - 16, 0⎠ - 39⋅CRootOf⎝x  \n",
       "⎢⎢                                                                            \n",
       "⎢⎢                             ⎛                                              \n",
       "⎢⎢                             ⎜               ⎛ 5       4        3        2  \n",
       "⎢⎢                            -⎝-48 - 4⋅CRootOf⎝x  - 45⋅x  + 344⋅x  - 764⋅x  +\n",
       "⎢⎢────────────────────────────────────────────────────────────────────────────\n",
       "⎢⎢                                                                            \n",
       "⎢⎢             ⎛ 5       4        3        2                ⎞             ⎛ 5 \n",
       "⎢⎢- 198⋅CRootOf⎝x  - 45⋅x  + 344⋅x  - 764⋅x  + 320⋅x - 16, 0⎠ - 39⋅CRootOf⎝x  \n",
       "⎢⎢                                                                            \n",
       "⎢⎢                            ⎛                                               \n",
       "⎢⎢                            ⎜             ⎛ 5       4        3        2     \n",
       "⎢⎢                           -⎝- 124⋅CRootOf⎝x  - 45⋅x  + 344⋅x  - 764⋅x  + 32\n",
       "⎢⎢────────────────────────────────────────────────────────────────────────────\n",
       "⎢⎢                                                                            \n",
       "⎢⎢             ⎛ 5       4        3        2                ⎞             ⎛ 5 \n",
       "⎢⎢- 198⋅CRootOf⎝x  - 45⋅x  + 344⋅x  - 764⋅x  + 320⋅x - 16, 0⎠ - 39⋅CRootOf⎝x  \n",
       "⎢⎢                                                                            \n",
       "⎢⎢                             ⎛                                              \n",
       "⎢⎢                             ⎜                ⎛ 5       4        3        2 \n",
       "⎢⎢                            -⎝-32 - 14⋅CRootOf⎝x  - 45⋅x  + 344⋅x  - 764⋅x  \n",
       "⎢⎢────────────────────────────────────────────────────────────────────────────\n",
       "⎢⎢                                                                            \n",
       "⎢⎢             ⎛ 5       4        3        2                ⎞             ⎛ 5 \n",
       "⎢⎢- 198⋅CRootOf⎝x  - 45⋅x  + 344⋅x  - 764⋅x  + 320⋅x - 16, 0⎠ - 39⋅CRootOf⎝x  \n",
       "⎢⎢                                                                            \n",
       "⎣⎣                                                                            \n",
       "\n",
       "                                                                      3       \n",
       "           ⎞            ⎛ 5       4        3        2                ⎞        \n",
       "0⋅x - 16, 0⎠ - 6⋅CRootOf⎝x  - 45⋅x  + 344⋅x  - 764⋅x  + 320⋅x - 16, 0⎠  + 75⋅C\n",
       "──────────────────────────────────────────────────────────────────────────────\n",
       "                                          3                                   \n",
       "      4        3        2                ⎞           ⎛ 5       4        3     \n",
       "- 45⋅x  + 344⋅x  - 764⋅x  + 320⋅x - 16, 0⎠  + CRootOf⎝x  - 45⋅x  + 344⋅x  - 76\n",
       "                                                                              \n",
       "               3                                                           2  \n",
       "              ⎞              ⎛ 5       4        3        2                ⎞   \n",
       " 320⋅x - 16, 0⎠  + 22⋅CRootOf⎝x  - 45⋅x  + 344⋅x  - 764⋅x  + 320⋅x - 16, 0⎠  +\n",
       "──────────────────────────────────────────────────────────────────────────────\n",
       "                                          3                                   \n",
       "      4        3        2                ⎞           ⎛ 5       4        3     \n",
       "- 45⋅x  + 344⋅x  - 764⋅x  + 320⋅x - 16, 0⎠  + CRootOf⎝x  - 45⋅x  + 344⋅x  - 76\n",
       "                                                                              \n",
       "                                                                      3       \n",
       "           ⎞            ⎛ 5       4        3        2                ⎞        \n",
       "0⋅x - 16, 0⎠ - 5⋅CRootOf⎝x  - 45⋅x  + 344⋅x  - 764⋅x  + 320⋅x - 16, 0⎠  + 34⋅C\n",
       "──────────────────────────────────────────────────────────────────────────────\n",
       "                                          3                                   \n",
       "      4        3        2                ⎞           ⎛ 5       4        3     \n",
       "- 45⋅x  + 344⋅x  - 764⋅x  + 320⋅x - 16, 0⎠  + CRootOf⎝x  - 45⋅x  + 344⋅x  - 76\n",
       "                                                                              \n",
       "                2                                                          3  \n",
       "               ⎞             ⎛ 5       4        3        2                ⎞   \n",
       "+ 320⋅x - 16, 0⎠  - 4⋅CRootOf⎝x  - 45⋅x  + 344⋅x  - 764⋅x  + 320⋅x - 16, 0⎠  +\n",
       "──────────────────────────────────────────────────────────────────────────────\n",
       "                                          3                                   \n",
       "      4        3        2                ⎞           ⎛ 5       4        3     \n",
       "- 45⋅x  + 344⋅x  - 764⋅x  + 320⋅x - 16, 0⎠  + CRootOf⎝x  - 45⋅x  + 344⋅x  - 76\n",
       "                                                                              \n",
       "                                            1                                 \n",
       "\n",
       "                                                    2     ⎞                   \n",
       "      ⎛ 5       4        3        2                ⎞      ⎟                   \n",
       "RootOf⎝x  - 45⋅x  + 344⋅x  - 764⋅x  + 320⋅x - 16, 0⎠  + 68⎠                   \n",
       "──────────────────────────────────────────────────────────────────────────────\n",
       "                     4                                                        \n",
       "   2                ⎞               ⎛ 5       4        3        2             \n",
       "4⋅x  + 320⋅x - 16, 0⎠  + 203⋅CRootOf⎝x  - 45⋅x  + 344⋅x  - 764⋅x  + 320⋅x - 16\n",
       "                                                                              \n",
       "                                                         ⎞                    \n",
       "           ⎛ 5       4        3        2                ⎞⎟                    \n",
       " 48⋅CRootOf⎝x  - 45⋅x  + 344⋅x  - 764⋅x  + 320⋅x - 16, 0⎠⎠                    \n",
       "──────────────────────────────────────────────────────────────────────────────\n",
       "                     4                                                        \n",
       "   2                ⎞               ⎛ 5       4        3        2             \n",
       "4⋅x  + 320⋅x - 16, 0⎠  + 203⋅CRootOf⎝x  - 45⋅x  + 344⋅x  - 764⋅x  + 320⋅x - 16\n",
       "                                                                              \n",
       "                                                    2     ⎞                   \n",
       "      ⎛ 5       4        3        2                ⎞      ⎟                   \n",
       "RootOf⎝x  - 45⋅x  + 344⋅x  - 764⋅x  + 320⋅x - 16, 0⎠  + 32⎠                   \n",
       "──────────────────────────────────────────────────────────────────────────────\n",
       "                     4                                                        \n",
       "   2                ⎞               ⎛ 5       4        3        2             \n",
       "4⋅x  + 320⋅x - 16, 0⎠  + 203⋅CRootOf⎝x  - 45⋅x  + 344⋅x  - 764⋅x  + 320⋅x - 16\n",
       "                                                                              \n",
       "                                                          ⎞                   \n",
       "            ⎛ 5       4        3        2                ⎞⎟                   \n",
       " 128⋅CRootOf⎝x  - 45⋅x  + 344⋅x  - 764⋅x  + 320⋅x - 16, 0⎠⎠                   \n",
       "──────────────────────────────────────────────────────────────────────────────\n",
       "                     4                                                        \n",
       "   2                ⎞               ⎛ 5       4        3        2             \n",
       "4⋅x  + 320⋅x - 16, 0⎠  + 203⋅CRootOf⎝x  - 45⋅x  + 344⋅x  - 764⋅x  + 320⋅x - 16\n",
       "                                                                              \n",
       "                                                                              \n",
       "\n",
       "          ⎤⎤\n",
       "          ⎥⎥\n",
       "          ⎥⎥\n",
       "──────────⎥⎥\n",
       "    2     ⎥⎥\n",
       "   ⎞      ⎥⎥\n",
       ", 0⎠  + 44⎥⎥\n",
       "          ⎥⎥\n",
       "          ⎥⎥\n",
       "          ⎥⎥\n",
       "          ⎥⎥\n",
       "──────────⎥⎥\n",
       "    2     ⎥⎥\n",
       "   ⎞      ⎥⎥\n",
       ", 0⎠  + 44⎥⎥\n",
       "          ⎥⎥\n",
       "          ⎥⎥\n",
       "          ⎥⎥\n",
       "          ⎥⎥\n",
       "──────────⎥⎥\n",
       "    2     ⎥⎥\n",
       "   ⎞      ⎥⎥\n",
       ", 0⎠  + 44⎥⎥\n",
       "          ⎥⎥\n",
       "          ⎥⎥\n",
       "          ⎥⎥\n",
       "          ⎥⎥\n",
       "──────────⎥⎥\n",
       "    2     ⎥⎥\n",
       "   ⎞      ⎥⎥\n",
       ", 0⎠  + 44⎥⎥\n",
       "          ⎥⎥\n",
       "          ⎦⎦"
      ]
     },
     "execution_count": 12,
     "metadata": {},
     "output_type": "execute_result"
    }
   ],
   "source": [
    "(M-res[0]*sp.eye(5)).nullspace()"
   ]
  },
  {
   "cell_type": "markdown",
   "id": "1648fd45",
   "metadata": {},
   "source": [
    "Le calcul formel (très long) n'aboutit pas. On va donc essayer numériquement."
   ]
  },
  {
   "cell_type": "code",
   "execution_count": 13,
   "id": "b2fbfad1",
   "metadata": {
    "ExecuteTime": {
     "end_time": "2023-03-19T23:29:09.656813Z",
     "start_time": "2023-03-19T23:29:09.425131Z"
    }
   },
   "outputs": [],
   "source": [
    "import scipy.linalg as sli\n",
    "import numpy as np"
   ]
  },
  {
   "cell_type": "code",
   "execution_count": 14,
   "id": "f0a343db",
   "metadata": {
    "ExecuteTime": {
     "end_time": "2023-03-19T23:29:11.251783Z",
     "start_time": "2023-03-19T23:29:11.249171Z"
    }
   },
   "outputs": [],
   "source": [
    "M = np.mat([[10, 8, 7, 8, 6], [8, 7, 6, 7, 4], [\n",
    "    7, 6, 11, 10, 5], [8, 7, 10, 11, 4], [6, 4, 5, 4, 6]])"
   ]
  },
  {
   "cell_type": "code",
   "execution_count": 15,
   "id": "9ef46991",
   "metadata": {
    "ExecuteTime": {
     "end_time": "2023-03-19T23:29:37.882024Z",
     "start_time": "2023-03-19T23:29:37.873158Z"
    }
   },
   "outputs": [],
   "source": [
    "# Calcule directement les vecteurs de la base orthonormée et les lambda[k] associés\n",
    "l, P = sli.eigh(M) # Pour les matrices auto-adjointes\n",
    "sqrl = np.array([np.sqrt(k) for k in l])"
   ]
  },
  {
   "cell_type": "code",
   "execution_count": 16,
   "id": "b65f30b0",
   "metadata": {
    "ExecuteTime": {
     "end_time": "2023-03-19T23:29:40.114851Z",
     "start_time": "2023-03-19T23:29:40.104466Z"
    }
   },
   "outputs": [
    {
     "data": {
      "text/plain": [
       "array([[2.19851434, 1.51583509, 0.68095994, 1.10432275, 1.08882666],\n",
       "       [1.51583509, 1.76447156, 0.70013191, 0.9616922 , 0.41695026],\n",
       "       [0.68095994, 0.70013191, 2.58393342, 1.66342054, 0.77616301],\n",
       "       [1.10432275, 0.9616922 , 1.66342054, 2.45497608, 0.24848317],\n",
       "       [1.08882666, 0.41695026, 0.77616301, 0.24848317, 1.99410032]])"
      ]
     },
     "execution_count": 16,
     "metadata": {},
     "output_type": "execute_result"
    }
   ],
   "source": [
    "N = P@np.diag(sqrl)@np.transpose(P)\n",
    "N"
   ]
  },
  {
   "cell_type": "code",
   "execution_count": 17,
   "id": "1b13f448",
   "metadata": {
    "ExecuteTime": {
     "end_time": "2023-03-19T23:29:44.020487Z",
     "start_time": "2023-03-19T23:29:44.017080Z"
    }
   },
   "outputs": [
    {
     "data": {
      "text/plain": [
       "array([[10.,  8.,  7.,  8.,  6.],\n",
       "       [ 8.,  7.,  6.,  7.,  4.],\n",
       "       [ 7.,  6., 11., 10.,  5.],\n",
       "       [ 8.,  7., 10., 11.,  4.],\n",
       "       [ 6.,  4.,  5.,  4.,  6.]])"
      ]
     },
     "execution_count": 17,
     "metadata": {},
     "output_type": "execute_result"
    }
   ],
   "source": [
    "N@N"
   ]
  },
  {
   "cell_type": "markdown",
   "id": "6e69e72f",
   "metadata": {},
   "source": [
    "**Question 2**\n",
    "\n",
    "Numériquement, il suffit de vérifier que les $\\lambda_k$ sont toutes $\\ge0$ (ce qui est donnée à la ligne de commande `[15]`.\n",
    "\n",
    "Pour le montrer mathématiquement, nous devrons faire appel à un algorithme que nous verrons dans le cours sur les formes quadratiques (algorithme de Gauss)."
   ]
  },
  {
   "cell_type": "code",
   "execution_count": 18,
   "id": "1cf2666a",
   "metadata": {
    "ExecuteTime": {
     "end_time": "2023-03-19T23:31:49.348719Z",
     "start_time": "2023-03-19T23:31:49.345366Z"
    }
   },
   "outputs": [
    {
     "data": {
      "text/plain": [
       "array([ 0.0577595 ,  0.46558938,  3.07904877,  5.36226623, 36.03533613])"
      ]
     },
     "execution_count": 18,
     "metadata": {},
     "output_type": "execute_result"
    }
   ],
   "source": [
    "l"
   ]
  }
 ],
 "metadata": {
  "kernelspec": {
   "display_name": "Python 3 (ipykernel)",
   "language": "python",
   "name": "python3"
  },
  "language_info": {
   "codemirror_mode": {
    "name": "ipython",
    "version": 3
   },
   "file_extension": ".py",
   "mimetype": "text/x-python",
   "name": "python",
   "nbconvert_exporter": "python",
   "pygments_lexer": "ipython3",
   "version": "3.8.2"
  },
  "toc": {
   "base_numbering": 1,
   "nav_menu": {},
   "number_sections": true,
   "sideBar": true,
   "skip_h1_title": false,
   "title_cell": "Table of Contents",
   "title_sidebar": "Contents",
   "toc_cell": false,
   "toc_position": {},
   "toc_section_display": true,
   "toc_window_display": false
  }
 },
 "nbformat": 4,
 "nbformat_minor": 5
}

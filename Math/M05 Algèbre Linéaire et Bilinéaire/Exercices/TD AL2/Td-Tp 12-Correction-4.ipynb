{
 "cells": [
  {
   "cell_type": "markdown",
   "id": "02cf2211",
   "metadata": {},
   "source": [
    "# Trigonalisation"
   ]
  },
  {
   "cell_type": "markdown",
   "id": "9853ca3a",
   "metadata": {},
   "source": [
    "## Exercice"
   ]
  },
  {
   "cell_type": "markdown",
   "id": "d4a688ce",
   "metadata": {},
   "source": [
    "Soit $a\\in\\mathbb{R}$, on considère la matrice\n",
    "$$M(a)=\\left[\\begin{matrix}2 - a & a^{2} - 1 & - a^{2} + a\\\\ 3 - 3 a & a^{2} & - a^{2} + 3 a - 2\\\\ 2 - 2 a & a^{2} - 1 & - a^{2} + 2 a\\end{matrix}\\right]$$\n",
    "1. Quelles sont les valeurs propres de $M(a)$ ?\n",
    "1. Pour quelle(s) valeur(s) de $a$ la matrice $M(a)$ est-elle diagonalisable ?\n",
    "1. Lorsque $M(a)$ *n'est pas* diagonalisable, la trigonaliser."
   ]
  },
  {
   "cell_type": "code",
   "execution_count": 1,
   "id": "bc1fb7de",
   "metadata": {
    "ExecuteTime": {
     "end_time": "2023-05-05T06:50:23.613358Z",
     "start_time": "2023-05-05T06:50:23.371075Z"
    }
   },
   "outputs": [],
   "source": [
    "import sympy as sp\n",
    "sp.init_printing()\n",
    "a = sp.symbols('a', real=True)\n",
    "M = sp.Matrix([[2 - a, a**2 - 1, -a**2 + a], [3 - 3*a, a**2, -\n",
    "              a**2 + 3*a - 2], [2 - 2*a, a**2 - 1, -a**2 + 2*a]])"
   ]
  },
  {
   "cell_type": "markdown",
   "id": "6045ae40",
   "metadata": {},
   "source": [
    "**Question 1**\n",
    "\n",
    "On demande les *valeurs propres*, le polynôme caractéristique est la réponse la plus simple."
   ]
  },
  {
   "cell_type": "code",
   "execution_count": 2,
   "id": "0a99c155",
   "metadata": {
    "ExecuteTime": {
     "end_time": "2023-05-05T06:50:25.450659Z",
     "start_time": "2023-05-05T06:50:25.034866Z"
    }
   },
   "outputs": [
    {
     "data": {
      "image/png": "[encoded data removed]",
      "text/latex": [
       "$\\displaystyle \\left(- X + a\\right) \\left(X - 1\\right)^{2}$"
      ],
      "text/plain": [
       "                2\n",
       "(-X + a)⋅(X - 1) "
      ]
     },
     "execution_count": 2,
     "metadata": {},
     "output_type": "execute_result"
    }
   ],
   "source": [
    "X = sp.symbols('X')\n",
    "(M-X*sp.eye(3)).det().factor()"
   ]
  },
  {
   "cell_type": "markdown",
   "id": "5de927b6",
   "metadata": {},
   "source": [
    "**Question 2**\n",
    "\n",
    "On demande les *dimensions* des espaces propres. On a deux cas\n",
    "1. $a=1$, mais alors $M=I_3$, elle est diagonalisable.\n",
    "1. $a\\ne 1$, il faut calculer la dimension de $E_A(1)$ car 1 est de multiplicité 2."
   ]
  },
  {
   "cell_type": "code",
   "execution_count": 3,
   "id": "4522b121",
   "metadata": {
    "ExecuteTime": {
     "end_time": "2023-05-05T06:50:35.409220Z",
     "start_time": "2023-05-05T06:50:35.147024Z"
    }
   },
   "outputs": [
    {
     "data": {
      "image/png": "[encoded data removed]",
      "text/latex": [
       "$\\displaystyle \\left[\\begin{matrix}1 & 0 & 0\\\\0 & 1 & 0\\\\0 & 0 & 1\\end{matrix}\\right]$"
      ],
      "text/plain": [
       "⎡1  0  0⎤\n",
       "⎢       ⎥\n",
       "⎢0  1  0⎥\n",
       "⎢       ⎥\n",
       "⎣0  0  1⎦"
      ]
     },
     "execution_count": 3,
     "metadata": {},
     "output_type": "execute_result"
    }
   ],
   "source": [
    "# a=1\n",
    "M.subs({a: 1})"
   ]
  },
  {
   "cell_type": "code",
   "execution_count": 4,
   "id": "3acf7715",
   "metadata": {
    "ExecuteTime": {
     "end_time": "2023-05-05T06:50:40.901243Z",
     "start_time": "2023-05-05T06:50:40.579593Z"
    }
   },
   "outputs": [
    {
     "data": {
      "image/png": "[encoded data removed]",
      "text/latex": [
       "$\\displaystyle \\left[ \\left( 1, \\  2, \\  \\left[ \\left[\\begin{matrix}1\\\\1\\\\1\\end{matrix}\\right]\\right]\\right), \\  \\left( a, \\  1, \\  \\left[ \\left[\\begin{matrix}\\frac{a + 2}{a + 3}\\\\\\frac{a + 4}{a + 3}\\\\1\\end{matrix}\\right]\\right]\\right)\\right]$"
      ],
      "text/plain": [
       "⎡               ⎛      ⎡⎡a + 2⎤⎤⎞⎤\n",
       "⎢               ⎜      ⎢⎢─────⎥⎥⎟⎥\n",
       "⎢⎛      ⎡⎡1⎤⎤⎞  ⎜      ⎢⎢a + 3⎥⎥⎟⎥\n",
       "⎢⎜      ⎢⎢ ⎥⎥⎟  ⎜      ⎢⎢     ⎥⎥⎟⎥\n",
       "⎢⎜1, 2, ⎢⎢1⎥⎥⎟, ⎜a, 1, ⎢⎢a + 4⎥⎥⎟⎥\n",
       "⎢⎜      ⎢⎢ ⎥⎥⎟  ⎜      ⎢⎢─────⎥⎥⎟⎥\n",
       "⎢⎝      ⎣⎣1⎦⎦⎠  ⎜      ⎢⎢a + 3⎥⎥⎟⎥\n",
       "⎢               ⎜      ⎢⎢     ⎥⎥⎟⎥\n",
       "⎣               ⎝      ⎣⎣  1  ⎦⎦⎠⎦"
      ]
     },
     "execution_count": 4,
     "metadata": {},
     "output_type": "execute_result"
    }
   ],
   "source": [
    "# a différent de 1\n",
    "M.eigenvects()"
   ]
  },
  {
   "cell_type": "code",
   "execution_count": 5,
   "id": "df8ad3da",
   "metadata": {
    "ExecuteTime": {
     "end_time": "2023-05-05T06:50:42.118256Z",
     "start_time": "2023-05-05T06:50:41.859843Z"
    }
   },
   "outputs": [
    {
     "data": {
      "image/png": "[encoded data removed]",
      "text/latex": [
       "$\\displaystyle \\left[ \\left( -3, \\  1, \\  \\left[ \\left[\\begin{matrix}-1\\\\1\\\\0\\end{matrix}\\right]\\right]\\right), \\  \\left( 1, \\  2, \\  \\left[ \\left[\\begin{matrix}1\\\\1\\\\1\\end{matrix}\\right]\\right]\\right)\\right]$"
      ],
      "text/plain": [
       "⎡⎛       ⎡⎡-1⎤⎤⎞  ⎛      ⎡⎡1⎤⎤⎞⎤\n",
       "⎢⎜       ⎢⎢  ⎥⎥⎟  ⎜      ⎢⎢ ⎥⎥⎟⎥\n",
       "⎢⎜-3, 1, ⎢⎢1 ⎥⎥⎟, ⎜1, 2, ⎢⎢1⎥⎥⎟⎥\n",
       "⎢⎜       ⎢⎢  ⎥⎥⎟  ⎜      ⎢⎢ ⎥⎥⎟⎥\n",
       "⎣⎝       ⎣⎣0 ⎦⎦⎠  ⎝      ⎣⎣1⎦⎦⎠⎦"
      ]
     },
     "execution_count": 5,
     "metadata": {},
     "output_type": "execute_result"
    }
   ],
   "source": [
    "# On remarque que a=-3 n'est pas un cas particulier\n",
    "M.subs({a: -3}).eigenvects()"
   ]
  },
  {
   "cell_type": "markdown",
   "id": "064d2a92",
   "metadata": {},
   "source": [
    "<div class=\"alert alert-danger\">\n",
    " \n",
    "Ce résultat est faux ! "
   ]
  },
  {
   "cell_type": "code",
   "execution_count": 6,
   "id": "26e6ca67",
   "metadata": {
    "ExecuteTime": {
     "end_time": "2023-05-05T06:50:54.534481Z",
     "start_time": "2023-05-05T06:50:54.267849Z"
    }
   },
   "outputs": [
    {
     "data": {
      "image/png": "[encoded data removed]",
      "text/latex": [
       "$\\displaystyle \\left[\\begin{matrix}1 - a & a^{2} - 1 & - a^{2} + a\\\\3 - 3 a & a^{2} - 1 & - a^{2} + 3 a - 2\\\\2 - 2 a & a^{2} - 1 & - a^{2} + 2 a - 1\\end{matrix}\\right]$"
      ],
      "text/plain": [
       "⎡          2            2       ⎤\n",
       "⎢ 1 - a   a  - 1     - a  + a   ⎥\n",
       "⎢                               ⎥\n",
       "⎢          2         2          ⎥\n",
       "⎢3 - 3⋅a  a  - 1  - a  + 3⋅a - 2⎥\n",
       "⎢                               ⎥\n",
       "⎢          2         2          ⎥\n",
       "⎣2 - 2⋅a  a  - 1  - a  + 2⋅a - 1⎦"
      ]
     },
     "execution_count": 6,
     "metadata": {},
     "output_type": "execute_result"
    }
   ],
   "source": [
    "M-sp.eye(3)"
   ]
  },
  {
   "cell_type": "code",
   "execution_count": 7,
   "id": "beb1a47d",
   "metadata": {
    "ExecuteTime": {
     "end_time": "2023-05-05T06:51:05.679325Z",
     "start_time": "2023-05-05T06:51:05.371832Z"
    }
   },
   "outputs": [
    {
     "data": {
      "image/png": "[encoded data removed]",
      "text/latex": [
       "$\\displaystyle \\left[\\begin{matrix}-1 & a + 1 & - a\\\\-3 & a + 1 & 2 - a\\\\-2 & a + 1 & 1 - a\\end{matrix}\\right]$"
      ],
      "text/plain": [
       "⎡-1  a + 1   -a  ⎤\n",
       "⎢                ⎥\n",
       "⎢-3  a + 1  2 - a⎥\n",
       "⎢                ⎥\n",
       "⎣-2  a + 1  1 - a⎦"
      ]
     },
     "execution_count": 7,
     "metadata": {},
     "output_type": "execute_result"
    }
   ],
   "source": [
    "M1 = (1/(a-1)*_).applyfunc(sp.simplify)\n",
    "M1"
   ]
  },
  {
   "cell_type": "markdown",
   "id": "5e40fa38",
   "metadata": {},
   "source": [
    "On voit immédiatement que $a=-1$ est un cas particulier."
   ]
  },
  {
   "cell_type": "code",
   "execution_count": 8,
   "id": "883a74a5",
   "metadata": {
    "ExecuteTime": {
     "end_time": "2023-05-05T06:51:11.524910Z",
     "start_time": "2023-05-05T06:51:11.259121Z"
    }
   },
   "outputs": [
    {
     "data": {
      "image/png": "[encoded data removed]",
      "text/latex": [
       "$\\displaystyle 1$"
      ],
      "text/plain": [
       "1"
      ]
     },
     "execution_count": 8,
     "metadata": {},
     "output_type": "execute_result"
    }
   ],
   "source": [
    "# a=-1\n",
    "M1.subs({a: -1}).rank()"
   ]
  },
  {
   "cell_type": "code",
   "execution_count": 9,
   "id": "c469bcc0",
   "metadata": {
    "ExecuteTime": {
     "end_time": "2023-05-05T06:51:14.423177Z",
     "start_time": "2023-05-05T06:51:14.164369Z"
    }
   },
   "outputs": [
    {
     "data": {
      "image/png": "[encoded data removed]",
      "text/latex": [
       "$\\displaystyle \\left[ \\left( -1, \\  1, \\  \\left[ \\left[\\begin{matrix}\\frac{1}{2}\\\\\\frac{3}{2}\\\\1\\end{matrix}\\right]\\right]\\right), \\  \\left( 1, \\  2, \\  \\left[ \\left[\\begin{matrix}0\\\\1\\\\0\\end{matrix}\\right], \\  \\left[\\begin{matrix}1\\\\0\\\\1\\end{matrix}\\right]\\right]\\right)\\right]$"
      ],
      "text/plain": [
       "⎡⎛       ⎡⎡1/2⎤⎤⎞  ⎛      ⎡⎡0⎤  ⎡1⎤⎤⎞⎤\n",
       "⎢⎜       ⎢⎢   ⎥⎥⎟  ⎜      ⎢⎢ ⎥  ⎢ ⎥⎥⎟⎥\n",
       "⎢⎜-1, 1, ⎢⎢3/2⎥⎥⎟, ⎜1, 2, ⎢⎢1⎥, ⎢0⎥⎥⎟⎥\n",
       "⎢⎜       ⎢⎢   ⎥⎥⎟  ⎜      ⎢⎢ ⎥  ⎢ ⎥⎥⎟⎥\n",
       "⎣⎝       ⎣⎣ 1 ⎦⎦⎠  ⎝      ⎣⎣0⎦  ⎣1⎦⎦⎠⎦"
      ]
     },
     "execution_count": 9,
     "metadata": {},
     "output_type": "execute_result"
    }
   ],
   "source": [
    "M.subs({a: -1}).eigenvects()"
   ]
  },
  {
   "cell_type": "markdown",
   "id": "b72b8b3e",
   "metadata": {},
   "source": [
    "La matrice $M(-1)$ est diagonaliable."
   ]
  },
  {
   "cell_type": "code",
   "execution_count": 10,
   "id": "6cd76fc3",
   "metadata": {
    "ExecuteTime": {
     "end_time": "2023-05-05T06:51:17.012931Z",
     "start_time": "2023-05-05T06:51:16.748468Z"
    }
   },
   "outputs": [
    {
     "data": {
      "image/png": "[encoded data removed]",
      "text/latex": [
       "$\\displaystyle \\left[\\begin{matrix}-1 & a + 1 & - a\\\\0 & - 2 a - 2 & 2 a + 2\\\\0 & - a - 1 & a + 1\\end{matrix}\\right]$"
      ],
      "text/plain": [
       "⎡-1   a + 1      -a   ⎤\n",
       "⎢                     ⎥\n",
       "⎢0   -2⋅a - 2  2⋅a + 2⎥\n",
       "⎢                     ⎥\n",
       "⎣0    -a - 1    a + 1 ⎦"
      ]
     },
     "execution_count": 10,
     "metadata": {},
     "output_type": "execute_result"
    }
   ],
   "source": [
    "# a différent de -1\n",
    "M1.elementary_row_op(\n",
    "    'n->n+km', 1, -3, 0).elementary_row_op('n->n+km', 2, -2, 0)"
   ]
  },
  {
   "cell_type": "code",
   "execution_count": 11,
   "id": "5f5faf48",
   "metadata": {
    "ExecuteTime": {
     "end_time": "2023-05-05T06:51:17.970204Z",
     "start_time": "2023-05-05T06:51:17.675822Z"
    }
   },
   "outputs": [
    {
     "data": {
      "image/png": "[encoded data removed]",
      "text/latex": [
       "$\\displaystyle \\left[\\begin{matrix}-1 & a + 1 & - a\\\\0 & -2 & 2\\\\0 & - a - 1 & a + 1\\end{matrix}\\right]$"
      ],
      "text/plain": [
       "⎡-1  a + 1    -a  ⎤\n",
       "⎢                 ⎥\n",
       "⎢0     -2      2  ⎥\n",
       "⎢                 ⎥\n",
       "⎣0   -a - 1  a + 1⎦"
      ]
     },
     "execution_count": 11,
     "metadata": {},
     "output_type": "execute_result"
    }
   ],
   "source": [
    "_.elementary_row_op('n->kn', 1, 1/(a+1)).applyfunc(sp.simplify)"
   ]
  },
  {
   "cell_type": "code",
   "execution_count": 12,
   "id": "34c9192d",
   "metadata": {
    "ExecuteTime": {
     "end_time": "2023-05-05T06:51:20.362459Z",
     "start_time": "2023-05-05T06:51:20.100201Z"
    }
   },
   "outputs": [
    {
     "data": {
      "image/png": "[encoded data removed]",
      "text/latex": [
       "$\\displaystyle \\left[\\begin{matrix}-1 & a + 1 & - a\\\\0 & -2 & 2\\\\0 & 0 & 0\\end{matrix}\\right]$"
      ],
      "text/plain": [
       "⎡-1  a + 1  -a⎤\n",
       "⎢             ⎥\n",
       "⎢0    -2    2 ⎥\n",
       "⎢             ⎥\n",
       "⎣0     0    0 ⎦"
      ]
     },
     "execution_count": 12,
     "metadata": {},
     "output_type": "execute_result"
    }
   ],
   "source": [
    "_.elementary_row_op('n->n+km', 2, -(a+1)/2, 1)"
   ]
  },
  {
   "cell_type": "markdown",
   "id": "ed7c9f3c",
   "metadata": {},
   "source": [
    "Le rang est clairement 2, donc l'espace propre $E_{M(a)}(1)$ est de dimension 1 alors que la multiplicité de 1 est 2. La matrice *n'est pas* diagonalisable."
   ]
  },
  {
   "cell_type": "markdown",
   "id": "54711a56",
   "metadata": {},
   "source": [
    "**Question 3**"
   ]
  },
  {
   "cell_type": "markdown",
   "id": "0e34353f",
   "metadata": {},
   "source": [
    "Comme on a travaillé uniquement sur les lignes, on pourrait trouver facilement un vecteur propre qui engendre l'espace propre associé à 1."
   ]
  },
  {
   "cell_type": "code",
   "execution_count": 13,
   "id": "17ce3d1a",
   "metadata": {
    "ExecuteTime": {
     "end_time": "2023-05-05T06:51:31.452060Z",
     "start_time": "2023-05-05T06:51:31.181008Z"
    }
   },
   "outputs": [
    {
     "data": {
      "image/png": "[encoded data removed]",
      "text/latex": [
       "$\\displaystyle \\left\\{ x : z, \\  y : z\\right\\}$"
      ],
      "text/plain": [
       "{x: z, y: z}"
      ]
     },
     "execution_count": 13,
     "metadata": {},
     "output_type": "execute_result"
    }
   ],
   "source": [
    "# a différent de 1 et de -1\n",
    "x, y, z = sp.symbols('x y z', real=True)\n",
    "MX = sp.Matrix([x, y, z])\n",
    "sp.solve(_@MX, [x, y, z])"
   ]
  },
  {
   "cell_type": "markdown",
   "id": "b0aa59a7",
   "metadata": {},
   "source": [
    "Le vecteur $(1,1,1)$ convient (ce qui était donné dans le résultat faux). Pour le vecteur propre dirigeant l'espace propre associé à $a$, on trouve $(a+2, a+4, a+3)$ (voir la cellule 4)."
   ]
  },
  {
   "cell_type": "code",
   "execution_count": 14,
   "id": "8993e8b5",
   "metadata": {
    "ExecuteTime": {
     "end_time": "2023-05-05T06:51:46.693173Z",
     "start_time": "2023-05-05T06:51:46.690862Z"
    }
   },
   "outputs": [],
   "source": [
    "# On complète par un vecteur de la base canonique\n",
    "P = sp.Matrix([[1, 1, 1], [a+2, a+4, a+3], [1, 0, 0]]).transpose()"
   ]
  },
  {
   "cell_type": "code",
   "execution_count": 15,
   "id": "368384a3",
   "metadata": {
    "ExecuteTime": {
     "end_time": "2023-05-05T06:51:47.482399Z",
     "start_time": "2023-05-05T06:51:47.219301Z"
    }
   },
   "outputs": [
    {
     "data": {
      "image/png": "[encoded data removed]",
      "text/latex": [
       "$\\displaystyle -1$"
      ],
      "text/plain": [
       "-1"
      ]
     },
     "execution_count": 15,
     "metadata": {},
     "output_type": "execute_result"
    }
   ],
   "source": [
    "P.det()"
   ]
  },
  {
   "cell_type": "code",
   "execution_count": 16,
   "id": "e73b8e68",
   "metadata": {
    "ExecuteTime": {
     "end_time": "2023-05-05T06:51:50.510210Z",
     "start_time": "2023-05-05T06:51:50.139770Z"
    }
   },
   "outputs": [
    {
     "data": {
      "image/png": "[encoded data removed]",
      "text/latex": [
       "$\\displaystyle \\left[\\begin{matrix}1 & 0 & a^{2} - 1\\\\0 & a & 1 - a\\\\0 & 0 & 1\\end{matrix}\\right]$"
      ],
      "text/plain": [
       "⎡       2    ⎤\n",
       "⎢1  0  a  - 1⎥\n",
       "⎢            ⎥\n",
       "⎢0  a  1 - a ⎥\n",
       "⎢            ⎥\n",
       "⎣0  0    1   ⎦"
      ]
     },
     "execution_count": 16,
     "metadata": {},
     "output_type": "execute_result"
    }
   ],
   "source": [
    "# Il convient ! On obtient bien une base\n",
    "(P.inv()@M@P).applyfunc(sp.simplify)"
   ]
  },
  {
   "cell_type": "markdown",
   "id": "da7e9cc3",
   "metadata": {},
   "source": [
    "## Exercice"
   ]
  },
  {
   "cell_type": "markdown",
   "id": "9a832cfe",
   "metadata": {},
   "source": [
    "1. Programmer une fonction qui trigonalise une matrice donnée (on appliquera l'algorithme du cours).\n",
    "1. L'appliquer à la matrice\n",
    "$$M=\\left[\\begin{matrix}4 & -2 & 0 & 2 & -1 & 0\\\\4 & 0 & -2 & 2 & 0 & -1\\\\2 & -2 & 2 & 1 & -1 & 1\\\\-2 & 1 & 0 & 0 & 0 & 0\\\\-2 & 0 & 1 & 0 & 0 & 0\\\\-1 & 1 & -1 & 0 & 0 & 0\\end{matrix}\\right]$$"
   ]
  },
  {
   "cell_type": "code",
   "execution_count": 17,
   "id": "6c875e27",
   "metadata": {
    "ExecuteTime": {
     "end_time": "2023-05-05T06:51:59.734760Z",
     "start_time": "2023-05-05T06:51:59.731429Z"
    }
   },
   "outputs": [],
   "source": [
    "M = sp.Matrix([[4, -2, 0, 2, -1, 0], [4, 0, -2, 2, 0, -1], [2, -2, 2, 1, -1, 1],\n",
    "              [-2, 1, 0, 0, 0, 0], [-2, 0, 1, 0, 0, 0], [-1, 1, -1, 0, 0, 0]])"
   ]
  },
  {
   "cell_type": "markdown",
   "id": "727bdb57",
   "metadata": {},
   "source": [
    "**Question 1**\n",
    "\n",
    "On suit l'algorithme du cours."
   ]
  },
  {
   "cell_type": "code",
   "execution_count": 18,
   "id": "4de408ef",
   "metadata": {
    "ExecuteTime": {
     "end_time": "2023-05-05T06:52:01.511892Z",
     "start_time": "2023-05-05T06:52:01.507199Z"
    }
   },
   "outputs": [],
   "source": [
    "def trigonalise(M):\n",
    "    n, p = M.shape\n",
    "    assert n==p\n",
    "    if n==1:\n",
    "        return sp.eye(1)\n",
    "    # Recherche d'un vecteur propre\n",
    "    step1 = M.eigenvects()\n",
    "    E1 = step1[0][2][0]\n",
    "    # Vérification qu'on obtient une matrice inversible\n",
    "    for i in range(n):\n",
    "        P = sp.zeros(n, n)\n",
    "        P[:, 0] = E1\n",
    "        l = list(range(n))\n",
    "        l.remove(i)\n",
    "        P[:, 1:] = sp.eye(n)[:, l]\n",
    "        if P.det() != 0:\n",
    "            break\n",
    "    # Récurrence\n",
    "    Q = trigonalise((P.inv()@M@P)[1:, 1:])\n",
    "    QQ = sp.Matrix(sp.BlockDiagMatrix(sp.eye(1), Q))\n",
    "    return P@QQ"
   ]
  },
  {
   "cell_type": "markdown",
   "id": "3bd57304",
   "metadata": {},
   "source": [
    "**Question 2**"
   ]
  },
  {
   "cell_type": "code",
   "execution_count": 19,
   "id": "d38ba749",
   "metadata": {
    "ExecuteTime": {
     "end_time": "2023-05-05T06:52:05.790479Z",
     "start_time": "2023-05-05T06:52:05.499920Z"
    }
   },
   "outputs": [
    {
     "data": {
      "image/png": "[encoded data removed]",
      "text/latex": [
       "$\\displaystyle \\left[\\begin{matrix}1 & 1 & - \\frac{1}{2} & -1 & 1 & 0\\\\0 & 1 & 0 & - \\frac{1}{2} & 1 & - \\frac{1}{2}\\\\0 & 0 & 1 & -1 & 2 & -2\\\\0 & 0 & 0 & 1 & -2 & 1\\\\0 & 0 & 0 & 0 & 1 & - \\frac{3}{2}\\\\0 & 0 & 0 & 0 & 0 & 1\\end{matrix}\\right]$"
      ],
      "text/plain": [
       "⎡1  1  -1/2   -1   1    0  ⎤\n",
       "⎢                          ⎥\n",
       "⎢0  1   0    -1/2  1   -1/2⎥\n",
       "⎢                          ⎥\n",
       "⎢0  0   1     -1   2    -2 ⎥\n",
       "⎢                          ⎥\n",
       "⎢0  0   0     1    -2   1  ⎥\n",
       "⎢                          ⎥\n",
       "⎢0  0   0     0    1   -3/2⎥\n",
       "⎢                          ⎥\n",
       "⎣0  0   0     0    0    1  ⎦"
      ]
     },
     "execution_count": 19,
     "metadata": {},
     "output_type": "execute_result"
    }
   ],
   "source": [
    "P = trigonalise(M)\n",
    "P.inv()@M@P"
   ]
  },
  {
   "cell_type": "markdown",
   "id": "de0e0de4",
   "metadata": {},
   "source": [
    "## Exercice"
   ]
  },
  {
   "cell_type": "markdown",
   "id": "48de25ad",
   "metadata": {},
   "source": [
    "Faire l'exercice 3.2.4"
   ]
  },
  {
   "cell_type": "markdown",
   "id": "f5ebe60f",
   "metadata": {},
   "source": [
    "On va procéder par récurrence sur $n$. \n",
    "1. Pour $n=1$ le résultat est évident, car tous les endomorphismes d'un espace vectoriel de dimension 1 sont trogonalisables.\n",
    "1. Supposons le résultat vrai si $\\dim(E)=n$ et prenons un $\\mathbb{C}$-espace vectoriel $E$ de dimension $n+1$ et deux endomorphismes $u$ et $v$ tels que $u\\circ v =0_{_{\\mathscr{L}(E)}}$. L'idée de la démonstration est simple. On commence par trouver un vecteur propre *commun* aux deux endormorphismes et on essaye d'appliquer la récurrence.\n",
    "    1. *Recherche d'un vecteur propre commun*. Si $x\\ne 0_E$ et $(\\lambda,\\mu)\\in\\mathbb{C}^2$ sont tels que\n",
    "    $u(x)=\\lambda.x$ et $v(x)=\\mu.x$, alors $\\lambda\\,\\mu=0$. On a trois cas à considérer.\n",
    "        1. $\\lambda=\\mu=0$, mais alors $x\\in\\mathrm{Ker}(u)\\cap\\mathrm{Ker}(v)$, mais on ne nous dit rien sur cette intersection.\n",
    "        1. $\\mu=0$ et $\\lambda\\ne0$, mais alors, la relation $(u\\circ v)(x)=0_E$ n'apporte aucune information sur $x$.\n",
    "        1. $\\lambda=0$ et $\\mu\\ne0$, alors $x\\in\\mathrm{Im}(v)\\cap\\mathrm{Ker}(u)$, or on sait que (car $u\\circ v=0$)\n",
    "        $$\\mathrm{Im}(v)\\subset \\mathrm{Ker}(u)\\;!$$\n",
    "        \n",
    "    Le raisonnement en découle. $\\mathrm{Im}(v)$ est à la fois stable par $u$ et $v$ et on a\n",
    "    $$u\\left|_{_{\\mathrm{Im}(v)}}^{^{\\mathrm{Im}(v}}\\right.=0_{_{\\mathrm{Im}(v)}}$$\n",
    "    Soit $\\mu$ une valeur propre de $v\\left|_{_{\\mathrm{Im}(v)}}^{^{\\mathrm{Im}(v}}\\right.$ (qui existe car on est dans $\\mathbb{C}$) et $x$ un vecteur propre associé, on a alors\n",
    "    $$u(x)=0_E\\quad\\text{et}\\quad v(x)=\\mu.x$$\n",
    "    1. *Utilisation de la récurrence (hérédité)* Soit $E_1$ un supplémentaire de $\\mathbb{C}.x$ dans $E$, on a donc\n",
    "    $$E=\\mathbb{C}.x\\oplus E_1$$\n",
    "    et $\\mathcal{B}$ une base *adaptée* à cette somme directe, on a alors\n",
    "    $$\\mathrm{Mat}(u,\\mathcal{B})=\\left[\\begin{array}{c|c} 0& L_1 \\\\ \\hline 0_{n,1}& A_1\\end{array}\\right]\\quad\\text{et}\\quad \\mathrm{Mat}(v,\\mathcal{B})=\\left[\\begin{array}{c|c} \\mu& L_2 \\\\ \\hline 0_{n,1}& A_2\\end{array}\\right]$$\n",
    "    où $L_1$ et $L_2$ sont des matrices lignes $1\\times n$.\n",
    "        1. La relation $u\\circ v=0$ nous donne alors que $A_1\\cdot A_2=0_{\\mathrm{M}_n(\\mathbb{C})}$.\n",
    "        1. L'hypothèse de récurrence nous donne l'existence d'une matrice $P\\in\\mathrm{GL}_n(\\mathbb{C})$ telle que\n",
    "        $$P^{-1}\\cdot A_1\\cdot P\\in\\mathrm{T}_n^+(\\mathbb{C})\\quad\\text{et}\\quad P^{-1}\\cdot A_2\\cdot P\\in\\mathrm{T}_n^+(\\mathbb{C})$$\n",
    "        1. On peut conclure en posant\n",
    "        $$Q=\\left[\\begin{array}{c|c} 1& 0_{1,n}\\\\ \\hline 0_{n,1}&P\\end{array}\\right]$$\n",
    "        On a alors\n",
    "        $$Q^{-1}\\cdot \\left[\\begin{array}{c|c} 0& L_1 \\\\ \\hline 0_{n,1}& A_1\\end{array}\\right]\\cdot Q\\in\\mathrm{T}_{n+1}^+(\\mathbb{C})\\quad\\text{et}\\quad Q^{-1}\\cdot \\left[\\begin{array}{c|c} \\mu& L_2 \\\\ \\hline 0_{n,1}& A_2\\end{array}\\right]\\cdot Q\\in \\mathrm{T}_{n+1}^+(\\mathbb{C})$$"
   ]
  }
 ],
 "metadata": {
  "kernelspec": {
   "display_name": "Python 3 (ipykernel)",
   "language": "python",
   "name": "python3"
  },
  "language_info": {
   "codemirror_mode": {
    "name": "ipython",
    "version": 3
   },
   "file_extension": ".py",
   "mimetype": "text/x-python",
   "name": "python",
   "nbconvert_exporter": "python",
   "pygments_lexer": "ipython3",
   "version": "3.8.2"
  },
  "toc": {
   "base_numbering": 1,
   "nav_menu": {},
   "number_sections": true,
   "sideBar": true,
   "skip_h1_title": false,
   "title_cell": "Table of Contents",
   "title_sidebar": "Contents",
   "toc_cell": false,
   "toc_position": {},
   "toc_section_display": true,
   "toc_window_display": false
  }
 },
 "nbformat": 4,
 "nbformat_minor": 5
}

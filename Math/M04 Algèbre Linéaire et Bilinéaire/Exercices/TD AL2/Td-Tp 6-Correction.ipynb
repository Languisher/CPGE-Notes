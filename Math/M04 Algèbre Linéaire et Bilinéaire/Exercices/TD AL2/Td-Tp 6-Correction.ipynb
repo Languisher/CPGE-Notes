{
 "cells": [
  {
   "cell_type": "markdown",
   "id": "2ab16f0c",
   "metadata": {},
   "source": [
    "# Endomorhismes symétriques et automorphismes orthogonaux"
   ]
  },
  {
   "cell_type": "markdown",
   "id": "5f1bcb33",
   "metadata": {},
   "source": [
    "## Exercice"
   ]
  },
  {
   "cell_type": "markdown",
   "id": "3fcc28c6",
   "metadata": {},
   "source": [
    "Soit $E$ un espace euclidien, $u\\in E\\setminus\\{0_{_E}\\}$.\n",
    "1. Donner l'équation de l'hyperplan $H$ orthogonal à $u$.\n",
    "1. Exprimer la projection orthogonale $p_{_H}$ sur $H$. Puis la symétrie orthogonale $s_{_H}$ par rapport à $H$.\n",
    "1. On prend $E=\\mathbb{R}^n$, pour $n\\in\\mathbb{N}^*$, donner les matrices dans la base canonique (supposée orthonormée) de $\\mathbb{R}^n$ de $p_{_H}$ et $s_{_H}$.\n",
    "1. Proposer une fonction `Python` prenant le vecteur $u$ et produisant la matrice de $s_{_H}$."
   ]
  },
  {
   "cell_type": "markdown",
   "id": "e496f7a3",
   "metadata": {},
   "source": [
    "**Question 1**\n",
    "\n",
    "C'est $\\langle u,x\\rangle=0$."
   ]
  },
  {
   "cell_type": "markdown",
   "id": "247d65b4",
   "metadata": {},
   "source": [
    "**Question 2**\n",
    "\n",
    "Le cours du semestre 1, nous permet d'écrire que\n",
    "$$\\forall x\\in E,\\; p_{_H}(x)=x-\\frac{\\langle u,x\\rangle}{\\|u\\|^2}.u$$\n",
    "La symétrie orthogonale s'obtient à partir de la projection.\n",
    "$$\\forall x\\in E,\\; s_{_H}(x)=2.p_{_H}(x)-x=x-2\\,\\frac{\\langle u,x\\rangle}{\\|u\\|^2}.u$$"
   ]
  },
  {
   "cell_type": "markdown",
   "id": "35573e6b",
   "metadata": {},
   "source": [
    "**Question 3**\n",
    "\n",
    "Notons $(c_1,\\ldots,c_n)$ la base canonique (orthonormée). La matrice de $s_{_H}$ dans cette base s'écrit alors\n",
    "$$\\mathrm{Mat}\\left(s_{_H},(c_1,\\ldots,c_n)\\right)=\\left[\\langle c_i,s_{_H}(c_j)\\right]_{(i,j)\\in\\{1,\\ldots,n\\}^2}$$"
   ]
  },
  {
   "cell_type": "markdown",
   "id": "527408ed",
   "metadata": {},
   "source": [
    "**Question 4**\n",
    "\n",
    "On applique simplement la formule."
   ]
  },
  {
   "cell_type": "code",
   "execution_count": 1,
   "id": "32f87c00",
   "metadata": {
    "ExecuteTime": {
     "end_time": "2023-03-23T06:24:16.287403Z",
     "start_time": "2023-03-23T06:24:16.038842Z"
    }
   },
   "outputs": [],
   "source": [
    "import sympy as sp\n",
    "sp.init_printing()"
   ]
  },
  {
   "cell_type": "code",
   "execution_count": 2,
   "id": "70e8bb64",
   "metadata": {
    "ExecuteTime": {
     "end_time": "2023-03-23T06:24:16.293114Z",
     "start_time": "2023-03-23T06:24:16.289678Z"
    }
   },
   "outputs": [],
   "source": [
    "def mat(u):\n",
    "    n = len(u)\n",
    "    M = sp.zeros(n, n)\n",
    "    for j in range(n):\n",
    "        cj = sp.Matrix([int(i == j) for i in range(n)])\n",
    "        Mcj = cj-2*cj.dot(u)/u.norm()**2*u\n",
    "        for i in range(n):\n",
    "            M[i, j] = Mcj[i]\n",
    "    return M"
   ]
  },
  {
   "cell_type": "markdown",
   "id": "80a2e3c9",
   "metadata": {},
   "source": [
    "## Exercice"
   ]
  },
  {
   "cell_type": "markdown",
   "id": "41c9766a",
   "metadata": {},
   "source": [
    "On considère la matrice \n",
    "$$M=\\begin{bmatrix} 0&0&{{16\n",
    " }\\over{25}}&-{{3}\\over{5}}&-{{12}\\over{25}}\\cr 0&{{3}\\over{5}}&-{{12\n",
    " }\\over{25}}&0&-{{16}\\over{25}}\\cr -{{16}\\over{25}}&{{12}\\over{25}}&\n",
    " {{279}\\over{625}}&{{48}\\over{125}}&{{72}\\over{625}}\\cr {{3}\\over{5}}\n",
    " &0&{{48}\\over{125}}&{{16}\\over{25}}&-{{36}\\over{125}}\\cr {{12}\\over{\n",
    " 25}}&{{16}\\over{25}}&{{72}\\over{625}}&-{{36}\\over{125}}&{{321}\\over{\n",
    " 625}}\\end{bmatrix}$$\n",
    "1. Montrer qu'elle est dans $O_5(\\mathbb{R})$.\n",
    "1. À l'aide de `Python`, la décomposer en un produit de réflexions. *On pourra regarder $C_1=\\,^t\\begin{bmatrix}1& 0& \\cdots& 0\\end{bmatrix}$ et multiplier par une matrice de réflexion qui envoie $M\\cdot C_1$ sur $C_1$ et ainsi de suite...*\n",
    "1. À l'aide de `Python`, la mettre sous forme canonique."
   ]
  },
  {
   "cell_type": "code",
   "execution_count": 1,
   "id": "7fb57e61",
   "metadata": {
    "ExecuteTime": {
     "end_time": "2023-03-22T08:01:21.988331Z",
     "start_time": "2023-03-22T08:01:21.774168Z"
    },
    "deletable": false,
    "editable": false,
    "run_control": {
     "frozen": true
    }
   },
   "outputs": [],
   "source": [
    "import sympy as sp\n",
    "sp.init_printing()"
   ]
  },
  {
   "cell_type": "code",
   "execution_count": 3,
   "id": "051688e6",
   "metadata": {
    "ExecuteTime": {
     "end_time": "2023-03-23T06:24:16.720719Z",
     "start_time": "2023-03-23T06:24:16.294529Z"
    }
   },
   "outputs": [
    {
     "data": {
      "image/png": "[encoded data removed]",
      "text/latex": [
       "$\\displaystyle \\left[\\begin{matrix}0 & 0 & \\frac{16}{25} & - \\frac{3}{5} & - \\frac{12}{25}\\\\0 & \\frac{3}{5} & - \\frac{12}{25} & 0 & - \\frac{16}{25}\\\\- \\frac{16}{25} & \\frac{12}{25} & \\frac{279}{625} & \\frac{48}{125} & \\frac{72}{625}\\\\\\frac{3}{5} & 0 & \\frac{48}{125} & \\frac{16}{25} & - \\frac{36}{125}\\\\\\frac{12}{25} & \\frac{16}{25} & \\frac{72}{625} & - \\frac{36}{125} & \\frac{321}{625}\\end{matrix}\\right]$"
      ],
      "text/plain": [
       "⎡            16         -12 ⎤\n",
       "⎢ 0     0    ──   -3/5  ────⎥\n",
       "⎢            25          25 ⎥\n",
       "⎢                           ⎥\n",
       "⎢           -12         -16 ⎥\n",
       "⎢ 0    3/5  ────   0    ────⎥\n",
       "⎢            25          25 ⎥\n",
       "⎢                           ⎥\n",
       "⎢-16   12   279    48    72 ⎥\n",
       "⎢────  ──   ───   ───   ─── ⎥\n",
       "⎢ 25   25   625   125   625 ⎥\n",
       "⎢                           ⎥\n",
       "⎢            48    16   -36 ⎥\n",
       "⎢3/5    0   ───    ──   ────⎥\n",
       "⎢           125    25   125 ⎥\n",
       "⎢                           ⎥\n",
       "⎢ 12   16    72   -36   321 ⎥\n",
       "⎢ ──   ──   ───   ────  ─── ⎥\n",
       "⎣ 25   25   625   125   625 ⎦"
      ]
     },
     "execution_count": 3,
     "metadata": {},
     "output_type": "execute_result"
    }
   ],
   "source": [
    "M = sp.Matrix([[0, 0, sp.S(16)/25, -sp.S(3)/5, -sp.S(12)/25], [0, sp.S(3)/5, -sp.S(12)/25, 0, -sp.S(16)/25],\n",
    "               [-sp.S(16)/25, sp.S(12)/25, sp.S(279) /\n",
    "                625, sp.S(48)/125, sp.S(72)/625],\n",
    "               [sp.S(3)/5, 0, sp.S(48)/125, sp.S(16)/25, -sp.S(36)/125],\n",
    "               [sp.S(12)/25, sp.S(16)/25, sp.S(72)/625, -sp.S(36)/125, sp.S(321)/625]])\n",
    "M"
   ]
  },
  {
   "cell_type": "markdown",
   "id": "2ebca664",
   "metadata": {},
   "source": [
    "**Question 1**\n",
    "\n",
    "Le calcul suffit"
   ]
  },
  {
   "cell_type": "code",
   "execution_count": 4,
   "id": "4d3bd2a6",
   "metadata": {
    "ExecuteTime": {
     "end_time": "2023-03-23T06:24:17.037293Z",
     "start_time": "2023-03-23T06:24:16.722887Z"
    }
   },
   "outputs": [
    {
     "data": {
      "image/png": "[encoded data removed]",
      "text/latex": [
       "$\\displaystyle \\left[\\begin{matrix}1 & 0 & 0 & 0 & 0\\\\0 & 1 & 0 & 0 & 0\\\\0 & 0 & 1 & 0 & 0\\\\0 & 0 & 0 & 1 & 0\\\\0 & 0 & 0 & 0 & 1\\end{matrix}\\right]$"
      ],
      "text/plain": [
       "⎡1  0  0  0  0⎤\n",
       "⎢             ⎥\n",
       "⎢0  1  0  0  0⎥\n",
       "⎢             ⎥\n",
       "⎢0  0  1  0  0⎥\n",
       "⎢             ⎥\n",
       "⎢0  0  0  1  0⎥\n",
       "⎢             ⎥\n",
       "⎣0  0  0  0  1⎦"
      ]
     },
     "execution_count": 4,
     "metadata": {},
     "output_type": "execute_result"
    }
   ],
   "source": [
    "M@M.transpose()"
   ]
  },
  {
   "cell_type": "markdown",
   "id": "bf1c2b45",
   "metadata": {},
   "source": [
    "**Question 2**\n",
    "\n",
    "On va suivre l'algorithme donné en cours (en ne commençant pas par les premiers cas, mais en prenant les vecteurs un par un comme suggéré par l'énoncé)."
   ]
  },
  {
   "cell_type": "code",
   "execution_count": 5,
   "id": "e4db95b7",
   "metadata": {
    "ExecuteTime": {
     "end_time": "2023-03-23T06:24:17.370622Z",
     "start_time": "2023-03-23T06:24:17.038747Z"
    }
   },
   "outputs": [
    {
     "data": {
      "image/png": "[encoded data removed]",
      "text/latex": [
       "$\\displaystyle \\left[\\begin{matrix}1 & 0 & 0 & 0 & 0\\\\0 & \\frac{3}{5} & - \\frac{12}{25} & 0 & - \\frac{16}{25}\\\\0 & \\frac{12}{25} & \\frac{23}{625} & \\frac{96}{125} & \\frac{264}{625}\\\\0 & 0 & \\frac{96}{125} & \\frac{7}{25} & - \\frac{72}{125}\\\\0 & \\frac{16}{25} & \\frac{264}{625} & - \\frac{72}{125} & \\frac{177}{625}\\end{matrix}\\right]$"
      ],
      "text/plain": [
       "⎡1   0    0     0     0  ⎤\n",
       "⎢                        ⎥\n",
       "⎢        -12         -16 ⎥\n",
       "⎢0  3/5  ────   0    ────⎥\n",
       "⎢         25          25 ⎥\n",
       "⎢                        ⎥\n",
       "⎢   12    23    96   264 ⎥\n",
       "⎢0  ──   ───   ───   ─── ⎥\n",
       "⎢   25   625   125   625 ⎥\n",
       "⎢                        ⎥\n",
       "⎢         96         -72 ⎥\n",
       "⎢0   0   ───   7/25  ────⎥\n",
       "⎢        125         125 ⎥\n",
       "⎢                        ⎥\n",
       "⎢   16   264   -72   177 ⎥\n",
       "⎢0  ──   ───   ────  ─── ⎥\n",
       "⎣   25   625   125   625 ⎦"
      ]
     },
     "execution_count": 5,
     "metadata": {},
     "output_type": "execute_result"
    }
   ],
   "source": [
    "# Première étape\n",
    "U = M[:, 0]-sp.Matrix([int(i == 0) for i in range(5)])\n",
    "S1 = mat(U)\n",
    "S1@M"
   ]
  },
  {
   "cell_type": "code",
   "execution_count": 6,
   "id": "4546e805",
   "metadata": {
    "ExecuteTime": {
     "end_time": "2023-03-23T06:24:17.676678Z",
     "start_time": "2023-03-23T06:24:17.371974Z"
    }
   },
   "outputs": [
    {
     "data": {
      "image/png": "[encoded data removed]",
      "text/latex": [
       "$\\displaystyle \\left[\\begin{matrix}1 & 0 & 0 & 0 & 0\\\\0 & 1 & 0 & 0 & 0\\\\0 & 0 & - \\frac{337}{625} & \\frac{96}{125} & - \\frac{216}{625}\\\\0 & 0 & \\frac{96}{125} & \\frac{7}{25} & - \\frac{72}{125}\\\\0 & 0 & - \\frac{216}{625} & - \\frac{72}{125} & - \\frac{463}{625}\\end{matrix}\\right]$"
      ],
      "text/plain": [
       "⎡1  0    0     0      0  ⎤\n",
       "⎢                        ⎥\n",
       "⎢0  1    0     0      0  ⎥\n",
       "⎢                        ⎥\n",
       "⎢      -337    96   -216 ⎥\n",
       "⎢0  0  ─────  ───   ─────⎥\n",
       "⎢       625   125    625 ⎥\n",
       "⎢                        ⎥\n",
       "⎢        96         -72  ⎥\n",
       "⎢0  0   ───   7/25  ──── ⎥\n",
       "⎢       125         125  ⎥\n",
       "⎢                        ⎥\n",
       "⎢      -216   -72   -463 ⎥\n",
       "⎢0  0  ─────  ────  ─────⎥\n",
       "⎣       625   125    625 ⎦"
      ]
     },
     "execution_count": 6,
     "metadata": {},
     "output_type": "execute_result"
    }
   ],
   "source": [
    "# Deuxième étape\n",
    "U = _[:, 1]-sp.Matrix([int(i == 1) for i in range(5)])\n",
    "S2 = mat(U)\n",
    "S2@_"
   ]
  },
  {
   "cell_type": "code",
   "execution_count": 7,
   "id": "895e40b1",
   "metadata": {
    "ExecuteTime": {
     "end_time": "2023-03-23T06:24:18.009540Z",
     "start_time": "2023-03-23T06:24:17.677955Z"
    }
   },
   "outputs": [
    {
     "data": {
      "image/png": "[encoded data removed]",
      "text/latex": [
       "$\\displaystyle \\left[\\begin{matrix}1 & 0 & 0 & 0 & 0\\\\0 & 1 & 0 & 0 & 0\\\\0 & 0 & 1 & 0 & 0\\\\0 & 0 & 0 & \\frac{319}{481} & - \\frac{360}{481}\\\\0 & 0 & 0 & - \\frac{360}{481} & - \\frac{319}{481}\\end{matrix}\\right]$"
      ],
      "text/plain": [
       "⎡1  0  0    0      0  ⎤\n",
       "⎢                     ⎥\n",
       "⎢0  1  0    0      0  ⎥\n",
       "⎢                     ⎥\n",
       "⎢0  0  1    0      0  ⎥\n",
       "⎢                     ⎥\n",
       "⎢          319   -360 ⎥\n",
       "⎢0  0  0   ───   ─────⎥\n",
       "⎢          481    481 ⎥\n",
       "⎢                     ⎥\n",
       "⎢         -360   -319 ⎥\n",
       "⎢0  0  0  ─────  ─────⎥\n",
       "⎣          481    481 ⎦"
      ]
     },
     "execution_count": 7,
     "metadata": {},
     "output_type": "execute_result"
    }
   ],
   "source": [
    "# Troisième étape\n",
    "U = _[:, 2]-sp.Matrix([int(i == 2) for i in range(5)])\n",
    "S3 = mat(U)\n",
    "S3@_"
   ]
  },
  {
   "cell_type": "code",
   "execution_count": 8,
   "id": "adddb272",
   "metadata": {
    "ExecuteTime": {
     "end_time": "2023-03-23T06:24:18.346607Z",
     "start_time": "2023-03-23T06:24:18.010727Z"
    }
   },
   "outputs": [
    {
     "data": {
      "image/png": "[encoded data removed]",
      "text/latex": [
       "$\\displaystyle \\left[\\begin{matrix}1 & 0 & 0 & 0 & 0\\\\0 & 1 & 0 & 0 & 0\\\\0 & 0 & 1 & 0 & 0\\\\0 & 0 & 0 & 1 & 0\\\\0 & 0 & 0 & 0 & 1\\end{matrix}\\right]$"
      ],
      "text/plain": [
       "⎡1  0  0  0  0⎤\n",
       "⎢             ⎥\n",
       "⎢0  1  0  0  0⎥\n",
       "⎢             ⎥\n",
       "⎢0  0  1  0  0⎥\n",
       "⎢             ⎥\n",
       "⎢0  0  0  1  0⎥\n",
       "⎢             ⎥\n",
       "⎣0  0  0  0  1⎦"
      ]
     },
     "execution_count": 8,
     "metadata": {},
     "output_type": "execute_result"
    }
   ],
   "source": [
    "# Quatrième étape\n",
    "U = _[:, 3]-sp.Matrix([int(i == 3) for i in range(5)])\n",
    "S4 = mat(U)\n",
    "S4@_"
   ]
  },
  {
   "cell_type": "code",
   "execution_count": 9,
   "id": "3f814985",
   "metadata": {
    "ExecuteTime": {
     "end_time": "2023-03-23T06:24:18.674528Z",
     "start_time": "2023-03-23T06:24:18.347846Z"
    }
   },
   "outputs": [
    {
     "data": {
      "image/png": "[encoded data removed]",
      "text/latex": [
       "$\\displaystyle \\left[\\begin{matrix}0 & 0 & 0 & 0 & 0\\\\0 & 0 & 0 & 0 & 0\\\\0 & 0 & 0 & 0 & 0\\\\0 & 0 & 0 & 0 & 0\\\\0 & 0 & 0 & 0 & 0\\end{matrix}\\right]$"
      ],
      "text/plain": [
       "⎡0  0  0  0  0⎤\n",
       "⎢             ⎥\n",
       "⎢0  0  0  0  0⎥\n",
       "⎢             ⎥\n",
       "⎢0  0  0  0  0⎥\n",
       "⎢             ⎥\n",
       "⎢0  0  0  0  0⎥\n",
       "⎢             ⎥\n",
       "⎣0  0  0  0  0⎦"
      ]
     },
     "execution_count": 9,
     "metadata": {},
     "output_type": "execute_result"
    }
   ],
   "source": [
    "# Vérifions\n",
    "S1@S2@S3@S4-M"
   ]
  },
  {
   "cell_type": "markdown",
   "id": "5b564518",
   "metadata": {},
   "source": [
    "**Question 3**\n",
    "\n",
    "On va à nouveau suivre l'algorithme du cours. Comme on a trouvé 4 réflexions, on sait que $\\{X\\in\\mathrm{M}_{5,1}(\\mathbb{R},\\; M\\cdot X=X\\}$ est de dimension 1."
   ]
  },
  {
   "cell_type": "code",
   "execution_count": 10,
   "id": "e8a59fc0",
   "metadata": {
    "ExecuteTime": {
     "end_time": "2023-03-23T06:24:18.995866Z",
     "start_time": "2023-03-23T06:24:18.676503Z"
    }
   },
   "outputs": [
    {
     "data": {
      "image/png": "[encoded data removed]",
      "text/latex": [
       "$\\displaystyle \\left[ \\left[\\begin{matrix}0\\\\0\\\\- \\frac{4}{3}\\\\- \\frac{20}{9}\\\\1\\end{matrix}\\right]\\right]$"
      ],
      "text/plain": [
       "⎡⎡  0  ⎤⎤\n",
       "⎢⎢     ⎥⎥\n",
       "⎢⎢  0  ⎥⎥\n",
       "⎢⎢     ⎥⎥\n",
       "⎢⎢-4/3 ⎥⎥\n",
       "⎢⎢     ⎥⎥\n",
       "⎢⎢-20/9⎥⎥\n",
       "⎢⎢     ⎥⎥\n",
       "⎣⎣  1  ⎦⎦"
      ]
     },
     "execution_count": 10,
     "metadata": {},
     "output_type": "execute_result"
    }
   ],
   "source": [
    "(M-sp.eye(5)).nullspace()"
   ]
  },
  {
   "cell_type": "code",
   "execution_count": 11,
   "id": "8a802d93",
   "metadata": {
    "ExecuteTime": {
     "end_time": "2023-03-23T06:24:19.303689Z",
     "start_time": "2023-03-23T06:24:18.997094Z"
    }
   },
   "outputs": [
    {
     "data": {
      "image/png": "[encoded data removed]",
      "text/latex": [
       "$\\displaystyle \\left[\\begin{matrix}0\\\\0\\\\- \\frac{12}{25}\\\\- \\frac{4}{5}\\\\\\frac{9}{25}\\end{matrix}\\right]$"
      ],
      "text/plain": [
       "⎡ 0  ⎤\n",
       "⎢    ⎥\n",
       "⎢ 0  ⎥\n",
       "⎢    ⎥\n",
       "⎢-12 ⎥\n",
       "⎢────⎥\n",
       "⎢ 25 ⎥\n",
       "⎢    ⎥\n",
       "⎢-4/5⎥\n",
       "⎢    ⎥\n",
       "⎣9/25⎦"
      ]
     },
     "execution_count": 11,
     "metadata": {},
     "output_type": "execute_result"
    }
   ],
   "source": [
    "E1 = _[0]\n",
    "E1 = E1/E1.norm()\n",
    "E1"
   ]
  },
  {
   "cell_type": "markdown",
   "id": "bf5c762e",
   "metadata": {},
   "source": [
    "Ensuite, on cherche le plus gros cosinus. Il existe alors ($u$ est l'endomorphisme associé à $M$) un vecteur $e\\ne0_{_{\\mathbb{R}^n}}$ tel que\n",
    "$$\\frac12.\\left(u(e)+u^\\star(e)\\right)=\\cos(\\theta).e$$\n",
    "Le cosinus est donc solution de \n",
    "$$\\det\\left(\\frac12.\\left(u+u^\\star\\right)-c.\\mathrm{id}_{_{\\mathbb{R}^n}}\\right)=0$$"
   ]
  },
  {
   "cell_type": "code",
   "execution_count": 12,
   "id": "9412f572",
   "metadata": {
    "ExecuteTime": {
     "end_time": "2023-03-23T06:24:19.805780Z",
     "start_time": "2023-03-23T06:24:19.304909Z"
    }
   },
   "outputs": [
    {
     "data": {
      "image/png": "[encoded data removed]",
      "text/latex": [
       "$\\displaystyle - \\frac{c^{2} \\left(c - 1\\right) \\left(5 c - 3\\right)^{2}}{25}$"
      ],
      "text/plain": [
       "  2                  2 \n",
       "-c ⋅(c - 1)⋅(5⋅c - 3)  \n",
       "───────────────────────\n",
       "           25          "
      ]
     },
     "execution_count": 12,
     "metadata": {},
     "output_type": "execute_result"
    }
   ],
   "source": [
    "c = sp.symbols('c', real=True)\n",
    "((M+M.transpose())/2-c*sp.eye(5)).det().factor()"
   ]
  },
  {
   "cell_type": "markdown",
   "id": "7e9fd1c6",
   "metadata": {},
   "source": [
    "1 correspond au vecteur $e_1$ que nous avons déjà trouvé, on prend donc $3/5$. Le vecteur $e_2$ qui nous intéresse vérifie\n",
    "$$\\frac12.\\left(u+u^\\star\\right)(e)=\\frac35.e$$"
   ]
  },
  {
   "cell_type": "code",
   "execution_count": 13,
   "id": "c4c6a8c8",
   "metadata": {
    "ExecuteTime": {
     "end_time": "2023-03-23T06:24:20.150468Z",
     "start_time": "2023-03-23T06:24:19.807362Z"
    }
   },
   "outputs": [
    {
     "data": {
      "image/png": "[encoded data removed]",
      "text/latex": [
       "$\\displaystyle \\left[ \\left[\\begin{matrix}0\\\\1\\\\0\\\\0\\\\0\\end{matrix}\\right], \\  \\left[\\begin{matrix}0\\\\0\\\\\\frac{3}{4}\\\\0\\\\1\\end{matrix}\\right]\\right]$"
      ],
      "text/plain": [
       "⎡⎡0⎤  ⎡ 0 ⎤⎤\n",
       "⎢⎢ ⎥  ⎢   ⎥⎥\n",
       "⎢⎢1⎥  ⎢ 0 ⎥⎥\n",
       "⎢⎢ ⎥  ⎢   ⎥⎥\n",
       "⎢⎢0⎥, ⎢3/4⎥⎥\n",
       "⎢⎢ ⎥  ⎢   ⎥⎥\n",
       "⎢⎢0⎥  ⎢ 0 ⎥⎥\n",
       "⎢⎢ ⎥  ⎢   ⎥⎥\n",
       "⎣⎣0⎦  ⎣ 1 ⎦⎦"
      ]
     },
     "execution_count": 13,
     "metadata": {},
     "output_type": "execute_result"
    }
   ],
   "source": [
    "((M+M.transpose())/2-sp.S(3)/5*sp.eye(5)).nullspace()"
   ]
  },
  {
   "cell_type": "code",
   "execution_count": 14,
   "id": "20f599dc",
   "metadata": {
    "ExecuteTime": {
     "end_time": "2023-03-23T06:24:20.157146Z",
     "start_time": "2023-03-23T06:24:20.152091Z"
    }
   },
   "outputs": [],
   "source": [
    "# On orthonormalise\n",
    "E2 = _[0]\n",
    "E2 = E2/E2.norm()\n",
    "E3 = _[1]\n",
    "E3 = E3-E2.dot(E3)*E2\n",
    "E3 = E3/E3.norm()"
   ]
  },
  {
   "cell_type": "markdown",
   "id": "20eeca00",
   "metadata": {},
   "source": [
    "Le second cosinus est 0."
   ]
  },
  {
   "cell_type": "code",
   "execution_count": 15,
   "id": "72e69b0d",
   "metadata": {
    "ExecuteTime": {
     "end_time": "2023-03-23T06:24:20.496316Z",
     "start_time": "2023-03-23T06:24:20.158520Z"
    }
   },
   "outputs": [
    {
     "data": {
      "image/png": "[encoded data removed]",
      "text/latex": [
       "$\\displaystyle \\left[ \\left[\\begin{matrix}1\\\\0\\\\0\\\\0\\\\0\\end{matrix}\\right], \\  \\left[\\begin{matrix}0\\\\0\\\\- \\frac{4}{3}\\\\\\frac{5}{4}\\\\1\\end{matrix}\\right]\\right]$"
      ],
      "text/plain": [
       "⎡⎡1⎤  ⎡ 0  ⎤⎤\n",
       "⎢⎢ ⎥  ⎢    ⎥⎥\n",
       "⎢⎢0⎥  ⎢ 0  ⎥⎥\n",
       "⎢⎢ ⎥  ⎢    ⎥⎥\n",
       "⎢⎢0⎥, ⎢-4/3⎥⎥\n",
       "⎢⎢ ⎥  ⎢    ⎥⎥\n",
       "⎢⎢0⎥  ⎢5/4 ⎥⎥\n",
       "⎢⎢ ⎥  ⎢    ⎥⎥\n",
       "⎣⎣0⎦  ⎣ 1  ⎦⎦"
      ]
     },
     "execution_count": 15,
     "metadata": {},
     "output_type": "execute_result"
    }
   ],
   "source": [
    "((M+M.transpose())/2).nullspace()"
   ]
  },
  {
   "cell_type": "code",
   "execution_count": 16,
   "id": "7aef4b0a",
   "metadata": {
    "ExecuteTime": {
     "end_time": "2023-03-23T06:24:20.502104Z",
     "start_time": "2023-03-23T06:24:20.497478Z"
    }
   },
   "outputs": [],
   "source": [
    "E4 = _[0]\n",
    "E4 = E4/E4.norm()\n",
    "E5 = _[1]\n",
    "E5 = E5-E5.dot(E4)*E4\n",
    "E5 = E5/E5.norm()"
   ]
  },
  {
   "cell_type": "code",
   "execution_count": 17,
   "id": "62bd55cb",
   "metadata": {
    "ExecuteTime": {
     "end_time": "2023-03-23T06:24:20.507023Z",
     "start_time": "2023-03-23T06:24:20.503658Z"
    }
   },
   "outputs": [],
   "source": [
    "P = sp.Matrix([E1, E2, E3, E4, E5]).reshape(5, 5).transpose()"
   ]
  },
  {
   "cell_type": "code",
   "execution_count": 18,
   "id": "00edfc82",
   "metadata": {
    "ExecuteTime": {
     "end_time": "2023-03-23T06:24:20.846593Z",
     "start_time": "2023-03-23T06:24:20.508234Z"
    }
   },
   "outputs": [
    {
     "data": {
      "image/png": "[encoded data removed]",
      "text/latex": [
       "$\\displaystyle \\left[\\begin{matrix}1 & 0 & 0 & 0 & 0\\\\0 & 1 & 0 & 0 & 0\\\\0 & 0 & 1 & 0 & 0\\\\0 & 0 & 0 & 1 & 0\\\\0 & 0 & 0 & 0 & 1\\end{matrix}\\right]$"
      ],
      "text/plain": [
       "⎡1  0  0  0  0⎤\n",
       "⎢             ⎥\n",
       "⎢0  1  0  0  0⎥\n",
       "⎢             ⎥\n",
       "⎢0  0  1  0  0⎥\n",
       "⎢             ⎥\n",
       "⎢0  0  0  1  0⎥\n",
       "⎢             ⎥\n",
       "⎣0  0  0  0  1⎦"
      ]
     },
     "execution_count": 18,
     "metadata": {},
     "output_type": "execute_result"
    }
   ],
   "source": [
    "# Vérifions que P est bien une matrice orthogonale\n",
    "P.transpose()@P"
   ]
  },
  {
   "cell_type": "code",
   "execution_count": 19,
   "id": "49e2006a",
   "metadata": {
    "ExecuteTime": {
     "end_time": "2023-03-23T06:24:21.184029Z",
     "start_time": "2023-03-23T06:24:20.847804Z"
    }
   },
   "outputs": [
    {
     "data": {
      "image/png": "[encoded data removed]",
      "text/latex": [
       "$\\displaystyle \\left[\\begin{matrix}1 & 0 & 0 & 0 & 0\\\\0 & \\frac{3}{5} & - \\frac{4}{5} & 0 & 0\\\\0 & \\frac{4}{5} & \\frac{3}{5} & 0 & 0\\\\0 & 0 & 0 & 0 & -1\\\\0 & 0 & 0 & 1 & 0\\end{matrix}\\right]$"
      ],
      "text/plain": [
       "⎡1   0    0    0  0 ⎤\n",
       "⎢                   ⎥\n",
       "⎢0  3/5  -4/5  0  0 ⎥\n",
       "⎢                   ⎥\n",
       "⎢0  4/5  3/5   0  0 ⎥\n",
       "⎢                   ⎥\n",
       "⎢0   0    0    0  -1⎥\n",
       "⎢                   ⎥\n",
       "⎣0   0    0    1  0 ⎦"
      ]
     },
     "execution_count": 19,
     "metadata": {},
     "output_type": "execute_result"
    }
   ],
   "source": [
    "# Mise sous forme canonique\n",
    "P.transpose()@M@P"
   ]
  },
  {
   "cell_type": "markdown",
   "id": "c58e994b",
   "metadata": {},
   "source": [
    "## Exercice"
   ]
  },
  {
   "cell_type": "markdown",
   "id": "31d61a1c",
   "metadata": {},
   "source": [
    "Soit $E$ un espace euclidien, $u\\in\\mathcal{GL}(E)$, on a montré en cours (*décomposition polaire*) qu'il existait de manière unique $\\rho\\in\\mathcal{S}^{++}(E)$ et $\\omega\\in \\mathcal{O}(E)$, tels que $u=\\rho\\circ \\omega$.\n",
    "1. Montrer qu'il existe de manière unique $\\rho'\\in\\mathcal{S}^{++}(E)$ et $\\omega'\\in\\mathcal{O}(E)$ tels que\n",
    "$$u=\\omega'\\circ\\rho'$$\n",
    "1. Donner un exemple où $(\\rho,\\omega)\\ne\\left(\\rho',\\omega'\\right)$.\n",
    "1. Donner une condition nécessaire et suffisante sur $u$ pour que $(\\rho,\\omega)=\\left(\\rho',\\omega'\\right)$."
   ]
  },
  {
   "cell_type": "markdown",
   "id": "1d033f42",
   "metadata": {},
   "source": [
    "**Question 1**\n",
    "\n",
    "C'est la même démonstration, on procède par analyse/synthèse.\n",
    "- *(Analyse)* Si $\\rho'$ et $\\omega'$ existent, alors\n",
    "$$u=\\omega'\\circ\\rho'\\quad\\text{et}\\quad u^\\star={\\rho'}^\\star\\circ {\\omega'}^\\star=\\rho'\\circ {\\omega'}^{-1}$$\n",
    "et donc\n",
    "$$u^\\star\\circ u= {\\rho'}^2$$\n",
    "Comme $\\rho'$ est défini, positif, on sait qu'il y a une unique solution (la racine carrée de $u^\\star\\circ u$ qui est aussi défini, positif, puisque $u$ est bijectif). Finalement\n",
    "$$\\omega'=u\\circ{\\rho'}^{-1}$$\n",
    "Ce qui nous montre l'unicité.\n",
    "- *(Synthèse)* Soit ${\\rho'}$ l'unique racine carrée de $u^\\star\\circ u\\in\\mathcal{S}^{++}(E)$ (*le vérifier*), alors posons $\\omega'=u\\circ{\\rho'}^{-1}$, il suffit de vérifier que $\\omega'\\in\\mathcal{O}(E)$. \n",
    "$${\\omega'}^\\star\\circ\\omega'={\\rho'}^{-1}\\circ u^\\star\\circ u\\circ {\\rho'}^{-1}={\\rho'}^{-1}\\circ{\\rho'}^2\\circ {\\rho'}^{-1}=\\mathrm{id}_{_E}$$"
   ]
  },
  {
   "cell_type": "markdown",
   "id": "6dbb77c3",
   "metadata": {},
   "source": [
    "**Question 2**\n",
    "\n",
    "Prenons n'importe quoi."
   ]
  },
  {
   "cell_type": "code",
   "execution_count": 20,
   "id": "99c01dd8",
   "metadata": {
    "ExecuteTime": {
     "end_time": "2023-03-23T06:24:21.514999Z",
     "start_time": "2023-03-23T06:24:21.185380Z"
    }
   },
   "outputs": [
    {
     "data": {
      "image/png": "[encoded data removed]",
      "text/latex": [
       "$\\displaystyle \\left( \\left[\\begin{matrix}0 & -1\\\\2 & 0\\end{matrix}\\right], \\  \\left[\\begin{matrix}0 & -2\\\\1 & 0\\end{matrix}\\right]\\right)$"
      ],
      "text/plain": [
       "⎛⎡0  -1⎤  ⎡0  -2⎤⎞\n",
       "⎜⎢     ⎥, ⎢     ⎥⎟\n",
       "⎝⎣2  0 ⎦  ⎣1  0 ⎦⎠"
      ]
     },
     "execution_count": 20,
     "metadata": {},
     "output_type": "execute_result"
    }
   ],
   "source": [
    "R = sp.Matrix([[1, 0], [0, 2]])\n",
    "Omega = sp.Matrix([[0, -1], [1, 0]])\n",
    "R@Omega, Omega@R"
   ]
  },
  {
   "cell_type": "markdown",
   "id": "ee3763d0",
   "metadata": {},
   "source": [
    "\n",
    "**Question 3**\n",
    "\n",
    "Clairement, une condition nécessaire est que $u$ et $u^\\star$ commutent, en effet si\n",
    "$$u=\\rho\\circ \\omega=\\omega\\circ \\rho\\quad\\text{alors}\\quad u^\\star\\circ u=\\rho^2=u\\circ u^\\star$$\n",
    "(*On dit que $u$ est un endomorphisme* normal).\n",
    "\n",
    "Si $u\\circ u^\\star=u^\\star\\circ u$, alors $\\boxed{\\rho=\\rho'}$ car $\\rho$ est l'unique racine carrée symétrique, définie, positive de $u\\circ u^\\star$ et $\\rho'$ est l'unique racine carrée symétrique, définie, positive de $u^\\star\\circ u$.\n",
    "\n",
    "On a donc maintenant\n",
    "$$\\omega = \\rho^{-1}\\circ u\\quad\\text{et}\\quad \\omega'=u\\circ \\rho^{-1}$$\n",
    "alors on obtient seulement\n",
    "$$\\omega'=\\rho\\circ\\omega\\circ\\rho^{-1}$$\n",
    "**La condition ne semble pas suffisante.**\n",
    "Nous manquons de connaissances pour finir cet exercice..."
   ]
  }
 ],
 "metadata": {
  "kernelspec": {
   "display_name": "Python 3 (ipykernel)",
   "language": "python",
   "name": "python3"
  },
  "language_info": {
   "codemirror_mode": {
    "name": "ipython",
    "version": 3
   },
   "file_extension": ".py",
   "mimetype": "text/x-python",
   "name": "python",
   "nbconvert_exporter": "python",
   "pygments_lexer": "ipython3",
   "version": "3.8.2"
  },
  "toc": {
   "base_numbering": 1,
   "nav_menu": {},
   "number_sections": true,
   "sideBar": true,
   "skip_h1_title": false,
   "title_cell": "Table of Contents",
   "title_sidebar": "Contents",
   "toc_cell": false,
   "toc_position": {},
   "toc_section_display": true,
   "toc_window_display": false
  }
 },
 "nbformat": 4,
 "nbformat_minor": 5
}

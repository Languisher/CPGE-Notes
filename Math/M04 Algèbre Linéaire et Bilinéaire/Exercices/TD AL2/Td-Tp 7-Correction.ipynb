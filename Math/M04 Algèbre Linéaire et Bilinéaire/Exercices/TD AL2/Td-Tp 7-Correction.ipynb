{
 "cells": [
  {
   "cell_type": "markdown",
   "id": "4b78780c",
   "metadata": {},
   "source": [
    "# Isométries de $\\mathbb{R}^3$"
   ]
  },
  {
   "cell_type": "markdown",
   "id": "927d5c1c",
   "metadata": {},
   "source": [
    "## Exercice"
   ]
  },
  {
   "cell_type": "markdown",
   "id": "8ac50e5c",
   "metadata": {},
   "source": [
    "On rappelle que, dans $\\mathbb{R}^3$, la rotation d'axe dirigé (et orienté) par le vecteur $\\underline{e}$, tel que $\\|\\underline{e}\\|=1$ et d'angle $\\theta\\in\\mathbb{R}$ est donnée par la formule\n",
    "$$r_{\\underline{e},\\theta}\\;:\\left\\{\\begin{array}{ccc} \\mathbb{R}^3&\\longrightarrow&\\mathbb{R}^3\\\\ \\underline{x}&\\longmapsto& \\left\\langle \\underline{e},\\underline{x}\\right\\rangle.\\underline{e}+\\cos(\\theta)\\,\\left(\\underline{x}-\\left\\langle \\underline{e},\\underline{x}\\right\\rangle.\\underline{e}\\right)+\\sin(\\theta).\\underline{e}\\wedge\\underline{x}\\end{array}\\right.$$\n",
    "1. Proposer un code `Python` d'une fonction prenant un vecteur $\\underline{u}\\in\\mathbb{R}^3\\setminus\\left\\{\\underline{0}\\right\\}$ et un scalaire $\\theta\\in\\mathbb{R}$ et produisant la matrice de la rotation d'axe dirigé par $\\underline{u}$ et d'angle $\\theta$ dans la base canonique.\n",
    "1. Trouver la matrice de la rotation d'axe dirigé par le vecteur $(1,-2,1)$ et d'angle $\\pi/3$ dans la base canonique."
   ]
  },
  {
   "cell_type": "code",
   "execution_count": 1,
   "id": "cd21ace6",
   "metadata": {
    "ExecuteTime": {
     "end_time": "2023-03-31T05:51:31.244075Z",
     "start_time": "2023-03-31T05:51:31.008537Z"
    }
   },
   "outputs": [],
   "source": [
    "import sympy as sp\n",
    "sp.init_printing()"
   ]
  },
  {
   "cell_type": "code",
   "execution_count": 2,
   "id": "88f39927",
   "metadata": {
    "ExecuteTime": {
     "end_time": "2023-03-31T05:51:31.248501Z",
     "start_time": "2023-03-31T05:51:31.245158Z"
    }
   },
   "outputs": [],
   "source": [
    "# Question 1\n",
    "def r(u, theta):\n",
    "    N = u.norm()\n",
    "    if not (N != 0 and u.shape == (3, 1)):\n",
    "        raise Exception(\"Les données sont mauvaises !\")\n",
    "    E = 1/N*u\n",
    "    R = sp.zeros(3, 3)\n",
    "    for j in range(3):\n",
    "        cj = sp.Matrix([int(i == j) for i in range(3)])\n",
    "        R[:, j] = E.dot(cj)*E+sp.cos(theta)*(cj-E.dot(cj)*E) + \\\n",
    "            sp.sin(theta)*E.cross(cj)\n",
    "    return R"
   ]
  },
  {
   "cell_type": "code",
   "execution_count": 3,
   "id": "ed661ff5",
   "metadata": {
    "ExecuteTime": {
     "end_time": "2023-03-31T05:51:31.686769Z",
     "start_time": "2023-03-31T05:51:31.249864Z"
    }
   },
   "outputs": [
    {
     "data": {
      "image/png": "[encoded data removed]",
      "text/latex": [
       "$\\displaystyle \\left[\\begin{matrix}\\frac{7}{12} & - \\frac{\\sqrt{2}}{4} - \\frac{1}{6} & \\frac{1}{12} - \\frac{\\sqrt{2}}{2}\\\\- \\frac{1}{6} + \\frac{\\sqrt{2}}{4} & \\frac{5}{6} & - \\frac{\\sqrt{2}}{4} - \\frac{1}{6}\\\\\\frac{1}{12} + \\frac{\\sqrt{2}}{2} & - \\frac{1}{6} + \\frac{\\sqrt{2}}{4} & \\frac{7}{12}\\end{matrix}\\right]$"
      ],
      "text/plain": [
       "⎡            √2   1  1    √2 ⎤\n",
       "⎢  7/12    - ── - ─  ── - ── ⎥\n",
       "⎢            4    6  12   2  ⎥\n",
       "⎢                            ⎥\n",
       "⎢  1   √2              √2   1⎥\n",
       "⎢- ─ + ──    5/6     - ── - ─⎥\n",
       "⎢  6   4               4    6⎥\n",
       "⎢                            ⎥\n",
       "⎢1    √2     1   √2          ⎥\n",
       "⎢── + ──   - ─ + ──    7/12  ⎥\n",
       "⎣12   2      6   4           ⎦"
      ]
     },
     "execution_count": 3,
     "metadata": {},
     "output_type": "execute_result"
    }
   ],
   "source": [
    "# Question 2\n",
    "r(sp.Matrix([1, -2, 1]), sp.pi/3)"
   ]
  },
  {
   "cell_type": "markdown",
   "id": "d8befec5",
   "metadata": {},
   "source": [
    "## Exercice"
   ]
  },
  {
   "cell_type": "markdown",
   "id": "c79f5acb",
   "metadata": {},
   "source": [
    "On appelle *rotation affine d'axe passant par un point $A$, dirigé par le vecteur $\\underline{e}\\in\\mathbb{R}^3$* ($\\|\\underline{e}\\|=1$) *et d'angle $\\theta\\in\\mathbb{R}$*, l'application affine qui laisse invariant $A$ et qui a pour application linéaire sous-jacente l'application $r_{\\underline{e},\\theta}$ défini au premier exercice. On la note $R_{A,\\underline{e},\\theta}$.\n",
    "1. Soit $M\\in\\mathbb{R}^3$, un point quelconque de $\\mathbb{R}^3$, écrire l'équation de\n",
    "$$R_{A,\\underline{e},\\theta}(M)$$\n",
    "1. Soit les rotations de $\\mathbb{R}^3$\n",
    "$$R_{(1,1,1),(1,0,0),\\pi/3}\\quad\\text{et}\\quad R_{(1,1,1),(0,1,0),\\pi/4}$$\n",
    "reconnaître la composée \n",
    "$$R_{O,(1,0,0),\\pi/3}\\circ R_{(1,1,1),(0,1,0),\\pi/4}$$\n",
    "2. Soit $A$, $A'$ deux points de $\\mathbb{R}^3$, $\\underline{e}$ et $\\underline{e}'$ deux vecteurs *unitaires* de $\\mathbb{R}^3$ et $\\theta$, $\\theta'$ deux réels, que dire de \n",
    "$$R_{A,\\underline{e},\\theta}\\circ R_{A',\\underline{e}',\\theta'}\\;?$$\n",
    "1. Soit les rotations de $\\mathbb{R}^3$\n",
    "$$R_{O,(1,0,0),\\pi/3}\\quad\\text{et}\\quad R_{(1,1,1),(0,1,0),\\pi/4}$$\n",
    "reconnaître la composée \n",
    "$$R_{O,(1,0,0),\\pi/3}\\circ R_{(1,1,1),(0,1,0),\\pi/4}$$"
   ]
  },
  {
   "cell_type": "markdown",
   "id": "a65c50f2",
   "metadata": {},
   "source": [
    "<div class=\"alert alert-info\">Pour simplifier les matrices, nous pourrons utiliser la fonction suivante.\n",
    "</div>"
   ]
  },
  {
   "cell_type": "code",
   "execution_count": 4,
   "id": "5cdc83e7",
   "metadata": {
    "ExecuteTime": {
     "end_time": "2023-03-31T05:51:31.691044Z",
     "start_time": "2023-03-31T05:51:31.688049Z"
    },
    "deletable": false,
    "editable": false
   },
   "outputs": [],
   "source": [
    "def mat_simp(M):\n",
    "    n, p = M.shape\n",
    "    for i in range(n):\n",
    "        for j in range(p):\n",
    "            M[i, j] = M[i, j].simplify().expand().simplify()\n",
    "    return M"
   ]
  },
  {
   "cell_type": "markdown",
   "id": "ce0ce142",
   "metadata": {},
   "source": [
    "**Question 1**\n",
    "\n",
    "On écrit $M=A+\\overrightarrow{AM}$, on a alors\n",
    "$$R_{A,\\underline{e},\\theta}(M)=R_{A,\\underline{e},\\theta}\\left(A+\\overrightarrow{AM}\\right)=A+r_{\\underline{e},\\theta}\\left(\\overrightarrow{AM}\\right)$$"
   ]
  },
  {
   "cell_type": "markdown",
   "id": "24a86ae4",
   "metadata": {},
   "source": [
    "**Question 2**\n",
    "\n",
    "Le point $\\Omega=(1,1,1)$ est fixe, on aurait intérêt à le prendre comme origine. Cela donne"
   ]
  },
  {
   "cell_type": "code",
   "execution_count": 5,
   "id": "20c2513c",
   "metadata": {
    "ExecuteTime": {
     "end_time": "2023-03-31T05:51:31.874913Z",
     "start_time": "2023-03-31T05:51:31.692288Z"
    }
   },
   "outputs": [],
   "source": [
    "x, y, z = sp.symbols('x y z', real=True)\n",
    "M = sp.Matrix([x, y, z])\n",
    "Omega = sp.Matrix([1, 1, 1])\n",
    "\n",
    "\n",
    "def R1(M):\n",
    "    return Omega+r(sp.Matrix([1, 0, 0]), sp.pi/3)@(M-Omega)\n",
    "\n",
    "\n",
    "def R2(M):\n",
    "    return Omega+r(sp.Matrix([0, 1, 0]), sp.pi/4)@(M-Omega)\n",
    "\n",
    "\n",
    "Mprime = mat_simp(R1(R2(M)))"
   ]
  },
  {
   "cell_type": "markdown",
   "id": "6081aa69",
   "metadata": {},
   "source": [
    "Pour étudier une application affine, on procède en deux temps\n",
    "1. on étudie la nature de l'application vectorielle sous-jacente ;\n",
    "1. puis, on cherche à savoir s'il y a un point fixe, où si il existe une translation qui intervient."
   ]
  },
  {
   "cell_type": "code",
   "execution_count": 6,
   "id": "05f17d03",
   "metadata": {
    "ExecuteTime": {
     "end_time": "2023-03-31T05:51:32.156417Z",
     "start_time": "2023-03-31T05:51:31.876010Z"
    },
    "scrolled": true
   },
   "outputs": [
    {
     "data": {
      "image/png": "[encoded data removed]",
      "text/latex": [
       "$\\displaystyle \\left[\\begin{matrix}\\frac{\\sqrt{2}}{2} & 0 & \\frac{\\sqrt{2}}{2}\\\\\\frac{\\sqrt{6}}{4} & \\frac{1}{2} & - \\frac{\\sqrt{6}}{4}\\\\- \\frac{\\sqrt{2}}{4} & \\frac{\\sqrt{3}}{2} & \\frac{\\sqrt{2}}{4}\\end{matrix}\\right]$"
      ],
      "text/plain": [
       "⎡ √2         √2 ⎤\n",
       "⎢ ──    0    ── ⎥\n",
       "⎢ 2          2  ⎥\n",
       "⎢               ⎥\n",
       "⎢ √6        -√6 ⎥\n",
       "⎢ ──   1/2  ────⎥\n",
       "⎢ 4          4  ⎥\n",
       "⎢               ⎥\n",
       "⎢-√2   √3    √2 ⎥\n",
       "⎢────  ──    ── ⎥\n",
       "⎣ 4    2     4  ⎦"
      ]
     },
     "execution_count": 6,
     "metadata": {},
     "output_type": "execute_result"
    }
   ],
   "source": [
    "# Étude de la partie vectorielle\n",
    "O = r(sp.Matrix([1, 0, 0]), sp.pi/3)@r(sp.Matrix([0, 1, 0]), sp.pi/4)\n",
    "O"
   ]
  },
  {
   "cell_type": "code",
   "execution_count": 7,
   "id": "de556c43",
   "metadata": {
    "ExecuteTime": {
     "end_time": "2023-03-31T05:51:32.537393Z",
     "start_time": "2023-03-31T05:51:32.158011Z"
    },
    "scrolled": true
   },
   "outputs": [
    {
     "data": {
      "image/png": "[encoded data removed]",
      "text/latex": [
       "$\\displaystyle \\left[ - \\operatorname{acos}{\\left(- \\frac{1}{4} + \\frac{3 \\sqrt{2}}{8} \\right)} + 2 \\pi, \\  \\operatorname{acos}{\\left(- \\frac{1}{4} + \\frac{3 \\sqrt{2}}{8} \\right)}\\right]$"
      ],
      "text/plain": [
       "⎡      ⎛  1   3⋅√2⎞            ⎛  1   3⋅√2⎞⎤\n",
       "⎢- acos⎜- ─ + ────⎟ + 2⋅π, acos⎜- ─ + ────⎟⎥\n",
       "⎣      ⎝  4    8  ⎠            ⎝  4    8  ⎠⎦"
      ]
     },
     "execution_count": 7,
     "metadata": {},
     "output_type": "execute_result"
    }
   ],
   "source": [
    "angles = sp.solve(sp.Eq(1+2*sp.cos(x), O.trace()), x)\n",
    "angles"
   ]
  },
  {
   "cell_type": "code",
   "execution_count": 8,
   "id": "57ce8b4f",
   "metadata": {
    "ExecuteTime": {
     "end_time": "2023-03-31T05:51:32.841077Z",
     "start_time": "2023-03-31T05:51:32.538864Z"
    },
    "scrolled": true
   },
   "outputs": [
    {
     "data": {
      "image/png": "[encoded data removed]",
      "text/latex": [
       "$\\displaystyle \\left[\\begin{matrix}\\frac{\\sqrt{6}}{8} + \\frac{\\sqrt{3}}{4}\\\\\\frac{3 \\sqrt{2}}{8}\\\\\\frac{\\sqrt{6}}{8}\\end{matrix}\\right]$"
      ],
      "text/plain": [
       "⎡√6   √3⎤\n",
       "⎢── + ──⎥\n",
       "⎢8    4 ⎥\n",
       "⎢       ⎥\n",
       "⎢ 3⋅√2  ⎥\n",
       "⎢ ────  ⎥\n",
       "⎢  8    ⎥\n",
       "⎢       ⎥\n",
       "⎢  √6   ⎥\n",
       "⎢  ──   ⎥\n",
       "⎣  8    ⎦"
      ]
     },
     "execution_count": 8,
     "metadata": {},
     "output_type": "execute_result"
    }
   ],
   "source": [
    "B = (O-O.transpose())/2\n",
    "sE = sp.Matrix([B[2, 1], B[0, 2], B[1, 0]])\n",
    "sE"
   ]
  },
  {
   "cell_type": "code",
   "execution_count": 9,
   "id": "11de8bc0",
   "metadata": {
    "ExecuteTime": {
     "end_time": "2023-03-31T05:51:33.225382Z",
     "start_time": "2023-03-31T05:51:32.844005Z"
    },
    "scrolled": true
   },
   "outputs": [
    {
     "data": {
      "image/png": "[encoded data removed]",
      "text/latex": [
       "$\\displaystyle \\left[\\begin{matrix}\\frac{1 + \\sqrt{2}}{\\sqrt{2 \\sqrt{2} + 7}}\\\\\\frac{\\sqrt{3}}{\\sqrt{2 \\sqrt{2} + 7}}\\\\\\frac{1}{\\sqrt{2 \\sqrt{2} + 7}}\\end{matrix}\\right]$"
      ],
      "text/plain": [
       "⎡   1 + √2   ⎤\n",
       "⎢────────────⎥\n",
       "⎢  __________⎥\n",
       "⎢╲╱ 2⋅√2 + 7 ⎥\n",
       "⎢            ⎥\n",
       "⎢     √3     ⎥\n",
       "⎢────────────⎥\n",
       "⎢  __________⎥\n",
       "⎢╲╱ 2⋅√2 + 7 ⎥\n",
       "⎢            ⎥\n",
       "⎢     1      ⎥\n",
       "⎢────────────⎥\n",
       "⎢  __________⎥\n",
       "⎣╲╱ 2⋅√2 + 7 ⎦"
      ]
     },
     "execution_count": 9,
     "metadata": {},
     "output_type": "execute_result"
    }
   ],
   "source": [
    "theta = angles[1]  # L'un des deux, cela importe peu\n",
    "E = sE/sp.sin(theta).simplify()  # Si on change d'angle, cela change le signe\n",
    "mat_simp(E)"
   ]
  },
  {
   "cell_type": "code",
   "execution_count": 10,
   "id": "9b0234e1",
   "metadata": {
    "ExecuteTime": {
     "end_time": "2023-03-31T05:51:35.810307Z",
     "start_time": "2023-03-31T05:51:33.227100Z"
    }
   },
   "outputs": [
    {
     "data": {
      "image/png": "[encoded data removed]",
      "text/latex": [
       "$\\displaystyle \\left[\\begin{matrix}0\\\\0\\\\0\\end{matrix}\\right]$"
      ],
      "text/plain": [
       "⎡0⎤\n",
       "⎢ ⎥\n",
       "⎢0⎥\n",
       "⎢ ⎥\n",
       "⎣0⎦"
      ]
     },
     "execution_count": 10,
     "metadata": {},
     "output_type": "execute_result"
    }
   ],
   "source": [
    "# On compare l'application initiale avec la rotation trouvée (angle theta et vecteur adapté)\n",
    "mat_simp(Omega+r(E, theta)@(M-Omega)-Mprime)"
   ]
  },
  {
   "cell_type": "markdown",
   "id": "5c1a1e10",
   "metadata": {},
   "source": [
    "C'est bien la rotation annoncée !"
   ]
  },
  {
   "cell_type": "markdown",
   "id": "9ab0d533",
   "metadata": {},
   "source": [
    "<div class=\"alert alert-info\">\n",
    "\n",
    "Soit $\\mathcal{E}$ un espace affine de direction $E$. Si on prend $A$ un point quelconque, en notant $\\phi$ une application affine et $\\overrightarrow{\\phi}$ l'application linéaire sous-jacente, on a\n",
    "$$\\forall M\\in \\mathcal{E},\\; \\phi(M)=\\phi(A)+\\overrightarrow{\\phi}\\left(\\overrightarrow{AM}\\right)$$\n",
    "On a donc toujours, pour $M\\in\\mathcal{E}$\n",
    "$$\\phi(M)=\\underbrace{\\left(A+\\overrightarrow{\\phi}\\left(\\overrightarrow{AM}\\right)\\right)}_{=\\text{application affine avec $A$ fixe}}+\\underbrace{\\overrightarrow{\\phi(A)\\,A}}_{=\\text{translation}}$$"
   ]
  },
  {
   "cell_type": "markdown",
   "id": "8f5416ef",
   "metadata": {},
   "source": [
    "**Question 3**\n",
    "\n",
    "On écrit, pour $M\\in\\mathbb{R}^3$\n",
    "$$R_{A,\\underline{e},\\theta}\\circ R_{A',\\underline{e}',\\theta'}(M)=A+r_{\\underline{e},\\theta}\\left(\\overrightarrow{AR_{A',\\underline{e}',\\theta'}(M)}\\right)=A+r_{\\underline{e},\\theta}\\left(\\overrightarrow{AA'}\\right)+r_{\\underline{e},\\theta}\\circ r_{\\underline{e'},\\theta'}\\left(\\overrightarrow{A'M}\\right)$$\n",
    "1. Si $r_{\\underline{e},\\theta}\\circ r_{\\underline{e'},\\theta'}=\\mathrm{id}_{_{\\mathbb{R}^3}}$, alors on a deux cas\n",
    "    1. Si $A+r_{\\underline{e},\\theta}\\left(\\overrightarrow{AA'}\\right)=A'$, on obtient l'identité de $\\mathbb{R}^3$.\n",
    "    1. Sinon, c'est une translation de vecteur $\\overrightarrow{A'A}+r_{\\underline{e},\\theta}\\left(\\overrightarrow{AA'}\\right)$.\n",
    "1. Si $r_{\\underline{e},\\theta}\\circ r_{\\underline{e'},\\theta'}$ est une symétrie orthogonale par rapport à une droite dirigée par un vecteur $\\overrightarrow{u}$, alors on a deux cas\n",
    "    1. Il y a un point fixe $\\Omega$, on obtient une symétrie orthogonale par rapport à la droite $\\left(\\Omega\\ ;\\overrightarrow{u}\\right)$.\n",
    "    1. Il n'y a pas de point fixe, il existe alors un point $\\Omega$ tel que $\\overrightarrow{\\Omega R_{A,\\underline{e},\\theta}\\circ R_{A',\\underline{e}',\\theta'}(\\Omega)}$ est colinéaire à $\\overrightarrow{u}$, c'est donc la composée de la symétrie orthogonale par rapport à la droite $\\left(\\Omega\\ ;\\overrightarrow{u}\\right)$ et de la translation de vecteur $\\overrightarrow{\\Omega R_{A,\\underline{e},\\theta}\\circ R_{A',\\underline{e}',\\theta'}(\\Omega)}$.\n",
    "1. Si $r_{\\underline{e},\\theta}\\circ r_{\\underline{e'},\\theta'}$ est une rotation d'axe dirigé par $\\overrightarrow{u}$ et d'angle $\\varphi$, on a encore deux cas\n",
    "    1. Il y a un point fixe $\\Omega$, on obtient une rotation d'axe $\\left(\\Omega\\ ;\\overrightarrow{u}\\right)$ et d'angle $\\varphi$.\n",
    "    1. Il n'y a pas de point fixe, il existe alors un point $\\Omega$ tel que $\\overrightarrow{\\Omega R_{A,\\underline{e},\\theta}\\circ R_{A',\\underline{e}',\\theta'}(\\Omega)}$ est colinéaire à $\\overrightarrow{u}$, c'est donc la composée de la rotation d'axe $\\left(\\Omega\\ ;\\overrightarrow{u}\\right)$ et d'angle $\\varphi$, avec une translation de vecteur  $\\overrightarrow{\\Omega R_{A,\\underline{e},\\theta}\\circ R_{A',\\underline{e}',\\theta'}(\\Omega)}$."
   ]
  },
  {
   "cell_type": "markdown",
   "id": "28da2552",
   "metadata": {},
   "source": [
    "**Question 4**\n",
    "\n",
    "Écrivons les deux équations."
   ]
  },
  {
   "cell_type": "code",
   "execution_count": 11,
   "id": "c44268bf",
   "metadata": {
    "ExecuteTime": {
     "end_time": "2023-03-31T05:51:36.131544Z",
     "start_time": "2023-03-31T05:51:35.811644Z"
    }
   },
   "outputs": [
    {
     "data": {
      "image/png": "[encoded data removed]",
      "text/latex": [
       "$\\displaystyle \\left[\\begin{matrix}\\frac{\\sqrt{2} \\left(x - 1\\right)}{2} + \\frac{\\sqrt{2} \\left(z - 1\\right)}{2} + 1\\\\\\frac{y}{2} - \\frac{\\sqrt{3} \\left(- \\frac{\\sqrt{2} \\left(x - 1\\right)}{2} + \\frac{\\sqrt{2} \\left(z - 1\\right)}{2} + 1\\right)}{2}\\\\\\frac{\\sqrt{3} y}{2} - \\frac{\\sqrt{2} \\left(x - 1\\right)}{4} + \\frac{\\sqrt{2} \\left(z - 1\\right)}{4} + \\frac{1}{2}\\end{matrix}\\right]$"
      ],
      "text/plain": [
       "⎡     √2⋅(x - 1)   √2⋅(z - 1)          ⎤\n",
       "⎢     ────────── + ────────── + 1      ⎥\n",
       "⎢         2            2               ⎥\n",
       "⎢                                      ⎥\n",
       "⎢       ⎛  √2⋅(x - 1)   √2⋅(z - 1)    ⎞⎥\n",
       "⎢    √3⋅⎜- ────────── + ────────── + 1⎟⎥\n",
       "⎢y      ⎝      2            2         ⎠⎥\n",
       "⎢─ - ──────────────────────────────────⎥\n",
       "⎢2                   2                 ⎥\n",
       "⎢                                      ⎥\n",
       "⎢  √3⋅y   √2⋅(x - 1)   √2⋅(z - 1)   1  ⎥\n",
       "⎢  ──── - ────────── + ────────── + ─  ⎥\n",
       "⎣   2         4            4        2  ⎦"
      ]
     },
     "execution_count": 11,
     "metadata": {},
     "output_type": "execute_result"
    }
   ],
   "source": [
    "def R1(M):\n",
    "    return (r(sp.Matrix([1, 0, 0]), sp.pi/3)@M)\n",
    "\n",
    "\n",
    "def R2(M):\n",
    "    A = sp.Matrix([1, 1, 1])\n",
    "    return (A+r(sp.Matrix([0, 1, 0]), sp.pi/4)@(M-A))\n",
    "\n",
    "\n",
    "Mprime = R1(R2(M))\n",
    "Mprime"
   ]
  },
  {
   "cell_type": "code",
   "execution_count": 12,
   "id": "c7de4213",
   "metadata": {
    "ExecuteTime": {
     "end_time": "2023-03-31T05:51:36.511858Z",
     "start_time": "2023-03-31T05:51:36.133111Z"
    }
   },
   "outputs": [
    {
     "data": {
      "image/png": "[encoded data removed]",
      "text/latex": [
       "$\\displaystyle \\left[ \\right]$"
      ],
      "text/plain": [
       "[]"
      ]
     },
     "execution_count": 12,
     "metadata": {},
     "output_type": "execute_result"
    }
   ],
   "source": [
    "# Il n'y a pas de point fixe\n",
    "sp.solve(Mprime-M, [x, y, z])"
   ]
  },
  {
   "cell_type": "code",
   "execution_count": 13,
   "id": "43911fea",
   "metadata": {
    "ExecuteTime": {
     "end_time": "2023-03-31T05:51:37.099696Z",
     "start_time": "2023-03-31T05:51:36.513218Z"
    }
   },
   "outputs": [
    {
     "data": {
      "image/png": "[encoded data removed]",
      "text/latex": [
       "$\\displaystyle \\left\\{ x : z \\left(1 + \\sqrt{2}\\right) - \\frac{15 \\sqrt{2}}{41} + \\frac{32}{41}, \\  y : \\sqrt{3} z - \\frac{28 \\sqrt{3}}{41} + \\frac{8 \\sqrt{6}}{41}\\right\\}$"
      ],
      "text/plain": [
       "⎧                15⋅√2   32            28⋅√3   8⋅√6⎫\n",
       "⎨x: z⋅(1 + √2) - ───── + ──, y: √3⋅z - ───── + ────⎬\n",
       "⎩                  41    41              41     41 ⎭"
      ]
     },
     "execution_count": 13,
     "metadata": {},
     "output_type": "execute_result"
    }
   ],
   "source": [
    "# Recherche de Omega. On exprime la colinéarité avec le produit vectoriel\n",
    "sp.solve((Mprime-M).cross(E), [x, y, z])"
   ]
  },
  {
   "cell_type": "code",
   "execution_count": 14,
   "id": "3aed6b89",
   "metadata": {
    "ExecuteTime": {
     "end_time": "2023-03-31T05:51:37.111217Z",
     "start_time": "2023-03-31T05:51:37.101309Z"
    }
   },
   "outputs": [],
   "source": [
    "# Choix d'un Omega (on prend n'importe quoi, cela ne change pas la translation car le vecteur reste constant)\n",
    "Omega = M.subs(_).subs({z: 0})\n",
    "OmegaPrime = Mprime.subs(_).subs({z: 0})"
   ]
  },
  {
   "cell_type": "code",
   "execution_count": 15,
   "id": "c48e65b1",
   "metadata": {
    "ExecuteTime": {
     "end_time": "2023-03-31T05:51:37.115248Z",
     "start_time": "2023-03-31T05:51:37.112474Z"
    }
   },
   "outputs": [],
   "source": [
    "# La translation\n",
    "tau = OmegaPrime-Omega"
   ]
  },
  {
   "cell_type": "code",
   "execution_count": 16,
   "id": "9dd854cb",
   "metadata": {
    "ExecuteTime": {
     "end_time": "2023-03-31T05:51:39.561184Z",
     "start_time": "2023-03-31T05:51:37.116423Z"
    }
   },
   "outputs": [
    {
     "data": {
      "image/png": "[encoded data removed]",
      "text/latex": [
       "$\\displaystyle \\left[\\begin{matrix}0\\\\0\\\\0\\end{matrix}\\right]$"
      ],
      "text/plain": [
       "⎡0⎤\n",
       "⎢ ⎥\n",
       "⎢0⎥\n",
       "⎢ ⎥\n",
       "⎣0⎦"
      ]
     },
     "execution_count": 16,
     "metadata": {},
     "output_type": "execute_result"
    }
   ],
   "source": [
    "# On compare l'application initiale avec la composée de la translation et de la rotation\n",
    "mat_simp(Omega+r(E, theta)@(M-Omega)+tau-Mprime)"
   ]
  },
  {
   "cell_type": "markdown",
   "id": "ebe9ad8d",
   "metadata": {},
   "source": [
    "## Exercice"
   ]
  },
  {
   "cell_type": "markdown",
   "id": "02fe3640",
   "metadata": {},
   "source": [
    "On rappelle la fonction du Td-Tp 6, qui nous produisait la matrice de la symétrie orthogonale par rapport à l'hyperplan orthogonal à $\\underline{u}$."
   ]
  },
  {
   "cell_type": "code",
   "execution_count": 17,
   "id": "076ce6ee",
   "metadata": {
    "ExecuteTime": {
     "end_time": "2023-03-31T05:51:39.566419Z",
     "start_time": "2023-03-31T05:51:39.562780Z"
    },
    "deletable": false,
    "editable": false
   },
   "outputs": [],
   "source": [
    "def mat(u):\n",
    "    n = len(u)\n",
    "    M = sp.zeros(n, n)\n",
    "    for j in range(n):\n",
    "        cj = sp.Matrix([int(i == j) for i in range(n)])\n",
    "        Mcj = cj-2*cj.dot(u)/u.norm()**2*u\n",
    "        for i in range(n):\n",
    "            M[i, j] = Mcj[i]\n",
    "    return M"
   ]
  },
  {
   "cell_type": "markdown",
   "id": "994eb871",
   "metadata": {},
   "source": [
    "**Décomposition $QR$.** Soit $A\\in\\mathrm{GL}_n\\left(\\mathbb{R}\\right)$, on va la mettre sous la forme $O\\cdot T$, où $O\\in \\mathrm{O}_n(\\mathbb{R})$ et $T\\in \\mathrm{T}_n^+(\\mathbb{R})$, avec\n",
    "$$\\forall i\\in\\{1,\\ldots,n\\},\\; T_{i,i}>0$$\n",
    "en utilisant l'algorithme suivant.\n",
    "- Si la première colonne de $A$ n'est pas de la forme $$\\begin{bmatrix} \\alpha\\\\ 0\\\\\\vdots\\\\0\\end{bmatrix}$$ avec $\\alpha>0$, on multiplie $A$ à gauche par une réflexion qui met la première colonne sous cette forme.\n",
    "- Si la première colonne de $A$ est de la forme ci-dessus et que la deuxième colonne est de la forme $$\\begin{bmatrix}\\beta\\\\\\gamma\\\\0\\\\\\vdots\\\\0\\end{bmatrix}$$ avec $\\gamma>0$, on multiplie $A$ à gauche par une réflexion qui met la deuxième colonne sous cette forme *sans toucher à la première colonne !*\n",
    "- etc.\n",
    "- On continue jusqu'à avoir traité toutes les colonnes, on a alors trouver des matrices de réflexion $S_1$, ..., $S_q$ telles que\n",
    "$$T=S_q\\cdot\\ldots\\cdot S_1\\cdot A\\in T_n^+(\\mathbb{R})$$\n",
    "et donc \n",
    "$$A= \\underbrace{S_1\\cdot\\ldots\\cdot S_q}_{=O}\\cdot T$$\n",
    "et $O\\in \\mathrm{O}_n(\\mathbb{R})$.\n",
    "\n",
    "1. Effectuer à la main l'algorithme sur une matrice \n",
    "$$A = \\begin{bmatrix}2&0&2&2\n",
    " \\cr 1&1&2&2\\cr 0&1&1&2\\cr 0&0&2&0\\cr \n",
    " \\end{bmatrix}$$\n",
    "1. Proposer une fonction qui automatise le calcul."
   ]
  },
  {
   "cell_type": "code",
   "execution_count": 18,
   "id": "05a7e87f",
   "metadata": {
    "ExecuteTime": {
     "end_time": "2023-03-31T05:51:39.867137Z",
     "start_time": "2023-03-31T05:51:39.567673Z"
    }
   },
   "outputs": [
    {
     "data": {
      "image/png": "[encoded data removed]",
      "text/latex": [
       "$\\displaystyle \\left[\\begin{matrix}2 & 0 & 2 & 2\\\\1 & 1 & 2 & 2\\\\0 & 1 & 1 & 2\\\\0 & 0 & 2 & 0\\end{matrix}\\right]$"
      ],
      "text/plain": [
       "⎡2  0  2  2⎤\n",
       "⎢          ⎥\n",
       "⎢1  1  2  2⎥\n",
       "⎢          ⎥\n",
       "⎢0  1  1  2⎥\n",
       "⎢          ⎥\n",
       "⎣0  0  2  0⎦"
      ]
     },
     "execution_count": 18,
     "metadata": {},
     "output_type": "execute_result"
    }
   ],
   "source": [
    "A = sp.Matrix([2, 0, 2, 2, 1, 1, 2, 2, 0, 1, 1, 2, 0, 0, 2, 0]).reshape(4, 4)\n",
    "A"
   ]
  },
  {
   "cell_type": "code",
   "execution_count": 19,
   "id": "acd510a6",
   "metadata": {
    "ExecuteTime": {
     "end_time": "2023-03-31T05:51:40.430956Z",
     "start_time": "2023-03-31T05:51:39.868332Z"
    }
   },
   "outputs": [
    {
     "data": {
      "image/png": "[encoded data removed]",
      "text/latex": [
       "$\\displaystyle \\left[\\begin{matrix}\\sqrt{5} & \\frac{\\sqrt{5}}{5} & \\frac{6 \\sqrt{5}}{5} & \\frac{6 \\sqrt{5}}{5}\\\\0 & - \\frac{2 \\sqrt{5}}{5} & - \\frac{2 \\sqrt{5}}{5} & - \\frac{2 \\sqrt{5}}{5}\\\\0 & 1 & 1 & 2\\\\0 & 0 & 2 & 0\\end{matrix}\\right]$"
      ],
      "text/plain": [
       "⎡      √5     6⋅√5    6⋅√5 ⎤\n",
       "⎢√5    ──     ────    ──── ⎥\n",
       "⎢      5       5       5   ⎥\n",
       "⎢                          ⎥\n",
       "⎢    -2⋅√5   -2⋅√5   -2⋅√5 ⎥\n",
       "⎢0   ──────  ──────  ──────⎥\n",
       "⎢      5       5       5   ⎥\n",
       "⎢                          ⎥\n",
       "⎢0     1       1       2   ⎥\n",
       "⎢                          ⎥\n",
       "⎣0     0       2       0   ⎦"
      ]
     },
     "execution_count": 19,
     "metadata": {},
     "output_type": "execute_result"
    }
   ],
   "source": [
    "# Première colonne : une simple réflexion\n",
    "S1 = mat(sp.Matrix([1, 0, 0, 0])-A[:, 0]/A[:, 0].norm())\n",
    "mat_simp(S1@A)"
   ]
  },
  {
   "cell_type": "markdown",
   "id": "0cf2a665",
   "metadata": {},
   "source": [
    "Pour trouver la *bonne* réflexion, il faut s'assurer qu'elle ne change pas le premier vecteur. Pour cela, on met la première composante à zéro. Regardons d'abord ce qui se passe si on oublie ce fait."
   ]
  },
  {
   "cell_type": "code",
   "execution_count": 20,
   "id": "319289a0",
   "metadata": {
    "ExecuteTime": {
     "end_time": "2023-03-31T05:51:41.312517Z",
     "start_time": "2023-03-31T05:51:40.432618Z"
    }
   },
   "outputs": [
    {
     "data": {
      "image/png": "[encoded data removed]",
      "text/latex": [
       "$\\displaystyle \\left[\\begin{matrix}\\frac{\\sqrt{2}}{6} + \\frac{5 \\sqrt{5}}{6} & 0 & \\frac{\\sqrt{2}}{6} + \\frac{5 \\sqrt{5}}{6} & \\frac{\\sqrt{2}}{3} + \\frac{2 \\sqrt{5}}{3}\\\\\\frac{\\sqrt{2}}{2} & \\sqrt{2} & \\frac{3 \\sqrt{2}}{2} & 2 \\sqrt{2}\\\\- \\frac{5}{6} + \\frac{\\sqrt{10}}{6} & 0 & - \\frac{5}{6} + \\frac{\\sqrt{10}}{6} & - \\frac{2}{3} + \\frac{\\sqrt{10}}{3}\\\\0 & 0 & 2 & 0\\end{matrix}\\right]$"
      ],
      "text/plain": [
       "⎡√2   5⋅√5      √2   5⋅√5  √2   2⋅√5⎤\n",
       "⎢── + ────  0   ── + ────  ── + ────⎥\n",
       "⎢6     6        6     6    3     3  ⎥\n",
       "⎢                                   ⎥\n",
       "⎢   √2            3⋅√2              ⎥\n",
       "⎢   ──      √2    ────       2⋅√2   ⎥\n",
       "⎢   2              2                ⎥\n",
       "⎢                                   ⎥\n",
       "⎢  5   √10        5   √10    2   √10⎥\n",
       "⎢- ─ + ───  0   - ─ + ───  - ─ + ───⎥\n",
       "⎢  6    6         6    6     3    3 ⎥\n",
       "⎢                                   ⎥\n",
       "⎣    0      0       2          0    ⎦"
      ]
     },
     "execution_count": 20,
     "metadata": {},
     "output_type": "execute_result"
    }
   ],
   "source": [
    "# Mauvaise technique\n",
    "B = _.copy()\n",
    "mat_simp(mat(sp.Matrix([0, 1, 0, 0])-B[:, 1]/B[:, 1].norm())@_)"
   ]
  },
  {
   "cell_type": "code",
   "execution_count": 21,
   "id": "b68c6acc",
   "metadata": {
    "ExecuteTime": {
     "end_time": "2023-03-31T05:51:41.651561Z",
     "start_time": "2023-03-31T05:51:41.314090Z"
    }
   },
   "outputs": [
    {
     "data": {
      "image/png": "[encoded data removed]",
      "text/latex": [
       "$\\displaystyle \\left[\\begin{matrix}\\sqrt{5} & \\frac{\\sqrt{5}}{5} & \\frac{6 \\sqrt{5}}{5} & \\frac{6 \\sqrt{5}}{5}\\\\0 & \\frac{3 \\sqrt{5}}{5} & \\frac{3 \\sqrt{5}}{5} & \\frac{14 \\sqrt{5}}{15}\\\\0 & 0 & 0 & \\frac{2}{3}\\\\0 & 0 & 2 & 0\\end{matrix}\\right]$"
      ],
      "text/plain": [
       "⎡     √5   6⋅√5  6⋅√5 ⎤\n",
       "⎢√5   ──   ────  ──── ⎥\n",
       "⎢     5     5     5   ⎥\n",
       "⎢                     ⎥\n",
       "⎢    3⋅√5  3⋅√5  14⋅√5⎥\n",
       "⎢0   ────  ────  ─────⎥\n",
       "⎢     5     5      15 ⎥\n",
       "⎢                     ⎥\n",
       "⎢0    0     0     2/3 ⎥\n",
       "⎢                     ⎥\n",
       "⎣0    0     2      0  ⎦"
      ]
     },
     "execution_count": 21,
     "metadata": {},
     "output_type": "execute_result"
    }
   ],
   "source": [
    "# Deuxième colonne\n",
    "B[0, 1] = 0\n",
    "S2 = mat(sp.Matrix([0, 1, 0, 0])-B[:, 1]/B[:, 1].norm())\n",
    "mat_simp(S2@Out[19])"
   ]
  },
  {
   "cell_type": "code",
   "execution_count": 22,
   "id": "99656f90",
   "metadata": {
    "ExecuteTime": {
     "end_time": "2023-03-31T05:51:41.991173Z",
     "start_time": "2023-03-31T05:51:41.653199Z"
    }
   },
   "outputs": [
    {
     "data": {
      "image/png": "[encoded data removed]",
      "text/latex": [
       "$\\displaystyle \\left[\\begin{matrix}\\sqrt{5} & \\frac{\\sqrt{5}}{5} & \\frac{6 \\sqrt{5}}{5} & \\frac{6 \\sqrt{5}}{5}\\\\0 & \\frac{3 \\sqrt{5}}{5} & \\frac{3 \\sqrt{5}}{5} & \\frac{14 \\sqrt{5}}{15}\\\\0 & 0 & 2 & 0\\\\0 & 0 & 0 & \\frac{2}{3}\\end{matrix}\\right]$"
      ],
      "text/plain": [
       "⎡     √5   6⋅√5  6⋅√5 ⎤\n",
       "⎢√5   ──   ────  ──── ⎥\n",
       "⎢     5     5     5   ⎥\n",
       "⎢                     ⎥\n",
       "⎢    3⋅√5  3⋅√5  14⋅√5⎥\n",
       "⎢0   ────  ────  ─────⎥\n",
       "⎢     5     5      15 ⎥\n",
       "⎢                     ⎥\n",
       "⎢0    0     2      0  ⎥\n",
       "⎢                     ⎥\n",
       "⎣0    0     0     2/3 ⎦"
      ]
     },
     "execution_count": 22,
     "metadata": {},
     "output_type": "execute_result"
    }
   ],
   "source": [
    "# Troisième colonne\n",
    "B = _.copy()\n",
    "B[0, 2], B[1, 2] = 0, 0  # Mettre toutes les coordonnées B[i, j] avec i<j à 0\n",
    "S3 = mat(sp.Matrix([0, 0, 1, 0])-B[:, 2]/B[:, 2].norm())\n",
    "mat_simp(S3@_)"
   ]
  },
  {
   "cell_type": "code",
   "execution_count": 23,
   "id": "15943aa5",
   "metadata": {
    "ExecuteTime": {
     "end_time": "2023-03-31T05:51:42.680950Z",
     "start_time": "2023-03-31T05:51:41.992819Z"
    }
   },
   "outputs": [
    {
     "data": {
      "image/png": "[encoded data removed]",
      "text/latex": [
       "$\\displaystyle \\left[\\begin{matrix}0 & 0 & 0 & 0\\\\0 & 0 & 0 & 0\\\\0 & 0 & 0 & 0\\\\0 & 0 & 0 & 0\\end{matrix}\\right]$"
      ],
      "text/plain": [
       "⎡0  0  0  0⎤\n",
       "⎢          ⎥\n",
       "⎢0  0  0  0⎥\n",
       "⎢          ⎥\n",
       "⎢0  0  0  0⎥\n",
       "⎢          ⎥\n",
       "⎣0  0  0  0⎦"
      ]
     },
     "execution_count": 23,
     "metadata": {},
     "output_type": "execute_result"
    }
   ],
   "source": [
    "# Vérification\n",
    "T = _\n",
    "mat_simp(S1@S2@S3@T-A)"
   ]
  },
  {
   "cell_type": "markdown",
   "id": "a08cc0e2",
   "metadata": {},
   "source": [
    "**Question 2**"
   ]
  },
  {
   "cell_type": "code",
   "execution_count": 24,
   "id": "a5286262",
   "metadata": {
    "ExecuteTime": {
     "end_time": "2023-03-31T05:51:42.686241Z",
     "start_time": "2023-03-31T05:51:42.682722Z"
    }
   },
   "outputs": [],
   "source": [
    "def DecompositionQR(A):\n",
    "    n, p = A.shape\n",
    "    if n != p or A.det() == 0:\n",
    "        raise Exception(\"Les données ne sont pas correctes\")\n",
    "    AA = A.copy()\n",
    "    O = sp.eye(n)\n",
    "    for i in range(n):\n",
    "        if not AA[i+1:, i].is_zero_matrix:\n",
    "            B = AA.copy()\n",
    "            for j in range(i):\n",
    "                B[j, i] = 0\n",
    "            Ci = sp.Matrix([int(k == i) for k in range(n)])\n",
    "            S = mat_simp(mat(Ci-B[:, i]/B[:, i].norm()))\n",
    "            O = S@O\n",
    "            AA = S@AA\n",
    "    return O.transpose(), AA"
   ]
  },
  {
   "cell_type": "code",
   "execution_count": 25,
   "id": "66bfd0cb",
   "metadata": {
    "ExecuteTime": {
     "end_time": "2023-03-31T05:51:43.108263Z",
     "start_time": "2023-03-31T05:51:42.687258Z"
    }
   },
   "outputs": [
    {
     "data": {
      "image/png": "[encoded data removed]",
      "text/latex": [
       "$\\displaystyle \\left( \\left[\\begin{matrix}\\frac{2 \\sqrt{5}}{5} & - \\frac{2 \\sqrt{5}}{15} & 0 & \\frac{1}{3}\\\\\\frac{\\sqrt{5}}{5} & \\frac{4 \\sqrt{5}}{15} & 0 & - \\frac{2}{3}\\\\0 & \\frac{\\sqrt{5}}{3} & 0 & \\frac{2}{3}\\\\0 & 0 & 1 & 0\\end{matrix}\\right], \\  \\left[\\begin{matrix}\\sqrt{5} & \\frac{\\sqrt{5}}{5} & \\frac{6 \\sqrt{5}}{5} & \\frac{6 \\sqrt{5}}{5}\\\\0 & \\frac{3 \\sqrt{5}}{5} & \\frac{3 \\sqrt{5}}{5} & \\frac{14 \\sqrt{5}}{15}\\\\0 & 0 & 2 & 0\\\\0 & 0 & 0 & \\frac{2}{3}\\end{matrix}\\right]\\right)$"
      ],
      "text/plain": [
       "⎛⎡2⋅√5  -2⋅√5          ⎤                         ⎞\n",
       "⎜⎢────  ──────  0  1/3 ⎥  ⎡     √5   6⋅√5  6⋅√5 ⎤⎟\n",
       "⎜⎢ 5      15           ⎥  ⎢√5   ──   ────  ──── ⎥⎟\n",
       "⎜⎢                     ⎥  ⎢     5     5     5   ⎥⎟\n",
       "⎜⎢ √5    4⋅√5          ⎥  ⎢                     ⎥⎟\n",
       "⎜⎢ ──    ────   0  -2/3⎥  ⎢    3⋅√5  3⋅√5  14⋅√5⎥⎟\n",
       "⎜⎢ 5      15           ⎥, ⎢0   ────  ────  ─────⎥⎟\n",
       "⎜⎢                     ⎥  ⎢     5     5      15 ⎥⎟\n",
       "⎜⎢        √5           ⎥  ⎢                     ⎥⎟\n",
       "⎜⎢ 0      ──    0  2/3 ⎥  ⎢0    0     2      0  ⎥⎟\n",
       "⎜⎢        3            ⎥  ⎢                     ⎥⎟\n",
       "⎜⎢                     ⎥  ⎣0    0     0     2/3 ⎦⎟\n",
       "⎝⎣ 0      0     1   0  ⎦                         ⎠"
      ]
     },
     "execution_count": 25,
     "metadata": {},
     "output_type": "execute_result"
    }
   ],
   "source": [
    "DecompositionQR(A)"
   ]
  },
  {
   "cell_type": "code",
   "execution_count": 26,
   "id": "313067ce",
   "metadata": {
    "ExecuteTime": {
     "end_time": "2023-03-31T05:51:43.113945Z",
     "start_time": "2023-03-31T05:51:43.109544Z"
    }
   },
   "outputs": [
    {
     "data": {
      "text/plain": [
       "True"
      ]
     },
     "execution_count": 26,
     "metadata": {},
     "output_type": "execute_result"
    }
   ],
   "source": [
    "# Vérifions\n",
    "(_[0]@_[1]-A).is_zero_matrix"
   ]
  },
  {
   "cell_type": "markdown",
   "id": "192fbdc4",
   "metadata": {},
   "source": [
    "## Exercice"
   ]
  },
  {
   "cell_type": "markdown",
   "id": "bfb87faf",
   "metadata": {},
   "source": [
    "Programmer une fonction qui prend une matrice dans $\\mathrm{O}_3(\\mathbb{R})$ nous donne sa nature\n",
    "- $\\pm I_3$ \n",
    "- symétrie orthogonale par rapport à (à préciser)\n",
    "- rotation d'axe (à préciser) et d'angle (à préciser)\n",
    "- opposée d'une rotation (à préciser)"
   ]
  },
  {
   "cell_type": "code",
   "execution_count": 27,
   "id": "8680536e",
   "metadata": {
    "ExecuteTime": {
     "end_time": "2023-03-31T05:51:43.118184Z",
     "start_time": "2023-03-31T05:51:43.116215Z"
    }
   },
   "outputs": [],
   "source": [
    "# Pour transformer le dictionnaire en équation\n",
    "def Dict2Eq(d):\n",
    "    eqs = []\n",
    "    for i in d.keys():\n",
    "        eqs.append(sp.Eq(i, d[i]))\n",
    "    return eqs"
   ]
  },
  {
   "cell_type": "code",
   "execution_count": 28,
   "id": "bfeb3df4",
   "metadata": {
    "ExecuteTime": {
     "end_time": "2023-03-31T05:51:43.123603Z",
     "start_time": "2023-03-31T05:51:43.119056Z"
    }
   },
   "outputs": [],
   "source": [
    "def nature(O):\n",
    "    if not (O.transpose()@O-sp.eye(3)).is_zero_matrix:\n",
    "        raise Exception(\"La matrice n'est pas orthogonale !\")\n",
    "    x, y, z = sp.symbols('x y z', real=True)\n",
    "    M = sp.Matrix([x, y, z])\n",
    "    tr = O.trace()\n",
    "    if tr == 3:\n",
    "        print(\"C'est l'identité\")\n",
    "    elif tr == -3:\n",
    "        print(\"C'est l'opposée de l'identité\")\n",
    "    elif tr == -1 and O.is_symmetric:\n",
    "        print(\"C'est une symétrie orthogonale par rapport à une droite\")\n",
    "        res = sp.solve(O@M+M, [x, y, z])\n",
    "        print(\"La droite est orthogonale au plan d'équation : \", end=\"\")\n",
    "        sp.pprint(Dict2Eq(res))\n",
    "    elif tr == 1 and O.is_symmetric:\n",
    "        print(\"C'est une réflexion\")\n",
    "        res = sp.solve(O@M-M, [x, y, z])\n",
    "        print(\"Le plan de réflexion a pour équation : \", end=\"\")\n",
    "        sp.pprint(Dict2Eq(res))\n",
    "    elif O.det() == 1:\n",
    "        print(\"C'est une rotation\")\n",
    "        theta = sp.solve(sp.Eq(1+2*sp.cos(x), O.trace()), x)[0]\n",
    "        A = (O-O.transpose())/2\n",
    "        E = sp.Matrix([A[2, 1], A[0, 2], A[1, 0]])\n",
    "        E = mat_simp(E/sp.sin(theta))\n",
    "        print(\"Le couple (vecteur directeur de l'axe, angle de la rotation) est : \")\n",
    "        sp.pprint((E, theta))\n",
    "    else:\n",
    "        print(\"C'est l'opposée d'une rotation.\\n\")\n",
    "        print(\"Étude de -O \")\n",
    "        nature(-O)"
   ]
  },
  {
   "cell_type": "code",
   "execution_count": 29,
   "id": "2dfd1e59",
   "metadata": {
    "ExecuteTime": {
     "end_time": "2023-03-31T05:51:43.302168Z",
     "start_time": "2023-03-31T05:51:43.124548Z"
    }
   },
   "outputs": [
    {
     "name": "stdout",
     "output_type": "stream",
     "text": [
      "C'est une rotation\n",
      "Le couple (vecteur directeur de l'axe, angle de la rotation) est : \n",
      "⎛⎡  -√2 - 1   ⎤                          ⎞\n",
      "⎜⎢────────────⎥                          ⎟\n",
      "⎜⎢  __________⎥                          ⎟\n",
      "⎜⎢╲╱ 2⋅√2 + 7 ⎥                          ⎟\n",
      "⎜⎢            ⎥                          ⎟\n",
      "⎜⎢    -√3     ⎥                          ⎟\n",
      "⎜⎢────────────⎥        ⎛  1   3⋅√2⎞      ⎟\n",
      "⎜⎢  __________⎥, - acos⎜- ─ + ────⎟ + 2⋅π⎟\n",
      "⎜⎢╲╱ 2⋅√2 + 7 ⎥        ⎝  4    8  ⎠      ⎟\n",
      "⎜⎢            ⎥                          ⎟\n",
      "⎜⎢    -1      ⎥                          ⎟\n",
      "⎜⎢────────────⎥                          ⎟\n",
      "⎜⎢  __________⎥                          ⎟\n",
      "⎝⎣╲╱ 2⋅√2 + 7 ⎦                          ⎠\n"
     ]
    }
   ],
   "source": [
    "nature(O)"
   ]
  },
  {
   "cell_type": "code",
   "execution_count": 30,
   "id": "3b8aca71",
   "metadata": {
    "ExecuteTime": {
     "end_time": "2023-03-31T05:51:43.316709Z",
     "start_time": "2023-03-31T05:51:43.303472Z"
    }
   },
   "outputs": [
    {
     "name": "stdout",
     "output_type": "stream",
     "text": [
      "C'est une réflexion\n",
      "Le plan de réflexion a pour équation : [x = -y - z]\n"
     ]
    }
   ],
   "source": [
    "A = mat(sp.Matrix([1, 1, 1]))\n",
    "nature(A)"
   ]
  },
  {
   "cell_type": "code",
   "execution_count": 31,
   "id": "88e58355",
   "metadata": {
    "ExecuteTime": {
     "end_time": "2023-03-31T05:51:43.325970Z",
     "start_time": "2023-03-31T05:51:43.317879Z"
    }
   },
   "outputs": [
    {
     "name": "stdout",
     "output_type": "stream",
     "text": [
      "C'est une symétrie orthogonale par rapport à une droite\n",
      "La droite est orthogonale au plan d'équation : [x = -y - z]\n"
     ]
    }
   ],
   "source": [
    "nature(-A)"
   ]
  },
  {
   "cell_type": "code",
   "execution_count": 32,
   "id": "f9b265a6",
   "metadata": {
    "ExecuteTime": {
     "end_time": "2023-03-31T05:51:43.456436Z",
     "start_time": "2023-03-31T05:51:43.327448Z"
    }
   },
   "outputs": [
    {
     "name": "stdout",
     "output_type": "stream",
     "text": [
      "C'est l'opposée d'une rotation.\n",
      "\n",
      "Étude de -O \n",
      "C'est une rotation\n",
      "Le couple (vecteur directeur de l'axe, angle de la rotation) est : \n",
      "⎛⎡  -√2 - 1   ⎤                          ⎞\n",
      "⎜⎢────────────⎥                          ⎟\n",
      "⎜⎢  __________⎥                          ⎟\n",
      "⎜⎢╲╱ 2⋅√2 + 7 ⎥                          ⎟\n",
      "⎜⎢            ⎥                          ⎟\n",
      "⎜⎢    -√3     ⎥                          ⎟\n",
      "⎜⎢────────────⎥        ⎛  1   3⋅√2⎞      ⎟\n",
      "⎜⎢  __________⎥, - acos⎜- ─ + ────⎟ + 2⋅π⎟\n",
      "⎜⎢╲╱ 2⋅√2 + 7 ⎥        ⎝  4    8  ⎠      ⎟\n",
      "⎜⎢            ⎥                          ⎟\n",
      "⎜⎢    -1      ⎥                          ⎟\n",
      "⎜⎢────────────⎥                          ⎟\n",
      "⎜⎢  __________⎥                          ⎟\n",
      "⎝⎣╲╱ 2⋅√2 + 7 ⎦                          ⎠\n"
     ]
    }
   ],
   "source": [
    "nature(-O)"
   ]
  }
 ],
 "metadata": {
  "kernelspec": {
   "display_name": "Python 3 (ipykernel)",
   "language": "python",
   "name": "python3"
  },
  "language_info": {
   "codemirror_mode": {
    "name": "ipython",
    "version": 3
   },
   "file_extension": ".py",
   "mimetype": "text/x-python",
   "name": "python",
   "nbconvert_exporter": "python",
   "pygments_lexer": "ipython3",
   "version": "3.8.2"
  },
  "toc": {
   "base_numbering": 1,
   "nav_menu": {},
   "number_sections": true,
   "sideBar": true,
   "skip_h1_title": false,
   "title_cell": "Table of Contents",
   "title_sidebar": "Contents",
   "toc_cell": false,
   "toc_position": {},
   "toc_section_display": true,
   "toc_window_display": false
  }
 },
 "nbformat": 4,
 "nbformat_minor": 5
}

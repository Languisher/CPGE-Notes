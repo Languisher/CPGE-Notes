{
 "cells": [
  {
   "cell_type": "markdown",
   "id": "2d9bb5fc",
   "metadata": {},
   "source": [
    "# Un peu de révisions sur la géométrie affine"
   ]
  },
  {
   "cell_type": "markdown",
   "id": "32ba0a2b",
   "metadata": {},
   "source": [
    "## Faisceaux d'hyperplans"
   ]
  },
  {
   "cell_type": "markdown",
   "id": "830fa84d",
   "metadata": {},
   "source": [
    "On se place dans $E=\\mathbb{R}^4$ et on considère les trois hyperplans affines définis par les équations suivantes\n",
    "$$\\begin{cases} (\\mathcal{H}_1)&x+2\\,y-z+t=3\\\\ (\\mathcal{H}_2)&2\\,x-y+3\\,z-2\\,t=5\\\\ (\\mathcal{H}_3)&2\\,x-2\\,y+3\\,z-t=-1\\end{cases}$$\n",
    "1. Donner une définition de $\\mathcal{H}_1$ sous la forme \n",
    "$$A_1+\\mathrm{Ker}\\left(\\varphi_1\\right)\\quad\\text{où } A_1\\in E\\text{ et } \\varphi_1\\in E^\\star$$\n",
    "puis sous la forme\n",
    "$$A_1+\\mathrm{Vect}\\left(\\left\\{\\overrightarrow{u_1},\\overrightarrow{u_2},\\overrightarrow{u_3}\\right\\}\\right)$$\n",
    "1. Montrer que les trois hyperplans se coupent suivant une droite $\\mathcal{D}$.\n",
    "1. Soit $\\mathcal{H}$ un hyperplan contenant $\\mathcal{H}_1\\cap \\mathcal{H}_2$, quelle forme a l'équation de $\\mathcal{H}$ ? Le montrer.\n",
    "1. Soit $\\mathcal{K}$ un hyperplan contenant $\\mathcal{D}$, quelle forme a l'équation de $\\mathcal{K}$ ? Le montrer.\n",
    "1. On suppose que $\\mathcal{K}$ contient aussi la droite passant par le point $(1,1,1,1)$ et dirigée par le vecteur $(1,-1,1,-1)$. Quelle peut être l'équation de $\\mathcal{K}$ ?"
   ]
  },
  {
   "cell_type": "markdown",
   "id": "987c6e1d",
   "metadata": {},
   "source": [
    "**Question 1**\n",
    "On peut prendre, par exemple\n",
    "$$A_1=(3,0,0,0)\\quad\\text{et}\\quad\\varphi_1\\;:\\;(x,y,z,t)\\longmapsto x+2\\,y-z+t$$\n",
    "Pour trouver les vecteurs $\\left(\\overrightarrow{u_1},\\overrightarrow{u_2},\\overrightarrow{u_3}\\right)$ il suffit de produire une base de $\\mathrm{Ker}(\\varphi_1)$ (qui, comme tout hyperplan est de codimension 1 donc, ici, de dimension 3). Par exemple\n",
    "$$\\overrightarrow{u_1}=(2,-1,0,0),\\quad \\overrightarrow{u_2}=(1,0,1,0),\\quad \\overrightarrow{u_3}=(1,0,0,-1)$$"
   ]
  },
  {
   "cell_type": "markdown",
   "id": "4c8047df",
   "metadata": {},
   "source": [
    "**Question 2** Il suffit de résoudre le système des 3 équations à 4 inconnues."
   ]
  },
  {
   "cell_type": "code",
   "execution_count": 1,
   "id": "900b24cf",
   "metadata": {
    "ExecuteTime": {
     "end_time": "2023-02-23T05:34:38.185235Z",
     "start_time": "2023-02-23T05:34:37.954153Z"
    }
   },
   "outputs": [],
   "source": [
    "import sympy as sp\n",
    "sp.init_printing()"
   ]
  },
  {
   "cell_type": "code",
   "execution_count": 2,
   "id": "330bf698",
   "metadata": {
    "ExecuteTime": {
     "end_time": "2023-02-23T05:34:38.628629Z",
     "start_time": "2023-02-23T05:34:38.186193Z"
    }
   },
   "outputs": [
    {
     "data": {
      "image/png": "[encoded data removed]",
      "text/latex": [
       "$\\displaystyle \\left\\{ x : - \\frac{6 t}{5} - \\frac{16}{5}, \\  y : t + 6, \\  z : \\frac{9 t}{5} + \\frac{29}{5}\\right\\}$"
      ],
      "text/plain": [
       "⎧     6⋅t   16               9⋅t   29⎫\n",
       "⎨x: - ─── - ──, y: t + 6, z: ─── + ──⎬\n",
       "⎩      5    5                 5    5 ⎭"
      ]
     },
     "execution_count": 2,
     "metadata": {},
     "output_type": "execute_result"
    }
   ],
   "source": [
    "x, y, z, t = sp.symbols('x y z t', real=True)\n",
    "sp.solve([sp.Eq(x+2*y-z+t, 3), sp.Eq(2*x-y+3*z-2*t, 5),\n",
    "         sp.Eq(2*x-2*y+3*z-t, -1)], [x, y, z, t])"
   ]
  },
  {
   "cell_type": "markdown",
   "id": "1ebc3c24",
   "metadata": {},
   "source": [
    "On a bien une droite $\\mathcal{D}$ paramétrée ici par $t$."
   ]
  },
  {
   "cell_type": "markdown",
   "id": "620790ab",
   "metadata": {},
   "source": [
    "**Question 3**\n",
    "$\\varphi_1$ et $\\varphi_2$ sont indépendantes (elles ne sont pas proportionnelles) où\n",
    "$$\\varphi_2\\;:\\;(x,y,z,t)\\longmapsto 2\\,x-y+3\\,z-2\\,t$$\n",
    "D'après le cours, il existe alors $\\theta\\in\\mathbb{R}$ tel que\n",
    "$$(\\mathcal{H})\\qquad\\qquad \\cos(\\theta)\\,\\left(x+2\\,y-z+t-3\\right)+\\sin(\\theta)\\,\\left(2\\,x-y+3\\,z-2\\,t\\right)=0$$\n",
    "ou il existe $(\\lambda,\\mu)\\in\\mathbb{R}^2\\setminus\\{(0,0)\\}$ tels que\n",
    "$$(\\mathcal{H})\\qquad\\qquad \\lambda\\,\\left(x+2\\,y-z+t-3\\right)+\\mu\\,\\left(2\\,x-y+3\\,z-2\\,t\\right)=0$$"
   ]
  },
  {
   "cell_type": "markdown",
   "id": "2c104070",
   "metadata": {},
   "source": [
    "**Question 4** Le théorème des faisceaux d'hyperplans nous permet de dire que si $\\mathcal{K}\\supset \\mathcal{D}=\\mathcal{H}_1\\cap\\mathcal{H}_2\\cap\\mathcal{H}_3$, alors il existe $(a,b,c)\\in\\mathbb{R}^3\\setminus\\{(0,0,0)\\}$ tels que\n",
    "$$(\\mathcal{K})\\qquad\\qquad a,(x+2\\,y-z+t-3)+b\\,(2\\,x-y+3\\,z-2\\,t-5)+c\\,(2\\,x-2\\,y+3\\,z-t+1)=0$$"
   ]
  },
  {
   "cell_type": "markdown",
   "id": "7a762ffd",
   "metadata": {},
   "source": [
    "**Question 5** Il suffit d'exprimer que le point donné est dans $\\mathcal{K}$ et que le vecteur dirigeant la droite donnée est bien dans la direction de $\\mathcal{K}$. "
   ]
  },
  {
   "cell_type": "code",
   "execution_count": 3,
   "id": "0b9b64c8",
   "metadata": {
    "ExecuteTime": {
     "end_time": "2023-02-23T05:34:38.934345Z",
     "start_time": "2023-02-23T05:34:38.630336Z"
    }
   },
   "outputs": [
    {
     "data": {
      "image/png": "[encoded data removed]",
      "text/latex": [
       "$\\displaystyle \\left\\{ a : \\frac{16 c}{3}, \\  b : c\\right\\}$"
      ],
      "text/plain": [
       "⎧   16⋅c      ⎫\n",
       "⎨a: ────, b: c⎬\n",
       "⎩    3        ⎭"
      ]
     },
     "execution_count": 3,
     "metadata": {},
     "output_type": "execute_result"
    }
   ],
   "source": [
    "a, b, c = sp.symbols('a b c', real=True)\n",
    "eq = a*(x+2*y-z+t-3)+b*(2*x-y+3*z-2*t-5)+c*(2*x-2*y+3*z-t+1)\n",
    "eq0 = a*(x+2*y-z+t)+b*(2*x-y+3*z-2*t)+c*(2*x-2*y+3*z-t)\n",
    "sp.solve([eq.subs({x: 1, y: 1, z: 1, t: 1}), eq0.subs(\n",
    "    {x: 1, y: -1, z: 1, t: -1})], [a, b, c])"
   ]
  },
  {
   "cell_type": "code",
   "execution_count": 4,
   "id": "f46b5442",
   "metadata": {
    "ExecuteTime": {
     "end_time": "2023-02-23T05:34:39.236955Z",
     "start_time": "2023-02-23T05:34:38.937697Z"
    }
   },
   "outputs": [
    {
     "data": {
      "image/png": "[encoded data removed]",
      "text/latex": [
       "$\\displaystyle 7 t + 28 x + 23 y + 2 z - 60 = 0$"
      ],
      "text/plain": [
       "7⋅t + 28⋅x + 23⋅y + 2⋅z - 60 = 0"
      ]
     },
     "execution_count": 4,
     "metadata": {},
     "output_type": "execute_result"
    }
   ],
   "source": [
    "# Équation de K\n",
    "sp.Eq(eq.subs(_).subs({c: 3}), 0)"
   ]
  },
  {
   "cell_type": "markdown",
   "id": "548d4171",
   "metadata": {},
   "source": [
    "## Applications affines"
   ]
  },
  {
   "cell_type": "markdown",
   "id": "663b23d8",
   "metadata": {},
   "source": [
    "Soit $\\mathcal{E}$ un espace affine de direction $E$, où $E$ est de dimension $n\\ge2$. Soit $\\phi$ une application affine de $\\mathcal{E}$ dans $\\mathcal{E}$, on note $\\overrightarrow{\\phi}$ son application linéaire sous-jacente. \n",
    "\n",
    "Soit <span style=\"color:red\">$p\\in\\mathbb{N}$, $n\\ge2$</span> et $(A_i)_{i\\in\\{1,\\ldots,p\\}}\\in\\mathcal{E}^p$ des points de $\\mathcal{E}$. On suppose que les vecteurs\n",
    "$$\\left(\\overrightarrow{A_1A_2},\\ldots,\\overrightarrow{A_1A_p}\\right) \\text{ sont indépendants}$$\n",
    "1. À quelle(s) condition(s), la donnée des points $\\left(\\phi\\left(A_i\\right)\\right)_{i\\in\\{1,\\ldots,p\\}}$ détermine-t-elle de manière unique l'application $\\phi$ ?\n",
    "1. On appelle *point fixe* de $\\phi$, tout point $A$ qui vérifie $\\phi(A)=A$. Et on note $\\mathrm{Fix}(\\phi)$ l'ensemble des points fixes de $\\phi$. Montrer que\n",
    "$$\\left[\\mathrm{Card}\\left(\\mathrm{Fix}(\\phi)\\right)=1\\right]\\iff\\left[\\forall \\overrightarrow{x}\\in E\\setminus\\left\\{\\overrightarrow{0}\\right\\},\\; \\overrightarrow{\\phi}\\left(\\overrightarrow{x}\\right)\\ne \\overrightarrow{x}\\right]$$\n",
    "1. Faire une fonction `Python` qui prend 6 points au hasard $(A_1,A_2,A_3,B_1,B_2,B_3)$ dans $[0,1]^2$ qui les trace sur un graphique et qui trace aussi l'unique point fixe (quand il existe et est unique) de l'application affine $\\phi$ (quand elle existe) qui vérifie\n",
    "$$\\forall k\\in\\left\\{1,2,3\\right\\},\\; \\phi(A_k)=B_k$$\n",
    "1. Déduire une construction géométrique du point fixe."
   ]
  },
  {
   "cell_type": "markdown",
   "id": "9844d579",
   "metadata": {},
   "source": [
    "**Question 1** Une application affine est déterminée par l'image d'un point (par exemple, ici $\\phi(A_1)$) et par la donnée de $\\overrightarrow{\\phi}$. $\\phi$ sera donc déterminée de manière unique si $\\overrightarrow{\\phi}$ l'est. Or, une application linéaire est déterminée de manière unique par la donnée de l'image d'une base. Comme on a \n",
    "$$\\forall k\\in\\{2,\\ldots,p\\},\\; \\phi(A_k)=\\phi(A_1)+\\overrightarrow{\\phi}\\left(\\overrightarrow{A_1A_k}\\right)$$\n",
    "$\\overrightarrow{\\phi}$ sera uniquement déterminée lorsque $\\left(\\overrightarrow{A_1A_2},\\ldots,\\overrightarrow{A_1A_p}\\right)$ sera une base de $E$. La condition demandée est donc\n",
    "$$\\boxed{p=n+1}$$"
   ]
  },
  {
   "cell_type": "markdown",
   "id": "42b8cb0e",
   "metadata": {},
   "source": [
    "**Question 2**\n",
    "- ($\\Rightarrow$) *Par contraposition*. Soit $\\overrightarrow{e}\\ne\\overrightarrow{0}$ tel que $\\phi\\left(\\overrightarrow{e}\\right)=\\overrightarrow{e}$. Deux cas peuvent alors se produire\n",
    "    - $\\mathrm{Fix}(\\phi)=\\emptyset$, auquel cas la propriété de gauche est fausse\n",
    "    - $\\mathrm{Fix}(\\phi)\\ne\\emptyset$, soit $A\\in\\mathrm{Fix}(\\phi)$, alors\n",
    "    $$\\phi\\left(A+\\overrightarrow{e}\\right)=\\phi(A)+\\overrightarrow{\\phi}\\left(\\overrightarrow{e}\\right)=A+\\overrightarrow{e}$$\n",
    "    donc $\\mathrm{Fix}(\\phi)$ a au moins eux éléments (si $\\mathbb{K}=\\mathbb{R}$ ou $\\mathbb{C}$, il y en a une infinité) ; la propriété de gauche est encore fausse.\n",
    "- ($\\Leftarrow$) Sous l'hypothèse donnée sur $\\overrightarrow{\\phi}$, on sait que $\\mathrm{Id}-\\overrightarrow{\\phi}$ est injective et, comme c'est un endomorphisme de $E$ et que $E$ est de dimension finie, il est inversible. Soit $A\\in\\mathcal{E}$ un point quelconque, $\\Omega$ est un point fixe si, et seulement si,\n",
    "$$\\Omega=\\phi(A)+\\overrightarrow{\\phi}\\left(\\overrightarrow{A\\Omega}\\right)$$\n",
    "Cette équation peut s'écrire\n",
    "$$\\left(\\mathrm{Id}_{_E}-\\overrightarrow{\\phi}\\right)\\left(\\overrightarrow{A\\Omega}\\right)=\\overrightarrow{A\\phi(A)}$$\n",
    "et donc\n",
    "$$\\Omega =A+\\left(\\mathrm{Id}_{_E}-\\overrightarrow{\\phi}\\right)^{-1}\\left(\\overrightarrow{A\\phi(A)}\\right)$$\n",
    "ce qui montre l'existence et l'unicité de $\\Omega$."
   ]
  },
  {
   "cell_type": "markdown",
   "id": "c5ee34f8",
   "metadata": {},
   "source": [
    "**Question 3** On a la relation\n",
    "$$\\forall k\\in\\{1,2,3\\},\\; \\phi(A_k)=B_k=\\phi(A_1)+\\overrightarrow{\\phi}\\left(\\overrightarrow{A_1A_k}\\right)=B_1+\\overrightarrow{\\phi}\\left(\\overrightarrow{A_1A_k}\\right)$$\n",
    "en notant les points $A_k$ sous la forme $(a_k,a'_k)$ et les points $B_k$ sous la forme $(b_k,b'k)$ et la matrice de $\\overrightarrow{\\phi}$ dans la base canonique \n",
    "$$\\begin{bmatrix} a&b\\\\ c&d\\end{bmatrix}$$\n",
    "On obtient les 4 équations\n",
    "$$\\forall k\\in\\{2,3\\},\\; \\begin{cases} &b_k=b_1+a\\,(a_k-a_1)+b\\,(a'_k-a'_1)\\\\\n",
    "&b'_k=b'_1+c\\,(a_k-a_1)+d\\,(a'_k-a'_1)\\end{cases}$$\n",
    "Pour trouver le point fixe (s'il existe), il suffit de résoudre alors\n",
    "$$\\begin{cases} &x=b_1+a\\,x+b\\,y\\\\ &y=b'_1+c\\,x+d\\,y\\end{cases}$$"
   ]
  },
  {
   "cell_type": "code",
   "execution_count": 5,
   "id": "4c761e59",
   "metadata": {
    "ExecuteTime": {
     "end_time": "2023-02-23T05:34:39.645206Z",
     "start_time": "2023-02-23T05:34:39.238247Z"
    }
   },
   "outputs": [],
   "source": [
    "from random import random\n",
    "import matplotlib.pyplot as plt"
   ]
  },
  {
   "cell_type": "code",
   "execution_count": 6,
   "id": "0e269b8a",
   "metadata": {
    "ExecuteTime": {
     "end_time": "2023-02-23T05:34:39.648898Z",
     "start_time": "2023-02-23T05:34:39.646399Z"
    }
   },
   "outputs": [],
   "source": [
    "A1 = (random(), random())\n",
    "A2 = (random(), random())\n",
    "A3 = (random(), random())\n",
    "B1 = (random(), random())\n",
    "B2 = (random(), random())\n",
    "B3 = (random(), random())"
   ]
  },
  {
   "cell_type": "code",
   "execution_count": 7,
   "id": "35f068f1",
   "metadata": {
    "ExecuteTime": {
     "end_time": "2023-02-23T05:34:40.127959Z",
     "start_time": "2023-02-23T05:34:39.650219Z"
    }
   },
   "outputs": [
    {
     "data": {
      "text/plain": [
       "Text(0.6862035796617535, 0.31703574866804834, '3')"
      ]
     },
     "execution_count": 7,
     "metadata": {},
     "output_type": "execute_result"
    },
    {
     "data": {
      "image/png": "[encoded data removed]",
      "text/plain": [
       "<Figure size 432x288 with 1 Axes>"
      ]
     },
     "metadata": {
      "needs_background": "light"
     },
     "output_type": "display_data"
    }
   ],
   "source": [
    "# Calcul de la matrice de ɸ\n",
    "d = sp.symbols('d', real=True)\n",
    "res = sp.solve([a*(A2[0]-A1[0])+b*(A2[1]-A1[1])+B1[0]-B2[0],\n",
    "                a*(A3[0]-A1[0])+b*(A3[1]-A1[1])+B1[0]-B3[0],\n",
    "                c*(A2[0]-A1[0])+d*(A2[1]-A1[1])+B1[1]-B2[1],\n",
    "                c*(A3[0]-A1[0])+d*(A3[1]-A1[1])+B1[1]-B3[1]],\n",
    "               [a, b, c, d])\n",
    "# Recherche du point fixe\n",
    "fixe = sp.solve([(a*(x-A1[0])+b*(y-A1[1])+B1[0]-x).subs(res),\n",
    "                 (c*(x-A1[0])+d*(y-A1[1])+B1[1]-y).subs(res)], [x, y])\n",
    "plt.scatter([x.subs(fixe)], [y.subs(fixe)], color='green', marker='*', s=100)\n",
    "# Les points A\n",
    "plt.scatter([A1[0], A2[0], A3[0]], [A1[1], A2[1], A3[1]], color='blue')\n",
    "delta = 0.05\n",
    "plt.text(A1[0], A1[1]-delta, '1')\n",
    "plt.text(A2[0], A2[1]-delta, '2')\n",
    "plt.text(A3[0], A3[1]-delta, '3')\n",
    "# Les points B\n",
    "plt.scatter([B1[0], B2[0], B3[0]], [B1[1], B2[1], B3[1]], color='red')\n",
    "plt.text(B1[0], B1[1]-delta, '1')\n",
    "plt.text(B2[0], B2[1]-delta, '2')\n",
    "plt.text(B3[0], B3[1]-delta, '3')"
   ]
  },
  {
   "cell_type": "markdown",
   "id": "924b72ff",
   "metadata": {},
   "source": [
    "**Question 4** Comme $\\left(\\overrightarrow{A_1A_2},\\overrightarrow{A_1A_3}\\right)$ est supposée être une base (sinon, on ne détermine pas bien $\\phi$), en notant $\\Omega$ le point fixe, il existe $(\\alpha,\\beta)\\in\\mathbb{R}^2$ tels que\n",
    "$$\\overrightarrow{A_1\\Omega}=\\alpha.\\overrightarrow{A_1A_2}+\\beta.\\overrightarrow{A_1A_3}$$\n",
    "ce qui, en appliquant $\\overrightarrow{\\phi}$ donne aussi\n",
    "$$\\overrightarrow{B_1\\Omega}=\\alpha.\\overrightarrow{B_1B_2}+\\beta.\\overrightarrow{B_1B_3}$$\n",
    "et, en soustrayant\n",
    "$$\\overrightarrow{A_1B_1}=\\alpha.\\left(\\overrightarrow{A_1A_2}-\\overrightarrow{B_1B_2}\\right)+\\beta.\\left(\\overrightarrow{A_1A_3}-\\overrightarrow{B_1B_3}\\right)$$\n",
    "Le principe de la construction est donc\n",
    "1. On décompose (à l'aide de projections) le vecteur $\\overrightarrow{A_1B_1}$ dans la base (pourquoi en est-ce une ?)\n",
    "$$\\left(\\overrightarrow{A_1A_2}-\\overrightarrow{B_1B_2},\\overrightarrow{A_1A_3}-\\overrightarrow{B_1B_3}\\right)$$\n",
    "1. À partir des vecteurs et à l'aide d'homothéties bien choisies on construit les vecteurs\n",
    "$$\\alpha.\\overrightarrow{A_1A_2}\\quad\\text{et}\\quad\\beta.\\overrightarrow{A_1A_3}$$\n",
    "1. On construit\n",
    "$$\\Omega=A_1+\\alpha.\\overrightarrow{A_1A_2}+\\beta.\\overrightarrow{A_1A_3}$$\n",
    "*Exercice* Faire la construction sur un outil du genre `Geogebra`."
   ]
  },
  {
   "cell_type": "markdown",
   "id": "fe3d2ce0",
   "metadata": {},
   "source": [
    "## Une application : le théorème de Feuerbach"
   ]
  },
  {
   "cell_type": "markdown",
   "id": "653e730d",
   "metadata": {},
   "source": [
    "Soit $ABC$ un vrai triangle de $\\mathbb{R}^2$ (muni de sa structure euclidienne). On note \n",
    "- $H$ l'orthocentre du triangle (point d'intersections des trois hauteurs)\n",
    "- $P$, $Q$ et $R$ les intersections des hauteurs avec le côté opposé\n",
    "- $U$, $V$ et $W$ les milieux des côtés du triangle\n",
    "- $J$, $K$ et $L$ les milieux des segments $[A,H]$, $[B,H]$ et $[C,H]$\n",
    "1. Montrer, par le calcul que ces neufs points sont sur un même cercle.\n",
    "1. Déduire du calcul une démonstration mathématique à l'aide de transformations affines bien choisies\n",
    "![Théorème de Feuerbach (ou des neuf points)](feuerbach-1.png)"
   ]
  },
  {
   "cell_type": "markdown",
   "id": "017ad9d2",
   "metadata": {},
   "source": [
    "**Question 1** Commençons par choisir un repère adapté au problème. Il doit être orthonormé puisqu'on mesure des distances (et on trace des cercles et on fait de l'orthogonalité, etc.). Par exemple\n",
    "$$A=(0,0),\\quad C=(a,0),\\quad B=(b,c)$$\n",
    "Et calculons simplement tous les points."
   ]
  },
  {
   "cell_type": "code",
   "execution_count": 8,
   "id": "69cd6dd3",
   "metadata": {
    "ExecuteTime": {
     "end_time": "2023-02-23T05:34:40.133159Z",
     "start_time": "2023-02-23T05:34:40.131052Z"
    }
   },
   "outputs": [],
   "source": [
    "A = (sp.S(0), sp.S(0))\n",
    "C = (a, sp.S(0))\n",
    "B = (b, c)"
   ]
  },
  {
   "cell_type": "code",
   "execution_count": 9,
   "id": "66d35c2c",
   "metadata": {
    "ExecuteTime": {
     "end_time": "2023-02-23T05:34:40.137857Z",
     "start_time": "2023-02-23T05:34:40.134585Z"
    }
   },
   "outputs": [],
   "source": [
    "U = ((B[0]+C[0])/2, (B[1]+C[1])/2)\n",
    "V = ((A[0]+C[0])/2, (A[1]+C[1])/2)\n",
    "W = ((B[0]+A[0])/2, (B[1]+A[1])/2)"
   ]
  },
  {
   "cell_type": "markdown",
   "id": "0b054b10",
   "metadata": {},
   "source": [
    "*Calcul de $H$* C'est l'intersection de deux hauteurs. On a immédiatement\n",
    "- la hauteur $(BH)$ a pour équation $x=b$\n",
    "- la hauteur $(AH)$ a pour équation $\\langle \\overrightarrow{AM}, \\overrightarrow{BC}\\rangle=0$ donc\n",
    "$$(a-b)\\,x-c\\,y=0$$"
   ]
  },
  {
   "cell_type": "code",
   "execution_count": 10,
   "id": "e428ad6b",
   "metadata": {
    "ExecuteTime": {
     "end_time": "2023-02-23T05:34:40.437379Z",
     "start_time": "2023-02-23T05:34:40.139270Z"
    }
   },
   "outputs": [
    {
     "data": {
      "image/png": "[encoded data removed]",
      "text/latex": [
       "$\\displaystyle \\left\\{ x : b, \\  y : \\frac{a b - b^{2}}{c}\\right\\}$"
      ],
      "text/plain": [
       "⎧                2⎫\n",
       "⎪         a⋅b - b ⎪\n",
       "⎨x: b, y: ────────⎬\n",
       "⎪            c    ⎪\n",
       "⎩                 ⎭"
      ]
     },
     "execution_count": 10,
     "metadata": {},
     "output_type": "execute_result"
    }
   ],
   "source": [
    "sp.solve([sp.Eq(x, b), sp.Eq((a-b)*x-c*y, 0)], [x, y])"
   ]
  },
  {
   "cell_type": "code",
   "execution_count": 11,
   "id": "155db6d0",
   "metadata": {
    "ExecuteTime": {
     "end_time": "2023-02-23T05:34:40.441590Z",
     "start_time": "2023-02-23T05:34:40.438876Z"
    }
   },
   "outputs": [],
   "source": [
    "H = (x.subs(_), y.subs(_))"
   ]
  },
  {
   "cell_type": "code",
   "execution_count": 12,
   "id": "c9cd1962",
   "metadata": {
    "ExecuteTime": {
     "end_time": "2023-02-23T05:34:40.446237Z",
     "start_time": "2023-02-23T05:34:40.442955Z"
    }
   },
   "outputs": [],
   "source": [
    "J = ((A[0]+H[0])/2, (A[1]+H[1])/2)\n",
    "K = ((B[0]+H[0])/2, (B[1]+H[1])/2)\n",
    "L = ((C[0]+H[0])/2, (C[1]+H[1])/2)"
   ]
  },
  {
   "cell_type": "markdown",
   "id": "f516b2e4",
   "metadata": {},
   "source": [
    "*Calculs de $P$, $Q$ et $R$* On calcule les intersections des droites $\\left(A;\\overrightarrow{AH}\\right)$, etc. avec leur côté opposé."
   ]
  },
  {
   "cell_type": "code",
   "execution_count": 13,
   "id": "80a67868",
   "metadata": {
    "ExecuteTime": {
     "end_time": "2023-02-23T05:34:40.455117Z",
     "start_time": "2023-02-23T05:34:40.447695Z"
    }
   },
   "outputs": [],
   "source": [
    "eqAB = sp.Eq(c*x-b*y, 0)\n",
    "eqAC = sp.Eq(y, 0)\n",
    "eqBC = sp.Eq(c*x+(a-b)*y, c*a)"
   ]
  },
  {
   "cell_type": "code",
   "execution_count": 14,
   "id": "b45652e2",
   "metadata": {
    "ExecuteTime": {
     "end_time": "2023-02-23T05:34:40.820996Z",
     "start_time": "2023-02-23T05:34:40.456417Z"
    }
   },
   "outputs": [
    {
     "data": {
      "image/png": "[encoded data removed]",
      "text/latex": [
       "$\\displaystyle \\left[ \\frac{a c^{2}}{b \\left(a^{2} - 2 a b + b^{2} + c^{2}\\right)}\\right]$"
      ],
      "text/plain": [
       "⎡             2          ⎤\n",
       "⎢          a⋅c           ⎥\n",
       "⎢────────────────────────⎥\n",
       "⎢  ⎛ 2            2    2⎞⎥\n",
       "⎣b⋅⎝a  - 2⋅a⋅b + b  + c ⎠⎦"
      ]
     },
     "execution_count": 14,
     "metadata": {},
     "output_type": "execute_result"
    }
   ],
   "source": [
    "P = (A[0]+t*(H[0]-A[0]), A[1]+t*(H[1]-A[1]))\n",
    "sp.solve(eqBC.subs({x: P[0], y: P[1]}), t)"
   ]
  },
  {
   "cell_type": "code",
   "execution_count": 15,
   "id": "d899dee4",
   "metadata": {
    "ExecuteTime": {
     "end_time": "2023-02-23T05:34:41.125148Z",
     "start_time": "2023-02-23T05:34:40.822293Z"
    }
   },
   "outputs": [
    {
     "data": {
      "image/png": "[encoded data removed]",
      "text/latex": [
       "$\\displaystyle \\left( \\frac{a c^{2}}{a^{2} - 2 a b + b^{2} + c^{2}}, \\  \\frac{a c \\left(a b - b^{2}\\right)}{b \\left(a^{2} - 2 a b + b^{2} + c^{2}\\right)}\\right)$"
      ],
      "text/plain": [
       "⎛           2                   ⎛       2⎞     ⎞\n",
       "⎜        a⋅c                a⋅c⋅⎝a⋅b - b ⎠     ⎟\n",
       "⎜────────────────────, ────────────────────────⎟\n",
       "⎜ 2            2    2    ⎛ 2            2    2⎞⎟\n",
       "⎝a  - 2⋅a⋅b + b  + c   b⋅⎝a  - 2⋅a⋅b + b  + c ⎠⎠"
      ]
     },
     "execution_count": 15,
     "metadata": {},
     "output_type": "execute_result"
    }
   ],
   "source": [
    "P = (P[0].subs({t: _[0]}), P[1].subs({t: _[0]}))\n",
    "P"
   ]
  },
  {
   "cell_type": "code",
   "execution_count": 16,
   "id": "d15c58ca",
   "metadata": {
    "ExecuteTime": {
     "end_time": "2023-02-23T05:34:41.453229Z",
     "start_time": "2023-02-23T05:34:41.126875Z"
    }
   },
   "outputs": [
    {
     "data": {
      "image/png": "[encoded data removed]",
      "text/latex": [
       "$\\displaystyle \\left[ \\frac{c^{2}}{- a b + b^{2} + c^{2}}\\right]$"
      ],
      "text/plain": [
       "⎡       2      ⎤\n",
       "⎢      c       ⎥\n",
       "⎢──────────────⎥\n",
       "⎢        2    2⎥\n",
       "⎣-a⋅b + b  + c ⎦"
      ]
     },
     "execution_count": 16,
     "metadata": {},
     "output_type": "execute_result"
    }
   ],
   "source": [
    "Q = (B[0]+t*(H[0]-B[0]), B[1]+t*(H[1]-B[1]))\n",
    "sp.solve(eqAC.subs({x: Q[0], y: Q[1]}), t)"
   ]
  },
  {
   "cell_type": "code",
   "execution_count": 17,
   "id": "21fefb67",
   "metadata": {
    "ExecuteTime": {
     "end_time": "2023-02-23T05:34:41.754061Z",
     "start_time": "2023-02-23T05:34:41.454783Z"
    }
   },
   "outputs": [
    {
     "data": {
      "image/png": "[encoded data removed]",
      "text/latex": [
       "$\\displaystyle \\left( b, \\  \\frac{c^{2} \\left(- c + \\frac{a b - b^{2}}{c}\\right)}{- a b + b^{2} + c^{2}} + c\\right)$"
      ],
      "text/plain": [
       "⎛      ⎛            2⎞    ⎞\n",
       "⎜    2 ⎜     a⋅b - b ⎟    ⎟\n",
       "⎜   c ⋅⎜-c + ────────⎟    ⎟\n",
       "⎜      ⎝        c    ⎠    ⎟\n",
       "⎜b, ────────────────── + c⎟\n",
       "⎜             2    2      ⎟\n",
       "⎝     -a⋅b + b  + c       ⎠"
      ]
     },
     "execution_count": 17,
     "metadata": {},
     "output_type": "execute_result"
    }
   ],
   "source": [
    "Q = (Q[0].subs({t: _[0]}), Q[1].subs({t: _[0]}))\n",
    "Q"
   ]
  },
  {
   "cell_type": "code",
   "execution_count": 18,
   "id": "283f6e88",
   "metadata": {
    "ExecuteTime": {
     "end_time": "2023-02-23T05:34:42.089538Z",
     "start_time": "2023-02-23T05:34:41.755205Z"
    }
   },
   "outputs": [
    {
     "data": {
      "image/png": "[encoded data removed]",
      "text/latex": [
       "$\\displaystyle \\left[ \\frac{a c^{2}}{a b^{2} + a c^{2} - b^{3} - b c^{2}}\\right]$"
      ],
      "text/plain": [
       "⎡             2         ⎤\n",
       "⎢          a⋅c          ⎥\n",
       "⎢───────────────────────⎥\n",
       "⎢   2      2    3      2⎥\n",
       "⎣a⋅b  + a⋅c  - b  - b⋅c ⎦"
      ]
     },
     "execution_count": 18,
     "metadata": {},
     "output_type": "execute_result"
    }
   ],
   "source": [
    "R = (C[0]+t*(H[0]-C[0]), C[1]+t*(H[1]-C[1]))\n",
    "sp.solve(eqAB.subs({x: R[0], y: R[1]}), t)"
   ]
  },
  {
   "cell_type": "code",
   "execution_count": 19,
   "id": "09774453",
   "metadata": {
    "ExecuteTime": {
     "end_time": "2023-02-23T05:34:42.384756Z",
     "start_time": "2023-02-23T05:34:42.090914Z"
    }
   },
   "outputs": [
    {
     "data": {
      "image/png": "[encoded data removed]",
      "text/latex": [
       "$\\displaystyle \\left( \\frac{a c^{2} \\left(- a + b\\right)}{a b^{2} + a c^{2} - b^{3} - b c^{2}} + a, \\  \\frac{a c \\left(a b - b^{2}\\right)}{a b^{2} + a c^{2} - b^{3} - b c^{2}}\\right)$"
      ],
      "text/plain": [
       "⎛        2                             ⎛       2⎞    ⎞\n",
       "⎜     a⋅c ⋅(-a + b)                a⋅c⋅⎝a⋅b - b ⎠    ⎟\n",
       "⎜─────────────────────── + a, ───────────────────────⎟\n",
       "⎜   2      2    3      2         2      2    3      2⎟\n",
       "⎝a⋅b  + a⋅c  - b  - b⋅c       a⋅b  + a⋅c  - b  - b⋅c ⎠"
      ]
     },
     "execution_count": 19,
     "metadata": {},
     "output_type": "execute_result"
    }
   ],
   "source": [
    "R = (R[0].subs({t: _[0]}), R[1].subs({t: _[0]}))\n",
    "R"
   ]
  },
  {
   "cell_type": "markdown",
   "id": "5910a723",
   "metadata": {},
   "source": [
    "Il reste à tester que ces neuf points sont sur un même cercle."
   ]
  },
  {
   "cell_type": "code",
   "execution_count": 20,
   "id": "872483ea",
   "metadata": {
    "ExecuteTime": {
     "end_time": "2023-02-23T05:34:42.390029Z",
     "start_time": "2023-02-23T05:34:42.386209Z"
    }
   },
   "outputs": [],
   "source": [
    "alpha = sp.IndexedBase('\\\\alpha')\n",
    "Cercle = x**2+y**2+alpha[0]*x+alpha[1]*y+alpha[2]"
   ]
  },
  {
   "cell_type": "code",
   "execution_count": 21,
   "id": "ed2ef480",
   "metadata": {
    "ExecuteTime": {
     "end_time": "2023-02-23T05:34:42.736684Z",
     "start_time": "2023-02-23T05:34:42.390998Z"
    }
   },
   "outputs": [
    {
     "data": {
      "image/png": "[encoded data removed]",
      "text/latex": [
       "$\\displaystyle \\left\\{ {\\alpha}_{0} : - \\frac{a}{2} - b, \\  {\\alpha}_{1} : \\frac{- a b + b^{2} - c^{2}}{2 c}, \\  {\\alpha}_{2} : \\frac{a b}{2}\\right\\}$"
      ],
      "text/plain": [
       "⎧                                       2    2                ⎫\n",
       "⎪             a                 -a⋅b + b  - c              a⋅b⎪\n",
       "⎨\\alpha[0]: - ─ - b, \\alpha[1]: ──────────────, \\alpha[2]: ───⎬\n",
       "⎪             2                      2⋅c                    2 ⎪\n",
       "⎩                                                             ⎭"
      ]
     },
     "execution_count": 21,
     "metadata": {},
     "output_type": "execute_result"
    }
   ],
   "source": [
    "sp.solve([Cercle.subs({x: U[0], y: U[1]}),\n",
    "         Cercle.subs({x: V[0], y: V[1]}),\n",
    "         Cercle.subs({x: W[0], y: W[1]})], [alpha[0], alpha[1], alpha[2]])"
   ]
  },
  {
   "cell_type": "code",
   "execution_count": 22,
   "id": "138deed1",
   "metadata": {
    "ExecuteTime": {
     "end_time": "2023-02-23T05:34:42.743128Z",
     "start_time": "2023-02-23T05:34:42.738048Z"
    }
   },
   "outputs": [],
   "source": [
    "C0 = Cercle.subs(_)"
   ]
  },
  {
   "cell_type": "code",
   "execution_count": 23,
   "id": "49c992a8",
   "metadata": {
    "ExecuteTime": {
     "end_time": "2023-02-23T05:34:43.111511Z",
     "start_time": "2023-02-23T05:34:42.744289Z"
    }
   },
   "outputs": [
    {
     "data": {
      "image/png": "[encoded data removed]",
      "text/latex": [
       "$\\displaystyle \\left( 0, \\  0, \\  0\\right)$"
      ],
      "text/plain": [
       "(0, 0, 0)"
      ]
     },
     "execution_count": 23,
     "metadata": {},
     "output_type": "execute_result"
    }
   ],
   "source": [
    "C0.subs({x: J[0], y: J[1]}).simplify(), C0.subs(\n",
    "    {x: K[0], y: K[1]}).simplify(), C0.subs({x: L[0], y: L[1]}).simplify()"
   ]
  },
  {
   "cell_type": "code",
   "execution_count": 24,
   "id": "2797f616",
   "metadata": {
    "ExecuteTime": {
     "end_time": "2023-02-23T05:34:43.617542Z",
     "start_time": "2023-02-23T05:34:43.112930Z"
    }
   },
   "outputs": [
    {
     "data": {
      "image/png": "[encoded data removed]",
      "text/latex": [
       "$\\displaystyle \\left( 0, \\  0, \\  0\\right)$"
      ],
      "text/plain": [
       "(0, 0, 0)"
      ]
     },
     "execution_count": 24,
     "metadata": {},
     "output_type": "execute_result"
    }
   ],
   "source": [
    "C0.subs({x: P[0], y: P[1]}).simplify(), C0.subs(\n",
    "    {x: Q[0], y: Q[1]}).simplify(), C0.subs({x: R[0], y: R[1]}).simplify()"
   ]
  },
  {
   "cell_type": "markdown",
   "id": "2ffcbeec",
   "metadata": {},
   "source": [
    "**Question 2** Pour démontrer la propriété, calculons simplement le centre $\\Omega$ de ce cercle."
   ]
  },
  {
   "cell_type": "code",
   "execution_count": 25,
   "id": "c3f01005",
   "metadata": {
    "ExecuteTime": {
     "end_time": "2023-02-23T05:34:43.910255Z",
     "start_time": "2023-02-23T05:34:43.619010Z"
    }
   },
   "outputs": [
    {
     "data": {
      "image/png": "[encoded data removed]",
      "text/latex": [
       "$\\displaystyle \\frac{a b}{2} + x^{2} + x \\left(- \\frac{a}{2} - b\\right) + y^{2} + \\frac{y \\left(- a b + b^{2} - c^{2}\\right)}{2 c}$"
      ],
      "text/plain": [
       "                                ⎛        2    2⎞\n",
       "a⋅b    2     ⎛  a    ⎞    2   y⋅⎝-a⋅b + b  - c ⎠\n",
       "─── + x  + x⋅⎜- ─ - b⎟ + y  + ──────────────────\n",
       " 2           ⎝  2    ⎠               2⋅c        "
      ]
     },
     "execution_count": 25,
     "metadata": {},
     "output_type": "execute_result"
    }
   ],
   "source": [
    "C0"
   ]
  },
  {
   "cell_type": "code",
   "execution_count": 26,
   "id": "ed639587",
   "metadata": {
    "ExecuteTime": {
     "end_time": "2023-02-23T05:34:44.201635Z",
     "start_time": "2023-02-23T05:34:43.913062Z"
    }
   },
   "outputs": [
    {
     "data": {
      "image/png": "[encoded data removed]",
      "text/latex": [
       "$\\displaystyle \\left( \\frac{a}{4} + \\frac{b}{2}, \\  - \\frac{- a b + b^{2} - c^{2}}{4 c}\\right)$"
      ],
      "text/plain": [
       "⎛        ⎛        2    2⎞ ⎞\n",
       "⎜a   b  -⎝-a⋅b + b  - c ⎠ ⎟\n",
       "⎜─ + ─, ──────────────────⎟\n",
       "⎝4   2         4⋅c        ⎠"
      ]
     },
     "execution_count": 26,
     "metadata": {},
     "output_type": "execute_result"
    }
   ],
   "source": [
    "Omega = (-_.coeff(x)/2, -_.coeff(y)/2)\n",
    "Omega"
   ]
  },
  {
   "cell_type": "code",
   "execution_count": 27,
   "id": "efbd97df",
   "metadata": {
    "ExecuteTime": {
     "end_time": "2023-02-23T05:34:44.502784Z",
     "start_time": "2023-02-23T05:34:44.203277Z"
    }
   },
   "outputs": [
    {
     "data": {
      "image/png": "[encoded data removed]",
      "text/latex": [
       "$\\displaystyle \\left( \\frac{a}{3} + \\frac{b}{3}, \\  \\frac{c}{3}\\right)$"
      ],
      "text/plain": [
       "⎛a   b  c⎞\n",
       "⎜─ + ─, ─⎟\n",
       "⎝3   3  3⎠"
      ]
     },
     "execution_count": 27,
     "metadata": {},
     "output_type": "execute_result"
    }
   ],
   "source": [
    "G = ((A[0]+B[0]+C[0])/3, (A[1]+B[1]+C[1])/3)\n",
    "G"
   ]
  },
  {
   "cell_type": "code",
   "execution_count": 28,
   "id": "6f320590",
   "metadata": {
    "ExecuteTime": {
     "end_time": "2023-02-23T05:34:44.845373Z",
     "start_time": "2023-02-23T05:34:44.504386Z"
    }
   },
   "outputs": [
    {
     "data": {
      "image/png": "[encoded data removed]",
      "text/latex": [
       "$\\displaystyle \\left\\{ x : \\frac{a}{2}, \\  y : \\frac{- a b + b^{2} + c^{2}}{2 c}\\right\\}$"
      ],
      "text/plain": [
       "⎧                 2    2⎫\n",
       "⎪   a     -a⋅b + b  + c ⎪\n",
       "⎨x: ─, y: ──────────────⎬\n",
       "⎪   2          2⋅c      ⎪\n",
       "⎩                       ⎭"
      ]
     },
     "execution_count": 28,
     "metadata": {},
     "output_type": "execute_result"
    }
   ],
   "source": [
    "sp.solve([sp.Eq(x, V[0]), sp.Eq(x*(C[0]-B[0])+y*(C[1]-B[1]),\n",
    "         (x*(C[0]-B[0])+y*(C[1]-B[1])).subs({x: U[0], y: U[1]}))], [x, y])"
   ]
  },
  {
   "cell_type": "code",
   "execution_count": 29,
   "id": "575357a0",
   "metadata": {
    "ExecuteTime": {
     "end_time": "2023-02-23T05:34:45.163207Z",
     "start_time": "2023-02-23T05:34:44.846555Z"
    }
   },
   "outputs": [
    {
     "data": {
      "image/png": "[encoded data removed]",
      "text/latex": [
       "$\\displaystyle \\left( \\frac{a}{2}, \\  \\frac{- a b + b^{2} + c^{2}}{2 c}\\right)$"
      ],
      "text/plain": [
       "⎛           2    2⎞\n",
       "⎜a  -a⋅b + b  + c ⎟\n",
       "⎜─, ──────────────⎟\n",
       "⎝2       2⋅c      ⎠"
      ]
     },
     "execution_count": 29,
     "metadata": {},
     "output_type": "execute_result"
    }
   ],
   "source": [
    "I = (x.subs(_), y.subs(_))\n",
    "I"
   ]
  },
  {
   "cell_type": "code",
   "execution_count": 30,
   "id": "53b6fb29",
   "metadata": {
    "ExecuteTime": {
     "end_time": "2023-02-23T05:34:45.167732Z",
     "start_time": "2023-02-23T05:34:45.164518Z"
    }
   },
   "outputs": [],
   "source": [
    "eqdte = alpha[0]*x+alpha[1]*y+alpha[2]"
   ]
  },
  {
   "cell_type": "code",
   "execution_count": 31,
   "id": "e9db2df3",
   "metadata": {
    "ExecuteTime": {
     "end_time": "2023-02-23T05:34:45.524109Z",
     "start_time": "2023-02-23T05:34:45.169317Z"
    }
   },
   "outputs": [
    {
     "data": {
      "image/png": "[encoded data removed]",
      "text/latex": [
       "$\\displaystyle \\left\\{ {\\alpha}_{0} : \\frac{\\left(- 3 a b + 3 b^{2} + c^{2}\\right) {\\alpha}_{2}}{a^{2} b - b^{3} - b c^{2}}, \\  {\\alpha}_{1} : \\frac{\\left(- a c + 2 b c\\right) {\\alpha}_{2}}{a^{2} b - b^{3} - b c^{2}}\\right\\}$"
      ],
      "text/plain": [
       "⎧           ⎛            2    2⎞                                              \n",
       "⎪           ⎝-3⋅a⋅b + 3⋅b  + c ⎠⋅\\alpha[2]             (-a⋅c + 2⋅b⋅c)⋅\\alpha[2\n",
       "⎨\\alpha[0]: ──────────────────────────────, \\alpha[1]: ───────────────────────\n",
       "⎪                   2      3      2                         2      3      2   \n",
       "⎩                  a ⋅b - b  - b⋅c                         a ⋅b - b  - b⋅c    \n",
       "\n",
       " ⎫\n",
       "]⎪\n",
       "─⎬\n",
       " ⎪\n",
       " ⎭"
      ]
     },
     "execution_count": 31,
     "metadata": {},
     "output_type": "execute_result"
    }
   ],
   "source": [
    "sp.solve([eqdte.subs({x: H[0], y: H[1]}),\n",
    "         eqdte.subs({x: I[0], y: I[1]})], [alpha[0], alpha[1], alpha[2]])"
   ]
  },
  {
   "cell_type": "code",
   "execution_count": 32,
   "id": "3dea3f9e",
   "metadata": {
    "ExecuteTime": {
     "end_time": "2023-02-23T05:34:45.854692Z",
     "start_time": "2023-02-23T05:34:45.525410Z"
    }
   },
   "outputs": [
    {
     "data": {
      "image/png": "[encoded data removed]",
      "text/latex": [
       "$\\displaystyle \\frac{x \\left(- 3 a b + 3 b^{2} + c^{2}\\right) {\\alpha}_{2}}{a^{2} b - b^{3} - b c^{2}} + \\frac{y \\left(- a c + 2 b c\\right) {\\alpha}_{2}}{a^{2} b - b^{3} - b c^{2}} + {\\alpha}_{2}$"
      ],
      "text/plain": [
       "  ⎛            2    2⎞                                                   \n",
       "x⋅⎝-3⋅a⋅b + 3⋅b  + c ⎠⋅\\alpha[2]   y⋅(-a⋅c + 2⋅b⋅c)⋅\\alpha[2]            \n",
       "──────────────────────────────── + ────────────────────────── + \\alpha[2]\n",
       "         2      3      2                 2      3      2                 \n",
       "        a ⋅b - b  - b⋅c                 a ⋅b - b  - b⋅c                  "
      ]
     },
     "execution_count": 32,
     "metadata": {},
     "output_type": "execute_result"
    }
   ],
   "source": [
    "eqdte.subs(_)"
   ]
  },
  {
   "cell_type": "code",
   "execution_count": 33,
   "id": "fb15497b",
   "metadata": {
    "ExecuteTime": {
     "end_time": "2023-02-23T05:34:46.254901Z",
     "start_time": "2023-02-23T05:34:45.856445Z"
    }
   },
   "outputs": [
    {
     "data": {
      "image/png": "[encoded data removed]",
      "text/latex": [
       "$\\displaystyle 0$"
      ],
      "text/plain": [
       "0"
      ]
     },
     "execution_count": 33,
     "metadata": {},
     "output_type": "execute_result"
    }
   ],
   "source": [
    "eq0 = _\n",
    "eq0.subs({x: Omega[0], y: Omega[1]}).simplify()"
   ]
  },
  {
   "cell_type": "code",
   "execution_count": 34,
   "id": "40c42970",
   "metadata": {
    "ExecuteTime": {
     "end_time": "2023-02-23T05:34:46.595822Z",
     "start_time": "2023-02-23T05:34:46.256404Z"
    }
   },
   "outputs": [
    {
     "data": {
      "image/png": "[encoded data removed]",
      "text/latex": [
       "$\\displaystyle 0$"
      ],
      "text/plain": [
       "0"
      ]
     },
     "execution_count": 34,
     "metadata": {},
     "output_type": "execute_result"
    }
   ],
   "source": [
    "eq0.subs({x: G[0], y: G[1]}).simplify()"
   ]
  },
  {
   "cell_type": "markdown",
   "id": "87d0d37e",
   "metadata": {},
   "source": [
    "Les points $I$, $H$ et $\\Omega$ sont sur une même droite (et même $G$ l'isobarycentre de $ABC$ est aussi sur cette droite, qui s'appelle *la droite d'Euler*)."
   ]
  },
  {
   "cell_type": "markdown",
   "id": "e4860dbb",
   "metadata": {},
   "source": [
    "Le cercle que l'on connaît est le cercle circonscrit $\\mathcal{C}_{ABC}$, de centre $I$, il faut donc considérer les homothéties qui envoient $I$ sur $\\Omega$, deux candidates : $h_2$ homothétie de centre $G$ de rapport $-1/2$, et $h_3$ l'homothétie de centre $H$ de rapport $1/2$. Regardons comment elles agissent sur les points concernés.\n",
    "1. $h_2$ envoie le pied des médianes sur les sommets (centre de gravité au 2/3 des médianes), donc $$h_2(A)=U,\\; h_2(B)=V,\\text{ et } h_2(C)=W$$ donc le cercle obtenu (de centre $\\Omega=h_2(I)$) contient les points $U$, $V$ et $W$.\n",
    "1. $h_3$ de rapport $1/2$ vérifie clairement $$h_3(A)=J,\\; h_3(B)=K \\text{ et } h_3(C)=R$$ donc le cercle obtenu (le même, car il a même centre et même rayon, moitié du rayon du cercle circonscrit) contient $J$, $K$ et $L$.\n",
    "1. Pour obtenir les pieds des hauteurs, il convient de faire un dessin\n",
    "![Pieds des hauteurs](feuerbach-cor1.png)\n",
    "Comme $\\Omega$ est au milieu de $H$ et $I$, on a immédiatement que $\\Omega U=\\Omega P$. Les points $P$, $Q$ et $R$ sont donc aussi sur le cercle. (On peut, pour rester dans l'esprit transformation faire une symétrie par rapport à la droite passant par $\\Omega$ orthogonale à $(AB)$)."
   ]
  }
 ],
 "metadata": {
  "kernelspec": {
   "display_name": "Python 3 (ipykernel)",
   "language": "python",
   "name": "python3"
  },
  "language_info": {
   "codemirror_mode": {
    "name": "ipython",
    "version": 3
   },
   "file_extension": ".py",
   "mimetype": "text/x-python",
   "name": "python",
   "nbconvert_exporter": "python",
   "pygments_lexer": "ipython3",
   "version": "3.8.2"
  },
  "toc": {
   "base_numbering": 1,
   "nav_menu": {},
   "number_sections": true,
   "sideBar": true,
   "skip_h1_title": false,
   "title_cell": "Table of Contents",
   "title_sidebar": "Contents",
   "toc_cell": false,
   "toc_position": {},
   "toc_section_display": true,
   "toc_window_display": false
  }
 },
 "nbformat": 4,
 "nbformat_minor": 5
}

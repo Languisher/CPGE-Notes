{
 "cells": [
  {
   "cell_type": "markdown",
   "id": "915bf470",
   "metadata": {},
   "source": [
    "# Somme de carrés"
   ]
  },
  {
   "cell_type": "markdown",
   "id": "6b9ffb67",
   "metadata": {},
   "source": [
    "## Exercice"
   ]
  },
  {
   "cell_type": "markdown",
   "id": "3482f7d5",
   "metadata": {},
   "source": [
    "On considère la forme quadratique sur $\\mathbb{R}^4$ définie par\n",
    "$$\\forall(x,y,z,t)\\in\\mathbb{R}^4,\\; q(x,y,z,t)=2\\, t^{2} + 4\\, t\\, y - 4\\, t\\, z + 2\\, x^{2} + y^{2} - 6\\, y\\, z + z^{2}$$\n",
    "1. Calculer sa signature (*sans machine*), à l'aide de l'algorithme de Gauss.\n",
    "1. Vérifier le calcul avec `sympy`.\n",
    "1. En déduire une base $q$-orthogonale.\n",
    "1. À l'aide de la matrice de passage de la base canonique et de la base trouvée, trouver la matrice de $q$ dans la nouvelle base."
   ]
  },
  {
   "cell_type": "code",
   "execution_count": 1,
   "id": "c9c3f09a",
   "metadata": {
    "ExecuteTime": {
     "end_time": "2023-05-25T07:41:43.230649Z",
     "start_time": "2023-05-25T07:41:42.995103Z"
    }
   },
   "outputs": [],
   "source": [
    "import sympy as sp\n",
    "sp.init_printing()"
   ]
  },
  {
   "cell_type": "code",
   "execution_count": 2,
   "id": "74b117a2",
   "metadata": {
    "ExecuteTime": {
     "end_time": "2023-05-25T07:41:43.233861Z",
     "start_time": "2023-05-25T07:41:43.231663Z"
    }
   },
   "outputs": [],
   "source": [
    "x, y, z, t = sp.symbols('x y z t', real=True)"
   ]
  },
  {
   "cell_type": "code",
   "execution_count": 3,
   "id": "0f7f8a1d",
   "metadata": {
    "ExecuteTime": {
     "end_time": "2023-05-25T07:41:43.668743Z",
     "start_time": "2023-05-25T07:41:43.235409Z"
    }
   },
   "outputs": [
    {
     "data": {
      "image/png": "[encoded data removed]",
      "text/latex": [
       "$\\displaystyle 2 t^{2} + 4 t y - 4 t z + 2 x^{2} + y^{2} - 6 y z + z^{2}$"
      ],
      "text/plain": [
       "   2                      2    2            2\n",
       "2⋅t  + 4⋅t⋅y - 4⋅t⋅z + 2⋅x  + y  - 6⋅y⋅z + z "
      ]
     },
     "execution_count": 3,
     "metadata": {},
     "output_type": "execute_result"
    }
   ],
   "source": [
    "q1 = 2*t**2+4*t*y-4*t*z+2*x**2+y**2-6*y*z+z**2\n",
    "q1"
   ]
  },
  {
   "cell_type": "markdown",
   "id": "057dc52d",
   "metadata": {},
   "source": [
    "**Question 1**\n",
    "\n",
    "On applique l'algorithme de Gauss.\n",
    "$$q(x,y,z,t)=2\\,\\left(t+y-z\\right)^2+2\\,x^2+y^2-6\\,y\\,z+z^2-2\\,\\left(y-z\\right)^2$$\n",
    "en développant\n",
    "$$q(x,y,z,t)=2\\,\\left(t+y-z\\right)^2+2\\,x^2-y^2-4\\,y\\,z-z^2$$\n",
    "et, donc\n",
    "$$q(x,y,z,t)=2\\,\\left(t+y-z\\right)^2+2\\,x^2-\\left(y+z\\right)^2$$\n",
    "La signature est donc $(2,1)$."
   ]
  },
  {
   "cell_type": "markdown",
   "id": "62b55e40",
   "metadata": {},
   "source": [
    "**Question 2**"
   ]
  },
  {
   "cell_type": "code",
   "execution_count": 4,
   "id": "3429f72f",
   "metadata": {
    "ExecuteTime": {
     "end_time": "2023-05-25T07:41:43.958872Z",
     "start_time": "2023-05-25T07:41:43.670161Z"
    }
   },
   "outputs": [
    {
     "data": {
      "image/png": "[encoded data removed]",
      "text/latex": [
       "$\\displaystyle 0$"
      ],
      "text/plain": [
       "0"
      ]
     },
     "execution_count": 4,
     "metadata": {},
     "output_type": "execute_result"
    }
   ],
   "source": [
    "(q1-2*(t+y-z)**2-2*x**2+(y+z)**2).expand()"
   ]
  },
  {
   "cell_type": "markdown",
   "id": "ea68d64e",
   "metadata": {},
   "source": [
    "**Question 3**\n",
    "\n",
    "On a donc apparition de 3 formes linéaires indépendantes\n",
    "$$\\begin{cases} \\varphi_1\\;:&(x,y,z,t)\\longmapsto \\sqrt{2}\\,\\left(t+y-z\\right) \\\\ \\varphi_2\\;:&(x,y,z,t)\\longmapsto \\sqrt{2}\\,x\\\\ \\varphi_3\\;:&(x,y,z,t)\\longmapsto y+z\\end{cases}$$\n",
    "On complète cette famille libre avec (par exemple) $\\varphi_4\\;:\\;(x,y,z,t)\\longmapsto y$, puis on cherche la base ante-duale. "
   ]
  },
  {
   "cell_type": "code",
   "execution_count": 5,
   "id": "8ca8769c",
   "metadata": {
    "ExecuteTime": {
     "end_time": "2023-05-25T07:41:43.963353Z",
     "start_time": "2023-05-25T07:41:43.960197Z"
    }
   },
   "outputs": [],
   "source": [
    "phi1 = sp.sqrt(2)*(t+y-z)\n",
    "phi2 = sp.sqrt(2)*x\n",
    "phi3 = y+z\n",
    "phi4 = y"
   ]
  },
  {
   "cell_type": "code",
   "execution_count": 6,
   "id": "e8db78d4",
   "metadata": {
    "ExecuteTime": {
     "end_time": "2023-05-25T07:41:43.999161Z",
     "start_time": "2023-05-25T07:41:43.964402Z"
    }
   },
   "outputs": [],
   "source": [
    "X = sp.Matrix([x, y, z, t])\n",
    "E1 = X.subs(sp.solve([phi1-1, phi2, phi3, phi4], [x, y, z, t]))\n",
    "E2 = X.subs(sp.solve([phi1, phi2-1, phi3, phi4], [x, y, z, t]))\n",
    "E3 = X.subs(sp.solve([phi1, phi2, phi3-1, phi4], [x, y, z, t]))\n",
    "E4 = X.subs(sp.solve([phi1, phi2, phi3, phi4-1], [x, y, z, t]))"
   ]
  },
  {
   "cell_type": "code",
   "execution_count": 7,
   "id": "483a93a8",
   "metadata": {
    "ExecuteTime": {
     "end_time": "2023-05-25T07:41:44.003978Z",
     "start_time": "2023-05-25T07:41:44.000469Z"
    }
   },
   "outputs": [],
   "source": [
    "# Vérification\n",
    "def qval(q, X):\n",
    "    return q.subs({x: X[0, 0], y: X[1, 0], z: X[2, 0], t: X[3, 0]}).expand()\n",
    "\n",
    "\n",
    "def Bval(q, X, Y):\n",
    "    return (qval(q, X+Y)-qval(q, X)-qval(q, Y))/2"
   ]
  },
  {
   "cell_type": "code",
   "execution_count": 8,
   "id": "8803fddc",
   "metadata": {
    "ExecuteTime": {
     "end_time": "2023-05-25T07:41:44.318502Z",
     "start_time": "2023-05-25T07:41:44.005314Z"
    }
   },
   "outputs": [
    {
     "data": {
      "image/png": "[encoded data removed]",
      "text/latex": [
       "$\\displaystyle \\left[ 1, \\  0, \\  0, \\  0, \\  0, \\  1, \\  0, \\  0, \\  0, \\  0, \\  -1, \\  0, \\  0, \\  0, \\  0, \\  0\\right]$"
      ],
      "text/plain": [
       "[1, 0, 0, 0, 0, 1, 0, 0, 0, 0, -1, 0, 0, 0, 0, 0]"
      ]
     },
     "execution_count": 8,
     "metadata": {},
     "output_type": "execute_result"
    }
   ],
   "source": [
    "base = [E1, E2, E3, E4]\n",
    "[Bval(q1, X, Y) for X in base for Y in base]"
   ]
  },
  {
   "cell_type": "markdown",
   "id": "dc276a90",
   "metadata": {},
   "source": [
    "**Question 4**"
   ]
  },
  {
   "cell_type": "code",
   "execution_count": 9,
   "id": "371e2e69",
   "metadata": {
    "ExecuteTime": {
     "end_time": "2023-05-25T07:41:44.616462Z",
     "start_time": "2023-05-25T07:41:44.321394Z"
    }
   },
   "outputs": [
    {
     "data": {
      "image/png": "[encoded data removed]",
      "text/latex": [
       "$\\displaystyle \\left[\\begin{matrix}0 & \\frac{\\sqrt{2}}{2} & 0 & 0\\\\0 & 0 & 0 & 1\\\\0 & 0 & 1 & -1\\\\\\frac{\\sqrt{2}}{2} & 0 & 1 & -2\\end{matrix}\\right]$"
      ],
      "text/plain": [
       "⎡    √2       ⎤\n",
       "⎢0   ──  0  0 ⎥\n",
       "⎢    2        ⎥\n",
       "⎢             ⎥\n",
       "⎢0   0   0  1 ⎥\n",
       "⎢             ⎥\n",
       "⎢0   0   1  -1⎥\n",
       "⎢             ⎥\n",
       "⎢√2           ⎥\n",
       "⎢──  0   1  -2⎥\n",
       "⎣2            ⎦"
      ]
     },
     "execution_count": 9,
     "metadata": {},
     "output_type": "execute_result"
    }
   ],
   "source": [
    "P = (sp.Matrix([E1, E2, E3, E4]).reshape(4, 4)).transpose()\n",
    "P"
   ]
  },
  {
   "cell_type": "code",
   "execution_count": 10,
   "id": "608c04e9",
   "metadata": {
    "ExecuteTime": {
     "end_time": "2023-05-25T07:41:44.918350Z",
     "start_time": "2023-05-25T07:41:44.618284Z"
    }
   },
   "outputs": [
    {
     "data": {
      "image/png": "[encoded data removed]",
      "text/latex": [
       "$\\displaystyle \\left[\\begin{matrix}2 & 0 & 0 & 0\\\\0 & 1 & -3 & 2\\\\0 & -3 & 1 & -2\\\\0 & 2 & -2 & 2\\end{matrix}\\right]$"
      ],
      "text/plain": [
       "⎡2  0   0   0 ⎤\n",
       "⎢             ⎥\n",
       "⎢0  1   -3  2 ⎥\n",
       "⎢             ⎥\n",
       "⎢0  -3  1   -2⎥\n",
       "⎢             ⎥\n",
       "⎣0  2   -2  2 ⎦"
      ]
     },
     "execution_count": 10,
     "metadata": {},
     "output_type": "execute_result"
    }
   ],
   "source": [
    "Mq = sp.Matrix([[2, 0, 0, 0], [0, 1, -3, 2], [0, -3, 1, -2], [0, 2, -2, 2]])\n",
    "Mq"
   ]
  },
  {
   "cell_type": "code",
   "execution_count": 11,
   "id": "aa1a2758",
   "metadata": {
    "ExecuteTime": {
     "end_time": "2023-05-25T07:41:45.214207Z",
     "start_time": "2023-05-25T07:41:44.919818Z"
    }
   },
   "outputs": [
    {
     "data": {
      "image/png": "[encoded data removed]",
      "text/latex": [
       "$\\displaystyle \\left[\\begin{matrix}1 & 0 & 0 & 0\\\\0 & 1 & 0 & 0\\\\0 & 0 & -1 & 0\\\\0 & 0 & 0 & 0\\end{matrix}\\right]$"
      ],
      "text/plain": [
       "⎡1  0  0   0⎤\n",
       "⎢           ⎥\n",
       "⎢0  1  0   0⎥\n",
       "⎢           ⎥\n",
       "⎢0  0  -1  0⎥\n",
       "⎢           ⎥\n",
       "⎣0  0  0   0⎦"
      ]
     },
     "execution_count": 11,
     "metadata": {},
     "output_type": "execute_result"
    }
   ],
   "source": [
    "P.transpose()@Mq@P"
   ]
  },
  {
   "cell_type": "markdown",
   "id": "5d6c664c",
   "metadata": {},
   "source": [
    "## Exercice"
   ]
  },
  {
   "cell_type": "markdown",
   "id": "3e23962c",
   "metadata": {},
   "source": [
    "Soit $E$ un $\\mathbb{R}$-espace vectoriel de dimension finie $d\\ge 2$. Soit $q$ une forme quadratique *non dégénérée*. Soit $e\\in E$ un vecteur isotrope non nul.\n",
    "1. Montrer qu'il existe $y\\in E$, tel que\n",
    "    - $(e,y)$ est une famille libre ;\n",
    "    - $q(y)=0$.\n",
    "1. Montrer l'existence d'une base $(e_1,\\ldots,e_d)$ de $E$ qui vérifie \n",
    "$$\\forall k\\in\\{1,\\ldots,d\\},\\; q\\left(e_k\\right)=0$$\n",
    "1. Trouver une telle base pour la forme quadratique sur $\\mathbb{R}^4$ définie par\n",
    "$$\\forall(x,y,z,t)\\in\\mathbb{R}^4,\\; q(x,y,z,t)=- 6\\, t^{2} + 8\\, t\\, x + 4\\, t\\, y - 4\\, t\\, z - 2\\, x^{2} - 4\\, x\\, y - 4\\, y\\, z + 2\\, z^{2}$$"
   ]
  },
  {
   "cell_type": "code",
   "execution_count": 12,
   "id": "b03819c2",
   "metadata": {
    "ExecuteTime": {
     "end_time": "2023-05-25T07:41:45.526780Z",
     "start_time": "2023-05-25T07:41:45.215746Z"
    }
   },
   "outputs": [
    {
     "data": {
      "image/png": "[encoded data removed]",
      "text/latex": [
       "$\\displaystyle - 6 t^{2} + 8 t x + 4 t y - 4 t z - 2 x^{2} - 4 x y - 4 y z + 2 z^{2}$"
      ],
      "text/plain": [
       "     2                              2                      2\n",
       "- 6⋅t  + 8⋅t⋅x + 4⋅t⋅y - 4⋅t⋅z - 2⋅x  - 4⋅x⋅y - 4⋅y⋅z + 2⋅z "
      ]
     },
     "execution_count": 12,
     "metadata": {},
     "output_type": "execute_result"
    }
   ],
   "source": [
    "q2 = -6*t**2+8*t*x+4*t*y-4*t*z-2*x**2-4*x*y-4*y*z+2*z**2\n",
    "q2"
   ]
  },
  {
   "cell_type": "markdown",
   "id": "d434899d",
   "metadata": {},
   "source": [
    "**Question 1**"
   ]
  },
  {
   "cell_type": "markdown",
   "id": "3b01cd2e",
   "metadata": {},
   "source": [
    "Comme la forme quadratique $q$ est non dégénérée, il existe un vecteur $b$ tel que $B(e,b)\\ne0$ et $(e,b)$ est donc libre. Cherchons alors $y$ sous la forme $\\lambda.e+b$, pour un $\\lambda\\in\\mathbb{R}$. Comme\n",
    "$$q(\\lambda.e+b)=\\lambda^2\\,q(e)+2\\,\\lambda\\,B(e,b)+q(b)=2\\,\\lambda\\,B(e,b)+q(b)$$\n",
    "on voit qu'il suffit de prendre\n",
    "$$y=b-\\frac{q(b)}{2\\,B(e,b)}.e$$"
   ]
  },
  {
   "cell_type": "markdown",
   "id": "df4cab75",
   "metadata": {},
   "source": [
    "**Question 2**\n",
    "\n",
    "On procède par récurrence sur $d$. Sans rédiger la récurrence, on va présenter l'algorithme de calcul (à vous de rédiger la récurrence).\n",
    "1. Pour $e_1$, on prend n'importe quel vecteur isotrope non nul.\n",
    "1. Supposons $(e_1,\\ldots,e_k)$ construits, pour $k\\ge1$, $k<d$, alors on considère un vecteur\n",
    "$$b_k\\notin \\mathrm{Vect}\\left(\\{e_1,\\ldots,e_{k}\\}\\right)\\cup {\\mathbb{R}.e_k}^{\\bot_q}$$\n",
    "ce qui est possible car *une réunion de deux sous-espaces vectoriels ne peut être égale à tout $E$, à moins que l'un des deux sous-espaces soit tout $E$*, or\n",
    "$$\\mathrm{Vect}\\left(\\{e_1,\\ldots,e_{k}\\}\\right)\\ne E \\text{ car $k<d$}$$\n",
    "et\n",
    "$${\\mathbb{R}.e_k}^{\\bot_q}\\ne E \\text{ car $q$ est non dégénérée}$$\n",
    "1. Puis on construit $e_{k+1}$ en le cherchant (comme à la question précédente) sous la forme $\\lambda.e_k+b_k$, on trouve alors\n",
    "$$e_{k+1}=b_k-\\frac{q(b_k)}{2\\,B(e_k,b_k)}.e_k$$"
   ]
  },
  {
   "cell_type": "markdown",
   "id": "c2e0fae6",
   "metadata": {},
   "source": [
    "**Question 3**\n",
    "\n",
    "On suit l'algorithme."
   ]
  },
  {
   "cell_type": "code",
   "execution_count": 13,
   "id": "de5223db",
   "metadata": {
    "ExecuteTime": {
     "end_time": "2023-05-25T07:41:45.823320Z",
     "start_time": "2023-05-25T07:41:45.528271Z"
    }
   },
   "outputs": [
    {
     "data": {
      "image/png": "[encoded data removed]",
      "text/latex": [
       "$\\displaystyle - 6 t^{2} + 8 t x + 4 t y - 4 t z - 2 x^{2} - 4 x y - 4 y z + 2 z^{2}$"
      ],
      "text/plain": [
       "     2                              2                      2\n",
       "- 6⋅t  + 8⋅t⋅x + 4⋅t⋅y - 4⋅t⋅z - 2⋅x  - 4⋅x⋅y - 4⋅y⋅z + 2⋅z "
      ]
     },
     "execution_count": 13,
     "metadata": {},
     "output_type": "execute_result"
    }
   ],
   "source": [
    "q2"
   ]
  },
  {
   "cell_type": "code",
   "execution_count": 14,
   "id": "a40e1740",
   "metadata": {
    "ExecuteTime": {
     "end_time": "2023-05-25T07:41:46.116252Z",
     "start_time": "2023-05-25T07:41:45.824860Z"
    }
   },
   "outputs": [
    {
     "data": {
      "image/png": "[encoded data removed]",
      "text/latex": [
       "$\\displaystyle 0$"
      ],
      "text/plain": [
       "0"
      ]
     },
     "execution_count": 14,
     "metadata": {},
     "output_type": "execute_result"
    }
   ],
   "source": [
    "# E1 = (0,1,0,0), il n'y a pas de terme en y^2\n",
    "E1 = sp.Matrix([0, 1, 0, 0])\n",
    "qval(q2, E1)"
   ]
  },
  {
   "cell_type": "code",
   "execution_count": 15,
   "id": "6d48afae",
   "metadata": {
    "ExecuteTime": {
     "end_time": "2023-05-25T07:41:46.413546Z",
     "start_time": "2023-05-25T07:41:46.117702Z"
    }
   },
   "outputs": [
    {
     "data": {
      "image/png": "[encoded data removed]",
      "text/latex": [
       "$\\displaystyle 2 t - 2 x - 2 z$"
      ],
      "text/plain": [
       "2⋅t - 2⋅x - 2⋅z"
      ]
     },
     "execution_count": 15,
     "metadata": {},
     "output_type": "execute_result"
    }
   ],
   "source": [
    "# Orthogonal de E1\n",
    "Bval(q2, E1, X)"
   ]
  },
  {
   "cell_type": "code",
   "execution_count": 16,
   "id": "cf78676f",
   "metadata": {
    "ExecuteTime": {
     "end_time": "2023-05-25T07:41:46.697867Z",
     "start_time": "2023-05-25T07:41:46.415176Z"
    }
   },
   "outputs": [
    {
     "data": {
      "image/png": "[encoded data removed]",
      "text/latex": [
       "$\\displaystyle 0$"
      ],
      "text/plain": [
       "0"
      ]
     },
     "execution_count": 16,
     "metadata": {},
     "output_type": "execute_result"
    }
   ],
   "source": [
    "# B1 quelconque qui n'est pas dans ce sous-espace vectoriel\n",
    "B1 = sp.Matrix([1, 0, 0, 0])\n",
    "E2 = B1-qval(q2, B1)/Bval(q2, E1, B1)/2*E1\n",
    "qval(q2, E2)"
   ]
  },
  {
   "cell_type": "code",
   "execution_count": 17,
   "id": "cd558720",
   "metadata": {
    "ExecuteTime": {
     "end_time": "2023-05-25T07:41:46.988804Z",
     "start_time": "2023-05-25T07:41:46.699369Z"
    }
   },
   "outputs": [
    {
     "data": {
      "image/png": "[encoded data removed]",
      "text/latex": [
       "$\\displaystyle 3 t - x - 2 y + z$"
      ],
      "text/plain": [
       "3⋅t - x - 2⋅y + z"
      ]
     },
     "execution_count": 17,
     "metadata": {},
     "output_type": "execute_result"
    }
   ],
   "source": [
    "# Orthogonal de E2\n",
    "Bval(q2, E2, X)"
   ]
  },
  {
   "cell_type": "code",
   "execution_count": 18,
   "id": "31a0cca4",
   "metadata": {
    "ExecuteTime": {
     "end_time": "2023-05-25T07:41:47.282157Z",
     "start_time": "2023-05-25T07:41:46.990251Z"
    }
   },
   "outputs": [
    {
     "data": {
      "image/png": "[encoded data removed]",
      "text/latex": [
       "$\\displaystyle 0$"
      ],
      "text/plain": [
       "0"
      ]
     },
     "execution_count": 18,
     "metadata": {},
     "output_type": "execute_result"
    }
   ],
   "source": [
    "# Choix de B2, qui ne doit pas être dans l'orthogonal, ni dans Vect({E1,E2})\n",
    "B2 = sp.Matrix([0, 0, 1, 0])\n",
    "E3 = B2-qval(q2, B2)/Bval(q2, E2, B2)/2*E2\n",
    "qval(q2, E3)"
   ]
  },
  {
   "cell_type": "code",
   "execution_count": 19,
   "id": "c428469a",
   "metadata": {
    "ExecuteTime": {
     "end_time": "2023-05-25T07:41:47.576320Z",
     "start_time": "2023-05-25T07:41:47.283579Z"
    }
   },
   "outputs": [
    {
     "data": {
      "image/png": "[encoded data removed]",
      "text/latex": [
       "$\\displaystyle - 5 t + x + z$"
      ],
      "text/plain": [
       "-5⋅t + x + z"
      ]
     },
     "execution_count": 19,
     "metadata": {},
     "output_type": "execute_result"
    }
   ],
   "source": [
    "# Orthogonal de E3\n",
    "Bval(q2, E3, X)"
   ]
  },
  {
   "cell_type": "code",
   "execution_count": 20,
   "id": "3b323f93",
   "metadata": {
    "ExecuteTime": {
     "end_time": "2023-05-25T07:41:47.859991Z",
     "start_time": "2023-05-25T07:41:47.577612Z"
    }
   },
   "outputs": [
    {
     "data": {
      "image/png": "[encoded data removed]",
      "text/latex": [
       "$\\displaystyle 0$"
      ],
      "text/plain": [
       "0"
      ]
     },
     "execution_count": 20,
     "metadata": {},
     "output_type": "execute_result"
    }
   ],
   "source": [
    "# Choix de B3\n",
    "B3 = sp.Matrix([0, 0, 0, 1])\n",
    "E4 = B3-qval(q2, B3)/Bval(q2, E3, B3)/2*E3\n",
    "qval(q2, E4)"
   ]
  },
  {
   "cell_type": "code",
   "execution_count": 21,
   "id": "06168773",
   "metadata": {
    "ExecuteTime": {
     "end_time": "2023-05-25T07:41:48.175474Z",
     "start_time": "2023-05-25T07:41:47.861418Z"
    }
   },
   "outputs": [
    {
     "data": {
      "image/png": "[encoded data removed]",
      "text/latex": [
       "$\\displaystyle \\left[\\begin{matrix}0 & 1 & -1 & \\frac{3}{5}\\\\1 & - \\frac{1}{2} & \\frac{1}{2} & - \\frac{3}{10}\\\\0 & 0 & 1 & - \\frac{3}{5}\\\\0 & 0 & 0 & 1\\end{matrix}\\right]$"
      ],
      "text/plain": [
       "⎡0   1    -1    3/5 ⎤\n",
       "⎢                   ⎥\n",
       "⎢1  -1/2  1/2  -3/10⎥\n",
       "⎢                   ⎥\n",
       "⎢0   0     1   -3/5 ⎥\n",
       "⎢                   ⎥\n",
       "⎣0   0     0     1  ⎦"
      ]
     },
     "execution_count": 21,
     "metadata": {},
     "output_type": "execute_result"
    }
   ],
   "source": [
    "# Vérification que c'est bien une base\n",
    "sp.Matrix([E1, E2, E3, E4]).reshape(4, 4).transpose()"
   ]
  },
  {
   "cell_type": "code",
   "execution_count": 22,
   "id": "6e9d08c0",
   "metadata": {
    "ExecuteTime": {
     "end_time": "2023-05-25T07:41:48.479987Z",
     "start_time": "2023-05-25T07:41:48.176856Z"
    }
   },
   "outputs": [
    {
     "data": {
      "image/png": "[encoded data removed]",
      "text/latex": [
       "$\\displaystyle -1$"
      ],
      "text/plain": [
       "-1"
      ]
     },
     "execution_count": 22,
     "metadata": {},
     "output_type": "execute_result"
    }
   ],
   "source": [
    "_.det()"
   ]
  },
  {
   "cell_type": "markdown",
   "id": "67c07e60",
   "metadata": {},
   "source": [
    "## Exercice"
   ]
  },
  {
   "cell_type": "markdown",
   "id": "f7e3a93e",
   "metadata": {},
   "source": [
    "On considère la fonction définie sur $\\mathbb{R}^4$ par\n",
    "$$\\forall(x,y,z,t)\\in\\mathbb{R}^4,\\; f(x,y,z,t)=2 t^{4} + 4 t^{3} x + 8 t^{3} y - 8 t^{3} z - 8 t^{3} + 6 t^{2} x^{2} + 24 t^{2} x y - 12 t^{2} x z - 12 t^{2} x + 24 t^{2} y^{2} - 24 t^{2} y z - 24 t^{2} y + 12 t^{2} z^{2} + 24 t^{2} z + 14 t^{2} + 4 t x^{3} + 24 t x^{2} y - 12 t x^{2} z - 12 t x^{2} + 48 t x y^{2} - 48 t x y z - 48 t x y + 12 t x z^{2} + 24 t x z + 14 t x + 32 t y^{3} - 48 t y^{2} z - 48 t y^{2} + 24 t y z^{2} + 48 t y z + 28 t y - 8 t z^{3} - 24 t z^{2} - 28 t z - 12 t + x^{4} + 8 x^{3} y - 4 x^{3} z - 4 x^{3} + 24 x^{2} y^{2} - 24 x^{2} y z - 24 x^{2} y + 6 x^{2} z^{2} + 12 x^{2} z + 11 x^{2} + 32 x y^{3} - 48 x y^{2} z - 48 x y^{2} + 24 x y z^{2} + 48 x y z + 36 x y - 4 x z^{3} - 12 x z^{2} - 16 x z - 10 x + 16 y^{4} - 32 y^{3} z - 32 y^{3} + 24 y^{2} z^{2} + 48 y^{2} z + 32 y^{2} - 8 y z^{3} - 24 y z^{2} - 30 y z - 16 y + 2 z^{4} + 8 z^{3} + 15 z^{2} + 10 z + 8$$\n",
    "1. Quels sont les candidats extremums ?\n",
    "1. Parmi ces candidats, quels sont les extremums locaux.\n",
    "1. Y a-t-il des extremums globaux ? Justifier."
   ]
  },
  {
   "cell_type": "code",
   "execution_count": 23,
   "id": "9548b00f",
   "metadata": {
    "ExecuteTime": {
     "end_time": "2023-05-25T07:41:48.548753Z",
     "start_time": "2023-05-25T07:41:48.481170Z"
    }
   },
   "outputs": [],
   "source": [
    "f = 2*t**4 + 4*t**3*x + 8*t**3*y - 8*t**3*z - 8*t**3 + 6*t**2*x**2 + 24*t**2*x*y - 12*t**2*x*z - 12*t**2*x + 24*t**2*y**2 - 24*t**2*y*z - 24*t**2*y + 12*t**2*z**2 + 24*t**2*z + 14*t**2 + 4*t*x**3 + 24*t*x**2*y - 12*t*x**2*z - 12*t*x**2 + 48*t*x*y**2 - 48*t*x*y*z - 48*t*x*y + 12*t*x*z**2 + 24*t*x*z + 14*t*x + 32*t*y**3 - 48*t*y**2*z - 48*t*y**2 + 24*t*y*z**2 + 48*t*y*z + 28*t*y - 8*t*z**3 - 24 * \\\n",
    "    t*z**2 - 28*t*z - 12*t + x**4 + 8*x**3*y - 4*x**3*z - 4*x**3 + 24*x**2*y**2 - 24*x**2*y*z - 24*x**2*y + 6*x**2*z**2 + 12*x**2*z + 11*x**2 + 32*x*y**3 - 48*x*y**2*z - 48*x*y**2 + 24*x*y*z**2 + 48*x * \\\n",
    "    y*z + 36*x*y - 4*x*z**3 - 12*x*z**2 - 16*x*z - 10*x + 16*y**4 - 32*y**3*z - 32*y**3 + 24*y**2*z**2 + \\\n",
    "    48*y**2*z + 32*y**2 - 8*y*z**3 - 24*y*z**2 - 30*y * \\\n",
    "    z - 16*y + 2*z**4 + 8*z**3 + 15*z**2 + 10*z + 8"
   ]
  },
  {
   "cell_type": "code",
   "execution_count": 24,
   "id": "2f9558be",
   "metadata": {
    "ExecuteTime": {
     "end_time": "2023-05-25T07:41:48.901434Z",
     "start_time": "2023-05-25T07:41:48.549772Z"
    }
   },
   "outputs": [
    {
     "data": {
      "image/png": "[encoded data removed]",
      "text/latex": [
       "$\\displaystyle 2 t^{4} + 4 t^{3} x + 8 t^{3} y - 8 t^{3} z - 8 t^{3} + 6 t^{2} x^{2} + 24 t^{2} x y - 12 t^{2} x z - 12 t^{2} x + 24 t^{2} y^{2} - 24 t^{2} y z - 24 t^{2} y + 12 t^{2} z^{2} + 24 t^{2} z + 14 t^{2} + 4 t x^{3} + 24 t x^{2} y - 12 t x^{2} z - 12 t x^{2} + 48 t x y^{2} - 48 t x y z - 48 t x y + 12 t x z^{2} + 24 t x z + 14 t x + 32 t y^{3} - 48 t y^{2} z - 48 t y^{2} + 24 t y z^{2} + 48 t y z + 28 t y - 8 t z^{3} - 24 t z^{2} - 28 t z - 12 t + x^{4} + 8 x^{3} y - 4 x^{3} z - 4 x^{3} + 24 x^{2} y^{2} - 24 x^{2} y z - 24 x^{2} y + 6 x^{2} z^{2} + 12 x^{2} z + 11 x^{2} + 32 x y^{3} - 48 x y^{2} z - 48 x y^{2} + 24 x y z^{2} + 48 x y z + 36 x y - 4 x z^{3} - 12 x z^{2} - 16 x z - 10 x + 16 y^{4} - 32 y^{3} z - 32 y^{3} + 24 y^{2} z^{2} + 48 y^{2} z + 32 y^{2} - 8 y z^{3} - 24 y z^{2} - 30 y z - 16 y + 2 z^{4} + 8 z^{3} + 15 z^{2} + 10 z + 8$"
      ],
      "text/plain": [
       "   4      3        3        3        3      2  2       2           2          \n",
       "2⋅t  + 4⋅t ⋅x + 8⋅t ⋅y - 8⋅t ⋅z - 8⋅t  + 6⋅t ⋅x  + 24⋅t ⋅x⋅y - 12⋅t ⋅x⋅z - 12⋅\n",
       "\n",
       " 2         2  2       2           2         2  2       2         2        3   \n",
       "t ⋅x + 24⋅t ⋅y  - 24⋅t ⋅y⋅z - 24⋅t ⋅y + 12⋅t ⋅z  + 24⋅t ⋅z + 14⋅t  + 4⋅t⋅x  + \n",
       "\n",
       "      2           2           2           2                                   \n",
       "24⋅t⋅x ⋅y - 12⋅t⋅x ⋅z - 12⋅t⋅x  + 48⋅t⋅x⋅y  - 48⋅t⋅x⋅y⋅z - 48⋅t⋅x⋅y + 12⋅t⋅x⋅z\n",
       "\n",
       "2                             3         2           2           2             \n",
       "  + 24⋅t⋅x⋅z + 14⋅t⋅x + 32⋅t⋅y  - 48⋅t⋅y ⋅z - 48⋅t⋅y  + 24⋅t⋅y⋅z  + 48⋅t⋅y⋅z +\n",
       "\n",
       "               3         2                    4      3        3        3      \n",
       " 28⋅t⋅y - 8⋅t⋅z  - 24⋅t⋅z  - 28⋅t⋅z - 12⋅t + x  + 8⋅x ⋅y - 4⋅x ⋅z - 4⋅x  + 24⋅\n",
       "\n",
       " 2  2       2           2        2  2       2         2         3         2   \n",
       "x ⋅y  - 24⋅x ⋅y⋅z - 24⋅x ⋅y + 6⋅x ⋅z  + 12⋅x ⋅z + 11⋅x  + 32⋅x⋅y  - 48⋅x⋅y ⋅z \n",
       "\n",
       "        2           2                            3         2                  \n",
       "- 48⋅x⋅y  + 24⋅x⋅y⋅z  + 48⋅x⋅y⋅z + 36⋅x⋅y - 4⋅x⋅z  - 12⋅x⋅z  - 16⋅x⋅z - 10⋅x +\n",
       "\n",
       "     4       3         3       2  2       2         2        3         2      \n",
       " 16⋅y  - 32⋅y ⋅z - 32⋅y  + 24⋅y ⋅z  + 48⋅y ⋅z + 32⋅y  - 8⋅y⋅z  - 24⋅y⋅z  - 30⋅\n",
       "\n",
       "                4      3       2           \n",
       "y⋅z - 16⋅y + 2⋅z  + 8⋅z  + 15⋅z  + 10⋅z + 8"
      ]
     },
     "execution_count": 24,
     "metadata": {},
     "output_type": "execute_result"
    }
   ],
   "source": [
    "f"
   ]
  },
  {
   "cell_type": "markdown",
   "id": "bc8e7153",
   "metadata": {},
   "source": [
    "**Question 1**\n",
    "\n",
    "Recherche des candidats extremums. Ils doivent vérifier\n",
    "$$\\mathrm{d}f_{(x,y,z,t)}=0_{_{\\mathscr{L}\\left(\\mathbb{R}^4,\\mathbb{R}\\right)}}$$"
   ]
  },
  {
   "cell_type": "code",
   "execution_count": 25,
   "id": "79e92269",
   "metadata": {
    "ExecuteTime": {
     "end_time": "2023-05-25T07:41:50.511738Z",
     "start_time": "2023-05-25T07:41:48.903300Z"
    }
   },
   "outputs": [
    {
     "data": {
      "image/png": "[encoded data removed]",
      "text/latex": [
       "$\\displaystyle \\left[ \\left( 2, \\  -1, \\  2, \\  3\\right)\\right]$"
      ],
      "text/plain": [
       "[(2, -1, 2, 3)]"
      ]
     },
     "execution_count": 25,
     "metadata": {},
     "output_type": "execute_result"
    }
   ],
   "source": [
    "sp.solve([f.diff(x), f.diff(y), f.diff(z), f.diff(t)], [x, y, z, t])"
   ]
  },
  {
   "cell_type": "markdown",
   "id": "53b8bc97",
   "metadata": {},
   "source": [
    "**Question 2**\n",
    "\n",
    "Un seul candidat, regardons le comportement de la fonction au voisinage du point trouvé."
   ]
  },
  {
   "cell_type": "code",
   "execution_count": 26,
   "id": "2871fd6f",
   "metadata": {
    "ExecuteTime": {
     "end_time": "2023-05-25T07:41:50.963356Z",
     "start_time": "2023-05-25T07:41:50.513414Z"
    },
    "scrolled": true
   },
   "outputs": [
    {
     "data": {
      "image/png": "[encoded data removed]",
      "text/latex": [
       "$\\displaystyle 2 t^{4} + 4 t^{3} x + 8 t^{3} y - 8 t^{3} z + 6 t^{2} x^{2} + 24 t^{2} x y - 12 t^{2} x z + 24 t^{2} y^{2} - 24 t^{2} y z + 12 t^{2} z^{2} + 2 t^{2} + 4 t x^{3} + 24 t x^{2} y - 12 t x^{2} z + 48 t x y^{2} - 48 t x y z + 12 t x z^{2} + 2 t x + 32 t y^{3} - 48 t y^{2} z + 24 t y z^{2} + 4 t y - 8 t z^{3} - 4 t z + x^{4} + 8 x^{3} y - 4 x^{3} z + 24 x^{2} y^{2} - 24 x^{2} y z + 6 x^{2} z^{2} + 5 x^{2} + 32 x y^{3} - 48 x y^{2} z + 24 x y z^{2} + 12 x y - 4 x z^{3} - 4 x z + 16 y^{4} - 32 y^{3} z + 24 y^{2} z^{2} + 8 y^{2} - 8 y z^{3} - 6 y z + 2 z^{4} + 3 z^{2}$"
      ],
      "text/plain": [
       "   4      3        3        3        2  2       2           2           2  2  \n",
       "2⋅t  + 4⋅t ⋅x + 8⋅t ⋅y - 8⋅t ⋅z + 6⋅t ⋅x  + 24⋅t ⋅x⋅y - 12⋅t ⋅x⋅z + 24⋅t ⋅y  -\n",
       "\n",
       "     2           2  2      2        3         2           2             2     \n",
       " 24⋅t ⋅y⋅z + 12⋅t ⋅z  + 2⋅t  + 4⋅t⋅x  + 24⋅t⋅x ⋅y - 12⋅t⋅x ⋅z + 48⋅t⋅x⋅y  - 48\n",
       "\n",
       "                   2                 3         2             2                \n",
       "⋅t⋅x⋅y⋅z + 12⋅t⋅x⋅z  + 2⋅t⋅x + 32⋅t⋅y  - 48⋅t⋅y ⋅z + 24⋅t⋅y⋅z  + 4⋅t⋅y - 8⋅t⋅z\n",
       "\n",
       "3            4      3        3         2  2       2          2  2      2      \n",
       "  - 4⋅t⋅z + x  + 8⋅x ⋅y - 4⋅x ⋅z + 24⋅x ⋅y  - 24⋅x ⋅y⋅z + 6⋅x ⋅z  + 5⋅x  + 32⋅\n",
       "\n",
       "   3         2             2                 3               4       3        \n",
       "x⋅y  - 48⋅x⋅y ⋅z + 24⋅x⋅y⋅z  + 12⋅x⋅y - 4⋅x⋅z  - 4⋅x⋅z + 16⋅y  - 32⋅y ⋅z + 24⋅\n",
       "\n",
       " 2  2      2        3              4      2\n",
       "y ⋅z  + 8⋅y  - 8⋅y⋅z  - 6⋅y⋅z + 2⋅z  + 3⋅z "
      ]
     },
     "execution_count": 26,
     "metadata": {},
     "output_type": "execute_result"
    }
   ],
   "source": [
    "(f.subs({x: 2+x, y: -1+y, z: 2+z, t: 3+t})).expand()"
   ]
  },
  {
   "cell_type": "code",
   "execution_count": 27,
   "id": "b11be504",
   "metadata": {
    "ExecuteTime": {
     "end_time": "2023-05-25T07:41:51.306542Z",
     "start_time": "2023-05-25T07:41:50.967034Z"
    }
   },
   "outputs": [
    {
     "data": {
      "image/png": "[encoded data removed]",
      "text/latex": [
       "$\\displaystyle 2 t^{2} + 2 t x + 4 t y - 4 t z + 5 x^{2} + 12 x y - 4 x z + 8 y^{2} - 6 y z + 3 z^{2}$"
      ],
      "text/plain": [
       "   2                              2                       2              2\n",
       "2⋅t  + 2⋅t⋅x + 4⋅t⋅y - 4⋅t⋅z + 5⋅x  + 12⋅x⋅y - 4⋅x⋅z + 8⋅y  - 6⋅y⋅z + 3⋅z "
      ]
     },
     "execution_count": 27,
     "metadata": {},
     "output_type": "execute_result"
    }
   ],
   "source": [
    "base = [x, y, z, t]\n",
    "carres = sum([_.coeff(i, 2).subs({x: 0, y: 0, z: 0, t: 0})*i**2 for i in base])\n",
    "dble = sum([_.coeff(base[i], 1).coeff(base[j], 1).subs(\n",
    "    {x: 0, y: 0, z: 0, t: 0})*base[i]*base[j] for i in range(4) for j in range(i)])\n",
    "carres+dble"
   ]
  },
  {
   "cell_type": "markdown",
   "id": "fabcc6bc",
   "metadata": {},
   "source": [
    "Heureusement, on a la fonction *hessienne*, qui donne le double des termes de degré 2 (avec un facteur à cause du $1/2$ du développement limité à l'ordre 2)."
   ]
  },
  {
   "cell_type": "code",
   "execution_count": 28,
   "id": "24a9d715",
   "metadata": {
    "ExecuteTime": {
     "end_time": "2023-05-25T07:41:51.765664Z",
     "start_time": "2023-05-25T07:41:51.307982Z"
    }
   },
   "outputs": [
    {
     "data": {
      "image/png": "[encoded data removed]",
      "text/latex": [
       "$\\displaystyle \\left[\\begin{matrix}10 & 12 & -4 & 2\\\\12 & 16 & -6 & 4\\\\-4 & -6 & 6 & -4\\\\2 & 4 & -4 & 4\\end{matrix}\\right]$"
      ],
      "text/plain": [
       "⎡10  12  -4  2 ⎤\n",
       "⎢              ⎥\n",
       "⎢12  16  -6  4 ⎥\n",
       "⎢              ⎥\n",
       "⎢-4  -6  6   -4⎥\n",
       "⎢              ⎥\n",
       "⎣2   4   -4  4 ⎦"
      ]
     },
     "execution_count": 28,
     "metadata": {},
     "output_type": "execute_result"
    }
   ],
   "source": [
    "sp.hessian(f, X).subs({x: 2, y: -1, z: 2, t: 3})"
   ]
  },
  {
   "cell_type": "code",
   "execution_count": 29,
   "id": "a21a5208",
   "metadata": {
    "ExecuteTime": {
     "end_time": "2023-05-25T07:41:52.095849Z",
     "start_time": "2023-05-25T07:41:51.766884Z"
    }
   },
   "outputs": [
    {
     "data": {
      "image/png": "[encoded data removed]",
      "text/latex": [
       "$\\displaystyle 4 t^{2} + 4 t x + 8 t y - 8 t z + 10 x^{2} + 24 x y - 8 x z + 16 y^{2} - 12 y z + 6 z^{2}$"
      ],
      "text/plain": [
       "   2                               2                        2               2\n",
       "4⋅t  + 4⋅t⋅x + 8⋅t⋅y - 8⋅t⋅z + 10⋅x  + 24⋅x⋅y - 8⋅x⋅z + 16⋅y  - 12⋅y⋅z + 6⋅z "
      ]
     },
     "execution_count": 29,
     "metadata": {},
     "output_type": "execute_result"
    }
   ],
   "source": [
    "H = _\n",
    "((X.transpose())@H@X)[0].expand()"
   ]
  },
  {
   "cell_type": "code",
   "execution_count": 30,
   "id": "24169732",
   "metadata": {
    "ExecuteTime": {
     "end_time": "2023-05-25T07:41:52.423364Z",
     "start_time": "2023-05-25T07:41:52.097337Z"
    }
   },
   "outputs": [
    {
     "data": {
      "image/png": "[encoded data removed]",
      "text/latex": [
       "$\\displaystyle \\frac{18 t^{2}}{5} + \\frac{16 t y}{5} - \\frac{32 t z}{5} + \\frac{8 y^{2}}{5} - \\frac{12 y z}{5} + \\frac{22 z^{2}}{5}$"
      ],
      "text/plain": [
       "    2                        2                2\n",
       "18⋅t    16⋅t⋅y   32⋅t⋅z   8⋅y    12⋅y⋅z   22⋅z \n",
       "───── + ────── - ────── + ──── - ────── + ─────\n",
       "  5       5        5       5       5        5  "
      ]
     },
     "execution_count": 30,
     "metadata": {},
     "output_type": "execute_result"
    }
   ],
   "source": [
    "(_-10*(x+t/5+6*y/5-2*z/5)**2).expand()"
   ]
  },
  {
   "cell_type": "code",
   "execution_count": 31,
   "id": "620fb98f",
   "metadata": {
    "ExecuteTime": {
     "end_time": "2023-05-25T07:41:52.742066Z",
     "start_time": "2023-05-25T07:41:52.424496Z"
    }
   },
   "outputs": [
    {
     "data": {
      "image/png": "[encoded data removed]",
      "text/latex": [
       "$\\displaystyle 2 t^{2} - 4 t z + \\frac{7 z^{2}}{2}$"
      ],
      "text/plain": [
       "                  2\n",
       "   2           7⋅z \n",
       "2⋅t  - 4⋅t⋅z + ────\n",
       "                2  "
      ]
     },
     "execution_count": 31,
     "metadata": {},
     "output_type": "execute_result"
    }
   ],
   "source": [
    "(_-sp.S(8)/5*(y+t-3*z/4)**2).expand()"
   ]
  },
  {
   "cell_type": "code",
   "execution_count": 32,
   "id": "12b6ff91",
   "metadata": {
    "ExecuteTime": {
     "end_time": "2023-05-25T07:41:53.059529Z",
     "start_time": "2023-05-25T07:41:52.743691Z"
    }
   },
   "outputs": [
    {
     "data": {
      "image/png": "[encoded data removed]",
      "text/latex": [
       "$\\displaystyle \\frac{3 z^{2}}{2}$"
      ],
      "text/plain": [
       "   2\n",
       "3⋅z \n",
       "────\n",
       " 2  "
      ]
     },
     "execution_count": 32,
     "metadata": {},
     "output_type": "execute_result"
    }
   ],
   "source": [
    "(_-2*(t-z)**2).expand()"
   ]
  },
  {
   "cell_type": "markdown",
   "id": "6b7cfff0",
   "metadata": {},
   "source": [
    "La signature est $(4,0)$, la forme quadratique est définie positive, le point est donc un *minimum* local."
   ]
  },
  {
   "cell_type": "markdown",
   "id": "1023ee22",
   "metadata": {},
   "source": [
    "**Question 3**\n",
    "\n",
    "Le principe est le suivant (voir le cours de topologie)\n",
    "1. On montre que\n",
    "$$f(x,y,z,t)\\xrightarrow[\\|(x,y,z,t)\\|\\to+\\infty]{}+\\infty$$\n",
    "1. Il existe donc un $R>0$, tel que\n",
    "$$\\forall(x,y,z,t)\\in\\mathbb{R}^4,\\; \\left[\\|(x,y,z,t)\\|\\ge R\\right]\\implies\\left[f(x,y,z,t)\\ge 1+f(0,0,0,0)\\right]$$\n",
    "Le point $(0,0,0,0)$ pris ici comme référence pouvant être quelconque.\n",
    "1. Comme la boule fermée $BF\\left(\\underline{0},R\\right)$ est compacte (nous sommes en dimension finie !), la restriction de $f$ à cette boule aura un minimum et un maximum, car $f$ est continue.\n",
    "1. Ce minimum n'étant pas atteint sur la sphère $S\\left(\\underline{0},R\\right)$, ce sera un minimum global.\n",
    "1. Il n'y a qu'un seul candidat possible. $(2,-1,2,3)$ est donc un minimum global !"
   ]
  }
 ],
 "metadata": {
  "kernelspec": {
   "display_name": "Python 3 (ipykernel)",
   "language": "python",
   "name": "python3"
  },
  "language_info": {
   "codemirror_mode": {
    "name": "ipython",
    "version": 3
   },
   "file_extension": ".py",
   "mimetype": "text/x-python",
   "name": "python",
   "nbconvert_exporter": "python",
   "pygments_lexer": "ipython3",
   "version": "3.8.2"
  },
  "toc": {
   "base_numbering": 1,
   "nav_menu": {},
   "number_sections": true,
   "sideBar": true,
   "skip_h1_title": false,
   "title_cell": "Table of Contents",
   "title_sidebar": "Contents",
   "toc_cell": false,
   "toc_position": {},
   "toc_section_display": true,
   "toc_window_display": false
  }
 },
 "nbformat": 4,
 "nbformat_minor": 5
}

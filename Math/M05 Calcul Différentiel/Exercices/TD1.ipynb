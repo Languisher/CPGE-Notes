{
 "cells": [
  {
   "cell_type": "markdown",
   "id": "c4561737-6a11-45e1-bfd4-c74b464fff98",
   "metadata": {},
   "source": [
    "# TD1 : Différentielle"
   ]
  },
  {
   "cell_type": "markdown",
   "id": "0087d3a9-e145-4364-9034-d0c9b68673be",
   "metadata": {},
   "source": [
    "## calcul de dérivées partielles"
   ]
  },
  {
   "cell_type": "code",
   "execution_count": 2,
   "id": "7d129c0c-436c-4655-b45c-521859f73e1d",
   "metadata": {},
   "outputs": [],
   "source": [
    "import sympy as sp\n",
    "sp.init_printing()\n",
    "\n",
    "# Pour définir une fonction de plusieurs variables, on commence par introduire les variables\n",
    "x , y = sp.symbols('x y')\n",
    "\n",
    "#Puis on définit la fonction\n",
    "f = x**4+x*y**4\n",
    "\n",
    "#Enfin, on choisit par rapport à quelle varible on souhaite dériver\n",
    "derivative_f_x = f.diff(x)\n",
    "derivative_f_y = f.diff(y)\n",
    "\n",
    "#Enfin, pour étudier la continuer en un point, \n",
    "limit_df_x_0 = sp.limit(derivative_f_x, x, 0) \n",
    "limit_df_y_0 = sp.limit(derivative_f_y, y, 0) "
   ]
  },
  {
   "cell_type": "markdown",
   "id": "40708180-3ef2-41f2-b045-1adffc1e546e",
   "metadata": {},
   "source": [
    "## Calcul symbolique sur les matrices"
   ]
  },
  {
   "cell_type": "code",
   "execution_count": 4,
   "id": "f01f544b-a21a-4e66-a77d-8aaf2332c434",
   "metadata": {},
   "outputs": [],
   "source": [
    "# On déclare deux symboles non-commutatifs\n",
    "# Pour représenter des matrices\n",
    "A, B = sp.symbols('A B', commutative = False)"
   ]
  },
  {
   "cell_type": "code",
   "execution_count": 5,
   "id": "efb75a7a-4799-472b-80ba-94f819384ab8",
   "metadata": {},
   "outputs": [
    {
     "data": {
      "text/plain": [
       "False"
      ]
     },
     "execution_count": 5,
     "metadata": {},
     "output_type": "execute_result"
    }
   ],
   "source": [
    "A * B == B * A"
   ]
  },
  {
   "cell_type": "code",
   "execution_count": 6,
   "id": "8de2c079-b073-4cd9-903e-7fca19bbf23c",
   "metadata": {},
   "outputs": [
    {
     "data": {
      "image/png": "[encoded data removed]",
      "text/latex": [
       "$\\displaystyle A B$"
      ],
      "text/plain": [
       "A⋅B"
      ]
     },
     "execution_count": 6,
     "metadata": {},
     "output_type": "execute_result"
    }
   ],
   "source": [
    "# On peut écrire une expression\n",
    "psi = A * B\n",
    "psi"
   ]
  },
  {
   "cell_type": "code",
   "execution_count": 7,
   "id": "68110dd3-1293-4fb3-a9e5-082c89d69be6",
   "metadata": {},
   "outputs": [
    {
     "data": {
      "image/png": "[encoded data removed]",
      "text/latex": [
       "$\\displaystyle A \\left(1 + A\\right)$"
      ],
      "text/plain": [
       "A⋅(1 + A)"
      ]
     },
     "execution_count": 7,
     "metadata": {},
     "output_type": "execute_result"
    }
   ],
   "source": [
    "# On peut remplacer \n",
    "psi.subs(B, A + 1)"
   ]
  },
  {
   "cell_type": "code",
   "execution_count": 8,
   "id": "d1aeae26-58c9-44bc-904f-4d7db5becfbf",
   "metadata": {},
   "outputs": [
    {
     "data": {
      "image/png": "[encoded data removed]",
      "text/latex": [
       "$\\displaystyle \\left(B + B^{2}\\right) \\left(1 + B + B^{2}\\right)$"
      ],
      "text/plain": [
       "⎛     2⎞ ⎛         2⎞\n",
       "⎝B + B ⎠⋅⎝1 + B + B ⎠"
      ]
     },
     "execution_count": 8,
     "metadata": {},
     "output_type": "execute_result"
    }
   ],
   "source": [
    "_.subs(A, B**2 + B)"
   ]
  },
  {
   "cell_type": "code",
   "execution_count": 9,
   "id": "9f269c95-2615-4357-a8a6-725fd447074f",
   "metadata": {},
   "outputs": [
    {
     "data": {
      "image/png": "[encoded data removed]",
      "text/latex": [
       "$\\displaystyle B + 2 B^{2} + 2 B^{3} + B^{4}$"
      ],
      "text/plain": [
       "       2      3    4\n",
       "B + 2⋅B  + 2⋅B  + B "
      ]
     },
     "execution_count": 9,
     "metadata": {},
     "output_type": "execute_result"
    }
   ],
   "source": [
    "# Développer\n",
    "_.expand()"
   ]
  },
  {
   "cell_type": "code",
   "execution_count": 10,
   "id": "64cf97c1-7617-4db8-a6be-ae430e9485b7",
   "metadata": {},
   "outputs": [
    {
     "data": {
      "image/png": "[encoded data removed]",
      "text/latex": [
       "$\\displaystyle \\left(1 + B\\right) \\left(1 + B + B^{2}\\right) B$"
      ],
      "text/plain": [
       "        ⎛         2⎞  \n",
       "(1 + B)⋅⎝1 + B + B ⎠⋅B"
      ]
     },
     "execution_count": 10,
     "metadata": {},
     "output_type": "execute_result"
    }
   ],
   "source": [
    "# Factoriser\n",
    "_.factor()"
   ]
  }
 ],
 "metadata": {
  "kernelspec": {
   "display_name": "Python 3 (ipykernel)",
   "language": "python",
   "name": "python3"
  },
  "language_info": {
   "codemirror_mode": {
    "name": "ipython",
    "version": 3
   },
   "file_extension": ".py",
   "mimetype": "text/x-python",
   "name": "python",
   "nbconvert_exporter": "python",
   "pygments_lexer": "ipython3",
   "version": "3.10.10"
  }
 },
 "nbformat": 4,
 "nbformat_minor": 5
}
